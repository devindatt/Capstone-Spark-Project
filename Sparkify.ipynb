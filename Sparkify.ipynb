{
 "cells": [
  {
   "cell_type": "markdown",
   "metadata": {},
   "source": [
    "# Analyzing Sparkify Churn\n",
    "\n",
    "Churn prediction is big business. It minimizes customer defection by predicting which customers are likely to cancel a subscription to a service. Though originally used within the telecommunications industry, it has become common practice across banks, ISPs, insurance firms, and other verticals.\n",
    "\n",
    "In the new economy (which provides unprecedented choice, and instant and global access to products and information) churn rate determines business earnings and growth. A firm has to earn and re-earn every day the loyalty of its customers.\n",
    "\n",
    "The prediction process is heavily data driven and often utilizes advanced machine learning techniques. In this post, we'll take a look at a customer dataset for  a fictitious music service called Sparkify. We will do a complete walk thru of loading in the data typically used, do some preliminary analysis of that data, and generate churn prediction models - all with PySpark and its machine learning frameworks. \n",
    "\n",
    "The data we are given has a full size of 12GB that is raw and unclean. We will be working with a smaller subset of this data which is around 128GB. Due to the size of the full dataset (12GB) we will perform our analysis on a tiny subset (128MB) of the data available in this local notebook. Later in another section will transfer all the models and full dataset to a AWS EMR instance in the cloud and see what we learned here on how our model prediction performs on a more bigger scale.\n",
    "\n",
    "First we need to start by importing our libraries."
   ]
  },
  {
   "cell_type": "code",
   "execution_count": 1,
   "metadata": {},
   "outputs": [],
   "source": [
    "# import libraries\n",
    "import pandas as pd\n",
    "import numpy as np\n",
    "import datetime\n",
    "\n",
    "import pyspark\n",
    "from pyspark import SparkConf\n",
    "from pyspark.sql import SparkSession\n",
    "from pyspark.sql.functions import isnan, count, when, col, desc, udf, col, sort_array, asc, avg, isnull\n",
    "\n",
    "from pyspark.sql.functions import sum as Fsum\n",
    "from pyspark.sql.window import Window\n",
    "from pyspark.sql.types import IntegerType, DoubleType\n",
    "from pyspark.sql.types import StringType\n",
    "\n",
    "from pyspark.ml.classification import LogisticRegression\n",
    "from pyspark.ml.linalg import Vectors\n",
    "from pyspark.ml.feature import VectorAssembler\n",
    "from pyspark.ml.feature import FeatureHasher\n",
    "from pyspark.ml.feature import OneHotEncoderEstimator, StringIndexer\n",
    "\n",
    "import matplotlib.pyplot as plt\n",
    "\n",
    "\n",
    "# Disable warnings, set Matplotlib inline plotting and load Pandas package\n",
    "import warnings\n",
    "warnings.filterwarnings('ignore')\n",
    "\n",
    "#pd.options.display.mpl_style = 'default'"
   ]
  },
  {
   "cell_type": "code",
   "execution_count": 2,
   "metadata": {},
   "outputs": [],
   "source": [
    "# create a Spark session\n",
    "spark = SparkSession \\\n",
    "    .builder \\\n",
    "    .appName(\"Sparkify Churn analysis\") \\\n",
    "    .getOrCreate()"
   ]
  },
  {
   "cell_type": "code",
   "execution_count": 3,
   "metadata": {},
   "outputs": [
    {
     "data": {
      "text/plain": [
       "[('spark.driver.port', '45731'),\n",
       " ('spark.driver.host', '90349234897e'),\n",
       " ('spark.app.name', 'Sparkify Churn analysis'),\n",
       " ('spark.rdd.compress', 'True'),\n",
       " ('spark.serializer.objectStreamReset', '100'),\n",
       " ('spark.app.id', 'local-1565364227763'),\n",
       " ('spark.master', 'local[*]'),\n",
       " ('spark.executor.id', 'driver'),\n",
       " ('spark.submit.deployMode', 'client'),\n",
       " ('spark.ui.showConsoleProgress', 'true')]"
      ]
     },
     "execution_count": 3,
     "metadata": {},
     "output_type": "execute_result"
    }
   ],
   "source": [
    "spark.sparkContext.getConf().getAll()"
   ]
  },
  {
   "cell_type": "markdown",
   "metadata": {},
   "source": [
    "# Load\n",
    "\n",
    "As mentioned before we will load a subset of the data called  `mini_sparkify_event_data.json` using the Spark read.json function."
   ]
  },
  {
   "cell_type": "code",
   "execution_count": 4,
   "metadata": {},
   "outputs": [],
   "source": [
    "#For Cloud Spark analysis on FULL set of data\n",
    "#path = 'hdfs://xx-some-s3-bucket-path-here'\n",
    "\n",
    "#For Local Spark analysis on subset of data\n",
    "path = 'mini_sparkify_event_data.json'\n",
    "user_log = spark.read.json(path)"
   ]
  },
  {
   "cell_type": "markdown",
   "metadata": {},
   "source": [
    "# Clean Dataset\n",
    "\n",
    "After loading we will check our dataset, make corrections for invalid or missing data, ie. records without userids or sessionids. "
   ]
  },
  {
   "cell_type": "code",
   "execution_count": 5,
   "metadata": {},
   "outputs": [
    {
     "name": "stdout",
     "output_type": "stream",
     "text": [
      "root\n",
      " |-- artist: string (nullable = true)\n",
      " |-- auth: string (nullable = true)\n",
      " |-- firstName: string (nullable = true)\n",
      " |-- gender: string (nullable = true)\n",
      " |-- itemInSession: long (nullable = true)\n",
      " |-- lastName: string (nullable = true)\n",
      " |-- length: double (nullable = true)\n",
      " |-- level: string (nullable = true)\n",
      " |-- location: string (nullable = true)\n",
      " |-- method: string (nullable = true)\n",
      " |-- page: string (nullable = true)\n",
      " |-- registration: long (nullable = true)\n",
      " |-- sessionId: long (nullable = true)\n",
      " |-- song: string (nullable = true)\n",
      " |-- status: long (nullable = true)\n",
      " |-- ts: long (nullable = true)\n",
      " |-- userAgent: string (nullable = true)\n",
      " |-- userId: string (nullable = true)\n",
      "\n"
     ]
    }
   ],
   "source": [
    "#Take a look at the columns in dataset\n",
    "user_log.printSchema()"
   ]
  },
  {
   "cell_type": "markdown",
   "metadata": {},
   "source": [
    "We see we have 18 columns of attributes (12 string, 6 of long or double type) that describe Sparkify's customer experience as they use the music streaming app ranging from info describing the music they listen to, ratings they gave all the way to administrative usage on users movement from the various monetary models of free and paid tiers. The movement from a paid to a free or worse cancelling of their service is what we are most concerned with because armed with good predictions of these situations Sparkify can invest efforts to preempt these cases from ever happening."
   ]
  },
  {
   "cell_type": "code",
   "execution_count": 6,
   "metadata": {},
   "outputs": [
    {
     "name": "stdout",
     "output_type": "stream",
     "text": [
      "+-------+------------------+----------+---------+------+------------------+--------+-----------------+------+-----------------+------+-------+--------------------+-----------------+--------------------+------------------+--------------------+--------------------+-----------------+\n",
      "|summary|            artist|      auth|firstName|gender|     itemInSession|lastName|           length| level|         location|method|   page|        registration|        sessionId|                song|            status|                  ts|           userAgent|           userId|\n",
      "+-------+------------------+----------+---------+------+------------------+--------+-----------------+------+-----------------+------+-------+--------------------+-----------------+--------------------+------------------+--------------------+--------------------+-----------------+\n",
      "|  count|            228108|    286500|   278154|278154|            286500|  278154|           228108|286500|           278154|286500| 286500|              278154|           286500|              228108|            286500|              286500|              278154|           286500|\n",
      "|   mean| 551.0852017937219|      null|     null|  null|114.41421291448516|    null|249.1171819778458|  null|             null|  null|   null|1.535358834084427...|1041.526554973822|            Infinity|210.05459685863875|1.540956889810483...|                null|59682.02278593872|\n",
      "| stddev|1217.7693079161374|      null|     null|  null|129.76726201140994|    null|99.23517921058361|  null|             null|  null|   null| 3.291321616327586E9|726.7762634630741|                 NaN| 31.50507848842214|1.5075439608226302E9|                null|109091.9499991047|\n",
      "|    min|               !!!| Cancelled| Adelaida|     F|                 0|   Adams|          0.78322|  free|       Albany, OR|   GET|  About|       1521380675000|                1|\u001c",
      "ÃÂg ÃÂtti Gr...|               200|       1538352117000|\"Mozilla/5.0 (Mac...|                 |\n",
      "|    max| ÃÂlafur Arnalds|Logged Out|   Zyonna|     M|              1321|  Wright|       3024.66567|  paid|Winston-Salem, NC|   PUT|Upgrade|       1543247354000|             2474|ÃÂau hafa slopp...|               404|       1543799476000|Mozilla/5.0 (comp...|               99|\n",
      "+-------+------------------+----------+---------+------+------------------+--------+-----------------+------+-----------------+------+-------+--------------------+-----------------+--------------------+------------------+--------------------+--------------------+-----------------+\n",
      "\n"
     ]
    }
   ],
   "source": [
    "#Look at a sample of the column data:\n",
    "user_log.describe().show()"
   ]
  },
  {
   "cell_type": "code",
   "execution_count": 7,
   "metadata": {},
   "outputs": [
    {
     "data": {
      "text/plain": [
       "286500"
      ]
     },
     "execution_count": 7,
     "metadata": {},
     "output_type": "execute_result"
    }
   ],
   "source": [
    "#Look at the total records in dataset:\n",
    "user_log.count()"
   ]
  },
  {
   "cell_type": "code",
   "execution_count": 8,
   "metadata": {},
   "outputs": [
    {
     "data": {
      "text/plain": [
       "286500"
      ]
     },
     "execution_count": 8,
     "metadata": {},
     "output_type": "execute_result"
    }
   ],
   "source": [
    "user_log.distinct().count()"
   ]
  },
  {
   "cell_type": "markdown",
   "metadata": {},
   "source": [
    "Seems like the total rows is 286500, based on the summary above we can see some columns (9) have all values in their rows:\n",
    "\n",
    "Columns: auth, itemInSession, level, method, page, sessionId, status, ts, userId\n"
   ]
  },
  {
   "cell_type": "code",
   "execution_count": 9,
   "metadata": {},
   "outputs": [],
   "source": [
    "#| summary|   auth|itemInSession| level|method|   page| sessionId| status|     ts|  userId|\n",
    "#+-------+--------+-------------+------+------+-------+----------+-------+-------+--------+\n",
    "#|  count| 286500|       286500|286500|286500| 286500|    286500| 286500| 286500|  286500|"
   ]
  },
  {
   "cell_type": "markdown",
   "metadata": {},
   "source": [
    "And some columns (9) have less then the full values in their rows:\n",
    "\n",
    "Columns: artist, firstName, gender, lastName, length, location, registration, song, userAgent"
   ]
  },
  {
   "cell_type": "code",
   "execution_count": 10,
   "metadata": {},
   "outputs": [],
   "source": [
    "#|summary| artist|firstName|gender|lastName|  length|location|registration|   song| userAgent|\n",
    "#+-------+------+---------+------+--------+--------+---------+------------+-------+----------+\n",
    "#|  count|228108|   278154|278154|  278154|  228108|  278154|      278154| 228108|     278154|"
   ]
  },
  {
   "cell_type": "markdown",
   "metadata": {},
   "source": [
    "This columns with less then 286500 entries can be further sub divided into only two groups"
   ]
  },
  {
   "cell_type": "markdown",
   "metadata": {},
   "source": [
    "Seems like we don't have any missing columns when it comes to rows about user info"
   ]
  },
  {
   "cell_type": "code",
   "execution_count": 11,
   "metadata": {},
   "outputs": [],
   "source": [
    "#Columns about user data:\n",
    "#|summary|firstName|gender|lastName|location|registration| userAgent|\n",
    "#+-------+---------+------+--------+--------+------------+----------+\n",
    "#|  count|  278154|278154|  278154|  278154|      278154|    278154|"
   ]
  },
  {
   "cell_type": "markdown",
   "metadata": {},
   "source": [
    "Seems like we don't have any missing columns in the song records when user is playing music"
   ]
  },
  {
   "cell_type": "code",
   "execution_count": 12,
   "metadata": {},
   "outputs": [],
   "source": [
    "#Columns about song data:\n",
    "#|summary| artist|  length|   song|\n",
    "#+-------+------+--------+-------+\n",
    "#|  count|228108|  228108| 228108|"
   ]
  },
  {
   "cell_type": "markdown",
   "metadata": {},
   "source": [
    "Checking for invalid or missing records without userids or sessionids."
   ]
  },
  {
   "cell_type": "code",
   "execution_count": 13,
   "metadata": {},
   "outputs": [
    {
     "name": "stdout",
     "output_type": "stream",
     "text": [
      "+-------+------------------+\n",
      "|summary|            artist|\n",
      "+-------+------------------+\n",
      "|  count|            228108|\n",
      "|   mean| 551.0852017937219|\n",
      "| stddev|1217.7693079161374|\n",
      "|    min|               !!!|\n",
      "|    max| ÃÂlafur Arnalds|\n",
      "+-------+------------------+\n",
      "\n"
     ]
    }
   ],
   "source": [
    "user_log.describe(\"artist\").show()"
   ]
  },
  {
   "cell_type": "code",
   "execution_count": 14,
   "metadata": {},
   "outputs": [
    {
     "name": "stdout",
     "output_type": "stream",
     "text": [
      "+-------+-----------------+\n",
      "|summary|           userId|\n",
      "+-------+-----------------+\n",
      "|  count|           286500|\n",
      "|   mean|59682.02278593872|\n",
      "| stddev|109091.9499991047|\n",
      "|    min|                 |\n",
      "|    max|               99|\n",
      "+-------+-----------------+\n",
      "\n"
     ]
    }
   ],
   "source": [
    "user_log.describe(\"userId\").show()"
   ]
  },
  {
   "cell_type": "code",
   "execution_count": 15,
   "metadata": {},
   "outputs": [
    {
     "name": "stdout",
     "output_type": "stream",
     "text": [
      "+-------+-----------------+\n",
      "|summary|        sessionId|\n",
      "+-------+-----------------+\n",
      "|  count|           286500|\n",
      "|   mean|1041.526554973822|\n",
      "| stddev|726.7762634630741|\n",
      "|    min|                1|\n",
      "|    max|             2474|\n",
      "+-------+-----------------+\n",
      "\n"
     ]
    }
   ],
   "source": [
    "user_log.describe(\"sessionId\").show()"
   ]
  },
  {
   "cell_type": "markdown",
   "metadata": {},
   "source": [
    "Seems like there is 58300+ records (286500 - 228108) that don't have an 'artist' associated with it. This can make sense if the session record is referring to a state that doesn't involve playing a song (ie. Add friend, Help, Settings, Administrative app use...)"
   ]
  },
  {
   "cell_type": "markdown",
   "metadata": {},
   "source": [
    "Seems we have Nulls and blanks all over this dataset. We probably don't want to just blindly delete the rows that have 'blanks' becauase, as we can see from above, we can still derive information from the rows that don't have 'artist' for example, which are the rows that pertain to users session that is rich in user experience data. So we will concentrate on finding the columns that have Nulls/NaNs and fill them since we need a dataset with no nulls for our machine model to work probably later on."
   ]
  },
  {
   "cell_type": "code",
   "execution_count": 16,
   "metadata": {
    "scrolled": true
   },
   "outputs": [
    {
     "name": "stdout",
     "output_type": "stream",
     "text": [
      "+------+----+---------+------+-------------+--------+------+-----+--------+------+----+------------+---------+-----+------+---+---------+------+\n",
      "|artist|auth|firstName|gender|itemInSession|lastName|length|level|location|method|page|registration|sessionId| song|status| ts|userAgent|userId|\n",
      "+------+----+---------+------+-------------+--------+------+-----+--------+------+----+------------+---------+-----+------+---+---------+------+\n",
      "| 58392|   0|     8346|  8346|            0|    8346| 58392|    0|    8346|     0|   0|        8346|        0|58392|     0|  0|     8346|     0|\n",
      "+------+----+---------+------+-------------+--------+------+-----+--------+------+----+------------+---------+-----+------+---+---------+------+\n",
      "\n"
     ]
    }
   ],
   "source": [
    "#Do a preliminary search for columns with Null's\n",
    "user_log.select([count(when(isnull(c), c)).alias(c) for c in user_log.columns]).show()"
   ]
  },
  {
   "cell_type": "code",
   "execution_count": 17,
   "metadata": {
    "scrolled": true
   },
   "outputs": [],
   "source": [
    "#Seems like these Null's are in the columns with type 'string', so replace with a character of '0' for now\n",
    "user_log = user_log.na.fill('0')"
   ]
  },
  {
   "cell_type": "code",
   "execution_count": 18,
   "metadata": {},
   "outputs": [
    {
     "name": "stdout",
     "output_type": "stream",
     "text": [
      "+------+----+---------+------+-------------+--------+------+-----+--------+------+----+------------+---------+----+------+---+---------+------+\n",
      "|artist|auth|firstName|gender|itemInSession|lastName|length|level|location|method|page|registration|sessionId|song|status| ts|userAgent|userId|\n",
      "+------+----+---------+------+-------------+--------+------+-----+--------+------+----+------------+---------+----+------+---+---------+------+\n",
      "|     0|   0|        0|     0|            0|       0| 58392|    0|       0|     0|   0|        8346|        0|   0|     0|  0|        0|     0|\n",
      "+------+----+---------+------+-------------+--------+------+-----+--------+------+----+------------+---------+----+------+---+---------+------+\n",
      "\n"
     ]
    }
   ],
   "source": [
    "#Check again to see the what columns are left not 'filled' yet\n",
    "user_log.select([count(when(isnull(c), c)).alias(c) for c in user_log.columns]).show()"
   ]
  },
  {
   "cell_type": "code",
   "execution_count": 19,
   "metadata": {},
   "outputs": [],
   "source": [
    "#Looking at the column types we can see these are numeric type (long, double..etc), so fill with int 0 (zero)\n",
    "user_log = user_log.na.fill(0)"
   ]
  },
  {
   "cell_type": "code",
   "execution_count": 20,
   "metadata": {
    "scrolled": true
   },
   "outputs": [
    {
     "name": "stdout",
     "output_type": "stream",
     "text": [
      "+------+----+---------+------+-------------+--------+------+-----+--------+------+----+------------+---------+----+------+---+---------+------+\n",
      "|artist|auth|firstName|gender|itemInSession|lastName|length|level|location|method|page|registration|sessionId|song|status| ts|userAgent|userId|\n",
      "+------+----+---------+------+-------------+--------+------+-----+--------+------+----+------------+---------+----+------+---+---------+------+\n",
      "|     0|   0|        0|     0|            0|       0|     0|    0|       0|     0|   0|           0|        0|   0|     0|  0|        0|     0|\n",
      "+------+----+---------+------+-------------+--------+------+-----+--------+------+----+------------+---------+----+------+---+---------+------+\n",
      "\n"
     ]
    }
   ],
   "source": [
    "#Final check to see if any columns have Nulls left\n",
    "user_log.select([count(when(isnull(c), c)).alias(c) for c in user_log.columns]).show()"
   ]
  },
  {
   "cell_type": "code",
   "execution_count": 21,
   "metadata": {},
   "outputs": [],
   "source": [
    "user_log = user_log.dropna(how = \"any\", subset = [\"userId\", \"sessionId\"])"
   ]
  },
  {
   "cell_type": "code",
   "execution_count": 22,
   "metadata": {},
   "outputs": [
    {
     "data": {
      "text/plain": [
       "286500"
      ]
     },
     "execution_count": 22,
     "metadata": {},
     "output_type": "execute_result"
    }
   ],
   "source": [
    "user_log.count()"
   ]
  },
  {
   "cell_type": "markdown",
   "metadata": {},
   "source": [
    "Looks good, we have cleaned out any Nulls from our dataset."
   ]
  },
  {
   "cell_type": "code",
   "execution_count": 23,
   "metadata": {
    "scrolled": true
   },
   "outputs": [
    {
     "name": "stdout",
     "output_type": "stream",
     "text": [
      "+------+\n",
      "|userId|\n",
      "+------+\n",
      "|      |\n",
      "|    10|\n",
      "|   100|\n",
      "|100001|\n",
      "|100002|\n",
      "+------+\n",
      "only showing top 5 rows\n",
      "\n"
     ]
    }
   ],
   "source": [
    "user_log.select(\"userId\").dropDuplicates().sort(\"userId\").show(5)"
   ]
  },
  {
   "cell_type": "code",
   "execution_count": 24,
   "metadata": {
    "scrolled": true
   },
   "outputs": [
    {
     "data": {
      "text/plain": [
       "8346"
      ]
     },
     "execution_count": 24,
     "metadata": {},
     "output_type": "execute_result"
    }
   ],
   "source": [
    "user_log.filter(user_log[\"userId\"] == \"\").count()"
   ]
  },
  {
   "cell_type": "markdown",
   "metadata": {},
   "source": [
    "We see we have over 8300 rows that don't have a 'userid' associated with it. Note, these blanks (ie. '') must have a different meaning in the dataset then our standard nulls we found before. They were put in there deliberately to indicate something. Lets do some investigation on this."
   ]
  },
  {
   "cell_type": "code",
   "execution_count": 25,
   "metadata": {},
   "outputs": [
    {
     "data": {
      "text/plain": [
       "0"
      ]
     },
     "execution_count": 25,
     "metadata": {},
     "output_type": "execute_result"
    }
   ],
   "source": [
    "user_log.filter(user_log[\"userId\"] == \"\").filter(user_log.page == 'Submit Downgrade').count()"
   ]
  },
  {
   "cell_type": "code",
   "execution_count": 26,
   "metadata": {},
   "outputs": [
    {
     "data": {
      "text/plain": [
       "0"
      ]
     },
     "execution_count": 26,
     "metadata": {},
     "output_type": "execute_result"
    }
   ],
   "source": [
    "user_log.filter(user_log[\"userId\"] == \"\").filter(user_log.page == 'Cancellation Confirmation').count()"
   ]
  },
  {
   "cell_type": "markdown",
   "metadata": {},
   "source": [
    "Users with a blank user but have sessions might be users trying out the service before signing up or error entries. Filter out records that have blank userids as that doesn't make sense for our purposes since we are only interested in userids that already in the paid model dropping to free or cancel. "
   ]
  },
  {
   "cell_type": "code",
   "execution_count": 27,
   "metadata": {},
   "outputs": [],
   "source": [
    "user_log_valid = user_log.filter(user_log[\"userId\"] != \"\")"
   ]
  },
  {
   "cell_type": "code",
   "execution_count": 28,
   "metadata": {},
   "outputs": [],
   "source": [
    "user_log_valid = user_log_valid.dropDuplicates()"
   ]
  },
  {
   "cell_type": "code",
   "execution_count": 29,
   "metadata": {},
   "outputs": [],
   "source": [
    "user_log_valid = user_log_valid.dropna(how = \"any\")"
   ]
  },
  {
   "cell_type": "code",
   "execution_count": 30,
   "metadata": {},
   "outputs": [
    {
     "data": {
      "text/plain": [
       "278154"
      ]
     },
     "execution_count": 30,
     "metadata": {},
     "output_type": "execute_result"
    }
   ],
   "source": [
    "user_log_valid.count()"
   ]
  },
  {
   "cell_type": "code",
   "execution_count": 31,
   "metadata": {},
   "outputs": [
    {
     "data": {
      "text/html": [
       "<div>\n",
       "<style scoped>\n",
       "    .dataframe tbody tr th:only-of-type {\n",
       "        vertical-align: middle;\n",
       "    }\n",
       "\n",
       "    .dataframe tbody tr th {\n",
       "        vertical-align: top;\n",
       "    }\n",
       "\n",
       "    .dataframe thead th {\n",
       "        text-align: right;\n",
       "    }\n",
       "</style>\n",
       "<table border=\"1\" class=\"dataframe\">\n",
       "  <thead>\n",
       "    <tr style=\"text-align: right;\">\n",
       "      <th></th>\n",
       "      <th>artist</th>\n",
       "      <th>auth</th>\n",
       "      <th>firstName</th>\n",
       "      <th>gender</th>\n",
       "      <th>itemInSession</th>\n",
       "      <th>lastName</th>\n",
       "      <th>length</th>\n",
       "      <th>level</th>\n",
       "      <th>location</th>\n",
       "      <th>method</th>\n",
       "      <th>page</th>\n",
       "      <th>registration</th>\n",
       "      <th>sessionId</th>\n",
       "      <th>song</th>\n",
       "      <th>status</th>\n",
       "      <th>ts</th>\n",
       "      <th>userAgent</th>\n",
       "      <th>userId</th>\n",
       "    </tr>\n",
       "  </thead>\n",
       "  <tbody>\n",
       "    <tr>\n",
       "      <th>0</th>\n",
       "      <td>The Futureheads</td>\n",
       "      <td>Logged In</td>\n",
       "      <td>Ainsley</td>\n",
       "      <td>F</td>\n",
       "      <td>80</td>\n",
       "      <td>Farley</td>\n",
       "      <td>120.81587</td>\n",
       "      <td>free</td>\n",
       "      <td>McAllen-Edinburg-Mission, TX</td>\n",
       "      <td>PUT</td>\n",
       "      <td>NextSong</td>\n",
       "      <td>1538304455000</td>\n",
       "      <td>187</td>\n",
       "      <td>Robot</td>\n",
       "      <td>200</td>\n",
       "      <td>1538373133000</td>\n",
       "      <td>\"Mozilla/5.0 (Windows NT 6.1; WOW64) AppleWebK...</td>\n",
       "      <td>78</td>\n",
       "    </tr>\n",
       "    <tr>\n",
       "      <th>1</th>\n",
       "      <td>O'Rosko Raricim</td>\n",
       "      <td>Logged In</td>\n",
       "      <td>Madison</td>\n",
       "      <td>F</td>\n",
       "      <td>74</td>\n",
       "      <td>Morales</td>\n",
       "      <td>90.56608</td>\n",
       "      <td>paid</td>\n",
       "      <td>Tampa-St. Petersburg-Clearwater, FL</td>\n",
       "      <td>PUT</td>\n",
       "      <td>NextSong</td>\n",
       "      <td>1536287099000</td>\n",
       "      <td>222</td>\n",
       "      <td>Terre Promise</td>\n",
       "      <td>200</td>\n",
       "      <td>1538384924000</td>\n",
       "      <td>\"Mozilla/5.0 (Macintosh; Intel Mac OS X 10_9_4...</td>\n",
       "      <td>25</td>\n",
       "    </tr>\n",
       "    <tr>\n",
       "      <th>2</th>\n",
       "      <td>Morgan Page</td>\n",
       "      <td>Logged In</td>\n",
       "      <td>Panav</td>\n",
       "      <td>M</td>\n",
       "      <td>23</td>\n",
       "      <td>Myers</td>\n",
       "      <td>235.54567</td>\n",
       "      <td>paid</td>\n",
       "      <td>Morgantown, WV</td>\n",
       "      <td>PUT</td>\n",
       "      <td>NextSong</td>\n",
       "      <td>1538239045000</td>\n",
       "      <td>237</td>\n",
       "      <td>Strange Condition</td>\n",
       "      <td>200</td>\n",
       "      <td>1538394878000</td>\n",
       "      <td>\"Mozilla/5.0 (Windows NT 6.1; WOW64) AppleWebK...</td>\n",
       "      <td>15</td>\n",
       "    </tr>\n",
       "    <tr>\n",
       "      <th>3</th>\n",
       "      <td>0</td>\n",
       "      <td>Logged In</td>\n",
       "      <td>Jaleel</td>\n",
       "      <td>M</td>\n",
       "      <td>61</td>\n",
       "      <td>Maldonado</td>\n",
       "      <td>0.00000</td>\n",
       "      <td>free</td>\n",
       "      <td>Boulder, CO</td>\n",
       "      <td>GET</td>\n",
       "      <td>Roll Advert</td>\n",
       "      <td>1537890437000</td>\n",
       "      <td>208</td>\n",
       "      <td>0</td>\n",
       "      <td>200</td>\n",
       "      <td>1538402815000</td>\n",
       "      <td>Mozilla/5.0 (Windows NT 6.1; WOW64; rv:31.0) G...</td>\n",
       "      <td>59</td>\n",
       "    </tr>\n",
       "    <tr>\n",
       "      <th>4</th>\n",
       "      <td>0</td>\n",
       "      <td>Logged In</td>\n",
       "      <td>Jaleel</td>\n",
       "      <td>M</td>\n",
       "      <td>69</td>\n",
       "      <td>Maldonado</td>\n",
       "      <td>0.00000</td>\n",
       "      <td>free</td>\n",
       "      <td>Boulder, CO</td>\n",
       "      <td>GET</td>\n",
       "      <td>Home</td>\n",
       "      <td>1537890437000</td>\n",
       "      <td>208</td>\n",
       "      <td>0</td>\n",
       "      <td>200</td>\n",
       "      <td>1538403354000</td>\n",
       "      <td>Mozilla/5.0 (Windows NT 6.1; WOW64; rv:31.0) G...</td>\n",
       "      <td>59</td>\n",
       "    </tr>\n",
       "  </tbody>\n",
       "</table>\n",
       "</div>"
      ],
      "text/plain": [
       "            artist       auth firstName gender  itemInSession   lastName  \\\n",
       "0  The Futureheads  Logged In   Ainsley      F             80     Farley   \n",
       "1  O'Rosko Raricim  Logged In   Madison      F             74    Morales   \n",
       "2      Morgan Page  Logged In     Panav      M             23      Myers   \n",
       "3                0  Logged In    Jaleel      M             61  Maldonado   \n",
       "4                0  Logged In    Jaleel      M             69  Maldonado   \n",
       "\n",
       "      length level                             location method         page  \\\n",
       "0  120.81587  free         McAllen-Edinburg-Mission, TX    PUT     NextSong   \n",
       "1   90.56608  paid  Tampa-St. Petersburg-Clearwater, FL    PUT     NextSong   \n",
       "2  235.54567  paid                       Morgantown, WV    PUT     NextSong   \n",
       "3    0.00000  free                          Boulder, CO    GET  Roll Advert   \n",
       "4    0.00000  free                          Boulder, CO    GET         Home   \n",
       "\n",
       "    registration  sessionId               song  status             ts  \\\n",
       "0  1538304455000        187              Robot     200  1538373133000   \n",
       "1  1536287099000        222      Terre Promise     200  1538384924000   \n",
       "2  1538239045000        237  Strange Condition     200  1538394878000   \n",
       "3  1537890437000        208                  0     200  1538402815000   \n",
       "4  1537890437000        208                  0     200  1538403354000   \n",
       "\n",
       "                                           userAgent userId  \n",
       "0  \"Mozilla/5.0 (Windows NT 6.1; WOW64) AppleWebK...     78  \n",
       "1  \"Mozilla/5.0 (Macintosh; Intel Mac OS X 10_9_4...     25  \n",
       "2  \"Mozilla/5.0 (Windows NT 6.1; WOW64) AppleWebK...     15  \n",
       "3  Mozilla/5.0 (Windows NT 6.1; WOW64; rv:31.0) G...     59  \n",
       "4  Mozilla/5.0 (Windows NT 6.1; WOW64; rv:31.0) G...     59  "
      ]
     },
     "execution_count": 31,
     "metadata": {},
     "output_type": "execute_result"
    }
   ],
   "source": [
    "pd.DataFrame(user_log_valid.take(5), columns=user_log_valid.columns)"
   ]
  },
  {
   "cell_type": "markdown",
   "metadata": {},
   "source": [
    "As you'll see, it turns out there are no missing values in the userID or session columns. But there are userID values that are empty strings and so we filtered them out. When we have empty string user ids one possible reason is it represents users who have not signed up yet or who are signed out and are about to log in."
   ]
  },
  {
   "cell_type": "markdown",
   "metadata": {},
   "source": [
    "# Exploratory Data Analysis\n",
    "\n",
    "Now that we have filtered and cleaned the data, lets do some further data exploration analysis on it. Let's start with looking at the general distribution of the data (ie. describe function in Spark)."
   ]
  },
  {
   "cell_type": "code",
   "execution_count": 32,
   "metadata": {},
   "outputs": [
    {
     "data": {
      "text/html": [
       "<div>\n",
       "<style scoped>\n",
       "    .dataframe tbody tr th:only-of-type {\n",
       "        vertical-align: middle;\n",
       "    }\n",
       "\n",
       "    .dataframe tbody tr th {\n",
       "        vertical-align: top;\n",
       "    }\n",
       "\n",
       "    .dataframe thead th {\n",
       "        text-align: right;\n",
       "    }\n",
       "</style>\n",
       "<table border=\"1\" class=\"dataframe\">\n",
       "  <thead>\n",
       "    <tr style=\"text-align: right;\">\n",
       "      <th></th>\n",
       "      <th>0</th>\n",
       "      <th>1</th>\n",
       "      <th>2</th>\n",
       "      <th>3</th>\n",
       "      <th>4</th>\n",
       "    </tr>\n",
       "  </thead>\n",
       "  <tbody>\n",
       "    <tr>\n",
       "      <th>summary</th>\n",
       "      <td>count</td>\n",
       "      <td>mean</td>\n",
       "      <td>stddev</td>\n",
       "      <td>min</td>\n",
       "      <td>max</td>\n",
       "    </tr>\n",
       "    <tr>\n",
       "      <th>artist</th>\n",
       "      <td>278154</td>\n",
       "      <td>2.444687580815214</td>\n",
       "      <td>88.82864984596488</td>\n",
       "      <td>!!!</td>\n",
       "      <td>ÃÂlafur Arnalds</td>\n",
       "    </tr>\n",
       "    <tr>\n",
       "      <th>auth</th>\n",
       "      <td>278154</td>\n",
       "      <td>None</td>\n",
       "      <td>None</td>\n",
       "      <td>Cancelled</td>\n",
       "      <td>Logged In</td>\n",
       "    </tr>\n",
       "    <tr>\n",
       "      <th>firstName</th>\n",
       "      <td>278154</td>\n",
       "      <td>None</td>\n",
       "      <td>None</td>\n",
       "      <td>Adelaida</td>\n",
       "      <td>Zyonna</td>\n",
       "    </tr>\n",
       "    <tr>\n",
       "      <th>gender</th>\n",
       "      <td>278154</td>\n",
       "      <td>None</td>\n",
       "      <td>None</td>\n",
       "      <td>F</td>\n",
       "      <td>M</td>\n",
       "    </tr>\n",
       "    <tr>\n",
       "      <th>itemInSession</th>\n",
       "      <td>278154</td>\n",
       "      <td>114.89918174824018</td>\n",
       "      <td>129.85172939949015</td>\n",
       "      <td>0</td>\n",
       "      <td>1321</td>\n",
       "    </tr>\n",
       "    <tr>\n",
       "      <th>lastName</th>\n",
       "      <td>278154</td>\n",
       "      <td>None</td>\n",
       "      <td>None</td>\n",
       "      <td>Adams</td>\n",
       "      <td>Wright</td>\n",
       "    </tr>\n",
       "    <tr>\n",
       "      <th>length</th>\n",
       "      <td>278154</td>\n",
       "      <td>204.29554184588397</td>\n",
       "      <td>131.2734010431265</td>\n",
       "      <td>0.0</td>\n",
       "      <td>3024.66567</td>\n",
       "    </tr>\n",
       "    <tr>\n",
       "      <th>level</th>\n",
       "      <td>278154</td>\n",
       "      <td>None</td>\n",
       "      <td>None</td>\n",
       "      <td>free</td>\n",
       "      <td>paid</td>\n",
       "    </tr>\n",
       "    <tr>\n",
       "      <th>location</th>\n",
       "      <td>278154</td>\n",
       "      <td>None</td>\n",
       "      <td>None</td>\n",
       "      <td>Albany, OR</td>\n",
       "      <td>Winston-Salem, NC</td>\n",
       "    </tr>\n",
       "    <tr>\n",
       "      <th>method</th>\n",
       "      <td>278154</td>\n",
       "      <td>None</td>\n",
       "      <td>None</td>\n",
       "      <td>GET</td>\n",
       "      <td>PUT</td>\n",
       "    </tr>\n",
       "    <tr>\n",
       "      <th>page</th>\n",
       "      <td>278154</td>\n",
       "      <td>None</td>\n",
       "      <td>None</td>\n",
       "      <td>About</td>\n",
       "      <td>Upgrade</td>\n",
       "    </tr>\n",
       "    <tr>\n",
       "      <th>registration</th>\n",
       "      <td>278154</td>\n",
       "      <td>1.5353588340855576E12</td>\n",
       "      <td>3.291321616327471E9</td>\n",
       "      <td>1521380675000</td>\n",
       "      <td>1543247354000</td>\n",
       "    </tr>\n",
       "    <tr>\n",
       "      <th>sessionId</th>\n",
       "      <td>278154</td>\n",
       "      <td>1042.5616241362698</td>\n",
       "      <td>726.5010362219834</td>\n",
       "      <td>1</td>\n",
       "      <td>2474</td>\n",
       "    </tr>\n",
       "    <tr>\n",
       "      <th>song</th>\n",
       "      <td>278154</td>\n",
       "      <td>Infinity</td>\n",
       "      <td>NaN</td>\n",
       "      <td>ÃÂg ÃÂtti GrÃÂ¡a ÃÂsku</td>\n",
       "      <td>ÃÂau hafa sloppiÃÂ° undan ÃÂ¾unga myrkursins</td>\n",
       "    </tr>\n",
       "    <tr>\n",
       "      <th>status</th>\n",
       "      <td>278154</td>\n",
       "      <td>209.10321620397335</td>\n",
       "      <td>30.15138885132782</td>\n",
       "      <td>200</td>\n",
       "      <td>404</td>\n",
       "    </tr>\n",
       "    <tr>\n",
       "      <th>ts</th>\n",
       "      <td>278154</td>\n",
       "      <td>1.5409589154318574E12</td>\n",
       "      <td>1.5068287123362632E9</td>\n",
       "      <td>1538352117000</td>\n",
       "      <td>1543799476000</td>\n",
       "    </tr>\n",
       "    <tr>\n",
       "      <th>userAgent</th>\n",
       "      <td>278154</td>\n",
       "      <td>None</td>\n",
       "      <td>None</td>\n",
       "      <td>\"Mozilla/5.0 (Macintosh; Intel Mac OS X 10_10)...</td>\n",
       "      <td>Mozilla/5.0 (compatible; MSIE 9.0; Windows NT ...</td>\n",
       "    </tr>\n",
       "    <tr>\n",
       "      <th>userId</th>\n",
       "      <td>278154</td>\n",
       "      <td>59682.02278593872</td>\n",
       "      <td>109091.94999910548</td>\n",
       "      <td>10</td>\n",
       "      <td>99</td>\n",
       "    </tr>\n",
       "  </tbody>\n",
       "</table>\n",
       "</div>"
      ],
      "text/plain": [
       "                    0                      1                     2  \\\n",
       "summary         count                   mean                stddev   \n",
       "artist         278154      2.444687580815214     88.82864984596488   \n",
       "auth           278154                   None                  None   \n",
       "firstName      278154                   None                  None   \n",
       "gender         278154                   None                  None   \n",
       "itemInSession  278154     114.89918174824018    129.85172939949015   \n",
       "lastName       278154                   None                  None   \n",
       "length         278154     204.29554184588397     131.2734010431265   \n",
       "level          278154                   None                  None   \n",
       "location       278154                   None                  None   \n",
       "method         278154                   None                  None   \n",
       "page           278154                   None                  None   \n",
       "registration   278154  1.5353588340855576E12   3.291321616327471E9   \n",
       "sessionId      278154     1042.5616241362698     726.5010362219834   \n",
       "song           278154               Infinity                   NaN   \n",
       "status         278154     209.10321620397335     30.15138885132782   \n",
       "ts             278154  1.5409589154318574E12  1.5068287123362632E9   \n",
       "userAgent      278154                   None                  None   \n",
       "userId         278154      59682.02278593872    109091.94999910548   \n",
       "\n",
       "                                                               3  \\\n",
       "summary                                                      min   \n",
       "artist                                                       !!!   \n",
       "auth                                                   Cancelled   \n",
       "firstName                                               Adelaida   \n",
       "gender                                                         F   \n",
       "itemInSession                                                  0   \n",
       "lastName                                                   Adams   \n",
       "length                                                       0.0   \n",
       "level                                                       free   \n",
       "location                                              Albany, OR   \n",
       "method                                                       GET   \n",
       "page                                                       About   \n",
       "registration                                       1521380675000   \n",
       "sessionId                                                      1   \n",
       "song                              \n",
       "ÃÂg ÃÂtti GrÃÂ¡a ÃÂsku   \n",
       "status                                                       200   \n",
       "ts                                                 1538352117000   \n",
       "userAgent      \"Mozilla/5.0 (Macintosh; Intel Mac OS X 10_10)...   \n",
       "userId                                                        10   \n",
       "\n",
       "                                                               4  \n",
       "summary                                                      max  \n",
       "artist                                         ÃÂlafur Arnalds  \n",
       "auth                                                   Logged In  \n",
       "firstName                                                 Zyonna  \n",
       "gender                                                         M  \n",
       "itemInSession                                               1321  \n",
       "lastName                                                  Wright  \n",
       "length                                                3024.66567  \n",
       "level                                                       paid  \n",
       "location                                       Winston-Salem, NC  \n",
       "method                                                       PUT  \n",
       "page                                                     Upgrade  \n",
       "registration                                       1543247354000  \n",
       "sessionId                                                   2474  \n",
       "song            ÃÂau hafa sloppiÃÂ° undan ÃÂ¾unga myrkursins  \n",
       "status                                                       404  \n",
       "ts                                                 1543799476000  \n",
       "userAgent      Mozilla/5.0 (compatible; MSIE 9.0; Windows NT ...  \n",
       "userId                                                        99  "
      ]
     },
     "execution_count": 32,
     "metadata": {},
     "output_type": "execute_result"
    }
   ],
   "source": [
    "user_log_valid.describe().toPandas().transpose()"
   ]
  },
  {
   "cell_type": "markdown",
   "metadata": {},
   "source": [
    "We can use the Pandas library to examine correlations between the numeric columns by generating scatter plots of them. Since the data is quite large we will just use 20% of the data to see what we get."
   ]
  },
  {
   "cell_type": "code",
   "execution_count": 33,
   "metadata": {},
   "outputs": [
    {
     "data": {
      "text/plain": [
       "[('artist', 'string'),\n",
       " ('auth', 'string'),\n",
       " ('firstName', 'string'),\n",
       " ('gender', 'string'),\n",
       " ('itemInSession', 'bigint'),\n",
       " ('lastName', 'string'),\n",
       " ('length', 'double'),\n",
       " ('level', 'string'),\n",
       " ('location', 'string'),\n",
       " ('method', 'string'),\n",
       " ('page', 'string'),\n",
       " ('registration', 'bigint'),\n",
       " ('sessionId', 'bigint'),\n",
       " ('song', 'string'),\n",
       " ('status', 'bigint'),\n",
       " ('ts', 'bigint'),\n",
       " ('userAgent', 'string'),\n",
       " ('userId', 'string')]"
      ]
     },
     "execution_count": 33,
     "metadata": {},
     "output_type": "execute_result"
    }
   ],
   "source": [
    "#Quick look at the datatypes as a reference so can check back after looking at the correlation matrix\n",
    "user_log_valid.dtypes"
   ]
  },
  {
   "cell_type": "code",
   "execution_count": 34,
   "metadata": {},
   "outputs": [
    {
     "data": {
      "text/plain": [
       "226"
      ]
     },
     "execution_count": 34,
     "metadata": {},
     "output_type": "execute_result"
    }
   ],
   "source": [
    "user_log.select(\"userId\").distinct().count()"
   ]
  },
  {
   "cell_type": "code",
   "execution_count": 35,
   "metadata": {},
   "outputs": [
    {
     "data": {
      "image/png": "[encoded data removed]",
      "text/plain": [
       "<matplotlib.figure.Figure at 0x7f0a774380f0>"
      ]
     },
     "metadata": {
      "needs_background": "light"
     },
     "output_type": "display_data"
    }
   ],
   "source": [
    "numeric_features = [t[0] for t in user_log_valid.dtypes if t[1] == 'bigint' or t[1] == 'double']\n",
    "\n",
    "sampled_data = user_log_valid.select(numeric_features).sample(False, 0.20).toPandas()\n",
    "\n",
    "axs = pd.scatter_matrix(sampled_data, figsize=(12, 12), color='green', alpha=0.4);\n",
    "\n",
    "# Rotate axis labels and remove axis ticks\n",
    "n = len(sampled_data.columns)\n",
    "for i in range(n):\n",
    "    v = axs[i, 0]\n",
    "    v.yaxis.label.set_rotation(0)\n",
    "    v.yaxis.label.set_ha('right')\n",
    "    v.set_yticks(())\n",
    "    h = axs[n-1, i]\n",
    "    h.xaxis.label.set_rotation(90)\n",
    "    h.set_xticks(())"
   ]
  },
  {
   "cell_type": "markdown",
   "metadata": {},
   "source": [
    "Looks like we have some information on how length, ItemInSession ts, and sessionId relate to each other. We can keep these in for our analysis. One relation seems highly correlated (ie. sessionid & ts). The one thing that is interesting about this graph is it seems to have two highly correlated regions. This might be an indication for earlier session's was designated for FREE tiered users and the other might represent users that signed up as paid from the beginning and got a different (higher) session id. Of course, since there is no dataset readme file that explains each column this is only pure spectulation. On the other hand,  we have other columns that would be interesting to see in comparison with some the columns above that are not on the grid chart above. Example, columns that are numeric but are simply categorical really don't tell us anything on if we can't look at how users interacted with the pages and more specifically when they clicked to down grade or cancel there service. It might be more useful to revisit this later if we perform a 'one-hot encoding' on the 'page' column and see how it relates to the sessions."
   ]
  },
  {
   "cell_type": "markdown",
   "metadata": {},
   "source": [
    "In the meantime, we will continue and look at some other distributions, example at males vs. females in our dataset."
   ]
  },
  {
   "cell_type": "code",
   "execution_count": 36,
   "metadata": {},
   "outputs": [
    {
     "data": {
      "text/plain": [
       "154578"
      ]
     },
     "execution_count": 36,
     "metadata": {},
     "output_type": "execute_result"
    }
   ],
   "source": [
    "#Number of female users we have\n",
    "user_log_valid.filter(user_log_valid.gender == 'F').select('userId', 'gender').count()#dropDuplicates().count()"
   ]
  },
  {
   "cell_type": "code",
   "execution_count": 37,
   "metadata": {},
   "outputs": [
    {
     "data": {
      "text/plain": [
       "123576"
      ]
     },
     "execution_count": 37,
     "metadata": {},
     "output_type": "execute_result"
    }
   ],
   "source": [
    "#Number of male users we have\n",
    "user_log_valid.filter(user_log_valid.gender == 'M').select('userId', 'gender').count()#dropDuplicates().count()"
   ]
  },
  {
   "cell_type": "markdown",
   "metadata": {},
   "source": [
    "Seems like females are slightly the more dominate gender at ~56% representation of the data. Note, these numbers represent total RECORDS and not indvidual userids as each row is an activity event of some particular user. To find the distinct users in each group we can do the following:"
   ]
  },
  {
   "cell_type": "code",
   "execution_count": 38,
   "metadata": {},
   "outputs": [
    {
     "data": {
      "text/plain": [
       "104"
      ]
     },
     "execution_count": 38,
     "metadata": {},
     "output_type": "execute_result"
    }
   ],
   "source": [
    "user_log_valid.filter(user_log_valid.gender == 'F').select('userId', 'gender').distinct().count()"
   ]
  },
  {
   "cell_type": "code",
   "execution_count": 39,
   "metadata": {},
   "outputs": [
    {
     "data": {
      "text/plain": [
       "121"
      ]
     },
     "execution_count": 39,
     "metadata": {},
     "output_type": "execute_result"
    }
   ],
   "source": [
    "user_log_valid.filter(user_log_valid.gender == 'M').select('userId', 'gender').distinct().count()"
   ]
  },
  {
   "cell_type": "markdown",
   "metadata": {},
   "source": [
    "And we can actually see the male gender was the more dominate with ~54% in our subset population. What this tells us is that females, while only representing less then half of our sample (46%) they generated more user activity then males.\n",
    "\n",
    "Let's now look at the pages a user can visit and interact with on the app."
   ]
  },
  {
   "cell_type": "code",
   "execution_count": 40,
   "metadata": {},
   "outputs": [
    {
     "name": "stdout",
     "output_type": "stream",
     "text": [
      "+--------------------+\n",
      "|                page|\n",
      "+--------------------+\n",
      "|               About|\n",
      "|          Add Friend|\n",
      "|     Add to Playlist|\n",
      "|              Cancel|\n",
      "|Cancellation Conf...|\n",
      "|           Downgrade|\n",
      "|               Error|\n",
      "|                Help|\n",
      "|                Home|\n",
      "|              Logout|\n",
      "|            NextSong|\n",
      "|         Roll Advert|\n",
      "|       Save Settings|\n",
      "|            Settings|\n",
      "|    Submit Downgrade|\n",
      "|      Submit Upgrade|\n",
      "|         Thumbs Down|\n",
      "|           Thumbs Up|\n",
      "|             Upgrade|\n",
      "+--------------------+\n",
      "\n"
     ]
    }
   ],
   "source": [
    "#Display sorted unique values in the 'pages' column that the user could be in:\n",
    "user_log_valid.select('page').dropDuplicates().sort('page').show(30)"
   ]
  },
  {
   "cell_type": "markdown",
   "metadata": {},
   "source": [
    "We notice there are some pages that can give us some stats that we analyze for our churn metrics (ie. Downgrade, Submit Downgrade, Submit Registration, Submit Upgrade, Upgrade...etc.). Let's first look at the typical user and see what type of activity they experience on the app and see if there is a pattern we can exploit in our churn definition."
   ]
  },
  {
   "cell_type": "markdown",
   "metadata": {},
   "source": [
    "Aggregate all records when user was playing music by the hour of the day"
   ]
  },
  {
   "cell_type": "code",
   "execution_count": 41,
   "metadata": {},
   "outputs": [],
   "source": [
    "#Create user defined function and get hour element\n",
    "get_hour = udf(lambda x: datetime.datetime.fromtimestamp(x / 1000.0). hour)"
   ]
  },
  {
   "cell_type": "code",
   "execution_count": 42,
   "metadata": {},
   "outputs": [],
   "source": [
    "#Add hour element as a new column\n",
    "user_log = user_log_valid.withColumn(\"hour\", get_hour(user_log.ts))"
   ]
  },
  {
   "cell_type": "code",
   "execution_count": 43,
   "metadata": {},
   "outputs": [
    {
     "data": {
      "text/plain": [
       "StructType(List(StructField(artist,StringType,false),StructField(auth,StringType,false),StructField(firstName,StringType,false),StructField(gender,StringType,false),StructField(itemInSession,LongType,true),StructField(lastName,StringType,false),StructField(length,DoubleType,false),StructField(level,StringType,false),StructField(location,StringType,false),StructField(method,StringType,false),StructField(page,StringType,false),StructField(registration,LongType,true),StructField(sessionId,LongType,true),StructField(song,StringType,false),StructField(status,LongType,true),StructField(ts,LongType,true),StructField(userAgent,StringType,false),StructField(userId,StringType,false),StructField(hour,StringType,true)))"
      ]
     },
     "execution_count": 43,
     "metadata": {},
     "output_type": "execute_result"
    }
   ],
   "source": [
    "user_log.schema"
   ]
  },
  {
   "cell_type": "code",
   "execution_count": 44,
   "metadata": {},
   "outputs": [
    {
     "data": {
      "text/plain": [
       "278154"
      ]
     },
     "execution_count": 44,
     "metadata": {},
     "output_type": "execute_result"
    }
   ],
   "source": [
    "user_log.count()"
   ]
  },
  {
   "cell_type": "markdown",
   "metadata": {},
   "source": [
    "We can see our last column of 'hour' (hour,StringType,true)"
   ]
  },
  {
   "cell_type": "code",
   "execution_count": 45,
   "metadata": {},
   "outputs": [],
   "source": [
    "songs_in_hour = user_log.filter(user_log.page == \"NextSong\").groupby(user_log.hour).count().orderBy(user_log.hour.cast(\"float\"))"
   ]
  },
  {
   "cell_type": "code",
   "execution_count": 46,
   "metadata": {},
   "outputs": [
    {
     "name": "stdout",
     "output_type": "stream",
     "text": [
      "+----+-----+\n",
      "|hour|count|\n",
      "+----+-----+\n",
      "|   0| 9062|\n",
      "|   1| 8388|\n",
      "|   2| 8336|\n",
      "|   3| 8355|\n",
      "|   4| 8147|\n",
      "|   5| 8178|\n",
      "|   6| 8054|\n",
      "|   7| 8091|\n",
      "|   8| 8253|\n",
      "|   9| 8498|\n",
      "|  10| 8882|\n",
      "|  11| 8830|\n",
      "|  12| 9326|\n",
      "|  13| 9644|\n",
      "|  14|10494|\n",
      "|  15|11354|\n",
      "|  16|11636|\n",
      "|  17|11460|\n",
      "|  18|11124|\n",
      "|  19|10930|\n",
      "|  20|10856|\n",
      "|  21|10458|\n",
      "|  22|10122|\n",
      "|  23| 9630|\n",
      "+----+-----+\n",
      "\n"
     ]
    }
   ],
   "source": [
    "#Show all the records for each hour of the day\n",
    "songs_in_hour.show(24)"
   ]
  },
  {
   "cell_type": "code",
   "execution_count": 47,
   "metadata": {},
   "outputs": [],
   "source": [
    "#Convert to a Pandas DataFrame\n",
    "songs_in_hour_pd = songs_in_hour.toPandas()\n",
    "songs_in_hour_pd.hour = pd.to_numeric(songs_in_hour_pd.hour)"
   ]
  },
  {
   "cell_type": "code",
   "execution_count": 48,
   "metadata": {},
   "outputs": [
    {
     "data": {
      "image/png": "[encoded data removed]",
      "text/plain": [
       "<matplotlib.figure.Figure at 0x7f0a76cf7dd8>"
      ]
     },
     "metadata": {
      "needs_background": "light"
     },
     "output_type": "display_data"
    }
   ],
   "source": [
    "#Create Scatter plot once in DataFrame\n",
    "plt.scatter(songs_in_hour_pd[\"hour\"], songs_in_hour_pd[\"count\"])\n",
    "plt.xlim(-1, 24);\n",
    "plt.ylim(0.0, 1.1 * max(songs_in_hour_pd[\"count\"]))\n",
    "plt.xlabel(\"Hour\")\n",
    "plt.ylabel(\"Songs played\");"
   ]
  },
  {
   "cell_type": "markdown",
   "metadata": {},
   "source": [
    "We can see the app usage for playing music peaks out at around 4PM (1600 hours) on average on any day."
   ]
  },
  {
   "cell_type": "markdown",
   "metadata": {},
   "source": [
    "### Define Churn\n",
    "\n",
    "Now that we have done some preliminary analysis, let's create a column `Churn` to use as the label for our machine learning model. We can start looking at the `Cancellation Confirmation` events to define our churn, which happen for both paid and free users. We can also look at the `Downgrade` events to better fine tune our indication of what 'churn' means."
   ]
  },
  {
   "cell_type": "code",
   "execution_count": 49,
   "metadata": {},
   "outputs": [],
   "source": [
    "#Subset columns to better analyze the user experience\n",
    "interest_columns = ['ts', 'userId', 'firstname', 'page', 'song']"
   ]
  },
  {
   "cell_type": "code",
   "execution_count": 50,
   "metadata": {},
   "outputs": [
    {
     "data": {
      "text/plain": [
       "2055"
      ]
     },
     "execution_count": 50,
     "metadata": {},
     "output_type": "execute_result"
    }
   ],
   "source": [
    "#Find total users that hit the 'downgrade' page\n",
    "user_log.select(interest_columns).where(user_log.page == 'Downgrade').count()"
   ]
  },
  {
   "cell_type": "code",
   "execution_count": 51,
   "metadata": {},
   "outputs": [
    {
     "name": "stdout",
     "output_type": "stream",
     "text": [
      "+-------------+------+---------+---------+----+\n",
      "|           ts|userId|firstname|     page|song|\n",
      "+-------------+------+---------+---------+----+\n",
      "|1539317371000|    85|  Brayden|Downgrade|   0|\n",
      "|1539695328000|     9|    Micah|Downgrade|   0|\n",
      "|1539848725000|    10|   Brycen|Downgrade|   0|\n",
      "|1540460941000|    39|   Payton|Downgrade|   0|\n",
      "|1541619633000|    25|  Madison|Downgrade|   0|\n",
      "|1541740973000|    38|   Calvin|Downgrade|   0|\n",
      "|1542181014000|    29|    Kaleb|Downgrade|   0|\n",
      "|1542196058000|    85|  Brayden|Downgrade|   0|\n",
      "|1542355785000|    74|  Ashlynn|Downgrade|   0|\n",
      "|1542577498000|     9|    Micah|Downgrade|   0|\n",
      "|1538746409000|200023|  Katiana|Downgrade|   0|\n",
      "|1540470333000|200023|  Katiana|Downgrade|   0|\n",
      "|1542981780000|300011|   Emilia|Downgrade|   0|\n",
      "|1540871379000|    49| Christan|Downgrade|   0|\n",
      "|1540936248000|   103|    Piper|Downgrade|   0|\n",
      "|1541477025000|   128|    Caleb|Downgrade|   0|\n",
      "|1541620469000|    92|    Riley|Downgrade|   0|\n",
      "|1541699332000|    42|   Dillyn|Downgrade|   0|\n",
      "|1542411729000|    41|    Brisa|Downgrade|   0|\n",
      "|1539403533000|    29|    Kaleb|Downgrade|   0|\n",
      "+-------------+------+---------+---------+----+\n",
      "only showing top 20 rows\n",
      "\n"
     ]
    }
   ],
   "source": [
    "#Lets look at some of these users records that hit the 'downgrade' page\n",
    "user_log.select(interest_columns).where(user_log.page == 'Downgrade').show()"
   ]
  },
  {
   "cell_type": "code",
   "execution_count": 52,
   "metadata": {},
   "outputs": [
    {
     "data": {
      "text/plain": [
       "[Row(ts=1538352117000, userId='30', firstname='Colin', page='NextSong', level='paid', song='Rockpools'),\n",
       " Row(ts=1538352394000, userId='30', firstname='Colin', page='NextSong', level='paid', song='Time For Miracles'),\n",
       " Row(ts=1538352676000, userId='30', firstname='Colin', page='NextSong', level='paid', song='Harder Better Faster Stronger'),\n",
       " Row(ts=1538352899000, userId='30', firstname='Colin', page='NextSong', level='paid', song='Passengers (Old Album Version)'),\n",
       " Row(ts=1538352905000, userId='30', firstname='Colin', page='Add to Playlist', level='paid', song='0'),\n",
       " Row(ts=1538353084000, userId='30', firstname='Colin', page='NextSong', level='paid', song='Fuck Kitty'),\n",
       " Row(ts=1538353218000, userId='30', firstname='Colin', page='NextSong', level='paid', song='Jade'),\n",
       " Row(ts=1538353441000, userId='30', firstname='Colin', page='NextSong', level='paid', song='So-Called Friends'),\n",
       " Row(ts=1538353687000, userId='30', firstname='Colin', page='NextSong', level='paid', song='Represent'),\n",
       " Row(ts=1538353909000, userId='30', firstname='Colin', page='NextSong', level='paid', song='Here I Am'),\n",
       " Row(ts=1538354132000, userId='30', firstname='Colin', page='NextSong', level='paid', song='Rebirthing (Album Version)'),\n",
       " Row(ts=1538354365000, userId='30', firstname='Colin', page='NextSong', level='paid', song='Dog Days Are Over (Radio Edit)'),\n",
       " Row(ts=1538354584000, userId='30', firstname='Colin', page='NextSong', level='paid', song='Tomorrow Is A Long Time'),\n",
       " Row(ts=1538354806000, userId='30', firstname='Colin', page='NextSong', level='paid', song='Halloween Spooks'),\n",
       " Row(ts=1538354945000, userId='30', firstname='Colin', page='NextSong', level='paid', song='Stronger'),\n",
       " Row(ts=1538355256000, userId='30', firstname='Colin', page='NextSong', level='paid', song='Dis Iz Brick City'),\n",
       " Row(ts=1538355473000, userId='30', firstname='Colin', page='NextSong', level='paid', song='Move Along'),\n",
       " Row(ts=1538355711000, userId='30', firstname='Colin', page='NextSong', level='paid', song='Manhattan'),\n",
       " Row(ts=1538355915000, userId='30', firstname='Colin', page='NextSong', level='paid', song='Undo'),\n",
       " Row(ts=1538356263000, userId='30', firstname='Colin', page='NextSong', level='paid', song='The Big Gundown'),\n",
       " Row(ts=1538356523000, userId='30', firstname='Colin', page='NextSong', level='paid', song='Black Bird'),\n",
       " Row(ts=1538356524000, userId='30', firstname='Colin', page='Thumbs Down', level='paid', song='0'),\n",
       " Row(ts=1538356707000, userId='30', firstname='Colin', page='NextSong', level='paid', song='Nausea'),\n",
       " Row(ts=1538356903000, userId='30', firstname='Colin', page='NextSong', level='paid', song='Matricide'),\n",
       " Row(ts=1538357223000, userId='30', firstname='Colin', page='NextSong', level='paid', song='Valerie'),\n",
       " Row(ts=1538357452000, userId='30', firstname='Colin', page='NextSong', level='paid', song='Margarita'),\n",
       " Row(ts=1538357648000, userId='30', firstname='Colin', page='NextSong', level='paid', song=\"Le Jardin d'Hiver\"),\n",
       " Row(ts=1538357649000, userId='30', firstname='Colin', page='Thumbs Up', level='paid', song='0'),\n",
       " Row(ts=1538357990000, userId='30', firstname='Colin', page='NextSong', level='paid', song='Soon As I Get Home(Album Version)'),\n",
       " Row(ts=1538357991000, userId='30', firstname='Colin', page='Thumbs Up', level='paid', song='0'),\n",
       " Row(ts=1538358314000, userId='30', firstname='Colin', page='NextSong', level='paid', song='Vamos a la Playa'),\n",
       " Row(ts=1538358532000, userId='30', firstname='Colin', page='NextSong', level='paid', song='Perfecta'),\n",
       " Row(ts=1538358761000, userId='30', firstname='Colin', page='NextSong', level='paid', song='Requiem'),\n",
       " Row(ts=1538359054000, userId='30', firstname='Colin', page='NextSong', level='paid', song='Who Can Compare'),\n",
       " Row(ts=1538359320000, userId='30', firstname='Colin', page='NextSong', level='paid', song='240 Years Before Your Time'),\n",
       " Row(ts=1538360720000, userId='30', firstname='Colin', page='NextSong', level='paid', song='Rosa Pastel'),\n",
       " Row(ts=1538360737000, userId='30', firstname='Colin', page='Roll Advert', level='paid', song='0'),\n",
       " Row(ts=1538360905000, userId='30', firstname='Colin', page='NextSong', level='paid', song=\"I'm Ready (Album Version)\"),\n",
       " Row(ts=1538361107000, userId='30', firstname='Colin', page='NextSong', level='paid', song='No Other Saviour'),\n",
       " Row(ts=1538361372000, userId='30', firstname='Colin', page='NextSong', level='paid', song='Hints'),\n",
       " Row(ts=1538361540000, userId='30', firstname='Colin', page='NextSong', level='paid', song='Yellow'),\n",
       " Row(ts=1538361575000, userId='30', firstname='Colin', page='Add to Playlist', level='paid', song='0'),\n",
       " Row(ts=1538810630000, userId='30', firstname='Colin', page='NextSong', level='paid', song='Kill The Director [Radio Edit]'),\n",
       " Row(ts=1538810631000, userId='30', firstname='Colin', page='Add Friend', level='paid', song='0'),\n",
       " Row(ts=1538948226000, userId='30', firstname='Colin', page='Home', level='paid', song='0'),\n",
       " Row(ts=1538948240000, userId='30', firstname='Colin', page='NextSong', level='paid', song='Third Party'),\n",
       " Row(ts=1538948591000, userId='30', firstname='Colin', page='NextSong', level='paid', song=\"It's Working\"),\n",
       " Row(ts=1538948837000, userId='30', firstname='Colin', page='NextSong', level='paid', song=\"I'll Remember April (Digitally Remastered 01)\"),\n",
       " Row(ts=1538949034000, userId='30', firstname='Colin', page='NextSong', level='paid', song='Atmosphere Station'),\n",
       " Row(ts=1538949225000, userId='30', firstname='Colin', page='NextSong', level='paid', song='There_ There'),\n",
       " Row(ts=1538949548000, userId='30', firstname='Colin', page='NextSong', level='paid', song=\"'Til We Die (Album Version)\"),\n",
       " Row(ts=1538949893000, userId='30', firstname='Colin', page='NextSong', level='paid', song='Lies (Album Version)'),\n",
       " Row(ts=1538950072000, userId='30', firstname='Colin', page='NextSong', level='paid', song='The Ballad of Michael Valentine'),\n",
       " Row(ts=1538950302000, userId='30', firstname='Colin', page='NextSong', level='paid', song='Gears'),\n",
       " Row(ts=1538950541000, userId='30', firstname='Colin', page='NextSong', level='paid', song='These Eyes'),\n",
       " Row(ts=1538950549000, userId='30', firstname='Colin', page='Help', level='paid', song='0'),\n",
       " Row(ts=1538950593000, userId='30', firstname='Colin', page='Home', level='paid', song='0'),\n",
       " Row(ts=1538950812000, userId='30', firstname='Colin', page='NextSong', level='paid', song='Stronger'),\n",
       " Row(ts=1538951123000, userId='30', firstname='Colin', page='NextSong', level='paid', song='This Is Such A Pity'),\n",
       " Row(ts=1538951327000, userId='30', firstname='Colin', page='NextSong', level='paid', song='Strut (1993 Digital Remaster)'),\n",
       " Row(ts=1538951566000, userId='30', firstname='Colin', page='NextSong', level='paid', song='Fader'),\n",
       " Row(ts=1538951758000, userId='30', firstname='Colin', page='NextSong', level='paid', song='Se Quiere_ Se Mata'),\n",
       " Row(ts=1538951976000, userId='30', firstname='Colin', page='NextSong', level='paid', song='Somewhere'),\n",
       " Row(ts=1538952145000, userId='30', firstname='Colin', page='NextSong', level='paid', song='Canada'),\n",
       " Row(ts=1538952381000, userId='30', firstname='Colin', page='NextSong', level='paid', song='Dream On Dreamer'),\n",
       " Row(ts=1538952621000, userId='30', firstname='Colin', page='NextSong', level='paid', song='HÃ\\x83Â¡ Uma MÃ\\x83Âºsica Do Povo (Live)'),\n",
       " Row(ts=1538952837000, userId='30', firstname='Colin', page='NextSong', level='paid', song=\"Money Ain't A Thang\"),\n",
       " Row(ts=1538953091000, userId='30', firstname='Colin', page='NextSong', level='paid', song='Howlin\\x19 For You'),\n",
       " Row(ts=1538953282000, userId='30', firstname='Colin', page='NextSong', level='paid', song='Fireflies'),\n",
       " Row(ts=1538953507000, userId='30', firstname='Colin', page='NextSong', level='paid', song='Stadium Love'),\n",
       " Row(ts=1538953526000, userId='30', firstname='Colin', page='Downgrade', level='paid', song='0'),\n",
       " Row(ts=1538953759000, userId='30', firstname='Colin', page='NextSong', level='paid', song='Again & Again'),\n",
       " Row(ts=1538953924000, userId='30', firstname='Colin', page='NextSong', level='paid', song='The Trooper (1998 Digital Remaster)'),\n",
       " Row(ts=1538954176000, userId='30', firstname='Colin', page='NextSong', level='paid', song='Get Off My Elevator'),\n",
       " Row(ts=1538954314000, userId='30', firstname='Colin', page='NextSong', level='paid', song='Speed Trials'),\n",
       " Row(ts=1538954495000, userId='30', firstname='Colin', page='NextSong', level='paid', song='Invalid'),\n",
       " Row(ts=1538954728000, userId='30', firstname='Colin', page='NextSong', level='paid', song='Frenchy\\x19s'),\n",
       " Row(ts=1538954902000, userId='30', firstname='Colin', page='NextSong', level='paid', song='Between Two Lungs'),\n",
       " Row(ts=1538955151000, userId='30', firstname='Colin', page='NextSong', level='paid', song='Hiding'),\n",
       " Row(ts=1538955377000, userId='30', firstname='Colin', page='NextSong', level='paid', song='Alone Again (Naturally)'),\n",
       " Row(ts=1538955595000, userId='30', firstname='Colin', page='NextSong', level='paid', song='You Found Me'),\n",
       " Row(ts=1538955835000, userId='30', firstname='Colin', page='NextSong', level='paid', song='Our Song'),\n",
       " Row(ts=1538956036000, userId='30', firstname='Colin', page='NextSong', level='paid', song='Rock Hard'),\n",
       " Row(ts=1538956230000, userId='30', firstname='Colin', page='NextSong', level='paid', song='Waiting For Tonight'),\n",
       " Row(ts=1538956475000, userId='30', firstname='Colin', page='NextSong', level='paid', song='Pioneer to The Falls'),\n",
       " Row(ts=1538956816000, userId='30', firstname='Colin', page='NextSong', level='paid', song=\"You're The One\"),\n",
       " Row(ts=1538957055000, userId='30', firstname='Colin', page='NextSong', level='paid', song='Trash And Ready'),\n",
       " Row(ts=1538957228000, userId='30', firstname='Colin', page='NextSong', level='paid', song=\"Keep On Movin'\"),\n",
       " Row(ts=1538957589000, userId='30', firstname='Colin', page='NextSong', level='paid', song='Quase Um Segundo'),\n",
       " Row(ts=1538957763000, userId='30', firstname='Colin', page='NextSong', level='paid', song='Costumbres Argentinas'),\n",
       " Row(ts=1538957960000, userId='30', firstname='Colin', page='NextSong', level='paid', song='Nine Times Out Of Ten (1998 Digital Remaster)'),\n",
       " Row(ts=1538958090000, userId='30', firstname='Colin', page='NextSong', level='paid', song='Bass Solo'),\n",
       " Row(ts=1538958387000, userId='30', firstname='Colin', page='NextSong', level='paid', song='The Memory Remains'),\n",
       " Row(ts=1538958666000, userId='30', firstname='Colin', page='NextSong', level='paid', song='Clock'),\n",
       " Row(ts=1538958923000, userId='30', firstname='Colin', page='NextSong', level='paid', song='I Don\\x19t Wanna Go To The Party'),\n",
       " Row(ts=1538959027000, userId='30', firstname='Colin', page='NextSong', level='paid', song=\"She's So Cold\"),\n",
       " Row(ts=1538959280000, userId='30', firstname='Colin', page='NextSong', level='paid', song='Drops In The River'),\n",
       " Row(ts=1538959533000, userId='30', firstname='Colin', page='NextSong', level='paid', song='Didgeridoo'),\n",
       " Row(ts=1538959963000, userId='30', firstname='Colin', page='NextSong', level='paid', song='Sex_ Love & Money'),\n",
       " Row(ts=1538960213000, userId='30', firstname='Colin', page='NextSong', level='paid', song='Rayando el sol'),\n",
       " Row(ts=1538960465000, userId='30', firstname='Colin', page='NextSong', level='paid', song='Lights And Sounds'),\n",
       " Row(ts=1538960673000, userId='30', firstname='Colin', page='NextSong', level='paid', song='You Make Me Wanna...'),\n",
       " Row(ts=1538960992000, userId='30', firstname='Colin', page='NextSong', level='paid', song=\"When It's Love (Remastered Album Version)\"),\n",
       " Row(ts=1538961330000, userId='30', firstname='Colin', page='NextSong', level='paid', song='Red Tide'),\n",
       " Row(ts=1538961486000, userId='30', firstname='Colin', page='NextSong', level='paid', song='Man Of Two Minds'),\n",
       " Row(ts=1538961725000, userId='30', firstname='Colin', page='NextSong', level='paid', song='Ruled By Secrecy'),\n",
       " Row(ts=1538962017000, userId='30', firstname='Colin', page='NextSong', level='paid', song='Untitled #5'),\n",
       " Row(ts=1538962107000, userId='30', firstname='Colin', page='NextSong', level='paid', song='Misery Business (Single Version)'),\n",
       " Row(ts=1538962305000, userId='30', firstname='Colin', page='NextSong', level='paid', song='Hold My Heart'),\n",
       " Row(ts=1538962544000, userId='30', firstname='Colin', page='NextSong', level='paid', song='Risen (Rolling Stone Original)'),\n",
       " Row(ts=1538962840000, userId='30', firstname='Colin', page='NextSong', level='paid', song='Sonne'),\n",
       " Row(ts=1538962841000, userId='30', firstname='Colin', page='Thumbs Up', level='paid', song='0'),\n",
       " Row(ts=1538963112000, userId='30', firstname='Colin', page='NextSong', level='paid', song='Out Of Exile'),\n",
       " Row(ts=1538963113000, userId='30', firstname='Colin', page='Thumbs Up', level='paid', song='0'),\n",
       " Row(ts=1538963400000, userId='30', firstname='Colin', page='NextSong', level='paid', song='Old Yellow Bricks'),\n",
       " Row(ts=1538963591000, userId='30', firstname='Colin', page='NextSong', level='paid', song='GalÃ\\x83Â©rer'),\n",
       " Row(ts=1538963901000, userId='30', firstname='Colin', page='NextSong', level='paid', song='Casting A Spell (Remixed) (1998 Digital Remaster)'),\n",
       " Row(ts=1538964128000, userId='30', firstname='Colin', page='NextSong', level='paid', song='Operation Uppsala'),\n",
       " Row(ts=1538964389000, userId='30', firstname='Colin', page='NextSong', level='paid', song='Detached (Album Version)'),\n",
       " Row(ts=1538964590000, userId='30', firstname='Colin', page='NextSong', level='paid', song='Echo Beach (2002 Digital Remaster)'),\n",
       " Row(ts=1538964808000, userId='30', firstname='Colin', page='NextSong', level='paid', song='Te Va A Doler'),\n",
       " Row(ts=1538965100000, userId='30', firstname='Colin', page='NextSong', level='paid', song='paranoid android'),\n",
       " Row(ts=1538965154000, userId='30', firstname='Colin', page='Home', level='paid', song='0'),\n",
       " Row(ts=1538965437000, userId='30', firstname='Colin', page='NextSong', level='paid', song='Banned from Heaven'),\n",
       " Row(ts=1538965741000, userId='30', firstname='Colin', page='NextSong', level='paid', song='Trashcan'),\n",
       " Row(ts=1538965958000, userId='30', firstname='Colin', page='NextSong', level='paid', song='Go Go Gadget Flow (Explicit Album Version)'),\n",
       " Row(ts=1538966208000, userId='30', firstname='Colin', page='NextSong', level='paid', song='Home For A Rest'),\n",
       " Row(ts=1538966484000, userId='30', firstname='Colin', page='NextSong', level='paid', song=\"When You're Gone\"),\n",
       " Row(ts=1538966724000, userId='30', firstname='Colin', page='NextSong', level='paid', song='The Slam (Welcome To Diverse City Album Version)'),\n",
       " Row(ts=1538966924000, userId='30', firstname='Colin', page='NextSong', level='paid', song='You Raise Me Up'),\n",
       " Row(ts=1538966961000, userId='30', firstname='Colin', page='Add to Playlist', level='paid', song='0'),\n",
       " Row(ts=1538967205000, userId='30', firstname='Colin', page='NextSong', level='paid', song='There Is A Light That Never Goes Out'),\n",
       " Row(ts=1538967447000, userId='30', firstname='Colin', page='NextSong', level='paid', song='The High Way'),\n",
       " Row(ts=1538967448000, userId='30', firstname='Colin', page='Thumbs Up', level='paid', song='0'),\n",
       " Row(ts=1538967453000, userId='30', firstname='Colin', page='Add to Playlist', level='paid', song='0'),\n",
       " Row(ts=1538967726000, userId='30', firstname='Colin', page='NextSong', level='paid', song=\"The Final Episode (Let's Change The Channel)\"),\n",
       " Row(ts=1538967967000, userId='30', firstname='Colin', page='NextSong', level='paid', song='Candy'),\n",
       " Row(ts=1538967968000, userId='30', firstname='Colin', page='Thumbs Up', level='paid', song='0'),\n",
       " Row(ts=1538967976000, userId='30', firstname='Colin', page='Add to Playlist', level='paid', song='0'),\n",
       " Row(ts=1538968163000, userId='30', firstname='Colin', page='NextSong', level='paid', song='re:stacks'),\n",
       " Row(ts=1538968181000, userId='30', firstname='Colin', page='Add to Playlist', level='paid', song='0'),\n",
       " Row(ts=1538968565000, userId='30', firstname='Colin', page='NextSong', level='paid', song='Converting Vegetarians'),\n",
       " Row(ts=1538968904000, userId='30', firstname='Colin', page='NextSong', level='paid', song='Airwar'),\n",
       " Row(ts=1538969169000, userId='30', firstname='Colin', page='NextSong', level='paid', song='Unplayed Piano (Chris Lord-Alge Mix)'),\n",
       " Row(ts=1538969397000, userId='30', firstname='Colin', page='NextSong', level='paid', song=\"Don't Mean Nothing\"),\n",
       " Row(ts=1538969679000, userId='30', firstname='Colin', page='NextSong', level='paid', song='Let Me'),\n",
       " Row(ts=1538969967000, userId='30', firstname='Colin', page='NextSong', level='paid', song='Ã\\x82Â¿Por quÃ\\x83Â© te vas?'),\n",
       " Row(ts=1538970249000, userId='30', firstname='Colin', page='NextSong', level='paid', song='In My Place'),\n",
       " Row(ts=1538970477000, userId='30', firstname='Colin', page='NextSong', level='paid', song='Beautiful'),\n",
       " Row(ts=1538970478000, userId='30', firstname='Colin', page='Thumbs Up', level='paid', song='0'),\n",
       " Row(ts=1538970847000, userId='30', firstname='Colin', page='NextSong', level='paid', song='Miniature Disasters'),\n",
       " Row(ts=1538971054000, userId='30', firstname='Colin', page='NextSong', level='paid', song='Brothers In Arms'),\n",
       " Row(ts=1538971191000, userId='30', firstname='Colin', page='Home', level='paid', song='0'),\n",
       " Row(ts=1538971204000, userId='30', firstname='Colin', page='NextSong', level='paid', song='Billy Breathes'),\n",
       " Row(ts=1538971535000, userId='30', firstname='Colin', page='NextSong', level='paid', song='Revelry'),\n",
       " Row(ts=1538971736000, userId='30', firstname='Colin', page='NextSong', level='paid', song='Ignition'),\n",
       " Row(ts=1538971737000, userId='30', firstname='Colin', page='Add Friend', level='paid', song='0'),\n",
       " Row(ts=1538971968000, userId='30', firstname='Colin', page='NextSong', level='paid', song='Sweet Escape'),\n",
       " Row(ts=1538972155000, userId='30', firstname='Colin', page='NextSong', level='paid', song='Disturbia Money'),\n",
       " Row(ts=1538972366000, userId='30', firstname='Colin', page='NextSong', level='paid', song='15 Step'),\n",
       " Row(ts=1538972603000, userId='30', firstname='Colin', page='NextSong', level='paid', song=\"Surfin' Bird\"),\n",
       " Row(ts=1538972604000, userId='30', firstname='Colin', page='Thumbs Up', level='paid', song='0'),\n",
       " Row(ts=1538972749000, userId='30', firstname='Colin', page='NextSong', level='paid', song='Strange Machines'),\n",
       " Row(ts=1538973112000, userId='30', firstname='Colin', page='NextSong', level='paid', song='DÃ\\x83Â¬'),\n",
       " Row(ts=1538973235000, userId='30', firstname='Colin', page='NextSong', level='paid', song='Devotion And Desire'),\n",
       " Row(ts=1538973529000, userId='30', firstname='Colin', page='NextSong', level='paid', song='The Fire Still Burns'),\n",
       " Row(ts=1538973865000, userId='30', firstname='Colin', page='NextSong', level='paid', song='My Little Brother'),\n",
       " Row(ts=1538974008000, userId='30', firstname='Colin', page='NextSong', level='paid', song=\"These Things You Can't Unlearn\"),\n",
       " Row(ts=1538974395000, userId='30', firstname='Colin', page='NextSong', level='paid', song='Nobody (Featuring Athena Cage) (LP Version)'),\n",
       " Row(ts=1538974658000, userId='30', firstname='Colin', page='NextSong', level='paid', song='Mr. Jones'),\n",
       " Row(ts=1538974930000, userId='30', firstname='Colin', page='NextSong', level='paid', song='You Had Me At Hello'),\n",
       " Row(ts=1538975199000, userId='30', firstname='Colin', page='NextSong', level='paid', song='Rally'),\n",
       " Row(ts=1538975394000, userId='30', firstname='Colin', page='NextSong', level='paid', song=\"Adam's Song\"),\n",
       " Row(ts=1538975640000, userId='30', firstname='Colin', page='NextSong', level='paid', song='Too Much'),\n",
       " Row(ts=1538975892000, userId='30', firstname='Colin', page='NextSong', level='paid', song=\"I'm On A Boat\"),\n",
       " Row(ts=1538976048000, userId='30', firstname='Colin', page='NextSong', level='paid', song='Questo Pazzo Pazzo Mondo Di Tasse'),\n",
       " Row(ts=1538976227000, userId='30', firstname='Colin', page='NextSong', level='paid', song='You Are Not Stubborn'),\n",
       " Row(ts=1538976417000, userId='30', firstname='Colin', page='NextSong', level='paid', song='P.I.M.P.'),\n",
       " Row(ts=1538976666000, userId='30', firstname='Colin', page='NextSong', level='paid', song='Explosive'),\n",
       " Row(ts=1538976856000, userId='30', firstname='Colin', page='NextSong', level='paid', song='Conteo'),\n",
       " Row(ts=1538977052000, userId='30', firstname='Colin', page='NextSong', level='paid', song='Blue'),\n",
       " Row(ts=1538977053000, userId='30', firstname='Colin', page='Thumbs Up', level='paid', song='0'),\n",
       " Row(ts=1538977318000, userId='30', firstname='Colin', page='NextSong', level='paid', song='These Days'),\n",
       " Row(ts=1538977336000, userId='30', firstname='Colin', page='Home', level='paid', song='0'),\n",
       " Row(ts=1538977616000, userId='30', firstname='Colin', page='NextSong', level='paid', song='Twenty-Six Temptations (Album version)'),\n",
       " Row(ts=1538977868000, userId='30', firstname='Colin', page='NextSong', level='paid', song='Janglin'),\n",
       " Row(ts=1538978097000, userId='30', firstname='Colin', page='NextSong', level='paid', song='I Write Sins Not Tragedies [Live In Chicago]'),\n",
       " Row(ts=1538978294000, userId='30', firstname='Colin', page='NextSong', level='paid', song='Wore Out'),\n",
       " Row(ts=1538978500000, userId='30', firstname='Colin', page='NextSong', level='paid', song='JOG-O-MOTION PART 1'),\n",
       " Row(ts=1538978501000, userId='30', firstname='Colin', page='Thumbs Up', level='paid', song='0'),\n",
       " Row(ts=1538980515000, userId='30', firstname='Colin', page='NextSong', level='paid', song='No Remorse'),\n",
       " Row(ts=1538980901000, userId='30', firstname='Colin', page='NextSong', level='paid', song='Small'),\n",
       " Row(ts=1538981087000, userId='30', firstname='Colin', page='NextSong', level='paid', song='Cover Me'),\n",
       " Row(ts=1538981272000, userId='30', firstname='Colin', page='NextSong', level='paid', song='No Air duet with Chris Brown'),\n",
       " Row(ts=1538981536000, userId='30', firstname='Colin', page='NextSong', level='paid', song='Between Us And Them'),\n",
       " Row(ts=1538981973000, userId='30', firstname='Colin', page='NextSong', level='paid', song='ParaÃ\\x83Â\\xadso'),\n",
       " Row(ts=1538982201000, userId='30', firstname='Colin', page='NextSong', level='paid', song='Untitled'),\n",
       " Row(ts=1538982367000, userId='30', firstname='Colin', page='NextSong', level='paid', song='Fire With Fire'),\n",
       " Row(ts=1538982535000, userId='30', firstname='Colin', page='NextSong', level='paid', song='Rainbow'),\n",
       " Row(ts=1538982771000, userId='30', firstname='Colin', page='NextSong', level='paid', song='Dusk Till Dawn'),\n",
       " Row(ts=1538983127000, userId='30', firstname='Colin', page='NextSong', level='paid', song='Three Pope (feat. Monty Alexander)'),\n",
       " Row(ts=1538983333000, userId='30', firstname='Colin', page='NextSong', level='paid', song='She Hates Me'),\n",
       " Row(ts=1538983551000, userId='30', firstname='Colin', page='NextSong', level='paid', song=\"You'll Be In My Heart\"),\n",
       " Row(ts=1538983809000, userId='30', firstname='Colin', page='NextSong', level='paid', song='The Bunting Song'),\n",
       " Row(ts=1538984035000, userId='30', firstname='Colin', page='NextSong', level='paid', song='Beer'),\n",
       " Row(ts=1538984245000, userId='30', firstname='Colin', page='NextSong', level='paid', song='With Or Without You'),\n",
       " Row(ts=1538984541000, userId='30', firstname='Colin', page='NextSong', level='paid', song='Going North [Commentary]'),\n",
       " Row(ts=1538984631000, userId='30', firstname='Colin', page='NextSong', level='paid', song='Greece 2000'),\n",
       " Row(ts=1538985042000, userId='30', firstname='Colin', page='NextSong', level='paid', song='What A Feeling'),\n",
       " Row(ts=1538985043000, userId='30', firstname='Colin', page='Thumbs Up', level='paid', song='0'),\n",
       " Row(ts=1538985286000, userId='30', firstname='Colin', page='NextSong', level='paid', song='The Legend of Finn MacCumhail (Album Version)'),\n",
       " Row(ts=1538985420000, userId='30', firstname='Colin', page='NextSong', level='paid', song='Love Story'),\n",
       " Row(ts=1538985421000, userId='30', firstname='Colin', page='Add Friend', level='paid', song='0'),\n",
       " Row(ts=1538985422000, userId='30', firstname='Colin', page='Add Friend', level='paid', song='0'),\n",
       " Row(ts=1538985653000, userId='30', firstname='Colin', page='NextSong', level='paid', song='Gafas de pasta'),\n",
       " Row(ts=1538985666000, userId='30', firstname='Colin', page='Add to Playlist', level='paid', song='0'),\n",
       " Row(ts=1538985765000, userId='30', firstname='Colin', page='NextSong', level='paid', song=\"You've Got A Friend (Live Version)\"),\n",
       " Row(ts=1538986039000, userId='30', firstname='Colin', page='NextSong', level='paid', song='Diamonds From Sierra Leone'),\n",
       " Row(ts=1538986272000, userId='30', firstname='Colin', page='NextSong', level='paid', song='No Use'),\n",
       " Row(ts=1538986292000, userId='30', firstname='Colin', page='Settings', level='paid', song='0'),\n",
       " Row(ts=1538986522000, userId='30', firstname='Colin', page='NextSong', level='paid', song='Bring Me To Life'),\n",
       " Row(ts=1538986758000, userId='30', firstname='Colin', page='NextSong', level='paid', song='Be Like You'),\n",
       " Row(ts=1538986954000, userId='30', firstname='Colin', page='NextSong', level='paid', song='U.S. History'),\n",
       " Row(ts=1538987267000, userId='30', firstname='Colin', page='NextSong', level='paid', song='La Cocinera'),\n",
       " Row(ts=1538987268000, userId='30', firstname='Colin', page='Thumbs Up', level='paid', song='0'),\n",
       " Row(ts=1538987470000, userId='30', firstname='Colin', page='NextSong', level='paid', song='All Summer Long'),\n",
       " Row(ts=1538987780000, userId='30', firstname='Colin', page='NextSong', level='paid', song=\"D'Evils\"),\n",
       " Row(ts=1538987992000, userId='30', firstname='Colin', page='NextSong', level='paid', song='Hard To Concentrate (Album Version)'),\n",
       " Row(ts=1538988233000, userId='30', firstname='Colin', page='NextSong', level='paid', song='Bad Omen (24-Bit Digitally Remastered 04) ()'),\n",
       " Row(ts=1538988476000, userId='30', firstname='Colin', page='NextSong', level='paid', song='Put Your Hands Up For Detroit'),\n",
       " Row(ts=1538988872000, userId='30', firstname='Colin', page='NextSong', level='paid', song='Bad Trails'),\n",
       " Row(ts=1538989190000, userId='30', firstname='Colin', page='NextSong', level='paid', song='Bring Me Down'),\n",
       " Row(ts=1538989460000, userId='30', firstname='Colin', page='NextSong', level='paid', song='Last Time (Album Version)'),\n",
       " Row(ts=1538989626000, userId='30', firstname='Colin', page='NextSong', level='paid', song='Apply Some Pressure'),\n",
       " Row(ts=1538989842000, userId='30', firstname='Colin', page='NextSong', level='paid', song='Tailor Made'),\n",
       " Row(ts=1538990110000, userId='30', firstname='Colin', page='NextSong', level='paid', song='I Can Tell'),\n",
       " Row(ts=1538990348000, userId='30', firstname='Colin', page='NextSong', level='paid', song='Angels We Have Heard On High'),\n",
       " Row(ts=1538990355000, userId='30', firstname='Colin', page='Add to Playlist', level='paid', song='0'),\n",
       " Row(ts=1538990608000, userId='30', firstname='Colin', page='NextSong', level='paid', song='Catch You Baby (Steve Pitron & Max Sanna Radio Edit)'),\n",
       " Row(ts=1538990789000, userId='30', firstname='Colin', page='NextSong', level='paid', song='Picture Perfect'),\n",
       " Row(ts=1538990811000, userId='30', firstname='Colin', page='Error', level='paid', song='0'),\n",
       " Row(ts=1538990964000, userId='30', firstname='Colin', page='NextSong', level='paid', song='Ours Alone'),\n",
       " Row(ts=1538991359000, userId='30', firstname='Colin', page='NextSong', level='paid', song='Master Of Puppets'),\n",
       " Row(ts=1538991874000, userId='30', firstname='Colin', page='NextSong', level='paid', song='Costruire'),\n",
       " Row(ts=1538992187000, userId='30', firstname='Colin', page='NextSong', level='paid', song='Sparks'),\n",
       " Row(ts=1538992508000, userId='30', firstname='Colin', page='NextSong', level='paid', song='Wildlife'),\n",
       " Row(ts=1538993164000, userId='30', firstname='Colin', page='NextSong', level='paid', song='Hello'),\n",
       " Row(ts=1538993384000, userId='30', firstname='Colin', page='NextSong', level='paid', song='Even If Kills Me (Cd)'),\n",
       " Row(ts=1538993615000, userId='30', firstname='Colin', page='NextSong', level='paid', song='Drinking In L.A.'),\n",
       " Row(ts=1538993850000, userId='30', firstname='Colin', page='NextSong', level='paid', song='Xehasmeni Melodia'),\n",
       " Row(ts=1538994156000, userId='30', firstname='Colin', page='NextSong', level='paid', song=\"You Can't Break A Broken Heart\"),\n",
       " Row(ts=1538994201000, userId='30', firstname='Colin', page='Downgrade', level='paid', song='0'),\n",
       " Row(ts=1538994374000, userId='30', firstname='Colin', page='NextSong', level='paid', song='Truth In The Age Of Lies (Album Version)'),\n",
       " Row(ts=1538994562000, userId='30', firstname='Colin', page='NextSong', level='paid', song='Donde Vamos'),\n",
       " Row(ts=1538994832000, userId='30', firstname='Colin', page='NextSong', level='paid', song=\"Lady '95\"),\n",
       " Row(ts=1538995016000, userId='30', firstname='Colin', page='NextSong', level='paid', song='Horseshoes and Hand Grenades'),\n",
       " Row(ts=1538995447000, userId='30', firstname='Colin', page='NextSong', level='paid', song='Jamaica Roots II(Agora E Sempre)'),\n",
       " Row(ts=1538995453000, userId='30', firstname='Colin', page='Downgrade', level='paid', song='0'),\n",
       " Row(ts=1538995454000, userId='30', firstname='Colin', page='Submit Downgrade', level='paid', song='0'),\n",
       " Row(ts=1538995509000, userId='30', firstname='Colin', page='Home', level='free', song='0'),\n",
       " Row(ts=1538995657000, userId='30', firstname='Colin', page='NextSong', level='free', song='Crimewave (Crystal Castles vs Health)'),\n",
       " Row(ts=1538995915000, userId='30', firstname='Colin', page='NextSong', level='free', song='Hey (Album Version)'),\n",
       " Row(ts=1538996254000, userId='30', firstname='Colin', page='NextSong', level='free', song='I Believe In Forever'),\n",
       " Row(ts=1538996261000, userId='30', firstname='Colin', page='Add to Playlist', level='free', song='0'),\n",
       " Row(ts=1538996451000, userId='30', firstname='Colin', page='NextSong', level='free', song=\"Don't Stop The Music\"),\n",
       " Row(ts=1538996718000, userId='30', firstname='Colin', page='NextSong', level='free', song='City Of The Dead'),\n",
       " Row(ts=1538996862000, userId='30', firstname='Colin', page='NextSong', level='free', song='Too Afraid To Love'),\n",
       " Row(ts=1538996870000, userId='30', firstname='Colin', page='Home', level='free', song='0'),\n",
       " Row(ts=1538997066000, userId='30', firstname='Colin', page='NextSong', level='free', song='Hasir'),\n",
       " Row(ts=1538997356000, userId='30', firstname='Colin', page='NextSong', level='free', song='Bloat On (featuring the Bloaters) (LP Version)'),\n",
       " Row(ts=1538997655000, userId='30', firstname='Colin', page='NextSong', level='free', song=\"Frisch und g'sund\"),\n",
       " Row(ts=1538997824000, userId='30', firstname='Colin', page='NextSong', level='free', song='Boom Boom'),\n",
       " Row(ts=1538997825000, userId='30', firstname='Colin', page='Thumbs Up', level='free', song='0'),\n",
       " Row(ts=1538998102000, userId='30', firstname='Colin', page='NextSong', level='free', song='Undo'),\n",
       " Row(ts=1538998114000, userId='30', firstname='Colin', page='Add to Playlist', level='free', song='0'),\n",
       " Row(ts=1538998450000, userId='30', firstname='Colin', page='NextSong', level='free', song='Hunting For Witches'),\n",
       " Row(ts=1538998660000, userId='30', firstname='Colin', page='NextSong', level='free', song='Blindsided'),\n",
       " Row(ts=1538998989000, userId='30', firstname='Colin', page='NextSong', level='free', song='Survive'),\n",
       " Row(ts=1538999210000, userId='30', firstname='Colin', page='NextSong', level='free', song='Alice'),\n",
       " Row(ts=1538999425000, userId='30', firstname='Colin', page='NextSong', level='free', song='Dog Days Are Over (Radio Edit)'),\n",
       " Row(ts=1538999644000, userId='30', firstname='Colin', page='NextSong', level='free', song=\"Lovin' You\"),\n",
       " Row(ts=1538999867000, userId='30', firstname='Colin', page='NextSong', level='free', song=\"Everybody's Fool (Live in Europe)\"),\n",
       " Row(ts=1539000087000, userId='30', firstname='Colin', page='NextSong', level='free', song='Jeune Et Con'),\n",
       " Row(ts=1539000321000, userId='30', firstname='Colin', page='NextSong', level='free', song='Somebody (Loves You) (Explicit Album Version)'),\n",
       " Row(ts=1539000599000, userId='30', firstname='Colin', page='NextSong', level='free', song='Not Big'),\n",
       " Row(ts=1539000795000, userId='30', firstname='Colin', page='NextSong', level='free', song='Paint You'),\n",
       " Row(ts=1539000918000, userId='30', firstname='Colin', page='NextSong', level='free', song='Block Of Ice'),\n",
       " Row(ts=1539000958000, userId='30', firstname='Colin', page='Upgrade', level='free', song='0'),\n",
       " Row(ts=1539001052000, userId='30', firstname='Colin', page='NextSong', level='free', song='Sun It Rises'),\n",
       " Row(ts=1539001077000, userId='30', firstname='Colin', page='Upgrade', level='free', song='0'),\n",
       " Row(ts=1539001243000, userId='30', firstname='Colin', page='NextSong', level='free', song='Paralyzer'),\n",
       " Row(ts=1539001451000, userId='30', firstname='Colin', page='NextSong', level='free', song='Bleed It Out [Live At Milton Keynes]'),\n",
       " Row(ts=1539001513000, userId='30', firstname='Colin', page='Add to Playlist', level='free', song='0'),\n",
       " Row(ts=1539001945000, userId='30', firstname='Colin', page='NextSong', level='free', song='Ven Conmigo (Solamente TÃ\\x83Âº)'),\n",
       " Row(ts=1539002135000, userId='30', firstname='Colin', page='NextSong', level='free', song='Give In'),\n",
       " Row(ts=1539002303000, userId='30', firstname='Colin', page='NextSong', level='free', song='Arrepentida'),\n",
       " Row(ts=1539002562000, userId='30', firstname='Colin', page='NextSong', level='free', song=\"I Don't Want To Wait (Album Version)\"),\n",
       " Row(ts=1539002881000, userId='30', firstname='Colin', page='NextSong', level='free', song='Down To The River To Pray'),\n",
       " Row(ts=1539003010000, userId='30', firstname='Colin', page='NextSong', level='free', song='Castles In The Sky'),\n",
       " Row(ts=1539003011000, userId='30', firstname='Colin', page='Thumbs Up', level='free', song='0'),\n",
       " Row(ts=1539003233000, userId='30', firstname='Colin', page='NextSong', level='free', song='Sitting On Top Of The World'),\n",
       " Row(ts=1539003419000, userId='30', firstname='Colin', page='NextSong', level='free', song='The Way Things Go'),\n",
       " Row(ts=1539003841000, userId='30', firstname='Colin', page='NextSong', level='free', song='Recruiting Soldiers (2002 Digital Remaster)'),\n",
       " Row(ts=1539003842000, userId='30', firstname='Colin', page='Thumbs Up', level='free', song='0'),\n",
       " Row(ts=1539004108000, userId='30', firstname='Colin', page='NextSong', level='free', song='Clara meets Slope - Hard To Say'),\n",
       " Row(ts=1539004374000, userId='30', firstname='Colin', page='NextSong', level='free', song='Timeless'),\n",
       " Row(ts=1539004480000, userId='30', firstname='Colin', page='NextSong', level='free', song=\"Punta D'Alba\"),\n",
       " Row(ts=1539004502000, userId='30', firstname='Colin', page='Roll Advert', level='free', song='0'),\n",
       " Row(ts=1539004882000, userId='30', firstname='Colin', page='NextSong', level='free', song=\"Ghosts 'n' Stuff (Original Instrumental Mix)\"),\n",
       " Row(ts=1539005256000, userId='30', firstname='Colin', page='NextSong', level='free', song=\"I Couldn't Help It If I Tried\"),\n",
       " Row(ts=1539005507000, userId='30', firstname='Colin', page='NextSong', level='free', song='The Blood_ The Sweat_ The Tears (Album Version)'),\n",
       " Row(ts=1539005525000, userId='30', firstname='Colin', page='Add to Playlist', level='free', song='0'),\n",
       " Row(ts=1539005758000, userId='30', firstname='Colin', page='NextSong', level='free', song='She Said'),\n",
       " Row(ts=1539005788000, userId='30', firstname='Colin', page='Home', level='free', song='0'),\n",
       " Row(ts=1539005966000, userId='30', firstname='Colin', page='NextSong', level='free', song='Undo'),\n",
       " Row(ts=1539006314000, userId='30', firstname='Colin', page='NextSong', level='free', song='Bust A Move'),\n",
       " Row(ts=1539006315000, userId='30', firstname='Colin', page='Thumbs Up', level='free', song='0'),\n",
       " Row(ts=1539006578000, userId='30', firstname='Colin', page='NextSong', level='free', song='Catch You Baby (Steve Pitron & Max Sanna Radio Edit)'),\n",
       " Row(ts=1539006759000, userId='30', firstname='Colin', page='NextSong', level='free', song='White Light/White Heat'),\n",
       " Row(ts=1539006924000, userId='30', firstname='Colin', page='NextSong', level='free', song='Infinity'),\n",
       " Row(ts=1539007237000, userId='30', firstname='Colin', page='NextSong', level='free', song='Bros Sto Rimagmeno Spiti (2003 Digital Remaster)'),\n",
       " Row(ts=1539007238000, userId='30', firstname='Colin', page='Add Friend', level='free', song='0'),\n",
       " Row(ts=1539007239000, userId='30', firstname='Colin', page='Add Friend', level='free', song='0'),\n",
       " Row(ts=1539007249000, userId='30', firstname='Colin', page='Home', level='free', song='0'),\n",
       " Row(ts=1539007438000, userId='30', firstname='Colin', page='NextSong', level='free', song='Gear Box'),\n",
       " Row(ts=1539007439000, userId='30', firstname='Colin', page='Roll Advert', level='free', song='0'),\n",
       " Row(ts=1539007649000, userId='30', firstname='Colin', page='NextSong', level='free', song='In Liverpool'),\n",
       " Row(ts=1539007935000, userId='30', firstname='Colin', page='NextSong', level='free', song='Work It Out'),\n",
       " Row(ts=1539008179000, userId='30', firstname='Colin', page='NextSong', level='free', song='Timberwolves At New Jersey (Album Version)'),\n",
       " Row(ts=1539008217000, userId='30', firstname='Colin', page='Home', level='free', song='0'),\n",
       " Row(ts=1539008382000, userId='30', firstname='Colin', page='NextSong', level='free', song='Great Escape'),\n",
       " Row(ts=1539008779000, userId='30', firstname='Colin', page='NextSong', level='free', song='Drop The World'),\n",
       " Row(ts=1539009008000, userId='30', firstname='Colin', page='NextSong', level='free', song='My Poor Old Heart'),\n",
       " Row(ts=1539009195000, userId='30', firstname='Colin', page='NextSong', level='free', song='Hey! (A Lil Gratitude) (Album Version) ()'),\n",
       " Row(ts=1539158867000, userId='30', firstname='Colin', page='Home', level='free', song='0'),\n",
       " Row(ts=1539158890000, userId='30', firstname='Colin', page='NextSong', level='free', song='Map Of The Problematique'),\n",
       " Row(ts=1539159148000, userId='30', firstname='Colin', page='NextSong', level='free', song='Gente Que No'),\n",
       " Row(ts=1539159403000, userId='30', firstname='Colin', page='NextSong', level='free', song='Half Of My Heart'),\n",
       " Row(ts=1539159653000, userId='30', firstname='Colin', page='NextSong', level='free', song='All My Love'),\n",
       " Row(ts=1539159936000, userId='30', firstname='Colin', page='NextSong', level='free', song='Dog Eat Dog'),\n",
       " Row(ts=1539273182000, userId='30', firstname='Colin', page='Home', level='free', song='0'),\n",
       " Row(ts=1539273245000, userId='30', firstname='Colin', page='Home', level='free', song='0'),\n",
       " Row(ts=1539275685000, userId='30', firstname='Colin', page='Home', level='free', song='0'),\n",
       " Row(ts=1539275691000, userId='30', firstname='Colin', page='NextSong', level='free', song='The Laws Have Changed'),\n",
       " Row(ts=1539275897000, userId='30', firstname='Colin', page='NextSong', level='free', song=\"She's My Baby\"),\n",
       " Row(ts=1539276162000, userId='30', firstname='Colin', page='NextSong', level='free', song=\"Don't Give Up On Us\"),\n",
       " Row(ts=1539276378000, userId='30', firstname='Colin', page='NextSong', level='free', song=\"What's Left of the Flag\"),\n",
       " Row(ts=1539276711000, userId='30', firstname='Colin', page='NextSong', level='free', song='Why Do You Laugh At Me'),\n",
       " Row(ts=1539276950000, userId='30', firstname='Colin', page='NextSong', level='free', song='Eskimo - Album Version (not as hidden track)'),\n",
       " Row(ts=1539276951000, userId='30', firstname='Colin', page='Roll Advert', level='free', song='0'),\n",
       " Row(ts=1539277255000, userId='30', firstname='Colin', page='NextSong', level='free', song='A Beggar On A Beach Of Gold'),\n",
       " Row(ts=1539277261000, userId='30', firstname='Colin', page='Upgrade', level='free', song='0'),\n",
       " Row(ts=1539277530000, userId='30', firstname='Colin', page='NextSong', level='free', song='Ragoo'),\n",
       " Row(ts=1539277711000, userId='30', firstname='Colin', page='NextSong', level='free', song='Unreachable'),\n",
       " Row(ts=1539277944000, userId='30', firstname='Colin', page='NextSong', level='free', song='Misunderstood'),\n",
       " Row(ts=1539278183000, userId='30', firstname='Colin', page='NextSong', level='free', song='Seize The Day (Album Version)'),\n",
       " Row(ts=1539278516000, userId='30', firstname='Colin', page='NextSong', level='free', song='All Over Again (Album Version)'),\n",
       " Row(ts=1539278732000, userId='30', firstname='Colin', page='NextSong', level='free', song='Car (Album)'),\n",
       " Row(ts=1539278911000, userId='30', firstname='Colin', page='NextSong', level='free', song=\"You're The One\"),\n",
       " Row(ts=1539279119000, userId='30', firstname='Colin', page='NextSong', level='free', song='(You Drive Me) Crazy (The Stop Remix!)'),\n",
       " Row(ts=1539279316000, userId='30', firstname='Colin', page='NextSong', level='free', song='The Battery'),\n",
       " Row(ts=1539279636000, userId='30', firstname='Colin', page='NextSong', level='free', song='Ordinary Man'),\n",
       " Row(ts=1539279892000, userId='30', firstname='Colin', page='NextSong', level='free', song=\"I CAN'T GET STARTED\"),\n",
       " Row(ts=1539279893000, userId='30', firstname='Colin', page='Thumbs Up', level='free', song='0'),\n",
       " Row(ts=1539280389000, userId='30', firstname='Colin', page='NextSong', level='free', song='Corrido Al Torero'),\n",
       " Row(ts=1539280570000, userId='30', firstname='Colin', page='NextSong', level='free', song='Dull Life'),\n",
       " Row(ts=1539280818000, userId='30', firstname='Colin', page='NextSong', level='free', song='Aht Uh Mi Hed'),\n",
       " Row(ts=1539280865000, userId='30', firstname='Colin', page='Roll Advert', level='free', song='0'),\n",
       " Row(ts=1539280873000, userId='30', firstname='Colin', page='Roll Advert', level='free', song='0'),\n",
       " Row(ts=1539295537000, userId='30', firstname='Colin', page='NextSong', level='free', song='Fisticuffs (LP Version)'),\n",
       " Row(ts=1539295687000, userId='30', firstname='Colin', page='NextSong', level='free', song='More Than This'),\n",
       " Row(ts=1539295921000, userId='30', firstname='Colin', page='NextSong', level='free', song='Baby I Want You'),\n",
       " Row(ts=1539296099000, userId='30', firstname='Colin', page='NextSong', level='free', song='I Miss You'),\n",
       " Row(ts=1539296131000, userId='30', firstname='Colin', page='Roll Advert', level='free', song='0'),\n",
       " Row(ts=1539296336000, userId='30', firstname='Colin', page='NextSong', level='free', song='Alejate De Mi'),\n",
       " Row(ts=1539296594000, userId='30', firstname='Colin', page='NextSong', level='free', song='Crazy Bitch (Album Version)'),\n",
       " Row(ts=1539296795000, userId='30', firstname='Colin', page='NextSong', level='free', song='Por segunda vez'),\n",
       " Row(ts=1539296796000, userId='30', firstname='Colin', page='Thumbs Up', level='free', song='0'),\n",
       " Row(ts=1539297021000, userId='30', firstname='Colin', page='NextSong', level='free', song='Antibodies'),\n",
       " Row(ts=1539297304000, userId='30', firstname='Colin', page='NextSong', level='free', song='Toxic Girl'),\n",
       " Row(ts=1539297491000, userId='30', firstname='Colin', page='NextSong', level='free', song='Lowlands'),\n",
       " Row(ts=1539297690000, userId='30', firstname='Colin', page='NextSong', level='free', song='Even Deeper'),\n",
       " Row(ts=1539297701000, userId='30', firstname='Colin', page='Roll Advert', level='free', song='0'),\n",
       " Row(ts=1539298037000, userId='30', firstname='Colin', page='NextSong', level='free', song='I Second That Emotion'),\n",
       " Row(ts=1539298205000, userId='30', firstname='Colin', page='NextSong', level='free', song='Scatman (Ski-Ba-Bop-Ba-Dop-Bop)'),\n",
       " Row(ts=1539298417000, userId='30', firstname='Colin', page='NextSong', level='free', song='Countdown'),\n",
       " Row(ts=1539298608000, userId='30', firstname='Colin', page='NextSong', level='free', song='Forever'),\n",
       " Row(ts=1539298965000, userId='30', firstname='Colin', page='NextSong', level='free', song='Bootzilla'),\n",
       " Row(ts=1539298966000, userId='30', firstname='Colin', page='Thumbs Up', level='free', song='0'),\n",
       " Row(ts=1539299301000, userId='30', firstname='Colin', page='NextSong', level='free', song=\"I'd Rather Fuck You (Explicit) (Feat. Eazy-E)\"),\n",
       " Row(ts=1539299538000, userId='30', firstname='Colin', page='NextSong', level='free', song='New Generation'),\n",
       " Row(ts=1539299650000, userId='30', firstname='Colin', page='NextSong', level='free', song='Follow You'),\n",
       " Row(ts=1539299863000, userId='30', firstname='Colin', page='NextSong', level='free', song='Shine On (Album Version)'),\n",
       " Row(ts=1539300139000, userId='30', firstname='Colin', page='NextSong', level='free', song='Venice Queen (Album Version)'),\n",
       " Row(ts=1539300506000, userId='30', firstname='Colin', page='NextSong', level='free', song='Tear You Apart'),\n",
       " Row(ts=1539300790000, userId='30', firstname='Colin', page='NextSong', level='free', song='Horn Concerto No. 4 in E flat K495: II. Romance (Andante cantabile)'),\n",
       " Row(ts=1539300791000, userId='30', firstname='Colin', page='Thumbs Up', level='free', song='0'),\n",
       " Row(ts=1539301067000, userId='30', firstname='Colin', page='NextSong', level='free', song='Over Now'),\n",
       " Row(ts=1539301073000, userId='30', firstname='Colin', page='Upgrade', level='free', song='0'),\n",
       " Row(ts=1539301490000, userId='30', firstname='Colin', page='NextSong', level='free', song='Superbeast'),\n",
       " Row(ts=1539301491000, userId='30', firstname='Colin', page='Logout', level='free', song='0'),\n",
       " Row(ts=1539615637000, userId='30', firstname='Colin', page='Home', level='free', song='0'),\n",
       " Row(ts=1539615678000, userId='30', firstname='Colin', page='NextSong', level='free', song='Broke Up The Time'),\n",
       " Row(ts=1539615704000, userId='30', firstname='Colin', page='Add to Playlist', level='free', song='0'),\n",
       " Row(ts=1539615872000, userId='30', firstname='Colin', page='NextSong', level='free', song='Roll Over Beethoven'),\n",
       " Row(ts=1539616019000, userId='30', firstname='Colin', page='NextSong', level='free', song='Way Back Home'),\n",
       " Row(ts=1539616193000, userId='30', firstname='Colin', page='NextSong', level='free', song='Back To Life (Album Version)'),\n",
       " Row(ts=1539616464000, userId='30', firstname='Colin', page='NextSong', level='free', song='Strut (1993 Digital Remaster)'),\n",
       " Row(ts=1539616703000, userId='30', firstname='Colin', page='NextSong', level='free', song='Super Inuit (Studio) [Bonus Track]'),\n",
       " Row(ts=1539616926000, userId='30', firstname='Colin', page='NextSong', level='free', song='16 Candles'),\n",
       " Row(ts=1539617108000, userId='30', firstname='Colin', page='NextSong', level='free', song='The Outlaw'),\n",
       " Row(ts=1539617340000, userId='30', firstname='Colin', page='NextSong', level='free', song='Geek In The Pink [Phil Tan Remix]'),\n",
       " Row(ts=1539617558000, userId='30', firstname='Colin', page='NextSong', level='free', song='The Chosen Legacy'),\n",
       " Row(ts=1539617817000, userId='30', firstname='Colin', page='NextSong', level='free', song=\"Don't You Run With Him\"),\n",
       " Row(ts=1539617871000, userId='30', firstname='Colin', page='Roll Advert', level='free', song='0'),\n",
       " Row(ts=1539618035000, userId='30', firstname='Colin', page='NextSong', level='free', song='Brianstorm'),\n",
       " Row(ts=1539618207000, userId='30', firstname='Colin', page='NextSong', level='free', song='To Zion'),\n",
       " Row(ts=1539618210000, userId='30', firstname='Colin', page='Home', level='free', song='0'),\n",
       " Row(ts=1539618576000, userId='30', firstname='Colin', page='NextSong', level='free', song='Lucy (Album Version)'),\n",
       " Row(ts=1539618794000, userId='30', firstname='Colin', page='NextSong', level='free', song='What Goes Around...Comes Around'),\n",
       " Row(ts=1539619107000, userId='30', firstname='Colin', page='NextSong', level='free', song='Bang On The Drum'),\n",
       " Row(ts=1539619321000, userId='30', firstname='Colin', page='NextSong', level='free', song='Bill Sykes'),\n",
       " Row(ts=1539619461000, userId='30', firstname='Colin', page='NextSong', level='free', song='Rhyme & Reason'),\n",
       " Row(ts=1539619819000, userId='30', firstname='Colin', page='NextSong', level='free', song='Schifrin and Variations'),\n",
       " Row(ts=1539619820000, userId='30', firstname='Colin', page='Thumbs Up', level='free', song='0'),\n",
       " Row(ts=1539620003000, userId='30', firstname='Colin', page='NextSong', level='free', song='Teach Me How To Dougie'),\n",
       " Row(ts=1539620242000, userId='30', firstname='Colin', page='NextSong', level='free', song='We Deal In Dreams'),\n",
       " Row(ts=1539620475000, userId='30', firstname='Colin', page='NextSong', level='free', song='Undo'),\n",
       " Row(ts=1539620823000, userId='30', firstname='Colin', page='NextSong', level='free', song='Pushing Me Away (Album Version)'),\n",
       " Row(ts=1539620841000, userId='30', firstname='Colin', page='Roll Advert', level='free', song='0'),\n",
       " Row(ts=1539620842000, userId='30', firstname='Colin', page='Logout', level='free', song='0'),\n",
       " Row(ts=1539620843000, userId='30', firstname='Colin', page='Home', level='free', song='0'),\n",
       " Row(ts=1539621014000, userId='30', firstname='Colin', page='NextSong', level='free', song='Trouble Dub - FAMS Mix'),\n",
       " Row(ts=1539621224000, userId='30', firstname='Colin', page='NextSong', level='free', song='Electric Avenue'),\n",
       " Row(ts=1539621448000, userId='30', firstname='Colin', page='NextSong', level='free', song=\"If I Ain't Got You\"),\n",
       " Row(ts=1539621468000, userId='30', firstname='Colin', page='Roll Advert', level='free', song='0'),\n",
       " Row(ts=1539621525000, userId='30', firstname='Colin', page='Roll Advert', level='free', song='0'),\n",
       " Row(ts=1539621677000, userId='30', firstname='Colin', page='NextSong', level='free', song='Dream'),\n",
       " Row(ts=1539621922000, userId='30', firstname='Colin', page='NextSong', level='free', song='Pak Dit Grej (1998 Digital Remaster)'),\n",
       " Row(ts=1539622195000, userId='30', firstname='Colin', page='NextSong', level='free', song='My Moon My Man'),\n",
       " Row(ts=1539622196000, userId='30', firstname='Colin', page='Thumbs Up', level='free', song='0'),\n",
       " Row(ts=1539622379000, userId='30', firstname='Colin', page='NextSong', level='free', song='Constellations'),\n",
       " Row(ts=1539622580000, userId='30', firstname='Colin', page='NextSong', level='free', song='Kiss (LP Version)'),\n",
       " Row(ts=1539622807000, userId='30', firstname='Colin', page='NextSong', level='free', song='Ven AquÃ\\x83Â\\xad'),\n",
       " Row(ts=1539623024000, userId='30', firstname='Colin', page='NextSong', level='free', song='Christmas Journey'),\n",
       " Row(ts=1539623176000, userId='30', firstname='Colin', page='NextSong', level='free', song='Little Fighter'),\n",
       " Row(ts=1539623471000, userId='30', firstname='Colin', page='NextSong', level='free', song='Always Coming Back Home To You'),\n",
       " Row(ts=1539624022000, userId='30', firstname='Colin', page='NextSong', level='free', song='Alarm!'),\n",
       " Row(ts=1539624190000, userId='30', firstname='Colin', page='NextSong', level='free', song='Run'),\n",
       " Row(ts=1539624635000, userId='30', firstname='Colin', page='NextSong', level='free', song='Do You Dream'),\n",
       " Row(ts=1539625095000, userId='30', firstname='Colin', page='NextSong', level='free', song='The Only Exception (Album Version)'),\n",
       " Row(ts=1539625118000, userId='30', firstname='Colin', page='Roll Advert', level='free', song='0'),\n",
       " Row(ts=1539625362000, userId='30', firstname='Colin', page='NextSong', level='free', song='Spiderwebs'),\n",
       " Row(ts=1539625628000, userId='30', firstname='Colin', page='NextSong', level='free', song=\"Please Don't Go\"),\n",
       " Row(ts=1539625638000, userId='30', firstname='Colin', page='Add to Playlist', level='free', song='0'),\n",
       " Row(ts=1539625896000, userId='30', firstname='Colin', page='NextSong', level='free', song='Pursuit Of Happiness (nightmare)'),\n",
       " Row(ts=1539626191000, userId='30', firstname='Colin', page='NextSong', level='free', song=\"Breakin' Dishes\"),\n",
       " Row(ts=1539626391000, userId='30', firstname='Colin', page='NextSong', level='free', song='Hall of Fame'),\n",
       " Row(ts=1539626544000, userId='30', firstname='Colin', page='NextSong', level='free', song='Brothers'),\n",
       " Row(ts=1539626970000, userId='30', firstname='Colin', page='NextSong', level='free', song='Hide & Seek'),\n",
       " Row(ts=1539626977000, userId='30', firstname='Colin', page='Add to Playlist', level='free', song='0'),\n",
       " Row(ts=1539627479000, userId='30', firstname='Colin', page='NextSong', level='free', song=\"It's No Good (Single Version)\"),\n",
       " Row(ts=1539627836000, userId='30', firstname='Colin', page='NextSong', level='free', song='Here We Are (Family In The Hallways)'),\n",
       " Row(ts=1539628056000, userId='30', firstname='Colin', page='NextSong', level='free', song='Love Is Blue'),\n",
       " Row(ts=1539628057000, userId='30', firstname='Colin', page='Thumbs Up', level='free', song='0'),\n",
       " Row(ts=1539628209000, userId='30', firstname='Colin', page='NextSong', level='free', song='Wounded'),\n",
       " Row(ts=1539628414000, userId='30', firstname='Colin', page='NextSong', level='free', song='Selling The Drama'),\n",
       " Row(ts=1539628619000, userId='30', firstname='Colin', page='NextSong', level='free', song='My Michelle'),\n",
       " Row(ts=1539628620000, userId='30', firstname='Colin', page='Logout', level='free', song='0'),\n",
       " Row(ts=1539628843000, userId='30', firstname='Colin', page='Home', level='free', song='0'),\n",
       " Row(ts=1539628852000, userId='30', firstname='Colin', page='NextSong', level='free', song='Superstition'),\n",
       " Row(ts=1539629132000, userId='30', firstname='Colin', page='NextSong', level='free', song='The Scientist'),\n",
       " Row(ts=1539629166000, userId='30', firstname='Colin', page='Help', level='free', song='0'),\n",
       " Row(ts=1539629443000, userId='30', firstname='Colin', page='NextSong', level='free', song='Make Love To Your Mind'),\n",
       " Row(ts=1539629826000, userId='30', firstname='Colin', page='NextSong', level='free', song='Art is Hard'),\n",
       " Row(ts=1539629830000, userId='30', firstname='Colin', page='Home', level='free', song='0'),\n",
       " Row(ts=1539629831000, userId='30', firstname='Colin', page='Add Friend', level='free', song='0'),\n",
       " Row(ts=1539629845000, userId='30', firstname='Colin', page='Settings', level='free', song='0'),\n",
       " Row(ts=1539731438000, userId='30', firstname='Colin', page='Home', level='free', song='0'),\n",
       " Row(ts=1539731439000, userId='30', firstname='Colin', page='Logout', level='free', song='0'),\n",
       " Row(ts=1540070969000, userId='30', firstname='Colin', page='Home', level='free', song='0'),\n",
       " Row(ts=1540268084000, userId='30', firstname='Colin', page='NextSong', level='free', song='Silent Running'),\n",
       " Row(ts=1540268509000, userId='30', firstname='Colin', page='NextSong', level='free', song='The Unforgiven II'),\n",
       " Row(ts=1540268905000, userId='30', firstname='Colin', page='NextSong', level='free', song=\"Valjean's Soliloquy\"),\n",
       " Row(ts=1540269124000, userId='30', firstname='Colin', page='NextSong', level='free', song='Tonight'),\n",
       " Row(ts=1540269342000, userId='30', firstname='Colin', page='NextSong', level='free', song='Playing To Win (24-Bit Digitally Remastered 02)'),\n",
       " Row(ts=1540269519000, userId='30', firstname='Colin', page='NextSong', level='free', song='El nazareno'),\n",
       " Row(ts=1540269856000, userId='30', firstname='Colin', page='NextSong', level='free', song='Your Song'),\n",
       " Row(ts=1540270093000, userId='30', firstname='Colin', page='NextSong', level='free', song='Thunderbird'),\n",
       " Row(ts=1540270415000, userId='30', firstname='Colin', page='NextSong', level='free', song='Rayando el sol'),\n",
       " Row(ts=1540270667000, userId='30', firstname='Colin', page='NextSong', level='free', song='Mama Your Boys Will Find A Home'),\n",
       " Row(ts=1540270895000, userId='30', firstname='Colin', page='NextSong', level='free', song='Absolution: Of Flight and Failure'),\n",
       " Row(ts=1540271283000, userId='30', firstname='Colin', page='NextSong', level='free', song='The Bones Of You'),\n",
       " Row(ts=1540271574000, userId='30', firstname='Colin', page='NextSong', level='free', song='Kickstarts'),\n",
       " Row(ts=1540271754000, userId='30', firstname='Colin', page='NextSong', level='free', song='Mrs. Robinson (LP Version)'),\n",
       " Row(ts=1540271765000, userId='30', firstname='Colin', page='Add to Playlist', level='free', song='0'),\n",
       " Row(ts=1540271974000, userId='30', firstname='Colin', page='NextSong', level='free', song='Rain Is A Good Thing'),\n",
       " Row(ts=1540272149000, userId='30', firstname='Colin', page='NextSong', level='free', song='Barco a Venus'),\n",
       " Row(ts=1540272357000, userId='30', firstname='Colin', page='NextSong', level='free', song='Planet Caravan (Remastered LP Version)'),\n",
       " Row(ts=1540272601000, userId='30', firstname='Colin', page='NextSong', level='free', song='I Melt With You'),\n",
       " Row(ts=1540272878000, userId='30', firstname='Colin', page='NextSong', level='free', song='Failures Burden'),\n",
       " Row(ts=1540272903000, userId='30', firstname='Colin', page='Roll Advert', level='free', song='0'),\n",
       " Row(ts=1540273275000, userId='30', firstname='Colin', page='NextSong', level='free', song='I Get It'),\n",
       " Row(ts=1540273490000, userId='30', firstname='Colin', page='NextSong', level='free', song='Lie To Me'),\n",
       " Row(ts=1540273497000, userId='30', firstname='Colin', page='Add to Playlist', level='free', song='0'),\n",
       " Row(ts=1540273708000, userId='30', firstname='Colin', page='NextSong', level='free', song=\"Sonny's Dream\"),\n",
       " Row(ts=1540273724000, userId='30', firstname='Colin', page='Roll Advert', level='free', song='0'),\n",
       " Row(ts=1540273892000, userId='30', firstname='Colin', page='NextSong', level='free', song='Mandy'),\n",
       " Row(ts=1540273893000, userId='30', firstname='Colin', page='Thumbs Down', level='free', song='0'),\n",
       " Row(ts=1540274114000, userId='30', firstname='Colin', page='NextSong', level='free', song='Still'),\n",
       " Row(ts=1540274147000, userId='30', firstname='Colin', page='Roll Advert', level='free', song='0'),\n",
       " Row(ts=1540274345000, userId='30', firstname='Colin', page='NextSong', level='free', song='Future Says Run'),\n",
       " Row(ts=1540549210000, userId='30', firstname='Colin', page='NextSong', level='free', song='Not So Usual (Eagles Ballroom Live Version)'),\n",
       " Row(ts=1540549423000, userId='30', firstname='Colin', page='NextSong', level='free', song='Troublemaker'),\n",
       " Row(ts=1540549424000, userId='30', firstname='Colin', page='Thumbs Up', level='free', song='0'),\n",
       " Row(ts=1540549587000, userId='30', firstname='Colin', page='NextSong', level='free', song=\"Our Lawyer Made Us Change The Name Of This Song So We Wouldn't Get Sued\"),\n",
       " Row(ts=1540549777000, userId='30', firstname='Colin', page='NextSong', level='free', song='The Vanishing'),\n",
       " Row(ts=1540549897000, userId='30', firstname='Colin', page='Home', level='free', song='0'),\n",
       " Row(ts=1540550054000, userId='30', firstname='Colin', page='NextSong', level='free', song='Forget Me'),\n",
       " Row(ts=1540550632000, userId='30', firstname='Colin', page='NextSong', level='free', song='Wayfaring Stranger'),\n",
       " Row(ts=1540550953000, userId='30', firstname='Colin', page='NextSong', level='free', song='The Runner'),\n",
       " Row(ts=1540551209000, userId='30', firstname='Colin', page='NextSong', level='free', song='Harder To Breathe'),\n",
       " Row(ts=1540551210000, userId='30', firstname='Colin', page='Thumbs Up', level='free', song='0'),\n",
       " Row(ts=1540551382000, userId='30', firstname='Colin', page='NextSong', level='free', song='Rain'),\n",
       " Row(ts=1540551589000, userId='30', firstname='Colin', page='NextSong', level='free', song='Bon Voyage'),\n",
       " Row(ts=1540551723000, userId='30', firstname='Colin', page='NextSong', level='free', song='Calm Down Dearest (Explicit)'),\n",
       " Row(ts=1540552003000, userId='30', firstname='Colin', page='NextSong', level='free', song=\"What's Left of the Flag\"),\n",
       " Row(ts=1540552336000, userId='30', firstname='Colin', page='NextSong', level='free', song='Enigma (Album Version)'),\n",
       " Row(ts=1540552616000, userId='30', firstname='Colin', page='NextSong', level='free', song='Lay Me Down'),\n",
       " Row(ts=1540552798000, userId='30', firstname='Colin', page='NextSong', level='free', song='I Repeat'),\n",
       " Row(ts=1540553040000, userId='30', firstname='Colin', page='NextSong', level='free', song='Catch You Baby (Steve Pitron & Max Sanna Radio Edit)'),\n",
       " Row(ts=1540553221000, userId='30', firstname='Colin', page='NextSong', level='free', song='Burgalveist'),\n",
       " Row(ts=1540553391000, userId='30', firstname='Colin', page='NextSong', level='free', song=\"It's Time I Go (Jazz)\"),\n",
       " Row(ts=1540553639000, userId='30', firstname='Colin', page='NextSong', level='free', song='COLORADOSUNRISE (Explicit Album Version)'),\n",
       " Row(ts=1540553841000, userId='30', firstname='Colin', page='NextSong', level='free', song='Deseret'),\n",
       " Row(ts=1540554075000, userId='30', firstname='Colin', page='NextSong', level='free', song='Pink'),\n",
       " Row(ts=1540554078000, userId='30', firstname='Colin', page='Settings', level='free', song='0'),\n",
       " Row(ts=1540554310000, userId='30', firstname='Colin', page='NextSong', level='free', song='Ras Trent'),\n",
       " Row(ts=1540554315000, userId='30', firstname='Colin', page='Roll Advert', level='free', song='0'),\n",
       " Row(ts=1540554435000, userId='30', firstname='Colin', page='NextSong', level='free', song=\"Help I'm Alive\"),\n",
       " Row(ts=1540554721000, userId='30', firstname='Colin', page='NextSong', level='free', song=\"Prodigal Son (Harvey's A Star In Your Own Mind Mix)\"),\n",
       " Row(ts=1540555327000, userId='30', firstname='Colin', page='NextSong', level='free', song='Rhinestone Eyes'),\n",
       " Row(ts=1540555328000, userId='30', firstname='Colin', page='Add Friend', level='free', song='0'),\n",
       " Row(ts=1540555527000, userId='30', firstname='Colin', page='NextSong', level='free', song=\"When It's Over (Remastered Album Version)\"),\n",
       " Row(ts=1540555745000, userId='30', firstname='Colin', page='NextSong', level='free', song='Punch Drunk Love'),\n",
       " Row(ts=1540568189000, userId='30', firstname='Colin', page='NextSong', level='free', song=\"She's Got The Time\"),\n",
       " Row(ts=1540568269000, userId='30', firstname='Colin', page='NextSong', level='free', song='The Strength To Go On'),\n",
       " Row(ts=1540568476000, userId='30', firstname='Colin', page='NextSong', level='free', song='The Stakes Are High'),\n",
       " Row(ts=1540652942000, userId='30', firstname='Colin', page='NextSong', level='free', song=\"Hustler's Prayer\"),\n",
       " Row(ts=1540653229000, userId='30', firstname='Colin', page='NextSong', level='free', song='Fleur blanche'),\n",
       " Row(ts=1540653230000, userId='30', firstname='Colin', page='Thumbs Down', level='free', song='0'),\n",
       " Row(ts=1540653473000, userId='30', firstname='Colin', page='NextSong', level='free', song='Live And Let Die'),\n",
       " Row(ts=1540653657000, userId='30', firstname='Colin', page='NextSong', level='free', song='Fast As I Can'),\n",
       " Row(ts=1540653995000, userId='30', firstname='Colin', page='NextSong', level='free', song='One In A Million'),\n",
       " Row(ts=1540654207000, userId='30', firstname='Colin', page='NextSong', level='free', song='Book Of Brilliant Things (2002 Digital Remaster)'),\n",
       " Row(ts=1540654469000, userId='30', firstname='Colin', page='NextSong', level='free', song='Glad All Over'),\n",
       " Row(ts=1540654629000, userId='30', firstname='Colin', page='NextSong', level='free', song='Arma dispuesta'),\n",
       " Row(ts=1540654766000, userId='30', firstname='Colin', page='NextSong', level='free', song='Heavyweight'),\n",
       " Row(ts=1540654790000, userId='30', firstname='Colin', page='Roll Advert', level='free', song='0'),\n",
       " Row(ts=1540655287000, userId='30', firstname='Colin', page='NextSong', level='free', song='Deeply Disturbed'),\n",
       " Row(ts=1540655793000, userId='30', firstname='Colin', page='NextSong', level='free', song='Signifying'),\n",
       " Row(ts=1540655973000, userId='30', firstname='Colin', page='NextSong', level='free', song='Boy From School (Hot Chip Re-Work)'),\n",
       " Row(ts=1540656011000, userId='30', firstname='Colin', page='Roll Advert', level='free', song='0'),\n",
       " Row(ts=1540656404000, userId='30', firstname='Colin', page='NextSong', level='free', song='Sehr kosmisch'),\n",
       " Row(ts=1540657059000, userId='30', firstname='Colin', page='NextSong', level='free', song='Clocks'),\n",
       " Row(ts=1540657103000, userId='30', firstname='Colin', page='Roll Advert', level='free', song='0'),\n",
       " Row(ts=1540657366000, userId='30', firstname='Colin', page='NextSong', level='free', song='Shut Up & Kiss Me'),\n",
       " Row(ts=1540657586000, userId='30', firstname='Colin', page='NextSong', level='free', song='Use Somebody'),\n",
       " Row(ts=1540657817000, userId='30', firstname='Colin', page='NextSong', level='free', song='Sparkover'),\n",
       " Row(ts=1540658327000, userId='30', firstname='Colin', page='NextSong', level='free', song='Do You Feel Their Pain?'),\n",
       " Row(ts=1540658713000, userId='30', firstname='Colin', page='NextSong', level='free', song='Back Against The Wall'),\n",
       " Row(ts=1540658715000, userId='30', firstname='Colin', page='Home', level='free', song='0'),\n",
       " Row(ts=1540658941000, userId='30', firstname='Colin', page='NextSong', level='free', song='Lonely'),\n",
       " Row(ts=1540658966000, userId='30', firstname='Colin', page='Roll Advert', level='free', song='0'),\n",
       " Row(ts=1540659127000, userId='30', firstname='Colin', page='NextSong', level='free', song='It Was A Good Day'),\n",
       " Row(ts=1540659379000, userId='30', firstname='Colin', page='NextSong', level='free', song='Bliss'),\n",
       " Row(ts=1540659631000, userId='30', firstname='Colin', page='NextSong', level='free', song='Marry Me'),\n",
       " Row(ts=1540659661000, userId='30', firstname='Colin', page='Add to Playlist', level='free', song='0'),\n",
       " Row(ts=1540659836000, userId='30', firstname='Colin', page='NextSong', level='free', song='Paint The Town Red'),\n",
       " Row(ts=1540660086000, userId='30', firstname='Colin', page='NextSong', level='free', song='Butterfly'),\n",
       " Row(ts=1540660303000, userId='30', firstname='Colin', page='NextSong', level='free', song='The Breaking of the Dawn (LP Version)'),\n",
       " Row(ts=1540660592000, userId='30', firstname='Colin', page='NextSong', level='free', song='Prenzlauerberg'),\n",
       " Row(ts=1540660818000, userId='30', firstname='Colin', page='NextSong', level='free', song='Not Fair (Clean Radio Edit)'),\n",
       " Row(ts=1540660819000, userId='30', firstname='Colin', page='Logout', level='free', song='0'),\n",
       " Row(ts=1540660921000, userId='30', firstname='Colin', page='Home', level='free', song='0'),\n",
       " Row(ts=1540661019000, userId='30', firstname='Colin', page='NextSong', level='free', song='Ribbons'),\n",
       " Row(ts=1540661340000, userId='30', firstname='Colin', page='NextSong', level='free', song='Please Forgive Me'),\n",
       " Row(ts=1540661695000, userId='30', firstname='Colin', page='NextSong', level='free', song='Kiss With A Fist'),\n",
       " Row(ts=1540661826000, userId='30', firstname='Colin', page='NextSong', level='free', song='Surf Wax America'),\n",
       " Row(ts=1540662067000, userId='30', firstname='Colin', page='NextSong', level='free', song='Smooth Sailing Remix'),\n",
       " Row(ts=1540662083000, userId='30', firstname='Colin', page='Settings', level='free', song='0'),\n",
       " Row(ts=1540662244000, userId='30', firstname='Colin', page='NextSong', level='free', song='Hey Baby'),\n",
       " Row(ts=1540662538000, userId='30', firstname='Colin', page='NextSong', level='free', song='Pump It'),\n",
       " Row(ts=1540662539000, userId='30', firstname='Colin', page='Roll Advert', level='free', song='0'),\n",
       " Row(ts=1540662752000, userId='30', firstname='Colin', page='NextSong', level='free', song='Superballs'),\n",
       " Row(ts=1540662944000, userId='30', firstname='Colin', page='NextSong', level='free', song='Away From Me'),\n",
       " Row(ts=1540663185000, userId='30', firstname='Colin', page='NextSong', level='free', song='The shooting company of Captain Frans B.Cocq'),\n",
       " Row(ts=1540663662000, userId='30', firstname='Colin', page='NextSong', level='free', song='Just'),\n",
       " Row(ts=1540663896000, userId='30', firstname='Colin', page='NextSong', level='free', song='Le Soir'),\n",
       " Row(ts=1540663929000, userId='30', firstname='Colin', page='Settings', level='free', song='0'),\n",
       " Row(ts=1540664072000, userId='30', firstname='Colin', page='NextSong', level='free', song='Thursday'),\n",
       " Row(ts=1540664328000, userId='30', firstname='Colin', page='NextSong', level='free', song='Waiting For 22'),\n",
       " Row(ts=1540664393000, userId='30', firstname='Colin', page='NextSong', level='free', song='C-Town'),\n",
       " Row(ts=1540664698000, userId='30', firstname='Colin', page='NextSong', level='free', song='Never Again'),\n",
       " Row(ts=1540664958000, userId='30', firstname='Colin', page='NextSong', level='free', song='I Love You'),\n",
       " Row(ts=1540665163000, userId='30', firstname='Colin', page='NextSong', level='free', song='Appointment With Death'),\n",
       " Row(ts=1540665390000, userId='30', firstname='Colin', page='NextSong', level='free', song='Even The Streets'),\n",
       " Row(ts=1540665706000, userId='30', firstname='Colin', page='NextSong', level='free', song='Opis Helpus'),\n",
       " Row(ts=1540988569000, userId='30', firstname='Colin', page='NextSong', level='free', song='Sehr kosmisch'),\n",
       " Row(ts=1540988576000, userId='30', firstname='Colin', page='Roll Advert', level='free', song='0'),\n",
       " Row(ts=1540989224000, userId='30', firstname='Colin', page='NextSong', level='free', song='Nueve Y Quince (9:15)'),\n",
       " Row(ts=1540989488000, userId='30', firstname='Colin', page='NextSong', level='free', song='Invocation: Attica Blues'),\n",
       " Row(ts=1540989510000, userId='30', firstname='Colin', page='NextSong', level='free', song='Birds'),\n",
       " Row(ts=1540989775000, userId='30', firstname='Colin', page='NextSong', level='free', song='Picture'),\n",
       " Row(ts=1540989776000, userId='30', firstname='Colin', page='Thumbs Up', level='free', song='0'),\n",
       " Row(ts=1540989791000, userId='30', firstname='Colin', page='Add to Playlist', level='free', song='0'),\n",
       " Row(ts=1540990073000, userId='30', firstname='Colin', page='NextSong', level='free', song='Half Of My Heart'),\n",
       " Row(ts=1540990323000, userId='30', firstname='Colin', page='NextSong', level='free', song='Catch You Baby (Steve Pitron & Max Sanna Radio Edit)'),\n",
       " Row(ts=1540990504000, userId='30', firstname='Colin', page='NextSong', level='free', song='Gan Haedden (Edden)'),\n",
       " Row(ts=1540990549000, userId='30', firstname='Colin', page='NextSong', level='free', song='Collide'),\n",
       " Row(ts=1540990826000, userId='30', firstname='Colin', page='NextSong', level='free', song='Tan Solo (En Vivo)'),\n",
       " Row(ts=1540990827000, userId='30', firstname='Colin', page='Logout', level='free', song='0'),\n",
       " Row(ts=1540990864000, userId='30', firstname='Colin', page='Home', level='free', song='0'),\n",
       " Row(ts=1540991077000, userId='30', firstname='Colin', page='NextSong', level='free', song=\"Everything's Gonna Be Alright\"),\n",
       " Row(ts=1540991232000, userId='30', firstname='Colin', page='NextSong', level='free', song='The Happy Song'),\n",
       " Row(ts=1540991472000, userId='30', firstname='Colin', page='NextSong', level='free', song='My Axe'),\n",
       " Row(ts=1540991705000, userId='30', firstname='Colin', page='NextSong', level='free', song='Home Is Where (Scavenged Luxury EP)'),\n",
       " Row(ts=1540991831000, userId='30', firstname='Colin', page='NextSong', level='free', song='The Scientist'),\n",
       " Row(ts=1540991842000, userId='30', firstname='Colin', page='Roll Advert', level='free', song='0'),\n",
       " Row(ts=1540992142000, userId='30', firstname='Colin', page='NextSong', level='free', song='Deny Selected'),\n",
       " Row(ts=1540992218000, userId='30', firstname='Colin', page='Roll Advert', level='free', song='0'),\n",
       " Row(ts=1540992321000, userId='30', firstname='Colin', page='NextSong', level='free', song='Late Nights'),\n",
       " Row(ts=1540992567000, userId='30', firstname='Colin', page='NextSong', level='free', song='The Scientist'),\n",
       " Row(ts=1540992878000, userId='30', firstname='Colin', page='NextSong', level='free', song='10%'),\n",
       " Row(ts=1540993123000, userId='30', firstname='Colin', page='NextSong', level='free', song='Beds Are Burning'),\n",
       " Row(ts=1540993378000, userId='30', firstname='Colin', page='NextSong', level='free', song='Relax'),\n",
       " Row(ts=1540993615000, userId='30', firstname='Colin', page='NextSong', level='free', song='Revelry'),\n",
       " Row(ts=1540993621000, userId='30', firstname='Colin', page='Upgrade', level='free', song='0'),\n",
       " Row(ts=1540993622000, userId='30', firstname='Colin', page='Add Friend', level='free', song='0'),\n",
       " Row(ts=1540993705000, userId='30', firstname='Colin', page='About', level='free', song='0'),\n",
       " Row(ts=1540993816000, userId='30', firstname='Colin', page='NextSong', level='free', song=\"Dancin' On The Killing Floor\"),\n",
       " Row(ts=1540994033000, userId='30', firstname='Colin', page='NextSong', level='free', song='Undo'),\n",
       " Row(ts=1540994381000, userId='30', firstname='Colin', page='NextSong', level='free', song='Te Hacen Falta Vitaminas'),\n",
       " Row(ts=1540994382000, userId='30', firstname='Colin', page='Thumbs Up', level='free', song='0'),\n",
       " Row(ts=1540994539000, userId='30', firstname='Colin', page='NextSong', level='free', song='U Smile'),\n",
       " Row(ts=1540994735000, userId='30', firstname='Colin', page='NextSong', level='free', song='Smile'),\n",
       " Row(ts=1540994929000, userId='30', firstname='Colin', page='NextSong', level='free', song='Angels Fall First'),\n",
       " Row(ts=1540995263000, userId='30', firstname='Colin', page='NextSong', level='free', song='Sehr kosmisch'),\n",
       " Row(ts=1540995277000, userId='30', firstname='Colin', page='Home', level='free', song='0'),\n",
       " Row(ts=1540995918000, userId='30', firstname='Colin', page='NextSong', level='free', song='Meeting Daisy'),\n",
       " Row(ts=1540995999000, userId='30', firstname='Colin', page='NextSong', level='free', song='El nazareno'),\n",
       " Row(ts=1540996000000, userId='30', firstname='Colin', page='Thumbs Up', level='free', song='0'),\n",
       " Row(ts=1540996336000, userId='30', firstname='Colin', page='NextSong', level='free', song='Bat Country (Album Version)'),\n",
       " Row(ts=1540996648000, userId='30', firstname='Colin', page='NextSong', level='free', song='Sinisten tÃ\\x83Â¤htien alla'),\n",
       " Row(ts=1540996984000, userId='30', firstname='Colin', page='NextSong', level='free', song='Deadweight On Velveteen'),\n",
       " Row(ts=1540997191000, userId='30', firstname='Colin', page='NextSong', level='free', song='Crank That (Soulja Boy)'),\n",
       " Row(ts=1540997415000, userId='30', firstname='Colin', page='NextSong', level='free', song='Recado Falado (MetrÃ\\x83Â´ Da Saudade)'),\n",
       " Row(ts=1540997577000, userId='30', firstname='Colin', page='NextSong', level='free', song=\"It's OK\"),\n",
       " Row(ts=1540997816000, userId='30', firstname='Colin', page='NextSong', level='free', song=\"Can't Stop This\"),\n",
       " Row(ts=1540998331000, userId='30', firstname='Colin', page='NextSong', level='free', song=\"You're The One\"),\n",
       " Row(ts=1540998570000, userId='30', firstname='Colin', page='NextSong', level='free', song='DONTTRUSTME [BENNYBLANCOREMIX] FEATURINGKIDCUDI (Explicit Bonus Version)'),\n",
       " Row(ts=1540998766000, userId='30', firstname='Colin', page='NextSong', level='free', song='The Grease Mega-Mix'),\n",
       " Row(ts=1540999056000, userId='30', firstname='Colin', page='NextSong', level='free', song='Snuff'),\n",
       " Row(ts=1540999375000, userId='30', firstname='Colin', page='NextSong', level='free', song='Runaway Love'),\n",
       " Row(ts=1540999587000, userId='30', firstname='Colin', page='NextSong', level='free', song='Camera Talk'),\n",
       " Row(ts=1540999812000, userId='30', firstname='Colin', page='NextSong', level='free', song='The Sicilian'),\n",
       " Row(ts=1541000072000, userId='30', firstname='Colin', page='NextSong', level='free', song='Pursuit Of Happiness (nightmare)'),\n",
       " Row(ts=1541000367000, userId='30', firstname='Colin', page='NextSong', level='free', song='Basbhat (Album Version)'),\n",
       " Row(ts=1541000528000, userId='30', firstname='Colin', page='NextSong', level='free', song='The Pretender'),\n",
       " Row(ts=1541000594000, userId='30', firstname='Colin', page='Roll Advert', level='free', song='0'),\n",
       " Row(ts=1541000604000, userId='30', firstname='Colin', page='Roll Advert', level='free', song='0'),\n",
       " Row(ts=1541000799000, userId='30', firstname='Colin', page='NextSong', level='free', song='Movement'),\n",
       " Row(ts=1541000982000, userId='30', firstname='Colin', page='NextSong', level='free', song='Revelry'),\n",
       " Row(ts=1541001183000, userId='30', firstname='Colin', page='NextSong', level='free', song='My Last Serenade'),\n",
       " Row(ts=1541001436000, userId='30', firstname='Colin', page='NextSong', level='free', song='Her Alone'),\n",
       " Row(ts=1541001797000, userId='30', firstname='Colin', page='NextSong', level='free', song='Diva'),\n",
       " Row(ts=1541001815000, userId='30', firstname='Colin', page='Roll Advert', level='free', song='0'),\n",
       " Row(ts=1541002054000, userId='30', firstname='Colin', page='NextSong', level='free', song='Inhuman Creation Station'),\n",
       " Row(ts=1541002303000, userId='30', firstname='Colin', page='NextSong', level='free', song='Monster (Alternate Radio Version)'),\n",
       " Row(ts=1541002480000, userId='30', firstname='Colin', page='NextSong', level='free', song='The Game (Amended Version)'),\n",
       " Row(ts=1541002706000, userId='30', firstname='Colin', page='NextSong', level='free', song='Keep It Simple'),\n",
       " Row(ts=1541002981000, userId='30', firstname='Colin', page='NextSong', level='free', song='No Leaf Clover'),\n",
       " Row(ts=1541003324000, userId='30', firstname='Colin', page='NextSong', level='free', song='Tramazi Parti'),\n",
       " Row(ts=1541003609000, userId='30', firstname='Colin', page='NextSong', level='free', song='My Way (A Mi Manera) (Album Version)'),\n",
       " Row(ts=1541003713000, userId='30', firstname='Colin', page='NextSong', level='free', song='Horrorbeach (Album Version)'),\n",
       " Row(ts=1541003885000, userId='30', firstname='Colin', page='NextSong', level='free', song='Red Light Indicates Doors Are Secured'),\n",
       " Row(ts=1541004028000, userId='30', firstname='Colin', page='NextSong', level='free', song='Girl'),\n",
       " Row(ts=1541004043000, userId='30', firstname='Colin', page='Upgrade', level='free', song='0'),\n",
       " Row(ts=1541004239000, userId='30', firstname='Colin', page='NextSong', level='free', song=\"Don't Worry Be Happy\"),\n",
       " Row(ts=1541004530000, userId='30', firstname='Colin', page='NextSong', level='free', song='Splash'),\n",
       " Row(ts=1541004772000, userId='30', firstname='Colin', page='NextSong', level='free', song='Missing You'),\n",
       " Row(ts=1541005041000, userId='30', firstname='Colin', page='NextSong', level='free', song='Goodbye Is All We Have'),\n",
       " Row(ts=1541005273000, userId='30', firstname='Colin', page='NextSong', level='free', song='Raunioilla'),\n",
       " Row(ts=1541006089000, userId='30', firstname='Colin', page='NextSong', level='free', song='Time/Breathe [Reprise] (Album Version)'),\n",
       " Row(ts=1541006385000, userId='30', firstname='Colin', page='NextSong', level='free', song='Magic Mountain'),\n",
       " Row(ts=1541006567000, userId='30', firstname='Colin', page='NextSong', level='free', song='Take The Box'),\n",
       " Row(ts=1541006767000, userId='30', firstname='Colin', page='NextSong', level='free', song=\"O Ouranos Pano Ap' ton Grammo\"),\n",
       " Row(ts=1541006779000, userId='30', firstname='Colin', page='Add to Playlist', level='free', song='0'),\n",
       " Row(ts=1541006834000, userId='30', firstname='Colin', page='NextSong', level='free', song=\"Boys Don't Cry\"),\n",
       " Row(ts=1541006835000, userId='30', firstname='Colin', page='Thumbs Down', level='free', song='0'),\n",
       " Row(ts=1541006995000, userId='30', firstname='Colin', page='NextSong', level='free', song='Precious Memories (LP Version)'),\n",
       " Row(ts=1541006996000, userId='30', firstname='Colin', page='Thumbs Up', level='free', song='0'),\n",
       " Row(ts=1541007248000, userId='30', firstname='Colin', page='NextSong', level='free', song='Path'),\n",
       " Row(ts=1541007451000, userId='30', firstname='Colin', page='NextSong', level='free', song='The Scientist'),\n",
       " Row(ts=1541007452000, userId='30', firstname='Colin', page='Logout', level='free', song='0'),\n",
       " Row(ts=1541007500000, userId='30', firstname='Colin', page='Home', level='free', song='0'),\n",
       " Row(ts=1541007762000, userId='30', firstname='Colin', page='NextSong', level='free', song='Rock Star'),\n",
       " Row(ts=1541008021000, userId='30', firstname='Colin', page='NextSong', level='free', song='Palm Reader'),\n",
       " Row(ts=1541008314000, userId='30', firstname='Colin', page='NextSong', level='free', song='Para Bellum'),\n",
       " Row(ts=1541008399000, userId='30', firstname='Colin', page='NextSong', level='free', song=\"Maggie's Farm\"),\n",
       " Row(ts=1541008794000, userId='30', firstname='Colin', page='NextSong', level='free', song='Four Winds'),\n",
       " Row(ts=1541008829000, userId='30', firstname='Colin', page='Roll Advert', level='free', song='0'),\n",
       " Row(ts=1541009029000, userId='30', firstname='Colin', page='NextSong', level='free', song='Fight'),\n",
       " Row(ts=1541009041000, userId='30', firstname='Colin', page='Roll Advert', level='free', song='0'),\n",
       " Row(ts=1541041139000, userId='30', firstname='Colin', page='NextSong', level='free', song='Things She Said'),\n",
       " Row(ts=1541041436000, userId='30', firstname='Colin', page='NextSong', level='free', song='Sehr kosmisch'),\n",
       " Row(ts=1541042091000, userId='30', firstname='Colin', page='NextSong', level='free', song='Sin Coro'),\n",
       " Row(ts=1541042319000, userId='30', firstname='Colin', page='NextSong', level='free', song='Not In Love'),\n",
       " Row(ts=1541042532000, userId='30', firstname='Colin', page='NextSong', level='free', song='Miserable Lie'),\n",
       " Row(ts=1541042799000, userId='30', firstname='Colin', page='NextSong', level='free', song='Scooby Snacks (Explicit)'),\n",
       " Row(ts=1541042983000, userId='30', firstname='Colin', page='NextSong', level='free', song='Him'),\n",
       " Row(ts=1541043180000, userId='30', firstname='Colin', page='NextSong', level='free', song='Diary'),\n",
       " Row(ts=1541043464000, userId='30', firstname='Colin', page='NextSong', level='free', song='Opening Up (Ce Soir On Danse)'),\n",
       " Row(ts=1541043764000, userId='30', firstname='Colin', page='NextSong', level='free', song='Guiding Light'),\n",
       " Row(ts=1541044017000, userId='30', firstname='Colin', page='NextSong', level='free', song='La Guerra'),\n",
       " Row(ts=1541044533000, userId='30', firstname='Colin', page='NextSong', level='free', song='Oh Girl'),\n",
       " Row(ts=1541044713000, userId='30', firstname='Colin', page='NextSong', level='free', song=\"Bottle Poppin' (feat. Gorilla Zoe) (Explicit Album Version)\"),\n",
       " Row(ts=1541044761000, userId='30', firstname='Colin', page='Roll Advert', level='free', song='0'),\n",
       " Row(ts=1541045012000, userId='30', firstname='Colin', page='NextSong', level='free', song='Einfeld'),\n",
       " Row(ts=1541045013000, userId='30', firstname='Colin', page='Logout', level='free', song='0'),\n",
       " Row(ts=1541045078000, userId='30', firstname='Colin', page='Home', level='free', song='0'),\n",
       " Row(ts=1541045327000, userId='30', firstname='Colin', page='NextSong', level='free', song=\"I'm With You\"),\n",
       " Row(ts=1541045342000, userId='30', firstname='Colin', page='Settings', level='free', song='0'),\n",
       " Row(ts=1541045549000, userId='30', firstname='Colin', page='NextSong', level='free', song='Machine Gun Man'),\n",
       " Row(ts=1541045846000, userId='30', firstname='Colin', page='NextSong', level='free', song='I Want It All'),\n",
       " Row(ts=1541046123000, userId='30', firstname='Colin', page='NextSong', level='free', song='Straight To The Bank'),\n",
       " Row(ts=1541046316000, userId='30', firstname='Colin', page='NextSong', level='free', song='Rock On'),\n",
       " Row(ts=1541046480000, userId='30', firstname='Colin', page='NextSong', level='free', song='This Is All I Ask (Live)'),\n",
       " Row(ts=1541047038000, userId='30', firstname='Colin', page='NextSong', level='free', song='Woman Tonight'),\n",
       " Row(ts=1541047186000, userId='30', firstname='Colin', page='NextSong', level='free', song='Dialogue'),\n",
       " Row(ts=1541047238000, userId='30', firstname='Colin', page='NextSong', level='free', song='No Child Of Mine'),\n",
       " Row(ts=1541047271000, userId='30', firstname='Colin', page='Upgrade', level='free', song='0'),\n",
       " Row(ts=1541047282000, userId='30', firstname='Colin', page='Upgrade', level='free', song='0'),\n",
       " Row(ts=1541047302000, userId='30', firstname='Colin', page='NextSong', level='free', song='This Is Not America (performed by Juliette Lewis)'),\n",
       " Row(ts=1541047303000, userId='30', firstname='Colin', page='Thumbs Up', level='free', song='0'),\n",
       " Row(ts=1541047546000, userId='30', firstname='Colin', page='NextSong', level='free', song=\"Where's Rexy?\"),\n",
       " Row(ts=1541047583000, userId='30', firstname='Colin', page='Roll Advert', level='free', song='0'),\n",
       " Row(ts=1541047594000, userId='30', firstname='Colin', page='NextSong', level='free', song='Canal Song (End Of Sentence)'),\n",
       " Row(ts=1541047860000, userId='30', firstname='Colin', page='NextSong', level='free', song=\"Witchdoctor's Curse\"),\n",
       " Row(ts=1541047894000, userId='30', firstname='Colin', page='Help', level='free', song='0'),\n",
       " Row(ts=1541047925000, userId='30', firstname='Colin', page='Home', level='free', song='0'),\n",
       " Row(ts=1541048045000, userId='30', firstname='Colin', page='NextSong', level='free', song='Something (Album Version)'),\n",
       " Row(ts=1541048245000, userId='30', firstname='Colin', page='NextSong', level='free', song='Will I See You Again'),\n",
       " Row(ts=1541048424000, userId='30', firstname='Colin', page='NextSong', level='free', song='Two Hands (Plastic Soul Impalement Album Version)'),\n",
       " Row(ts=1541048646000, userId='30', firstname='Colin', page='NextSong', level='free', song='Cut The Rope'),\n",
       " Row(ts=1541048755000, userId='30', firstname='Colin', page='NextSong', level='free', song='A Comet Appears (Album)'),\n",
       " Row(ts=1541048756000, userId='30', firstname='Colin', page='Thumbs Up', level='free', song='0'),\n",
       " Row(ts=1541048984000, userId='30', firstname='Colin', page='NextSong', level='free', song='The Power Of One'),\n",
       " Row(ts=1541048991000, userId='30', firstname='Colin', page='Roll Advert', level='free', song='0'),\n",
       " Row(ts=1541049676000, userId='30', firstname='Colin', page='NextSong', level='free', song='Being Alive'),\n",
       " Row(ts=1541049982000, userId='30', firstname='Colin', page='NextSong', level='free', song='Technologic ( Basement Jaxx Kontrol Mixx )'),\n",
       " Row(ts=1541049983000, userId='30', firstname='Colin', page='Add Friend', level='free', song='0'),\n",
       " Row(ts=1541050313000, userId='30', firstname='Colin', page='NextSong', level='free', song='Back To You'),\n",
       " Row(ts=1541050554000, userId='30', firstname='Colin', page='NextSong', level='free', song='Ironic (Acoustic Album Version)'),\n",
       " Row(ts=1541050583000, userId='30', firstname='Colin', page='Add to Playlist', level='free', song='0'),\n",
       " Row(ts=1541050790000, userId='30', firstname='Colin', page='NextSong', level='free', song='All I Ever Wanted'),\n",
       " Row(ts=1541051029000, userId='30', firstname='Colin', page='NextSong', level='free', song='Better in time'),\n",
       " Row(ts=1541051036000, userId='30', firstname='Colin', page='Roll Advert', level='free', song='0'),\n",
       " Row(ts=1541051262000, userId='30', firstname='Colin', page='NextSong', level='free', song='One Above One'),\n",
       " Row(ts=1541051483000, userId='30', firstname='Colin', page='NextSong', level='free', song='Crank That (Soulja Boy)'),\n",
       " Row(ts=1541051707000, userId='30', firstname='Colin', page='NextSong', level='free', song='Du Hast'),\n",
       " Row(ts=1541051977000, userId='30', firstname='Colin', page='NextSong', level='free', song='Confetti Smile (AO Album Version)'),\n",
       " Row(ts=1541052199000, userId='30', firstname='Colin', page='NextSong', level='free', song='Vem Pra CÃ\\x83Â¡'),\n",
       " Row(ts=1541052456000, userId='30', firstname='Colin', page='NextSong', level='free', song='True Stories'),\n",
       " Row(ts=1541052625000, userId='30', firstname='Colin', page='NextSong', level='free', song='Dr. Feelgood'),\n",
       " Row(ts=1541052908000, userId='30', firstname='Colin', page='NextSong', level='free', song='The Writer'),\n",
       " Row(ts=1541053159000, userId='30', firstname='Colin', page='NextSong', level='free', song='Ass Fucking Murder'),\n",
       " Row(ts=1541053177000, userId='30', firstname='Colin', page='Home', level='free', song='0'),\n",
       " Row(ts=1541053366000, userId='30', firstname='Colin', page='NextSong', level='free', song=\"All Tomorrow's Parties\"),\n",
       " Row(ts=1541053726000, userId='30', firstname='Colin', page='NextSong', level='free', song='Ocean Avenue'),\n",
       " Row(ts=1541053924000, userId='30', firstname='Colin', page='NextSong', level='free', song='Venus'),\n",
       " Row(ts=1541053925000, userId='30', firstname='Colin', page='Thumbs Up', level='free', song='0'),\n",
       " Row(ts=1541053945000, userId='30', firstname='Colin', page='Add to Playlist', level='free', song='0'),\n",
       " Row(ts=1541054168000, userId='30', firstname='Colin', page='NextSong', level='free', song='Learn To Fly'),\n",
       " Row(ts=1541054403000, userId='30', firstname='Colin', page='NextSong', level='free', song='Touchy! (Album Version)'),\n",
       " Row(ts=1541054680000, userId='30', firstname='Colin', page='NextSong', level='free', song='Jude Law and a Semester Abroad'),\n",
       " Row(ts=1541054900000, userId='30', firstname='Colin', page='NextSong', level='free', song='Dream On'),\n",
       " Row(ts=1541055194000, userId='30', firstname='Colin', page='NextSong', level='free', song='Half Asleep'),\n",
       " Row(ts=1541055465000, userId='30', firstname='Colin', page='NextSong', level='free', song='MatinÃ\\x83Â©e'),\n",
       " Row(ts=1541055703000, userId='30', firstname='Colin', page='NextSong', level='free', song='Mysterious Ways'),\n",
       " Row(ts=1541055952000, userId='30', firstname='Colin', page='NextSong', level='free', song='Peaceful'),\n",
       " Row(ts=1541056124000, userId='30', firstname='Colin', page='NextSong', level='free', song='Otherside (Album Version)'),\n",
       " Row(ts=1541056379000, userId='30', firstname='Colin', page='NextSong', level='free', song='Bad Little Woman (LP Version)'),\n",
       " Row(ts=1541169777000, userId='30', firstname='Colin', page='NextSong', level='free', song='Superman'),\n",
       " Row(ts=1541170127000, userId='30', firstname='Colin', page='NextSong', level='free', song='Intro 2/ Kick Out The Jams (LP Version)'),\n",
       " Row(ts=1541170299000, userId='30', firstname='Colin', page='NextSong', level='free', song='Dance Flow'),\n",
       " Row(ts=1541170756000, userId='30', firstname='Colin', page='NextSong', level='free', song='Hey Now Now'),\n",
       " Row(ts=1541170966000, userId='30', firstname='Colin', page='NextSong', level='free', song='Save The Last Dance For Me [Ralphi Rosario Anthomic Vocal]'),\n",
       " Row(ts=1541170967000, userId='30', firstname='Colin', page='Thumbs Up', level='free', song='0'),\n",
       " Row(ts=1541171542000, userId='30', firstname='Colin', page='NextSong', level='free', song='MÃ\\x83Â¡s Papaya'),\n",
       " Row(ts=1541171756000, userId='30', firstname='Colin', page='NextSong', level='free', song='Dialogue Box'),\n",
       " Row(ts=1541171990000, userId='30', firstname='Colin', page='NextSong', level='free', song='The Ex'),\n",
       " Row(ts=1541172150000, userId='30', firstname='Colin', page='NextSong', level='free', song='Crack Under Pressure'),\n",
       " Row(ts=1541172208000, userId='30', firstname='Colin', page='Add to Playlist', level='free', song='0'),\n",
       " Row(ts=1541172353000, userId='30', firstname='Colin', page='NextSong', level='free', song='Odessa'),\n",
       " Row(ts=1541172668000, userId='30', firstname='Colin', page='NextSong', level='free', song='Addicted'),\n",
       " Row(ts=1541172833000, userId='30', firstname='Colin', page='NextSong', level='free', song='DVNO'),\n",
       " Row(ts=1541173069000, userId='30', firstname='Colin', page='NextSong', level='free', song='Bad Luck'),\n",
       " Row(ts=1541173240000, userId='30', firstname='Colin', page='NextSong', level='free', song=\"Rupi's Dance\"),\n",
       " Row(ts=1541173242000, userId='30', firstname='Colin', page='Home', level='free', song='0'),\n",
       " Row(ts=1541173420000, userId='30', firstname='Colin', page='NextSong', level='free', song='Horn Concerto No. 4 in E flat K495: II. Romance (Andante cantabile)'),\n",
       " Row(ts=1541173697000, userId='30', firstname='Colin', page='NextSong', level='free', song='Safety Dance'),\n",
       " Row(ts=1541173861000, userId='30', firstname='Colin', page='NextSong', level='free', song=\"Build God_ Then We'll Talk (Album Version)\"),\n",
       " Row(ts=1541174081000, userId='30', firstname='Colin', page='NextSong', level='free', song='ReprÃ\\x83Â©sente'),\n",
       " Row(ts=1541174333000, userId='30', firstname='Colin', page='NextSong', level='free', song=\"I CAN'T GET STARTED\"),\n",
       " Row(ts=1541174830000, userId='30', firstname='Colin', page='NextSong', level='free', song='What A Wonderful World'),\n",
       " Row(ts=1541175011000, userId='30', firstname='Colin', page='NextSong', level='free', song='Not Like That (Album Version)'),\n",
       " Row(ts=1541175192000, userId='30', firstname='Colin', page='NextSong', level='free', song='So far so long'),\n",
       " Row(ts=1541175365000, userId='30', firstname='Colin', page='NextSong', level='free', song='En El Septimo Dia'),\n",
       " Row(ts=1541175660000, userId='30', firstname='Colin', page='NextSong', level='free', song='Let Down'),\n",
       " Row(ts=1541175958000, userId='30', firstname='Colin', page='NextSong', level='free', song='Pon De Floor'),\n",
       " Row(ts=1541175995000, userId='30', firstname='Colin', page='Upgrade', level='free', song='0'),\n",
       " Row(ts=1541176143000, userId='30', firstname='Colin', page='NextSong', level='free', song='Hotel'),\n",
       " Row(ts=1541176145000, userId='30', firstname='Colin', page='Roll Advert', level='free', song='0'),\n",
       " Row(ts=1541202975000, userId='30', firstname='Colin', page='NextSong', level='free', song='Gestern_Morgen'),\n",
       " Row(ts=1541203331000, userId='30', firstname='Colin', page='NextSong', level='free', song='Show'),\n",
       " Row(ts=1541203597000, userId='30', firstname='Colin', page='NextSong', level='free', song='Jasey Rae'),\n",
       " Row(ts=1541203674000, userId='30', firstname='Colin', page='Home', level='free', song='0'),\n",
       " Row(ts=1541203675000, userId='30', firstname='Colin', page='Add Friend', level='free', song='0'),\n",
       " Row(ts=1541203676000, userId='30', firstname='Colin', page='Add Friend', level='free', song='0'),\n",
       " Row(ts=1541203814000, userId='30', firstname='Colin', page='NextSong', level='free', song='Sooner or Later'),\n",
       " Row(ts=1541204215000, userId='30', firstname='Colin', page='NextSong', level='free', song='Good Soldier'),\n",
       " Row(ts=1541204243000, userId='30', firstname='Colin', page='Home', level='free', song='0'),\n",
       " Row(ts=1541204461000, userId='30', firstname='Colin', page='NextSong', level='free', song='Soul Suckers'),\n",
       " Row(ts=1541204491000, userId='30', firstname='Colin', page='Add to Playlist', level='free', song='0'),\n",
       " Row(ts=1541204630000, userId='30', firstname='Colin', page='NextSong', level='free', song='Seed (Album Version)'),\n",
       " Row(ts=1541204887000, userId='30', firstname='Colin', page='NextSong', level='free', song=\"Day 'N' Nite\"),\n",
       " Row(ts=1541205049000, userId='30', firstname='Colin', page='NextSong', level='free', song='Climbing A Hill'),\n",
       " Row(ts=1541205064000, userId='30', firstname='Colin', page='Home', level='free', song='0'),\n",
       " Row(ts=1541205714000, userId='30', firstname='Colin', page='NextSong', level='free', song='Ode To My Family'),\n",
       " Row(ts=1541205986000, userId='30', firstname='Colin', page='NextSong', level='free', song='Live And Let Die'),\n",
       " Row(ts=1541206170000, userId='30', firstname='Colin', page='NextSong', level='free', song=\"Livin' On A Prayer\"),\n",
       " Row(ts=1541206420000, userId='30', firstname='Colin', page='NextSong', level='free', song='Good Morning Little School Girl'),\n",
       " Row(ts=1541206582000, userId='30', firstname='Colin', page='NextSong', level='free', song=\"Stayin' Alive\"),\n",
       " Row(ts=1541206820000, userId='30', firstname='Colin', page='NextSong', level='free', song='Two As One'),\n",
       " Row(ts=1541206821000, userId='30', firstname='Colin', page='Add Friend', level='free', song='0'),\n",
       " Row(ts=1541207020000, userId='30', firstname='Colin', page='NextSong', level='free', song='Big Uncle Ugliness'),\n",
       " Row(ts=1541207264000, userId='30', firstname='Colin', page='NextSong', level='free', song='Prelude'),\n",
       " Row(ts=1541207282000, userId='30', firstname='Colin', page='Upgrade', level='free', song='0'),\n",
       " Row(ts=1541207434000, userId='30', firstname='Colin', page='NextSong', level='free', song='Transparency'),\n",
       " Row(ts=1541207446000, userId='30', firstname='Colin', page='Roll Advert', level='free', song='0'),\n",
       " Row(ts=1541207582000, userId='30', firstname='Colin', page='NextSong', level='free', song='Behind Closed Doors'),\n",
       " Row(ts=1541207777000, userId='30', firstname='Colin', page='NextSong', level='free', song='Sample Track 2'),\n",
       " Row(ts=1541207783000, userId='30', firstname='Colin', page='Roll Advert', level='free', song='0'),\n",
       " Row(ts=1541207972000, userId='30', firstname='Colin', page='NextSong', level='free', song='La Lluvia Gris'),\n",
       " Row(ts=1541208235000, userId='30', firstname='Colin', page='NextSong', level='free', song='Stream'),\n",
       " Row(ts=1541208236000, userId='30', firstname='Colin', page='Logout', level='free', song='0'),\n",
       " Row(ts=1541208254000, userId='30', firstname='Colin', page='Home', level='free', song='0'),\n",
       " Row(ts=1541208424000, userId='30', firstname='Colin', page='NextSong', level='free', song='Three Simple Words'),\n",
       " Row(ts=1541208702000, userId='30', firstname='Colin', page='NextSong', level='free', song='Fortunate Son (Live)'),\n",
       " Row(ts=1541208905000, userId='30', firstname='Colin', page='NextSong', level='free', song='Yeah!'),\n",
       " Row(ts=1541209155000, userId='30', firstname='Colin', page='NextSong', level='free', song='Mamma'),\n",
       " Row(ts=1541209406000, userId='30', firstname='Colin', page='NextSong', level='free', song='Venice Industry'),\n",
       " Row(ts=1541209595000, userId='30', firstname='Colin', page='NextSong', level='free', song='Nah!'),\n",
       " Row(ts=1541209596000, userId='30', firstname='Colin', page='Thumbs Down', level='free', song='0'),\n",
       " Row(ts=1541209845000, userId='30', firstname='Colin', page='NextSong', level='free', song='ReprÃ\\x83Â©sente'),\n",
       " Row(ts=1541210097000, userId='30', firstname='Colin', page='NextSong', level='free', song='Jiguen'),\n",
       " Row(ts=1541210383000, userId='30', firstname='Colin', page='NextSong', level='free', song='Ba Ba'),\n",
       " Row(ts=1541210754000, userId='30', firstname='Colin', page='NextSong', level='free', song='Superballs'),\n",
       " Row(ts=1541210946000, userId='30', firstname='Colin', page='NextSong', level='free', song='Horn Concerto No. 4 in E flat K495: II. Romance (Andante cantabile)'),\n",
       " Row(ts=1541210954000, userId='30', firstname='Colin', page='Add to Playlist', level='free', song='0'),\n",
       " Row(ts=1541211223000, userId='30', firstname='Colin', page='NextSong', level='free', song=\"You're The One\"),\n",
       " Row(ts=1541211462000, userId='30', firstname='Colin', page='NextSong', level='free', song='Heartbeats'),\n",
       " Row(ts=1541211620000, userId='30', firstname='Colin', page='NextSong', level='free', song='Otherside (Album Version)'),\n",
       " Row(ts=1541211875000, userId='30', firstname='Colin', page='NextSong', level='free', song='Rio'),\n",
       " Row(ts=1541211879000, userId='30', firstname='Colin', page='Roll Advert', level='free', song='0'),\n",
       " Row(ts=1541212208000, userId='30', firstname='Colin', page='NextSong', level='free', song='Plush (LP Version)'),\n",
       " Row(ts=1541212518000, userId='30', firstname='Colin', page='NextSong', level='free', song='First Of The Gang'),\n",
       " Row(ts=1541212754000, userId='30', firstname='Colin', page='NextSong', level='free', song='Me And Armini'),\n",
       " Row(ts=1541213011000, userId='30', firstname='Colin', page='NextSong', level='free', song='Traveller'),\n",
       " Row(ts=1541213687000, userId='30', firstname='Colin', page='NextSong', level='free', song='Sweet Carrie'),\n",
       " Row(ts=1541213688000, userId='30', firstname='Colin', page='Thumbs Up', level='free', song='0'),\n",
       " Row(ts=1541213973000, userId='30', firstname='Colin', page='NextSong', level='free', song='Sick_ Sick_ Sick'),\n",
       " Row(ts=1541214187000, userId='30', firstname='Colin', page='NextSong', level='free', song='The Blast'),\n",
       " Row(ts=1541214411000, userId='30', firstname='Colin', page='NextSong', level='free', song='Beautiful Stranger'),\n",
       " Row(ts=1541214671000, userId='30', firstname='Colin', page='NextSong', level='free', song='No Milk Today'),\n",
       " Row(ts=1541214857000, userId='30', firstname='Colin', page='NextSong', level='free', song='Repression Song'),\n",
       " Row(ts=1541215028000, userId='30', firstname='Colin', page='NextSong', level='free', song='Non E_ Per Te_ Per Me'),\n",
       " Row(ts=1541215258000, userId='30', firstname='Colin', page='NextSong', level='free', song=\"What's The Difference\"),\n",
       " Row(ts=1541215502000, userId='30', firstname='Colin', page='NextSong', level='free', song='Restless'),\n",
       " Row(ts=1541215673000, userId='30', firstname='Colin', page='NextSong', level='free', song='Horn Concerto No. 4 in E flat K495: II. Romance (Andante cantabile)'),\n",
       " Row(ts=1541215950000, userId='30', firstname='Colin', page='NextSong', level='free', song='Teardrop'),\n",
       " Row(ts=1541216279000, userId='30', firstname='Colin', page='NextSong', level='free', song='Seven'),\n",
       " Row(ts=1541216637000, userId='30', firstname='Colin', page='NextSong', level='free', song='Gone In The Morning'),\n",
       " Row(ts=1541216778000, userId='30', firstname='Colin', page='NextSong', level='free', song='Baby_ This Love I Have'),\n",
       " Row(ts=1541217028000, userId='30', firstname='Colin', page='NextSong', level='free', song='Me Da Miedo'),\n",
       " Row(ts=1541217193000, userId='30', firstname='Colin', page='NextSong', level='free', song='I Can See Clearly Now'),\n",
       " Row(ts=1541217381000, userId='30', firstname='Colin', page='NextSong', level='free', song='Nemo'),\n",
       " Row(ts=1541217646000, userId='30', firstname='Colin', page='NextSong', level='free', song='Choctaw Hayride'),\n",
       " Row(ts=1541217836000, userId='30', firstname='Colin', page='NextSong', level='free', song='The Real Slim Shady'),\n",
       " Row(ts=1541218120000, userId='30', firstname='Colin', page='NextSong', level='free', song='Silence'),\n",
       " Row(ts=1541218614000, userId='30', firstname='Colin', page='NextSong', level='free', song='Snake'),\n",
       " Row(ts=1541218617000, userId='30', firstname='Colin', page='About', level='free', song='0'),\n",
       " Row(ts=1541218903000, userId='30', firstname='Colin', page='NextSong', level='free', song='Your Hand In Mine'),\n",
       " Row(ts=1541218904000, userId='30', firstname='Colin', page='Logout', level='free', song='0'),\n",
       " Row(ts=1541218934000, userId='30', firstname='Colin', page='Home', level='free', song='0'),\n",
       " Row(ts=1541219400000, userId='30', firstname='Colin', page='NextSong', level='free', song='Marry Me'),\n",
       " Row(ts=1541219401000, userId='30', firstname='Colin', page='Thumbs Up', level='free', song='0'),\n",
       " Row(ts=1541219605000, userId='30', firstname='Colin', page='NextSong', level='free', song='Undo'),\n",
       " Row(ts=1541219622000, userId='30', firstname='Colin', page='Upgrade', level='free', song='0'),\n",
       " Row(ts=1541219953000, userId='30', firstname='Colin', page='NextSong', level='free', song='Use Somebody'),\n",
       " Row(ts=1541220184000, userId='30', firstname='Colin', page='NextSong', level='free', song=\"Can't You See\"),\n",
       " Row(ts=1541220546000, userId='30', firstname='Colin', page='NextSong', level='free', song='Skinny Love'),\n",
       " Row(ts=1541220784000, userId='30', firstname='Colin', page='NextSong', level='free', song='All We Ever Do Is Say Goodbye'),\n",
       " Row(ts=1541221059000, userId='30', firstname='Colin', page='NextSong', level='free', song='Amanecer'),\n",
       " Row(ts=1541221060000, userId='30', firstname='Colin', page='Roll Advert', level='free', song='0'),\n",
       " Row(ts=1541221287000, userId='30', firstname='Colin', page='NextSong', level='free', song='Starry Night'),\n",
       " Row(ts=1541221485000, userId='30', firstname='Colin', page='NextSong', level='free', song='Unwell (Album Version)'),\n",
       " Row(ts=1541221714000, userId='30', firstname='Colin', page='NextSong', level='free', song='West One (Shine On Me)'),\n",
       " Row(ts=1541221734000, userId='30', firstname='Colin', page='Roll Advert', level='free', song='0'),\n",
       " Row(ts=1541222052000, userId='30', firstname='Colin', page='NextSong', level='free', song='Ironic (Acoustic Album Version)'),\n",
       " Row(ts=1541314757000, userId='30', firstname='Colin', page='NextSong', level='free', song=\"You've Got The Love\"),\n",
       " Row(ts=1541314766000, userId='30', firstname='Colin', page='Roll Advert', level='free', song='0'),\n",
       " Row(ts=1541314925000, userId='30', firstname='Colin', page='NextSong', level='free', song='Innocence'),\n",
       " Row(ts=1541315241000, userId='30', firstname='Colin', page='NextSong', level='free', song='Las flores'),\n",
       " Row(ts=1541315376000, userId='30', firstname='Colin', page='NextSong', level='free', song='Longhaired Redneck'),\n",
       " Row(ts=1541315407000, userId='30', firstname='Colin', page='Home', level='free', song='0'),\n",
       " Row(ts=1541315579000, userId='30', firstname='Colin', page='NextSong', level='free', song=\"Don't Come Around Here No More\"),\n",
       " Row(ts=1541315886000, userId='30', firstname='Colin', page='NextSong', level='free', song='Love Story'),\n",
       " Row(ts=1541315897000, userId='30', firstname='Colin', page='Roll Advert', level='free', song='0'),\n",
       " Row(ts=1541316119000, userId='30', firstname='Colin', page='NextSong', level='free', song='The Message'),\n",
       " Row(ts=1541316548000, userId='30', firstname='Colin', page='NextSong', level='free', song='Beautiful Stranger'),\n",
       " Row(ts=1541316808000, userId='30', firstname='Colin', page='NextSong', level='free', song='White Noise'),\n",
       " Row(ts=1541317039000, userId='30', firstname='Colin', page='NextSong', level='free', song='Home'),\n",
       " Row(ts=1541317323000, userId='30', firstname='Colin', page='NextSong', level='free', song='Cry Baby'),\n",
       " Row(ts=1541317677000, userId='30', firstname='Colin', page='NextSong', level='free', song='Vals fÃ\\x83Â¶r satan (din vÃ\\x83Â¤n pessimisten)'),\n",
       " Row(ts=1541318084000, userId='30', firstname='Colin', page='NextSong', level='free', song='If She Wants Me'),\n",
       " Row(ts=1541318389000, userId='30', firstname='Colin', page='NextSong', level='free', song='Behind The Sea [Live In Chicago]'),\n",
       " Row(ts=1541318648000, userId='30', firstname='Colin', page='NextSong', level='free', song='Complex Person'),\n",
       " Row(ts=1541318815000, userId='30', firstname='Colin', page='NextSong', level='free', song='Better'),\n",
       " Row(ts=1541319005000, userId='30', firstname='Colin', page='NextSong', level='free', song='Hallelujah (Album Version)'),\n",
       " Row(ts=1541319208000, userId='30', firstname='Colin', page='NextSong', level='free', song='You Girl'),\n",
       " Row(ts=1541319435000, userId='30', firstname='Colin', page='NextSong', level='free', song='No BalanÃ\\x83Â§o Da Canoa'),\n",
       " Row(ts=1541319443000, userId='30', firstname='Colin', page='Add to Playlist', level='free', song='0'),\n",
       " Row(ts=1541319612000, userId='30', firstname='Colin', page='NextSong', level='free', song='The Drive System (Demo)'),\n",
       " Row(ts=1541319779000, userId='30', firstname='Colin', page='NextSong', level='free', song='Kick It Up'),\n",
       " Row(ts=1541320077000, userId='30', firstname='Colin', page='NextSong', level='free', song='Bombtrack'),\n",
       " Row(ts=1541320092000, userId='30', firstname='Colin', page='Home', level='free', song='0'),\n",
       " Row(ts=1541320093000, userId='30', firstname='Colin', page='Add Friend', level='free', song='0'),\n",
       " Row(ts=1541320322000, userId='30', firstname='Colin', page='NextSong', level='free', song=\"I'm With You\"),\n",
       " Row(ts=1541320323000, userId='30', firstname='Colin', page='Thumbs Up', level='free', song='0'),\n",
       " Row(ts=1541320544000, userId='30', firstname='Colin', page='NextSong', level='free', song='Pills'),\n",
       " Row(ts=1541320800000, userId='30', firstname='Colin', page='NextSong', level='free', song='The Seed (2.0)'),\n",
       " Row(ts=1541321067000, userId='30', firstname='Colin', page='NextSong', level='free', song='The Count (aka HervÃ\\x83Â©) And Lily Face The Fear'),\n",
       " Row(ts=1541321068000, userId='30', firstname='Colin', page='Thumbs Up', level='free', song='0'),\n",
       " Row(ts=1541321328000, userId='30', firstname='Colin', page='NextSong', level='free', song=\"Don't Dream It's Over\"),\n",
       " Row(ts=1541421195000, userId='30', firstname='Colin', page='NextSong', level='free', song='The Alliance Of Hellhoundz'),\n",
       " Row(ts=1541421514000, userId='30', firstname='Colin', page='NextSong', level='free', song='What If I Stumble?'),\n",
       " Row(ts=1541421819000, userId='30', firstname='Colin', page='NextSong', level='free', song=\"I'll Be There For You\"),\n",
       " Row(ts=1541422008000, userId='30', firstname='Colin', page='NextSong', level='free', song='Somebody To Love'),\n",
       " Row(ts=1541422228000, userId='30', firstname='Colin', page='NextSong', level='free', song='Use Somebody'),\n",
       " Row(ts=1541422459000, userId='30', firstname='Colin', page='NextSong', level='free', song='Too Much To Ask'),\n",
       " Row(ts=1541422511000, userId='30', firstname='Colin', page='Add to Playlist', level='free', song='0'),\n",
       " Row(ts=1541422684000, userId='30', firstname='Colin', page='NextSong', level='free', song='Gears'),\n",
       " Row(ts=1541422923000, userId='30', firstname='Colin', page='NextSong', level='free', song='Dog Days Are Over (Radio Edit)'),\n",
       " Row(ts=1541423142000, userId='30', firstname='Colin', page='NextSong', level='free', song=\"Dreamin'\"),\n",
       " Row(ts=1541423315000, userId='30', firstname='Colin', page='NextSong', level='free', song='Inside The Fire (Album Version)'),\n",
       " Row(ts=1541423324000, userId='30', firstname='Colin', page='Roll Advert', level='free', song='0'),\n",
       " Row(ts=1541423328000, userId='30', firstname='Colin', page='Roll Advert', level='free', song='0'),\n",
       " Row(ts=1541423546000, userId='30', firstname='Colin', page='NextSong', level='free', song='Fakty'),\n",
       " Row(ts=1541423670000, userId='30', firstname='Colin', page='NextSong', level='free', song='Jambalaya'),\n",
       " Row(ts=1541423709000, userId='30', firstname='Colin', page='Upgrade', level='free', song='0'),\n",
       " Row(ts=1541423891000, userId='30', firstname='Colin', page='NextSong', level='free', song='The Shadowlands'),\n",
       " Row(ts=1541423892000, userId='30', firstname='Colin', page='Logout', level='free', song='0'),\n",
       " Row(ts=1541423920000, userId='30', firstname='Colin', page='Home', level='free', song='0'),\n",
       " Row(ts=1541424209000, userId='30', firstname='Colin', page='NextSong', level='free', song='The Invisible Man'),\n",
       " Row(ts=1541424510000, userId='30', firstname='Colin', page='NextSong', level='free', song='Firecracker'),\n",
       " Row(ts=1541424718000, userId='30', firstname='Colin', page='NextSong', level='free', song='Bleed It Out [Live At Milton Keynes]'),\n",
       " Row(ts=1541425212000, userId='30', firstname='Colin', page='NextSong', level='free', song='Miralo'),\n",
       " Row(ts=1541425403000, userId='30', firstname='Colin', page='NextSong', level='free', song='ReprÃ\\x83Â©sente'),\n",
       " Row(ts=1541425655000, userId='30', firstname='Colin', page='NextSong', level='free', song='Silencio'),\n",
       " Row(ts=1541425700000, userId='30', firstname='Colin', page='Roll Advert', level='free', song='0'),\n",
       " Row(ts=1541425944000, userId='30', firstname='Colin', page='NextSong', level='free', song='Momma Cried'),\n",
       " Row(ts=1541425989000, userId='30', firstname='Colin', page='Roll Advert', level='free', song='0'),\n",
       " Row(ts=1541430348000, userId='30', firstname='Colin', page='NextSong', level='free', song='La Vida Es Un Ratico'),\n",
       " Row(ts=1541430349000, userId='30', firstname='Colin', page='Thumbs Down', level='free', song='0'),\n",
       " Row(ts=1541430591000, userId='30', firstname='Colin', page='NextSong', level='free', song='Cape Cod Kwassa Kwassa (Album)'),\n",
       " Row(ts=1541430805000, userId='30', firstname='Colin', page='NextSong', level='free', song='Write You A Song'),\n",
       " Row(ts=1541431046000, userId='30', firstname='Colin', page='NextSong', level='free', song='Elijah'),\n",
       " Row(ts=1541431190000, userId='30', firstname='Colin', page='NextSong', level='free', song='Fireflies'),\n",
       " Row(ts=1541431191000, userId='30', firstname='Colin', page='Thumbs Up', level='free', song='0'),\n",
       " Row(ts=1541431415000, userId='30', firstname='Colin', page='NextSong', level='free', song=\"You Don't Have Far To Go\"),\n",
       " Row(ts=1541442785000, userId='30', firstname='Colin', page='NextSong', level='free', song='One by One'),\n",
       " Row(ts=1541442990000, userId='30', firstname='Colin', page='NextSong', level='free', song='Wasted'),\n",
       " Row(ts=1541443162000, userId='30', firstname='Colin', page='NextSong', level='free', song='Me Voy'),\n",
       " Row(ts=1541443425000, userId='30', firstname='Colin', page='NextSong', level='free', song='Dear God (Album Version)'),\n",
       " Row(ts=1541443818000, userId='30', firstname='Colin', page='NextSong', level='free', song='Die Hard'),\n",
       " Row(ts=1541443819000, userId='30', firstname='Colin', page='Thumbs Up', level='free', song='0'),\n",
       " Row(ts=1541443875000, userId='30', firstname='Colin', page='NextSong', level='free', song='When The Stars Go Blue (Featuring Bono) (Disclab Remix)'),\n",
       " Row(ts=1541444113000, userId='30', firstname='Colin', page='NextSong', level='free', song='What Can I Give You This Christmas?'),\n",
       " ...]"
      ]
     },
     "execution_count": 52,
     "metadata": {},
     "output_type": "execute_result"
    }
   ],
   "source": [
    "#We will view one user (userid=30, Colin) to see what their experience using the 'Downgrade' page\n",
    "user_log.select(['ts',\"userId\", \"firstname\", \"page\",\n",
    "                 \"level\", \"song\"]).where(user_log.userId == \"30\").orderBy(\"ts\").collect()"
   ]
  },
  {
   "cell_type": "code",
   "execution_count": 53,
   "metadata": {},
   "outputs": [
    {
     "data": {
      "text/plain": [
       "63"
      ]
     },
     "execution_count": 53,
     "metadata": {},
     "output_type": "execute_result"
    }
   ],
   "source": [
    "#Find total users that hit the 'cancelled' confirmation page\n",
    "user_log.select(interest_columns).where(user_log.page == 'Submit Downgrade').count()"
   ]
  },
  {
   "cell_type": "code",
   "execution_count": 54,
   "metadata": {},
   "outputs": [
    {
     "name": "stdout",
     "output_type": "stream",
     "text": [
      "+-------------+------+---------+----------------+----+\n",
      "|           ts|userId|firstname|            page|song|\n",
      "+-------------+------+---------+----------------+----+\n",
      "|1542989412000|100016|   Landon|Submit Downgrade|   0|\n",
      "|1538753821000|200023|  Katiana|Submit Downgrade|   0|\n",
      "|1539330539000|200025|    Elias|Submit Downgrade|   0|\n",
      "|1538995454000|    30|    Colin|Submit Downgrade|   0|\n",
      "|1542290890000|   140|   Lucero|Submit Downgrade|   0|\n",
      "|1541541339000|200023|  Katiana|Submit Downgrade|   0|\n",
      "|1539239742000|    11|      Zoe|Submit Downgrade|   0|\n",
      "|1540235073000|    74|  Ashlynn|Submit Downgrade|   0|\n",
      "|1540738746000|    24|  Garrett|Submit Downgrade|   0|\n",
      "|1542419388000|    39|   Payton|Submit Downgrade|   0|\n",
      "|1540567296000|200020|   Keegan|Submit Downgrade|   0|\n",
      "|1540236417000|300002|   Lindyn|Submit Downgrade|   0|\n",
      "|1542091077000|    49| Christan|Submit Downgrade|   0|\n",
      "|1538516445000|    38|   Calvin|Submit Downgrade|   0|\n",
      "|1539106390000|100018|   Jayden|Submit Downgrade|   0|\n",
      "|1542671497000|   131|     Kael|Submit Downgrade|   0|\n",
      "|1541523845000|   140|   Lucero|Submit Downgrade|   0|\n",
      "|1542224966000|300004|   Peyton|Submit Downgrade|   0|\n",
      "|1541619996000|    35|     Lily|Submit Downgrade|   0|\n",
      "|1540126703000|100009|     Troy|Submit Downgrade|   0|\n",
      "+-------------+------+---------+----------------+----+\n",
      "only showing top 20 rows\n",
      "\n"
     ]
    }
   ],
   "source": [
    "#Lets look at some of these users records\n",
    "user_log.select(interest_columns).where(user_log.page == 'Submit Downgrade').show()"
   ]
  },
  {
   "cell_type": "code",
   "execution_count": 55,
   "metadata": {},
   "outputs": [
    {
     "data": {
      "text/plain": [
       "[Row(ts=1538445366000, userId='61', firstname='Parker', page='Home', level='free', song='0'),\n",
       " Row(ts=1538446343000, userId='61', firstname='Parker', page='NextSong', level='free', song='Point And Shoot (Explicit Album Version)'),\n",
       " Row(ts=1538446593000, userId='61', firstname='Parker', page='NextSong', level='free', song='When A Man Loves A Woman'),\n",
       " Row(ts=1538446766000, userId='61', firstname='Parker', page='NextSong', level='free', song='Ungod'),\n",
       " Row(ts=1538447229000, userId='61', firstname='Parker', page='NextSong', level='free', song='Matricide'),\n",
       " Row(ts=1538447549000, userId='61', firstname='Parker', page='NextSong', level='free', song='Simple'),\n",
       " Row(ts=1538447555000, userId='61', firstname='Parker', page='Roll Advert', level='free', song='0'),\n",
       " Row(ts=1538447903000, userId='61', firstname='Parker', page='NextSong', level='free', song='Close (To The Edit)'),\n",
       " Row(ts=1538447904000, userId='61', firstname='Parker', page='Thumbs Up', level='free', song='0'),\n",
       " Row(ts=1538448231000, userId='61', firstname='Parker', page='NextSong', level='free', song='The Warm Up'),\n",
       " Row(ts=1538448364000, userId='61', firstname='Parker', page='NextSong', level='free', song='Vivir_ Amar_ SoÃ\\x83Â±ar'),\n",
       " Row(ts=1538448538000, userId='61', firstname='Parker', page='NextSong', level='free', song='Ridiculous [feat. Gucci Mane_ Yo Gotti_ Lonnie Mac & OJ Da Juiceman ] (Explicit Album Version)'),\n",
       " Row(ts=1538448918000, userId='61', firstname='Parker', page='NextSong', level='free', song=\"I CAN'T GET STARTED\"),\n",
       " Row(ts=1538449008000, userId='61', firstname='Parker', page='Home', level='free', song='0'),\n",
       " Row(ts=1538449415000, userId='61', firstname='Parker', page='NextSong', level='free', song='Get Me Bodied'),\n",
       " Row(ts=1538449416000, userId='61', firstname='Parker', page='Thumbs Up', level='free', song='0'),\n",
       " Row(ts=1538449774000, userId='61', firstname='Parker', page='NextSong', level='free', song='Fog. Vs. Mould For The Next Of Love'),\n",
       " Row(ts=1538450313000, userId='61', firstname='Parker', page='Roll Advert', level='free', song='0'),\n",
       " Row(ts=1538450994000, userId='61', firstname='Parker', page='NextSong', level='free', song=\"I'm Already There\"),\n",
       " Row(ts=1538451247000, userId='61', firstname='Parker', page='NextSong', level='free', song='Luvstruck'),\n",
       " Row(ts=1538451516000, userId='61', firstname='Parker', page='NextSong', level='free', song='When You Were Young'),\n",
       " Row(ts=1538451736000, userId='61', firstname='Parker', page='NextSong', level='free', song='Your Woman'),\n",
       " Row(ts=1538451993000, userId='61', firstname='Parker', page='NextSong', level='free', song='Estilo Do Grueto'),\n",
       " Row(ts=1538452134000, userId='61', firstname='Parker', page='NextSong', level='free', song='Numb (Album Version)'),\n",
       " Row(ts=1538452135000, userId='61', firstname='Parker', page='Add Friend', level='free', song='0'),\n",
       " Row(ts=1538452136000, userId='61', firstname='Parker', page='Add Friend', level='free', song='0'),\n",
       " Row(ts=1538452137000, userId='61', firstname='Parker', page='Add Friend', level='free', song='0'),\n",
       " Row(ts=1538452358000, userId='61', firstname='Parker', page='NextSong', level='free', song='Seven Nation Army'),\n",
       " Row(ts=1538452590000, userId='61', firstname='Parker', page='NextSong', level='free', song='Situations (from Out of Vogue EP)'),\n",
       " Row(ts=1538452694000, userId='61', firstname='Parker', page='NextSong', level='free', song='Undo'),\n",
       " Row(ts=1538453042000, userId='61', firstname='Parker', page='NextSong', level='free', song='Cocinando Suave'),\n",
       " Row(ts=1538453402000, userId='61', firstname='Parker', page='NextSong', level='free', song='(They Long To Be) Close To You'),\n",
       " Row(ts=1538453678000, userId='61', firstname='Parker', page='NextSong', level='free', song='221'),\n",
       " Row(ts=1538453908000, userId='61', firstname='Parker', page='NextSong', level='free', song='Hallelujah'),\n",
       " Row(ts=1538454269000, userId='61', firstname='Parker', page='NextSong', level='free', song='On The Road Again (Pigna People Remix)'),\n",
       " Row(ts=1538454621000, userId='61', firstname='Parker', page='NextSong', level='free', song='My Saro Jane'),\n",
       " Row(ts=1538454871000, userId='61', firstname='Parker', page='Roll Advert', level='free', song='0'),\n",
       " Row(ts=1538455107000, userId='61', firstname='Parker', page='NextSong', level='free', song='Man In The Box'),\n",
       " Row(ts=1538455396000, userId='61', firstname='Parker', page='NextSong', level='free', song='Bubble Toes'),\n",
       " Row(ts=1538455632000, userId='61', firstname='Parker', page='NextSong', level='free', song='Migration'),\n",
       " Row(ts=1538456074000, userId='61', firstname='Parker', page='NextSong', level='free', song=\"You're The One\"),\n",
       " Row(ts=1538456313000, userId='61', firstname='Parker', page='NextSong', level='free', song='Make Her Say'),\n",
       " Row(ts=1538456550000, userId='61', firstname='Parker', page='NextSong', level='free', song='Girl In The Slayer Jacket'),\n",
       " Row(ts=1538456756000, userId='61', firstname='Parker', page='NextSong', level='free', song='Emergency (Album Version)'),\n",
       " Row(ts=1538456999000, userId='61', firstname='Parker', page='NextSong', level='free', song='There Is More to Life Than This'),\n",
       " Row(ts=1538457200000, userId='61', firstname='Parker', page='NextSong', level='free', song='Meet Virginia'),\n",
       " Row(ts=1538457439000, userId='61', firstname='Parker', page='NextSong', level='free', song='Yaari Jan to Pyari'),\n",
       " Row(ts=1538457732000, userId='61', firstname='Parker', page='NextSong', level='free', song='We Are All On Drugs'),\n",
       " Row(ts=1538457946000, userId='61', firstname='Parker', page='NextSong', level='free', song='Alejandro'),\n",
       " Row(ts=1538458220000, userId='61', firstname='Parker', page='NextSong', level='free', song='Clocks'),\n",
       " Row(ts=1538458527000, userId='61', firstname='Parker', page='NextSong', level='free', song='Intruder Alert (feat. Sarah Green) (Explicit Album Version)'),\n",
       " Row(ts=1538458767000, userId='61', firstname='Parker', page='NextSong', level='free', song=\"Fallin' Apart\"),\n",
       " Row(ts=1538458973000, userId='61', firstname='Parker', page='NextSong', level='free', song='Hey_ Soul Sister'),\n",
       " Row(ts=1538459189000, userId='61', firstname='Parker', page='NextSong', level='free', song='Mafia Style'),\n",
       " Row(ts=1538459463000, userId='61', firstname='Parker', page='NextSong', level='free', song=\"Mama_ I'm Alright\"),\n",
       " Row(ts=1538459620000, userId='61', firstname='Parker', page='Home', level='free', song='0'),\n",
       " Row(ts=1538459710000, userId='61', firstname='Parker', page='NextSong', level='free', song='Dirt Road Anthem (feat. Brantley Gilbert)'),\n",
       " Row(ts=1538459932000, userId='61', firstname='Parker', page='NextSong', level='free', song='A House Is Not A Motel'),\n",
       " Row(ts=1538460178000, userId='61', firstname='Parker', page='NextSong', level='free', song='Revelry'),\n",
       " Row(ts=1538460379000, userId='61', firstname='Parker', page='NextSong', level='free', song='Canada'),\n",
       " Row(ts=1538460615000, userId='61', firstname='Parker', page='NextSong', level='free', song='Mr Sandman'),\n",
       " Row(ts=1538460757000, userId='61', firstname='Parker', page='NextSong', level='free', song='Drive'),\n",
       " Row(ts=1538460989000, userId='61', firstname='Parker', page='NextSong', level='free', song='The Maestro'),\n",
       " Row(ts=1538461161000, userId='61', firstname='Parker', page='NextSong', level='free', song='Cousin Dupree'),\n",
       " Row(ts=1538461487000, userId='61', firstname='Parker', page='NextSong', level='free', song='Linoleum'),\n",
       " Row(ts=1538461617000, userId='61', firstname='Parker', page='NextSong', level='free', song='The Only Way Is Up'),\n",
       " Row(ts=1538461860000, userId='61', firstname='Parker', page='NextSong', level='free', song='Back In The Day'),\n",
       " Row(ts=1538462146000, userId='61', firstname='Parker', page='NextSong', level='free', song='Other Jokes (These Are Jokes)'),\n",
       " Row(ts=1538462199000, userId='61', firstname='Parker', page='Add to Playlist', level='free', song='0'),\n",
       " Row(ts=1538462233000, userId='61', firstname='Parker', page='NextSong', level='free', song='Siesta De Alcohol'),\n",
       " Row(ts=1538462457000, userId='61', firstname='Parker', page='NextSong', level='free', song='Independently Happy'),\n",
       " Row(ts=1538462752000, userId='61', firstname='Parker', page='NextSong', level='free', song='My Immortal'),\n",
       " Row(ts=1538464400000, userId='61', firstname='Parker', page='Add to Playlist', level='free', song='0'),\n",
       " Row(ts=1538464405000, userId='61', firstname='Parker', page='NextSong', level='free', song='Falling Down'),\n",
       " Row(ts=1538464482000, userId='61', firstname='Parker', page='Add to Playlist', level='free', song='0'),\n",
       " Row(ts=1538464746000, userId='61', firstname='Parker', page='NextSong', level='free', song='LDN'),\n",
       " Row(ts=1538464935000, userId='61', firstname='Parker', page='NextSong', level='free', song='Misdirected Hostility'),\n",
       " Row(ts=1538465113000, userId='61', firstname='Parker', page='NextSong', level='free', song='Marry Me'),\n",
       " Row(ts=1538465318000, userId='61', firstname='Parker', page='NextSong', level='free', song='Uninvited (Album Version)'),\n",
       " Row(ts=1538465594000, userId='61', firstname='Parker', page='NextSong', level='free', song='Civil War'),\n",
       " Row(ts=1538466058000, userId='61', firstname='Parker', page='NextSong', level='free', song='Hey Stephen'),\n",
       " Row(ts=1538466314000, userId='61', firstname='Parker', page='NextSong', level='free', song='Stepfather Factory'),\n",
       " Row(ts=1538466565000, userId='61', firstname='Parker', page='NextSong', level='free', song='Almaz'),\n",
       " Row(ts=1538467935000, userId='61', firstname='Parker', page='Home', level='free', song='0'),\n",
       " Row(ts=1538469121000, userId='61', firstname='Parker', page='NextSong', level='free', song='The Sign'),\n",
       " Row(ts=1538469309000, userId='61', firstname='Parker', page='NextSong', level='free', song='Pockets Full Of Thistles'),\n",
       " Row(ts=1538469464000, userId='61', firstname='Parker', page='NextSong', level='free', song='You Are Mine (Album Version)'),\n",
       " Row(ts=1538469747000, userId='61', firstname='Parker', page='NextSong', level='free', song='A Nervous Tic Motion of the Head to the Left'),\n",
       " Row(ts=1538470046000, userId='61', firstname='Parker', page='NextSong', level='free', song='The Long Way Around'),\n",
       " Row(ts=1538470319000, userId='61', firstname='Parker', page='NextSong', level='free', song=\"Won't Go Home Without You\"),\n",
       " Row(ts=1538470550000, userId='61', firstname='Parker', page='NextSong', level='free', song='Fog. Vs. Mould For The Next Of Love'),\n",
       " Row(ts=1538471016000, userId='61', firstname='Parker', page='NextSong', level='free', song='King Of The Rodeo'),\n",
       " Row(ts=1538471161000, userId='61', firstname='Parker', page='NextSong', level='free', song='It Was A Good Day'),\n",
       " Row(ts=1538471413000, userId='61', firstname='Parker', page='NextSong', level='free', song='Come On'),\n",
       " Row(ts=1538471804000, userId='61', firstname='Parker', page='NextSong', level='free', song='Medicating'),\n",
       " Row(ts=1538472044000, userId='61', firstname='Parker', page='NextSong', level='free', song='New Macabre'),\n",
       " Row(ts=1538472362000, userId='61', firstname='Parker', page='NextSong', level='free', song='North Sea Storm (Live)'),\n",
       " Row(ts=1538472674000, userId='61', firstname='Parker', page='NextSong', level='free', song='When You Look Me In The Eyes'),\n",
       " Row(ts=1538473027000, userId='61', firstname='Parker', page='Settings', level='free', song='0'),\n",
       " Row(ts=1538473107000, userId='61', firstname='Parker', page='Settings', level='free', song='0'),\n",
       " Row(ts=1538473912000, userId='61', firstname='Parker', page='NextSong', level='free', song='Renegade'),\n",
       " Row(ts=1538474101000, userId='61', firstname='Parker', page='NextSong', level='free', song='Holy Man'),\n",
       " Row(ts=1538474370000, userId='61', firstname='Parker', page='NextSong', level='free', song=\"Can't Stop Feeling\"),\n",
       " Row(ts=1538474552000, userId='61', firstname='Parker', page='NextSong', level='free', song='Hoy Ten Miedo De Mi'),\n",
       " Row(ts=1538474732000, userId='61', firstname='Parker', page='Add to Playlist', level='free', song='0'),\n",
       " Row(ts=1538474774000, userId='61', firstname='Parker', page='Help', level='free', song='0'),\n",
       " Row(ts=1538474935000, userId='61', firstname='Parker', page='NextSong', level='free', song='Run The Show (featuring Busta Rhymes)'),\n",
       " Row(ts=1538475148000, userId='61', firstname='Parker', page='NextSong', level='free', song='My Game (Joonas Hahmo Remix)'),\n",
       " Row(ts=1538475623000, userId='61', firstname='Parker', page='NextSong', level='free', song='Never Enough'),\n",
       " Row(ts=1538475832000, userId='61', firstname='Parker', page='NextSong', level='free', song='Le Courage Des Oiseaux'),\n",
       " Row(ts=1538475911000, userId='61', firstname='Parker', page='Roll Advert', level='free', song='0'),\n",
       " Row(ts=1538475985000, userId='61', firstname='Parker', page='NextSong', level='free', song='Superstition'),\n",
       " Row(ts=1538476092000, userId='61', firstname='Parker', page='Roll Advert', level='free', song='0'),\n",
       " Row(ts=1538476265000, userId='61', firstname='Parker', page='NextSong', level='free', song='Reborn Empowered'),\n",
       " Row(ts=1538476492000, userId='61', firstname='Parker', page='NextSong', level='free', song=\"Road Trippin' (Album Version)\"),\n",
       " Row(ts=1538476696000, userId='61', firstname='Parker', page='NextSong', level='free', song='Crazy For You No Kisetsu (Album Version)'),\n",
       " Row(ts=1538476957000, userId='61', firstname='Parker', page='NextSong', level='free', song=\"Compton's N The House (Remix) (2002 Digital Remaster) ()\"),\n",
       " Row(ts=1538477272000, userId='61', firstname='Parker', page='NextSong', level='free', song='Easy'),\n",
       " Row(ts=1538477458000, userId='61', firstname='Parker', page='NextSong', level='free', song='Go With The Flow'),\n",
       " Row(ts=1538477459000, userId='61', firstname='Parker', page='Logout', level='free', song='0'),\n",
       " Row(ts=1538478104000, userId='61', firstname='Parker', page='Home', level='free', song='0'),\n",
       " Row(ts=1538478111000, userId='61', firstname='Parker', page='NextSong', level='free', song='Spanish Sahara'),\n",
       " Row(ts=1538478520000, userId='61', firstname='Parker', page='NextSong', level='free', song='Magic'),\n",
       " Row(ts=1538478723000, userId='61', firstname='Parker', page='NextSong', level='free', song='Rx Queen (LP Version)'),\n",
       " Row(ts=1538478991000, userId='61', firstname='Parker', page='NextSong', level='free', song='Tessie'),\n",
       " Row(ts=1538479316000, userId='61', firstname='Parker', page='NextSong', level='free', song=\"Help I'm Alive\"),\n",
       " Row(ts=1538479602000, userId='61', firstname='Parker', page='NextSong', level='free', song='Edge Hill'),\n",
       " Row(ts=1538479740000, userId='61', firstname='Parker', page='Add to Playlist', level='free', song='0'),\n",
       " Row(ts=1538479959000, userId='61', firstname='Parker', page='NextSong', level='free', song='Chinese Lake Reflections'),\n",
       " Row(ts=1538480047000, userId='61', firstname='Parker', page='Home', level='free', song='0'),\n",
       " Row(ts=1538480129000, userId='61', firstname='Parker', page='NextSong', level='free', song='My World'),\n",
       " Row(ts=1538480371000, userId='61', firstname='Parker', page='NextSong', level='free', song='I Can Change'),\n",
       " Row(ts=1538480722000, userId='61', firstname='Parker', page='NextSong', level='free', song='Champagne Supernova (Instrumental)'),\n",
       " Row(ts=1538480723000, userId='61', firstname='Parker', page='Thumbs Up', level='free', song='0'),\n",
       " Row(ts=1538481149000, userId='61', firstname='Parker', page='NextSong', level='free', song='Alien'),\n",
       " Row(ts=1538481174000, userId='61', firstname='Parker', page='Roll Advert', level='free', song='0'),\n",
       " Row(ts=1538481475000, userId='61', firstname='Parker', page='NextSong', level='free', song='Like A Stone'),\n",
       " Row(ts=1538481770000, userId='61', firstname='Parker', page='NextSong', level='free', song='In Search Of A Rose (Full Band)'),\n",
       " Row(ts=1538482001000, userId='61', firstname='Parker', page='Upgrade', level='free', song='0'),\n",
       " Row(ts=1538482685000, userId='61', firstname='Parker', page='NextSong', level='free', song=\"Got Nuffin'\"),\n",
       " Row(ts=1538482918000, userId='61', firstname='Parker', page='NextSong', level='free', song='Ã\\x82Â¿Donde Estas?'),\n",
       " Row(ts=1538483135000, userId='61', firstname='Parker', page='NextSong', level='free', song='Long Ago And Far Away  (LP Version)'),\n",
       " Row(ts=1538483276000, userId='61', firstname='Parker', page='NextSong', level='free', song='Weather Storm'),\n",
       " Row(ts=1538483640000, userId='61', firstname='Parker', page='NextSong', level='free', song='Different But the Same'),\n",
       " Row(ts=1538483941000, userId='61', firstname='Parker', page='NextSong', level='free', song='It Makes A Change'),\n",
       " Row(ts=1538484152000, userId='61', firstname='Parker', page='NextSong', level='free', song='I Am The World'),\n",
       " Row(ts=1538484530000, userId='61', firstname='Parker', page='NextSong', level='free', song='Mercy:The Laundromat'),\n",
       " Row(ts=1538484531000, userId='61', firstname='Parker', page='Thumbs Up', level='free', song='0'),\n",
       " Row(ts=1538484629000, userId='61', firstname='Parker', page='NextSong', level='free', song='Bad Detective'),\n",
       " Row(ts=1538484837000, userId='61', firstname='Parker', page='NextSong', level='free', song=\"It's Not Real\"),\n",
       " Row(ts=1538485047000, userId='61', firstname='Parker', page='NextSong', level='free', song='Bulletproof'),\n",
       " Row(ts=1538485252000, userId='61', firstname='Parker', page='NextSong', level='free', song='Harlequin (Arlequim Desconhecido)'),\n",
       " Row(ts=1538485534000, userId='61', firstname='Parker', page='NextSong', level='free', song='Blood Red Blood'),\n",
       " Row(ts=1538485787000, userId='61', firstname='Parker', page='NextSong', level='free', song='U Smile'),\n",
       " Row(ts=1538485983000, userId='61', firstname='Parker', page='NextSong', level='free', song='Music In Fifths'),\n",
       " Row(ts=1538486401000, userId='61', firstname='Parker', page='Settings', level='free', song='0'),\n",
       " Row(ts=1538486464000, userId='61', firstname='Parker', page='Home', level='free', song='0'),\n",
       " Row(ts=1538487450000, userId='61', firstname='Parker', page='NextSong', level='free', song='Blue Eyes'),\n",
       " Row(ts=1538487977000, userId='61', firstname='Parker', page='Upgrade', level='free', song='0'),\n",
       " Row(ts=1538488160000, userId='61', firstname='Parker', page='NextSong', level='free', song='Wolf In The Breast'),\n",
       " Row(ts=1538488371000, userId='61', firstname='Parker', page='NextSong', level='free', song='Push Push'),\n",
       " Row(ts=1538488372000, userId='61', firstname='Parker', page='Logout', level='free', song='0'),\n",
       " Row(ts=1538523428000, userId='61', firstname='Parker', page='Home', level='free', song='0'),\n",
       " Row(ts=1538523763000, userId='61', firstname='Parker', page='NextSong', level='free', song='Fractures'),\n",
       " Row(ts=1538523979000, userId='61', firstname='Parker', page='NextSong', level='free', song='Peaceful Valley'),\n",
       " Row(ts=1538524201000, userId='61', firstname='Parker', page='NextSong', level='free', song='Bounce'),\n",
       " Row(ts=1538524880000, userId='61', firstname='Parker', page='Roll Advert', level='free', song='0'),\n",
       " Row(ts=1538525004000, userId='61', firstname='Parker', page='NextSong', level='free', song='Hey_ Soul Sister'),\n",
       " Row(ts=1538525220000, userId='61', firstname='Parker', page='NextSong', level='free', song='The Rip'),\n",
       " Row(ts=1538525490000, userId='61', firstname='Parker', page='NextSong', level='free', song='Rainy London Streets'),\n",
       " Row(ts=1538525673000, userId='61', firstname='Parker', page='NextSong', level='free', song='Closer'),\n",
       " Row(ts=1538526046000, userId='61', firstname='Parker', page='NextSong', level='free', song='Habalim'),\n",
       " Row(ts=1538526286000, userId='61', firstname='Parker', page='NextSong', level='free', song='Monster'),\n",
       " Row(ts=1538526535000, userId='61', firstname='Parker', page='NextSong', level='free', song=\"I Can't Believe It\"),\n",
       " Row(ts=1538526749000, userId='61', firstname='Parker', page='NextSong', level='free', song=\"Moth's Wings\"),\n",
       " Row(ts=1538526991000, userId='61', firstname='Parker', page='NextSong', level='free', song='Time Is Running Out'),\n",
       " Row(ts=1538527200000, userId='61', firstname='Parker', page='Home', level='free', song='0'),\n",
       " Row(ts=1538527201000, userId='61', firstname='Parker', page='Add Friend', level='free', song='0'),\n",
       " Row(ts=1538527227000, userId='61', firstname='Parker', page='NextSong', level='free', song='Love The Way You Love Me'),\n",
       " Row(ts=1538527228000, userId='61', firstname='Parker', page='Logout', level='free', song='0'),\n",
       " Row(ts=1538527546000, userId='61', firstname='Parker', page='Home', level='free', song='0'),\n",
       " Row(ts=1538527546000, userId='61', firstname='Parker', page='NextSong', level='free', song='Revelry'),\n",
       " Row(ts=1538527747000, userId='61', firstname='Parker', page='NextSong', level='free', song='What If?'),\n",
       " Row(ts=1538528139000, userId='61', firstname='Parker', page='NextSong', level='free', song='See The Sun'),\n",
       " Row(ts=1538528259000, userId='61', firstname='Parker', page='Add to Playlist', level='free', song='0'),\n",
       " Row(ts=1538528443000, userId='61', firstname='Parker', page='NextSong', level='free', song='La Aguacatona'),\n",
       " Row(ts=1538528684000, userId='61', firstname='Parker', page='NextSong', level='free', song='Champagne (Album Version)'),\n",
       " Row(ts=1538528685000, userId='61', firstname='Parker', page='Logout', level='free', song='0'),\n",
       " Row(ts=1538584671000, userId='61', firstname='Parker', page='Home', level='free', song='0'),\n",
       " Row(ts=1538584838000, userId='61', firstname='Parker', page='NextSong', level='free', song='Blue Magic'),\n",
       " Row(ts=1538585069000, userId='61', firstname='Parker', page='NextSong', level='free', song='Clarity'),\n",
       " Row(ts=1538585274000, userId='61', firstname='Parker', page='NextSong', level='free', song=\"I'll Be Missing You (Featuring Faith Evans & 112)(Album Version)\"),\n",
       " Row(ts=1538585617000, userId='61', firstname='Parker', page='NextSong', level='free', song='I Never (Album Version)'),\n",
       " Row(ts=1538585887000, userId='61', firstname='Parker', page='NextSong', level='free', song='Una Noche Mas'),\n",
       " Row(ts=1538586181000, userId='61', firstname='Parker', page='NextSong', level='free', song=\"When I'm Gone\"),\n",
       " Row(ts=1538596576000, userId='61', firstname='Parker', page='NextSong', level='free', song='Here And Now'),\n",
       " Row(ts=1538596843000, userId='61', firstname='Parker', page='NextSong', level='free', song='Jolene (Album)'),\n",
       " Row(ts=1538597103000, userId='61', firstname='Parker', page='NextSong', level='free', song='Adios Ayer (Original Mix)'),\n",
       " Row(ts=1538597405000, userId='61', firstname='Parker', page='NextSong', level='free', song='Fortunate Son'),\n",
       " Row(ts=1538597543000, userId='61', firstname='Parker', page='NextSong', level='free', song='Grand Theft Autumn/Where Is Your Boy (Album Version)'),\n",
       " Row(ts=1538597544000, userId='61', firstname='Parker', page='Logout', level='free', song='0'),\n",
       " Row(ts=1538599076000, userId='61', firstname='Parker', page='Home', level='free', song='0'),\n",
       " Row(ts=1538599119000, userId='61', firstname='Parker', page='NextSong', level='free', song='A0001 (Album Version)'),\n",
       " Row(ts=1538599155000, userId='61', firstname='Parker', page='NextSong', level='free', song='Revelry'),\n",
       " Row(ts=1538599232000, userId='61', firstname='Parker', page='Roll Advert', level='free', song='0'),\n",
       " Row(ts=1538599356000, userId='61', firstname='Parker', page='NextSong', level='free', song='Century'),\n",
       " Row(ts=1538599638000, userId='61', firstname='Parker', page='NextSong', level='free', song='Horn Concerto No. 4 in E flat K495: II. Romance (Andante cantabile)'),\n",
       " Row(ts=1538599915000, userId='61', firstname='Parker', page='NextSong', level='free', song=\"You Be The Anchor That Keeps My Feet On The Ground_ I'll Be The Wings That Keep Your Heart In The Clouds (Album)\"),\n",
       " Row(ts=1538600193000, userId='61', firstname='Parker', page='NextSong', level='free', song=\"Sugar_ We're Goin Down\"),\n",
       " Row(ts=1538600194000, userId='61', firstname='Parker', page='Thumbs Up', level='free', song='0'),\n",
       " Row(ts=1538600422000, userId='61', firstname='Parker', page='NextSong', level='free', song=\"Reason I'm Alive (Explicit)\"),\n",
       " Row(ts=1538600423000, userId='61', firstname='Parker', page='Thumbs Up', level='free', song='0'),\n",
       " Row(ts=1538600651000, userId='61', firstname='Parker', page='NextSong', level='free', song='Time (featuring Corey Harris & Ranking Joe)'),\n",
       " Row(ts=1538601069000, userId='61', firstname='Parker', page='NextSong', level='free', song='Grux'),\n",
       " Row(ts=1538601140000, userId='61', firstname='Parker', page='NextSong', level='free', song='Different'),\n",
       " Row(ts=1538601403000, userId='61', firstname='Parker', page='NextSong', level='free', song='Hang Me Upside Down'),\n",
       " Row(ts=1538601404000, userId='61', firstname='Parker', page='Thumbs Up', level='free', song='0'),\n",
       " Row(ts=1538602093000, userId='61', firstname='Parker', page='NextSong', level='free', song='MentÃ\\x83Â\\xada'),\n",
       " Row(ts=1538602243000, userId='61', firstname='Parker', page='Add to Playlist', level='free', song='0'),\n",
       " Row(ts=1538602310000, userId='61', firstname='Parker', page='NextSong', level='free', song=\"Strugglin'\"),\n",
       " Row(ts=1538602708000, userId='61', firstname='Parker', page='NextSong', level='free', song='Damn'),\n",
       " Row(ts=1538603166000, userId='61', firstname='Parker', page='NextSong', level='free', song=\"Multiply (Herbert's Hoedown Bump Instrumental)\"),\n",
       " Row(ts=1538603437000, userId='61', firstname='Parker', page='NextSong', level='free', song='White wheel - New age var I'),\n",
       " Row(ts=1538603835000, userId='61', firstname='Parker', page='NextSong', level='free', song='Eenie Meenie'),\n",
       " Row(ts=1538604036000, userId='61', firstname='Parker', page='NextSong', level='free', song='El baile De Los Que Sobran (Vivo)'),\n",
       " Row(ts=1538781433000, userId='61', firstname='Parker', page='NextSong', level='free', song='ReprÃ\\x83Â©sente'),\n",
       " Row(ts=1538781434000, userId='61', firstname='Parker', page='Thumbs Up', level='free', song='0'),\n",
       " Row(ts=1538781685000, userId='61', firstname='Parker', page='NextSong', level='free', song='ROTTING ROOT'),\n",
       " Row(ts=1538781969000, userId='61', firstname='Parker', page='NextSong', level='free', song='Parallel Universe (Album Version)'),\n",
       " Row(ts=1538782238000, userId='61', firstname='Parker', page='NextSong', level='free', song='Who Can Compare'),\n",
       " Row(ts=1538782504000, userId='61', firstname='Parker', page='NextSong', level='free', song='Africa Dream'),\n",
       " Row(ts=1538782753000, userId='61', firstname='Parker', page='NextSong', level='free', song='Autobiography'),\n",
       " Row(ts=1538782754000, userId='61', firstname='Parker', page='Thumbs Down', level='free', song='0'),\n",
       " Row(ts=1538782817000, userId='61', firstname='Parker', page='NextSong', level='free', song='Given Up (Album Version)'),\n",
       " Row(ts=1538782818000, userId='61', firstname='Parker', page='Thumbs Up', level='free', song='0'),\n",
       " Row(ts=1538783006000, userId='61', firstname='Parker', page='NextSong', level='free', song='Naked As We Can'),\n",
       " Row(ts=1538783159000, userId='61', firstname='Parker', page='NextSong', level='free', song='Alone In Kyoto'),\n",
       " Row(ts=1538783449000, userId='61', firstname='Parker', page='NextSong', level='free', song='Re: Your Brains'),\n",
       " Row(ts=1538783681000, userId='61', firstname='Parker', page='NextSong', level='free', song='Marry Me'),\n",
       " Row(ts=1538783886000, userId='61', firstname='Parker', page='NextSong', level='free', song='Break In-City (Storm the Gate!)'),\n",
       " Row(ts=1538783968000, userId='61', firstname='Parker', page='NextSong', level='free', song='Drowning By Numbers'),\n",
       " Row(ts=1538784145000, userId='61', firstname='Parker', page='NextSong', level='free', song='Dynamite'),\n",
       " Row(ts=1538784264000, userId='61', firstname='Parker', page='Roll Advert', level='free', song='0'),\n",
       " Row(ts=1538784370000, userId='61', firstname='Parker', page='NextSong', level='free', song='Fix You'),\n",
       " Row(ts=1538784664000, userId='61', firstname='Parker', page='NextSong', level='free', song='You fly me'),\n",
       " Row(ts=1538784836000, userId='61', firstname='Parker', page='NextSong', level='free', song='From The Ritz To The Rubble'),\n",
       " Row(ts=1538785029000, userId='61', firstname='Parker', page='NextSong', level='free', song='Gravity'),\n",
       " Row(ts=1538785274000, userId='61', firstname='Parker', page='NextSong', level='free', song='Someone Else'),\n",
       " Row(ts=1538785593000, userId='61', firstname='Parker', page='NextSong', level='free', song='Tive Sim'),\n",
       " Row(ts=1538785720000, userId='61', firstname='Parker', page='NextSong', level='free', song='Crazier'),\n",
       " Row(ts=1538785912000, userId='61', firstname='Parker', page='NextSong', level='free', song='This Notebook'),\n",
       " Row(ts=1538786139000, userId='61', firstname='Parker', page='NextSong', level='free', song=\"'Round Midnight\"),\n",
       " Row(ts=1538786140000, userId='61', firstname='Parker', page='Thumbs Up', level='free', song='0'),\n",
       " Row(ts=1538786497000, userId='61', firstname='Parker', page='NextSong', level='free', song='Nighttime'),\n",
       " Row(ts=1538787013000, userId='61', firstname='Parker', page='NextSong', level='free', song='Summer Wind (Duet With Frank Sinatra)'),\n",
       " Row(ts=1538787163000, userId='61', firstname='Parker', page='NextSong', level='free', song='Let The Bridges Burn (Album Version)'),\n",
       " Row(ts=1538787432000, userId='61', firstname='Parker', page='NextSong', level='free', song='Eternal Rest'),\n",
       " Row(ts=1538787744000, userId='61', firstname='Parker', page='NextSong', level='free', song='Looking Down The Cross'),\n",
       " Row(ts=1538788046000, userId='61', firstname='Parker', page='NextSong', level='free', song='Gangsta Girl'),\n",
       " Row(ts=1538788306000, userId='61', firstname='Parker', page='NextSong', level='free', song='Dont Give Up'),\n",
       " Row(ts=1538788468000, userId='61', firstname='Parker', page='NextSong', level='free', song='Snow [Hey Oh] (Album Version)'),\n",
       " Row(ts=1538788469000, userId='61', firstname='Parker', page='Thumbs Up', level='free', song='0'),\n",
       " Row(ts=1538788802000, userId='61', firstname='Parker', page='NextSong', level='free', song='STARSTRUKK [FEATURINGKATYPERRY] (Explicit Bonus Version)'),\n",
       " Row(ts=1538789004000, userId='61', firstname='Parker', page='NextSong', level='free', song='She Wants To Move (Explicit)'),\n",
       " Row(ts=1538789220000, userId='61', firstname='Parker', page='NextSong', level='free', song='I Got The Chop (LP Version)'),\n",
       " Row(ts=1538789397000, userId='61', firstname='Parker', page='NextSong', level='free', song='Para Hacerme Perdonar (En Vivo Teatro Metropolitan)'),\n",
       " Row(ts=1538789678000, userId='61', firstname='Parker', page='NextSong', level='free', song=\"If I Didn't Have You\"),\n",
       " Row(ts=1538790010000, userId='61', firstname='Parker', page='NextSong', level='free', song='Angel Love'),\n",
       " Row(ts=1538790365000, userId='61', firstname='Parker', page='NextSong', level='free', song='Little Girl (Digitally Remastered 90)'),\n",
       " Row(ts=1538790567000, userId='61', firstname='Parker', page='NextSong', level='free', song='South Side'),\n",
       " Row(ts=1538790697000, userId='61', firstname='Parker', page='Home', level='free', song='0'),\n",
       " Row(ts=1538790761000, userId='61', firstname='Parker', page='NextSong', level='free', song='Already Dead (Album Version)'),\n",
       " Row(ts=1538790958000, userId='61', firstname='Parker', page='NextSong', level='free', song='Hasta siempre'),\n",
       " Row(ts=1538791162000, userId='61', firstname='Parker', page='NextSong', level='free', song='When We Escape'),\n",
       " Row(ts=1538791405000, userId='61', firstname='Parker', page='NextSong', level='free', song='Unite (2009 Digital Remaster)'),\n",
       " Row(ts=1538791616000, userId='61', firstname='Parker', page='NextSong', level='free', song='Una PÃ\\x83Â¡gina'),\n",
       " Row(ts=1538791839000, userId='61', firstname='Parker', page='NextSong', level='free', song=\"I CAN'T GET STARTED\"),\n",
       " Row(ts=1538792336000, userId='61', firstname='Parker', page='NextSong', level='free', song=\"You're A Wolf (Album)\"),\n",
       " Row(ts=1538792551000, userId='61', firstname='Parker', page='NextSong', level='free', song='Budos Theme'),\n",
       " Row(ts=1538792740000, userId='61', firstname='Parker', page='NextSong', level='free', song='Rejection Role'),\n",
       " Row(ts=1538792954000, userId='61', firstname='Parker', page='NextSong', level='free', song=\"You're The One\"),\n",
       " Row(ts=1538792955000, userId='61', firstname='Parker', page='Thumbs Up', level='free', song='0'),\n",
       " Row(ts=1538793193000, userId='61', firstname='Parker', page='NextSong', level='free', song='Miss You'),\n",
       " Row(ts=1538793584000, userId='61', firstname='Parker', page='NextSong', level='free', song='Simplest Love'),\n",
       " Row(ts=1538793756000, userId='61', firstname='Parker', page='NextSong', level='free', song='Estampa'),\n",
       " Row(ts=1538794200000, userId='61', firstname='Parker', page='NextSong', level='free', song='Jamaica Roots II(Agora E Sempre)'),\n",
       " Row(ts=1538794410000, userId='61', firstname='Parker', page='NextSong', level='free', song='Float On'),\n",
       " Row(ts=1538794619000, userId='61', firstname='Parker', page='NextSong', level='free', song='Better To Reign In Hell'),\n",
       " Row(ts=1538794990000, userId='61', firstname='Parker', page='NextSong', level='free', song='Mr Blue Sky'),\n",
       " Row(ts=1538795291000, userId='61', firstname='Parker', page='NextSong', level='free', song='Rabbit Heart (Raise It Up)'),\n",
       " Row(ts=1538795581000, userId='61', firstname='Parker', page='NextSong', level='free', song='The Sleep (LP Version)'),\n",
       " Row(ts=1538795928000, userId='61', firstname='Parker', page='NextSong', level='free', song=\"Ain't Misbehavin\"),\n",
       " Row(ts=1538796050000, userId='61', firstname='Parker', page='NextSong', level='free', song='Stop Coming To My House'),\n",
       " Row(ts=1538796159000, userId='61', firstname='Parker', page='Roll Advert', level='free', song='0'),\n",
       " Row(ts=1538796343000, userId='61', firstname='Parker', page='NextSong', level='free', song='Almaz'),\n",
       " Row(ts=1538796613000, userId='61', firstname='Parker', page='NextSong', level='free', song='Good Directions'),\n",
       " Row(ts=1538796828000, userId='61', firstname='Parker', page='NextSong', level='free', song='Sanctify Yourself'),\n",
       " Row(ts=1538796829000, userId='61', firstname='Parker', page='Thumbs Down', level='free', song='0'),\n",
       " Row(ts=1538797065000, userId='61', firstname='Parker', page='NextSong', level='free', song='Found Out'),\n",
       " Row(ts=1539096212000, userId='61', firstname='Parker', page='NextSong', level='free', song='Toxic'),\n",
       " Row(ts=1539096472000, userId='61', firstname='Parker', page='Roll Advert', level='free', song='0'),\n",
       " Row(ts=1539096875000, userId='61', firstname='Parker', page='NextSong', level='free', song='Insomniac Olympics'),\n",
       " Row(ts=1539097181000, userId='61', firstname='Parker', page='NextSong', level='free', song='Sex Toyz'),\n",
       " Row(ts=1539097357000, userId='61', firstname='Parker', page='NextSong', level='free', song='Chinga Tu Madre'),\n",
       " Row(ts=1539097558000, userId='61', firstname='Parker', page='NextSong', level='free', song=\"Tomorrow's Child\"),\n",
       " Row(ts=1539097559000, userId='61', firstname='Parker', page='Thumbs Up', level='free', song='0'),\n",
       " Row(ts=1539097848000, userId='61', firstname='Parker', page='NextSong', level='free', song='Do We Need This?'),\n",
       " Row(ts=1539098103000, userId='61', firstname='Parker', page='NextSong', level='free', song='Postpone'),\n",
       " Row(ts=1539098323000, userId='61', firstname='Parker', page='NextSong', level='free', song='All The Right Moves'),\n",
       " Row(ts=1539098560000, userId='61', firstname='Parker', page='NextSong', level='free', song='Magnolia Soul'),\n",
       " Row(ts=1539098761000, userId='61', firstname='Parker', page='NextSong', level='free', song='Daddys Falling Angel'),\n",
       " Row(ts=1539099013000, userId='61', firstname='Parker', page='NextSong', level='free', song='Californication (Album Version)'),\n",
       " Row(ts=1539099334000, userId='61', firstname='Parker', page='NextSong', level='free', song='Company'),\n",
       " Row(ts=1539099566000, userId='61', firstname='Parker', page='NextSong', level='free', song='Pursuit Of Happiness (nightmare)'),\n",
       " Row(ts=1539099861000, userId='61', firstname='Parker', page='NextSong', level='free', song='Come On Eileen'),\n",
       " Row(ts=1539100137000, userId='61', firstname='Parker', page='NextSong', level='free', song='New Boy In Town'),\n",
       " Row(ts=1539100138000, userId='61', firstname='Parker', page='Thumbs Up', level='free', song='0'),\n",
       " Row(ts=1539100314000, userId='61', firstname='Parker', page='NextSong', level='free', song=\"You've Got The Love\"),\n",
       " Row(ts=1539101437000, userId='61', firstname='Parker', page='Roll Advert', level='free', song='0'),\n",
       " Row(ts=1539101713000, userId='61', firstname='Parker', page='NextSong', level='free', song='My Mistakes Were Made For You'),\n",
       " Row(ts=1539101899000, userId='61', firstname='Parker', page='NextSong', level='free', song='The Killing Moon'),\n",
       " Row(ts=1539102246000, userId='61', firstname='Parker', page='NextSong', level='free', song='Cassie'),\n",
       " Row(ts=1539102423000, userId='61', firstname='Parker', page='NextSong', level='free', song='You Belong With Me'),\n",
       " Row(ts=1539102627000, userId='61', firstname='Parker', page='Add to Playlist', level='free', song='0'),\n",
       " Row(ts=1539102653000, userId='61', firstname='Parker', page='NextSong', level='free', song='Oh_ I Buried You Today'),\n",
       " Row(ts=1539102734000, userId='61', firstname='Parker', page='NextSong', level='free', song='R U Still In 2 It? (live)'),\n",
       " Row(ts=1539102756000, userId='61', firstname='Parker', page='Roll Advert', level='free', song='0'),\n",
       " Row(ts=1539103215000, userId='61', firstname='Parker', page='NextSong', level='free', song='Same Hood_ Different Day'),\n",
       " Row(ts=1539103458000, userId='61', firstname='Parker', page='NextSong', level='free', song='I Am For You'),\n",
       " Row(ts=1539103672000, userId='61', firstname='Parker', page='NextSong', level='free', song='Robot Rock'),\n",
       " Row(ts=1539103673000, userId='61', firstname='Parker', page='Thumbs Down', level='free', song='0'),\n",
       " Row(ts=1539103959000, userId='61', firstname='Parker', page='NextSong', level='free', song='All Summer Long (Album Version)'),\n",
       " Row(ts=1539104336000, userId='61', firstname='Parker', page='Roll Advert', level='free', song='0'),\n",
       " Row(ts=1539105548000, userId='61', firstname='Parker', page='NextSong', level='free', song='The Maker'),\n",
       " Row(ts=1539106125000, userId='61', firstname='Parker', page='NextSong', level='free', song='I GOT THIS DOWN'),\n",
       " Row(ts=1539106126000, userId='61', firstname='Parker', page='Thumbs Up', level='free', song='0'),\n",
       " Row(ts=1539106408000, userId='61', firstname='Parker', page='NextSong', level='free', song='See Clear Now ft Kano & Scorcher'),\n",
       " Row(ts=1539106607000, userId='61', firstname='Parker', page='NextSong', level='free', song='Next Girl'),\n",
       " Row(ts=1539106805000, userId='61', firstname='Parker', page='NextSong', level='free', song='No Fun (Rework)'),\n",
       " Row(ts=1539107036000, userId='61', firstname='Parker', page='NextSong', level='free', song='CuÃ\\x83Â\\xaddate'),\n",
       " Row(ts=1539107207000, userId='61', firstname='Parker', page='NextSong', level='free', song='42'),\n",
       " Row(ts=1539107208000, userId='61', firstname='Parker', page='Thumbs Up', level='free', song='0'),\n",
       " Row(ts=1539107444000, userId='61', firstname='Parker', page='NextSong', level='free', song='Bleed It Out [Live At Milton Keynes]'),\n",
       " Row(ts=1539107938000, userId='61', firstname='Parker', page='NextSong', level='free', song='Raining Again (Album Version)'),\n",
       " Row(ts=1539108171000, userId='61', firstname='Parker', page='NextSong', level='free', song='Ready Or Not'),\n",
       " Row(ts=1539108452000, userId='61', firstname='Parker', page='NextSong', level='free', song='I Wanna Be Your Dog'),\n",
       " Row(ts=1539108612000, userId='61', firstname='Parker', page='NextSong', level='free', song=\"She Don't Know Me\"),\n",
       " Row(ts=1539108854000, userId='61', firstname='Parker', page='NextSong', level='free', song='Clark Gable (Album)'),\n",
       " Row(ts=1539109048000, userId='61', firstname='Parker', page='Roll Advert', level='free', song='0'),\n",
       " Row(ts=1539109148000, userId='61', firstname='Parker', page='NextSong', level='free', song='On a Bayonet'),\n",
       " Row(ts=1539109248000, userId='61', firstname='Parker', page='NextSong', level='free', song='A Night Like This (album version)'),\n",
       " Row(ts=1539109435000, userId='61', firstname='Parker', page='NextSong', level='free', song='From The Throne'),\n",
       " Row(ts=1539109451000, userId='61', firstname='Parker', page='Add to Playlist', level='free', song='0'),\n",
       " Row(ts=1539109641000, userId='61', firstname='Parker', page='NextSong', level='free', song='Silver Bath'),\n",
       " Row(ts=1539109642000, userId='61', firstname='Parker', page='Thumbs Up', level='free', song='0'),\n",
       " Row(ts=1539110107000, userId='61', firstname='Parker', page='NextSong', level='free', song='Tim McGraw'),\n",
       " Row(ts=1539110192000, userId='61', firstname='Parker', page='Roll Advert', level='free', song='0'),\n",
       " Row(ts=1539110339000, userId='61', firstname='Parker', page='NextSong', level='free', song='Rule My World'),\n",
       " Row(ts=1539110340000, userId='61', firstname='Parker', page='Thumbs Up', level='free', song='0'),\n",
       " Row(ts=1539110550000, userId='61', firstname='Parker', page='NextSong', level='free', song='Use Somebody'),\n",
       " Row(ts=1539110781000, userId='61', firstname='Parker', page='NextSong', level='free', song='TV Control'),\n",
       " Row(ts=1539111003000, userId='61', firstname='Parker', page='NextSong', level='free', song='When You Are Near (Album Version)'),\n",
       " Row(ts=1539111244000, userId='61', firstname='Parker', page='NextSong', level='free', song='Lost In Stereo'),\n",
       " Row(ts=1539111471000, userId='61', firstname='Parker', page='NextSong', level='free', song='Tonight'),\n",
       " Row(ts=1539111697000, userId='61', firstname='Parker', page='NextSong', level='free', song='Time To Pretend'),\n",
       " Row(ts=1539111961000, userId='61', firstname='Parker', page='NextSong', level='free', song='Jimmy James'),\n",
       " Row(ts=1539112155000, userId='61', firstname='Parker', page='NextSong', level='free', song='Pleading The Fifth (A Cappella)'),\n",
       " Row(ts=1539112291000, userId='61', firstname='Parker', page='Roll Advert', level='free', song='0'),\n",
       " Row(ts=1539112490000, userId='61', firstname='Parker', page='NextSong', level='free', song='So Lonely'),\n",
       " Row(ts=1539112779000, userId='61', firstname='Parker', page='NextSong', level='free', song=\"Don't Start Me Talkin'\"),\n",
       " Row(ts=1539112850000, userId='61', firstname='Parker', page='Home', level='free', song='0'),\n",
       " Row(ts=1539112931000, userId='61', firstname='Parker', page='NextSong', level='free', song='The Scientist'),\n",
       " Row(ts=1539113242000, userId='61', firstname='Parker', page='NextSong', level='free', song='Elegy For William Burroughs and Allen Ginsberg (Album Version)'),\n",
       " Row(ts=1539113525000, userId='61', firstname='Parker', page='NextSong', level='free', song='This Place is a Prison (Album)'),\n",
       " Row(ts=1539113605000, userId='61', firstname='Parker', page='Roll Advert', level='free', song='0'),\n",
       " Row(ts=1539113759000, userId='61', firstname='Parker', page='NextSong', level='free', song='Leaf House'),\n",
       " Row(ts=1539113921000, userId='61', firstname='Parker', page='NextSong', level='free', song=\"Livin' On A Prayer\"),\n",
       " Row(ts=1539114683000, userId='61', firstname='Parker', page='Roll Advert', level='free', song='0'),\n",
       " Row(ts=1539114990000, userId='61', firstname='Parker', page='NextSong', level='free', song=\"The Whiskey Ain't Workin'  (Remastered LP Version)\"),\n",
       " Row(ts=1539115151000, userId='61', firstname='Parker', page='NextSong', level='free', song='You Are Not Alone'),\n",
       " Row(ts=1539115426000, userId='61', firstname='Parker', page='NextSong', level='free', song='Take It Back'),\n",
       " Row(ts=1539115585000, userId='61', firstname='Parker', page='NextSong', level='free', song='No Rain'),\n",
       " Row(ts=1539115802000, userId='61', firstname='Parker', page='NextSong', level='free', song='Hello/Goodbye [Uncool] (feat. Unkle) (Explicit Album Version)'),\n",
       " Row(ts=1539116068000, userId='61', firstname='Parker', page='NextSong', level='free', song=\"You've Got The Love\"),\n",
       " Row(ts=1539116236000, userId='61', firstname='Parker', page='NextSong', level='free', song='Crystal Blue Persuasion'),\n",
       " Row(ts=1539116462000, userId='61', firstname='Parker', page='NextSong', level='free', song='Always And Forever (Bob Sinclar Remix)'),\n",
       " Row(ts=1539116919000, userId='61', firstname='Parker', page='NextSong', level='free', song=\"Everything I'm Not [Claude le Gache Club Mix]\"),\n",
       " Row(ts=1539117347000, userId='61', firstname='Parker', page='NextSong', level='free', song='Lovebug'),\n",
       " Row(ts=1539117565000, userId='61', firstname='Parker', page='Roll Advert', level='free', song='0'),\n",
       " Row(ts=1539117567000, userId='61', firstname='Parker', page='NextSong', level='free', song='Shine'),\n",
       " Row(ts=1539117841000, userId='61', firstname='Parker', page='NextSong', level='free', song='Year Of The President'),\n",
       " Row(ts=1539118069000, userId='61', firstname='Parker', page='NextSong', level='free', song='Holiday'),\n",
       " Row(ts=1539118277000, userId='61', firstname='Parker', page='NextSong', level='free', song='I Like What You Say'),\n",
       " Row(ts=1539118428000, userId='61', firstname='Parker', page='NextSong', level='free', song=\"If There's a Rocket Tie Me To It\"),\n",
       " Row(ts=1539118479000, userId='61', firstname='Parker', page='Roll Advert', level='free', song='0'),\n",
       " Row(ts=1539118687000, userId='61', firstname='Parker', page='NextSong', level='free', song='Sehr kosmisch'),\n",
       " Row(ts=1539120403000, userId='61', firstname='Parker', page='Home', level='free', song='0'),\n",
       " Row(ts=1539120779000, userId='61', firstname='Parker', page='NextSong', level='free', song='TTHHEE PPAARRTTYY'),\n",
       " Row(ts=1539121022000, userId='61', firstname='Parker', page='NextSong', level='free', song='Luvstruck'),\n",
       " Row(ts=1539121291000, userId='61', firstname='Parker', page='NextSong', level='free', song='Call Me Up'),\n",
       " Row(ts=1539121544000, userId='61', firstname='Parker', page='NextSong', level='free', song='Irish Destiny: Goodbye'),\n",
       " Row(ts=1539122026000, userId='61', firstname='Parker', page='NextSong', level='free', song='Benedictus'),\n",
       " Row(ts=1539122482000, userId='61', firstname='Parker', page='NextSong', level='free', song='Lazy Days'),\n",
       " Row(ts=1539122604000, userId='61', firstname='Parker', page='Home', level='free', song='0'),\n",
       " Row(ts=1539122605000, userId='61', firstname='Parker', page='Add Friend', level='free', song='0'),\n",
       " Row(ts=1539122705000, userId='61', firstname='Parker', page='NextSong', level='free', song='Angeles'),\n",
       " Row(ts=1539122946000, userId='61', firstname='Parker', page='NextSong', level='free', song='Sombre Detune'),\n",
       " Row(ts=1539122947000, userId='61', firstname='Parker', page='Thumbs Up', level='free', song='0'),\n",
       " Row(ts=1539123238000, userId='61', firstname='Parker', page='NextSong', level='free', song='Not For You'),\n",
       " Row(ts=1539124177000, userId='61', firstname='Parker', page='Upgrade', level='free', song='0'),\n",
       " Row(ts=1539124178000, userId='61', firstname='Parker', page='Submit Upgrade', level='free', song='0'),\n",
       " Row(ts=1539124354000, userId='61', firstname='Parker', page='Home', level='paid', song='0'),\n",
       " Row(ts=1539124923000, userId='61', firstname='Parker', page='NextSong', level='paid', song='Floating Bridge'),\n",
       " Row(ts=1539125316000, userId='61', firstname='Parker', page='NextSong', level='paid', song='Love Is Not A Fight'),\n",
       " Row(ts=1539125538000, userId='61', firstname='Parker', page='NextSong', level='paid', song='Long Way 2 Go (Album Version)'),\n",
       " Row(ts=1539125758000, userId='61', firstname='Parker', page='NextSong', level='paid', song='Hands Open'),\n",
       " Row(ts=1539125953000, userId='61', firstname='Parker', page='NextSong', level='paid', song='Stronger'),\n",
       " Row(ts=1539126264000, userId='61', firstname='Parker', page='NextSong', level='paid', song='Fast Forward To 2012 (Album Version)'),\n",
       " Row(ts=1539126359000, userId='61', firstname='Parker', page='NextSong', level='paid', song='Leader Of The Pack'),\n",
       " Row(ts=1539126360000, userId='61', firstname='Parker', page='Add Friend', level='paid', song='0'),\n",
       " Row(ts=1539126527000, userId='61', firstname='Parker', page='NextSong', level='paid', song='We Are Going To Be Friends (Live)'),\n",
       " Row(ts=1539126671000, userId='61', firstname='Parker', page='NextSong', level='paid', song=\"You've Lost That Lovin' Feelin'\"),\n",
       " Row(ts=1539126672000, userId='61', firstname='Parker', page='Thumbs Up', level='paid', song='0'),\n",
       " Row(ts=1539126896000, userId='61', firstname='Parker', page='NextSong', level='paid', song='Make Me Move'),\n",
       " Row(ts=1539127227000, userId='61', firstname='Parker', page='NextSong', level='paid', song='Hideaway (Album Version)'),\n",
       " Row(ts=1539127468000, userId='61', firstname='Parker', page='NextSong', level='paid', song='Swords Crossed'),\n",
       " Row(ts=1539127663000, userId='61', firstname='Parker', page='NextSong', level='paid', song='Next Girl'),\n",
       " Row(ts=1539127861000, userId='61', firstname='Parker', page='NextSong', level='paid', song='Word Up!'),\n",
       " Row(ts=1539128072000, userId='61', firstname='Parker', page='NextSong', level='paid', song='Second Chance (Album Version)'),\n",
       " Row(ts=1539128292000, userId='61', firstname='Parker', page='NextSong', level='paid', song='Latin Static'),\n",
       " Row(ts=1539128743000, userId='61', firstname='Parker', page='NextSong', level='paid', song='The What'),\n",
       " Row(ts=1539128981000, userId='61', firstname='Parker', page='NextSong', level='paid', song='What You Know'),\n",
       " Row(ts=1539129170000, userId='61', firstname='Parker', page='NextSong', level='paid', song='Possessed'),\n",
       " Row(ts=1539129603000, userId='61', firstname='Parker', page='NextSong', level='paid', song='Angie'),\n",
       " Row(ts=1539129873000, userId='61', firstname='Parker', page='NextSong', level='paid', song='Voodoo'),\n",
       " Row(ts=1539130416000, userId='61', firstname='Parker', page='NextSong', level='paid', song='Korg Rhythm Afro'),\n",
       " Row(ts=1539130417000, userId='61', firstname='Parker', page='Thumbs Up', level='paid', song='0'),\n",
       " Row(ts=1539130570000, userId='61', firstname='Parker', page='Add to Playlist', level='paid', song='0'),\n",
       " Row(ts=1539130824000, userId='61', firstname='Parker', page='NextSong', level='paid', song='You Belong With Me'),\n",
       " Row(ts=1539131054000, userId='61', firstname='Parker', page='NextSong', level='paid', song=\"Nothin' On You [feat. Bruno Mars] (Album Version)\"),\n",
       " Row(ts=1539131323000, userId='61', firstname='Parker', page='NextSong', level='paid', song='The Oak Tree (Album Version)'),\n",
       " Row(ts=1539131324000, userId='61', firstname='Parker', page='Thumbs Up', level='paid', song='0'),\n",
       " Row(ts=1539131765000, userId='61', firstname='Parker', page='NextSong', level='paid', song='Into Temptation (Live At Sydney Opera House) (2006 Digital Remaster)'),\n",
       " Row(ts=1539132054000, userId='61', firstname='Parker', page='NextSong', level='paid', song='16 Candles'),\n",
       " Row(ts=1539132236000, userId='61', firstname='Parker', page='NextSong', level='paid', song='Sleeping To Dream (Live From Montalvo)'),\n",
       " Row(ts=1539132492000, userId='61', firstname='Parker', page='NextSong', level='paid', song=\"Last Year's Man\"),\n",
       " Row(ts=1539132851000, userId='61', firstname='Parker', page='NextSong', level='paid', song='A-Punk (Album)'),\n",
       " Row(ts=1539132988000, userId='61', firstname='Parker', page='NextSong', level='paid', song=\"Cleo's Mood\"),\n",
       " Row(ts=1539133147000, userId='61', firstname='Parker', page='NextSong', level='paid', song='Lo  Que Tengo Yo Adentro'),\n",
       " Row(ts=1539133266000, userId='61', firstname='Parker', page='Home', level='paid', song='0'),\n",
       " Row(ts=1539133267000, userId='61', firstname='Parker', page='Add Friend', level='paid', song='0'),\n",
       " Row(ts=1539133335000, userId='61', firstname='Parker', page='NextSong', level='paid', song='Electric Avenue'),\n",
       " Row(ts=1539133559000, userId='61', firstname='Parker', page='NextSong', level='paid', song='Nothing Owed'),\n",
       " Row(ts=1539133935000, userId='61', firstname='Parker', page='NextSong', level='paid', song='My Name Is'),\n",
       " Row(ts=1539134203000, userId='61', firstname='Parker', page='NextSong', level='paid', song='Each Day Gets Better'),\n",
       " Row(ts=1539134430000, userId='61', firstname='Parker', page='NextSong', level='paid', song='Streets Of New York (City Life)'),\n",
       " Row(ts=1539134885000, userId='61', firstname='Parker', page='NextSong', level='paid', song='Make Love To Your Mind'),\n",
       " Row(ts=1539135268000, userId='61', firstname='Parker', page='NextSong', level='paid', song='Majesty'),\n",
       " Row(ts=1539135597000, userId='61', firstname='Parker', page='NextSong', level='paid', song='Shoes'),\n",
       " Row(ts=1539135826000, userId='61', firstname='Parker', page='NextSong', level='paid', song=\"Ghosts 'n' Stuff (Original Instrumental Mix)\"),\n",
       " Row(ts=1539136200000, userId='61', firstname='Parker', page='NextSong', level='paid', song=\"Runnin'\"),\n",
       " Row(ts=1539136496000, userId='61', firstname='Parker', page='NextSong', level='paid', song='This Fire (Album Version)'),\n",
       " Row(ts=1539136685000, userId='61', firstname='Parker', page='NextSong', level='paid', song='Corrido de Boxeo'),\n",
       " Row(ts=1539136899000, userId='61', firstname='Parker', page='Roll Advert', level='paid', song='0'),\n",
       " Row(ts=1539137152000, userId='61', firstname='Parker', page='NextSong', level='paid', song='Love Story'),\n",
       " Row(ts=1539137385000, userId='61', firstname='Parker', page='NextSong', level='paid', song='Flume'),\n",
       " Row(ts=1539137603000, userId='61', firstname='Parker', page='NextSong', level='paid', song='Range Life'),\n",
       " Row(ts=1539137897000, userId='61', firstname='Parker', page='NextSong', level='paid', song='Me'),\n",
       " Row(ts=1539138160000, userId='61', firstname='Parker', page='NextSong', level='paid', song='Give It Back'),\n",
       " Row(ts=1539138382000, userId='61', firstname='Parker', page='NextSong', level='paid', song='Como Duele (Album)'),\n",
       " Row(ts=1539138592000, userId='61', firstname='Parker', page='NextSong', level='paid', song='Breathe'),\n",
       " Row(ts=1539138892000, userId='61', firstname='Parker', page='NextSong', level='paid', song='Somebody To Love'),\n",
       " Row(ts=1539139112000, userId='61', firstname='Parker', page='NextSong', level='paid', song='Standing Next To Me'),\n",
       " Row(ts=1539139254000, userId='61', firstname='Parker', page='NextSong', level='paid', song=\"Baby_ I'm Back\"),\n",
       " Row(ts=1539139473000, userId='61', firstname='Parker', page='NextSong', level='paid', song='A-Punk (Album)'),\n",
       " Row(ts=1539139610000, userId='61', firstname='Parker', page='NextSong', level='paid', song='Let Down'),\n",
       " Row(ts=1539139908000, userId='61', firstname='Parker', page='NextSong', level='paid', song='Some People Fly (2002 Digital Remaster)'),\n",
       " Row(ts=1539140226000, userId='61', firstname='Parker', page='NextSong', level='paid', song='Beautiful World'),\n",
       " Row(ts=1539140440000, userId='61', firstname='Parker', page='NextSong', level='paid', song='Open Your Eyes'),\n",
       " Row(ts=1539140647000, userId='61', firstname='Parker', page='NextSong', level='paid', song='Little Drummer Boy [featuring guitarist Andy McKee] (Album Version)'),\n",
       " Row(ts=1539140907000, userId='61', firstname='Parker', page='NextSong', level='paid', song='Fortunate Son (Live)'),\n",
       " Row(ts=1539141110000, userId='61', firstname='Parker', page='NextSong', level='paid', song='Across 110th Street'),\n",
       " Row(ts=1539141340000, userId='61', firstname='Parker', page='NextSong', level='paid', song=\"Ain't No Rest For The Wicked (Original Version)\"),\n",
       " Row(ts=1539141515000, userId='61', firstname='Parker', page='NextSong', level='paid', song='Vienna'),\n",
       " Row(ts=1539141746000, userId='61', firstname='Parker', page='NextSong', level='paid', song=\"I'm Over You\"),\n",
       " Row(ts=1539141928000, userId='61', firstname='Parker', page='NextSong', level='paid', song='Secret Hell'),\n",
       " Row(ts=1539141929000, userId='61', firstname='Parker', page='Thumbs Up', level='paid', song='0'),\n",
       " Row(ts=1539142227000, userId='61', firstname='Parker', page='NextSong', level='paid', song='Kitty Kat'),\n",
       " Row(ts=1539142462000, userId='61', firstname='Parker', page='NextSong', level='paid', song='Rayando el sol'),\n",
       " Row(ts=1539142714000, userId='61', firstname='Parker', page='NextSong', level='paid', song='Window'),\n",
       " Row(ts=1539142940000, userId='61', firstname='Parker', page='NextSong', level='paid', song='This Fire'),\n",
       " Row(ts=1539143194000, userId='61', firstname='Parker', page='NextSong', level='paid', song='Far Away (Album Version)'),\n",
       " Row(ts=1539143195000, userId='61', firstname='Parker', page='Thumbs Up', level='paid', song='0'),\n",
       " Row(ts=1539143432000, userId='61', firstname='Parker', page='NextSong', level='paid', song='Heads Will Roll'),\n",
       " Row(ts=1539143652000, userId='61', firstname='Parker', page='NextSong', level='paid', song='Invalid'),\n",
       " Row(ts=1539143653000, userId='61', firstname='Parker', page='Logout', level='paid', song='0'),\n",
       " Row(ts=1539144180000, userId='61', firstname='Parker', page='Home', level='paid', song='0'),\n",
       " Row(ts=1539144419000, userId='61', firstname='Parker', page='NextSong', level='paid', song='Faith (Album Version)'),\n",
       " Row(ts=1539144712000, userId='61', firstname='Parker', page='NextSong', level='paid', song='Thank You'),\n",
       " Row(ts=1539144891000, userId='61', firstname='Parker', page='NextSong', level='paid', song='Clampdown'),\n",
       " Row(ts=1539145141000, userId='61', firstname='Parker', page='NextSong', level='paid', song='Cancer For The Cure'),\n",
       " Row(ts=1539145427000, userId='61', firstname='Parker', page='NextSong', level='paid', song='Fag Hag'),\n",
       " Row(ts=1539145601000, userId='61', firstname='Parker', page='NextSong', level='paid', song='Kalopsia'),\n",
       " Row(ts=1539145613000, userId='61', firstname='Parker', page='Add to Playlist', level='paid', song='0'),\n",
       " Row(ts=1539145945000, userId='61', firstname='Parker', page='NextSong', level='paid', song='Narc'),\n",
       " Row(ts=1539146192000, userId='61', firstname='Parker', page='NextSong', level='paid', song='Born To Be Wild'),\n",
       " Row(ts=1539146400000, userId='61', firstname='Parker', page='NextSong', level='paid', song='Hollywood Squares (Album Version)'),\n",
       " Row(ts=1539146706000, userId='61', firstname='Parker', page='NextSong', level='paid', song='Couple Days Off (Single Edit) (2006 Digital Remaster)'),\n",
       " Row(ts=1539146902000, userId='61', firstname='Parker', page='NextSong', level='paid', song='The Only Exception (Album Version)'),\n",
       " Row(ts=1539147169000, userId='61', firstname='Parker', page='NextSong', level='paid', song='Bitch'),\n",
       " Row(ts=1539147465000, userId='61', firstname='Parker', page='NextSong', level='paid', song='CafÃ\\x83Â© Del Mar'),\n",
       " Row(ts=1539147927000, userId='61', firstname='Parker', page='NextSong', level='paid', song='Reclaimer'),\n",
       " Row(ts=1539148112000, userId='61', firstname='Parker', page='NextSong', level='paid', song='If I Had A Chance'),\n",
       " Row(ts=1539148337000, userId='61', firstname='Parker', page='NextSong', level='paid', song=\"Hips Don't Lie\"),\n",
       " Row(ts=1539148552000, userId='61', firstname='Parker', page='NextSong', level='paid', song=\"Travelin' Band\"),\n",
       " Row(ts=1539148687000, userId='61', firstname='Parker', page='NextSong', level='paid', song='The Big Gundown'),\n",
       " Row(ts=1539148947000, userId='61', firstname='Parker', page='NextSong', level='paid', song='Volcano'),\n",
       " Row(ts=1539149225000, userId='61', firstname='Parker', page='NextSong', level='paid', song='Horn Concerto No. 4 in E flat K495: II. Romance (Andante cantabile)'),\n",
       " Row(ts=1539149502000, userId='61', firstname='Parker', page='NextSong', level='paid', song='Not What I Wanted (song heard in Felicity_ Ed_)'),\n",
       " Row(ts=1539149706000, userId='61', firstname='Parker', page='NextSong', level='paid', song='Northern Man'),\n",
       " Row(ts=1539150040000, userId='61', firstname='Parker', page='NextSong', level='paid', song=\"Lonely'S The Only Company (i&ii)\"),\n",
       " Row(ts=1539150421000, userId='61', firstname='Parker', page='NextSong', level='paid', song='Lie'),\n",
       " Row(ts=1539150679000, userId='61', firstname='Parker', page='NextSong', level='paid', song='One Night In Bangkok'),\n",
       " Row(ts=1539150979000, userId='61', firstname='Parker', page='NextSong', level='paid', song='Purgatory'),\n",
       " Row(ts=1539151185000, userId='61', firstname='Parker', page='NextSong', level='paid', song='Here I Am'),\n",
       " Row(ts=1539151461000, userId='61', firstname='Parker', page='NextSong', level='paid', song='Stairway To The Stars'),\n",
       " Row(ts=1539151649000, userId='61', firstname='Parker', page='NextSong', level='paid', song='Birthday Sex'),\n",
       " Row(ts=1539151876000, userId='61', firstname='Parker', page='NextSong', level='paid', song='AhÃ\\x83Â\\xad voy'),\n",
       " Row(ts=1539151895000, userId='61', firstname='Parker', page='Add to Playlist', level='paid', song='0'),\n",
       " Row(ts=1539152229000, userId='61', firstname='Parker', page='NextSong', level='paid', song='Lamentation'),\n",
       " Row(ts=1539153389000, userId='61', firstname='Parker', page='Home', level='paid', song='0'),\n",
       " Row(ts=1539154118000, userId='61', firstname='Parker', page='NextSong', level='paid', song='Breathe'),\n",
       " Row(ts=1539154400000, userId='61', firstname='Parker', page='NextSong', level='paid', song='ReprÃ\\x83Â©sente'),\n",
       " Row(ts=1539154652000, userId='61', firstname='Parker', page='NextSong', level='paid', song='Hibernatus dvd'),\n",
       " Row(ts=1539154848000, userId='61', firstname='Parker', page='NextSong', level='paid', song=\"Don't Cry\"),\n",
       " Row(ts=1539155118000, userId='61', firstname='Parker', page='NextSong', level='paid', song='Crystal Blue Persuasion'),\n",
       " Row(ts=1539155361000, userId='61', firstname='Parker', page='NextSong', level='paid', song='The Islander'),\n",
       " Row(ts=1539155666000, userId='61', firstname='Parker', page='NextSong', level='paid', song=\"Frisch und g'sund\"),\n",
       " Row(ts=1539155835000, userId='61', firstname='Parker', page='NextSong', level='paid', song='Song for Myla Goldberg'),\n",
       " Row(ts=1539156048000, userId='61', firstname='Parker', page='NextSong', level='paid', song='Would You Please'),\n",
       " Row(ts=1539156306000, userId='61', firstname='Parker', page='NextSong', level='paid', song='Crofters'),\n",
       " Row(ts=1539156547000, userId='61', firstname='Parker', page='NextSong', level='paid', song='You Could Easily Have Me'),\n",
       " Row(ts=1539156734000, userId='61', firstname='Parker', page='NextSong', level='paid', song=\"Val's Blues (Digitally Remastered)\"),\n",
       " Row(ts=1539157130000, userId='61', firstname='Parker', page='NextSong', level='paid', song='The Memory Remains'),\n",
       " Row(ts=1539157409000, userId='61', firstname='Parker', page='NextSong', level='paid', song='Numb'),\n",
       " Row(ts=1539157647000, userId='61', firstname='Parker', page='NextSong', level='paid', song='Chac Mool'),\n",
       " Row(ts=1539157758000, userId='61', firstname='Parker', page='NextSong', level='paid', song='Tomorrow'),\n",
       " Row(ts=1539157970000, userId='61', firstname='Parker', page='NextSong', level='paid', song='Kill Me'),\n",
       " Row(ts=1539158185000, userId='61', firstname='Parker', page='NextSong', level='paid', song='Genom tunna tyger'),\n",
       " Row(ts=1539158370000, userId='61', firstname='Parker', page='NextSong', level='paid', song='O How I Miss You'),\n",
       " Row(ts=1539158447000, userId='61', firstname='Parker', page='NextSong', level='paid', song='Uprising'),\n",
       " Row(ts=1539158751000, userId='61', firstname='Parker', page='NextSong', level='paid', song='Come Fly With Me (Album Version)'),\n",
       " Row(ts=1539158950000, userId='61', firstname='Parker', page='NextSong', level='paid', song='The Real Slim Shady'),\n",
       " Row(ts=1539159234000, userId='61', firstname='Parker', page='NextSong', level='paid', song='Use Somebody'),\n",
       " Row(ts=1539159465000, userId='61', firstname='Parker', page='NextSong', level='paid', song='La Esencia Del Guaguanco'),\n",
       " Row(ts=1539159711000, userId='61', firstname='Parker', page='NextSong', level='paid', song='Home'),\n",
       " Row(ts=1539159712000, userId='61', firstname='Parker', page='Add Friend', level='paid', song='0'),\n",
       " Row(ts=1539159713000, userId='61', firstname='Parker', page='Add Friend', level='paid', song='0'),\n",
       " Row(ts=1539160017000, userId='61', firstname='Parker', page='NextSong', level='paid', song='Teen Age Riot'),\n",
       " Row(ts=1539160434000, userId='61', firstname='Parker', page='NextSong', level='paid', song='Day Of Waiting'),\n",
       " Row(ts=1539160722000, userId='61', firstname='Parker', page='NextSong', level='paid', song='Somebody To Love'),\n",
       " Row(ts=1539160942000, userId='61', firstname='Parker', page='NextSong', level='paid', song=\"Don't Cry (Original)\"),\n",
       " Row(ts=1539161226000, userId='61', firstname='Parker', page='NextSong', level='paid', song='Catching On'),\n",
       " Row(ts=1539161385000, userId='61', firstname='Parker', page='NextSong', level='paid', song='Perro Apaleao'),\n",
       " Row(ts=1539161532000, userId='61', firstname='Parker', page='Downgrade', level='paid', song='0'),\n",
       " Row(ts=1539161586000, userId='61', firstname='Parker', page='NextSong', level='paid', song='Raise Your Hand (Live)'),\n",
       " Row(ts=1539161812000, userId='61', firstname='Parker', page='NextSong', level='paid', song=\"Hips Don't Lie (featuring Wyclef Jean)\"),\n",
       " Row(ts=1539162029000, userId='61', firstname='Parker', page='NextSong', level='paid', song='The Big Sleep In Search Of Hades (1995 Digital Remaster)'),\n",
       " Row(ts=1539162297000, userId='61', firstname='Parker', page='NextSong', level='paid', song='Population Control (feat. R.A. The Rugged Man)'),\n",
       " Row(ts=1539162563000, userId='61', firstname='Parker', page='NextSong', level='paid', song='Mano Velho'),\n",
       " Row(ts=1539162858000, userId='61', firstname='Parker', page='NextSong', level='paid', song='All My Life  (LP Version)'),\n",
       " Row(ts=1539163071000, userId='61', firstname='Parker', page='NextSong', level='paid', song='The Switch'),\n",
       " Row(ts=1539163318000, userId='61', firstname='Parker', page='NextSong', level='paid', song='Work To Do'),\n",
       " Row(ts=1539163574000, userId='61', firstname='Parker', page='NextSong', level='paid', song=\"Hailie's Song\"),\n",
       " Row(ts=1539163600000, userId='61', firstname='Parker', page='Home', level='paid', song='0'),\n",
       " Row(ts=1539163894000, userId='61', firstname='Parker', page='NextSong', level='paid', song='Down In A Hole'),\n",
       " Row(ts=1539164231000, userId='61', firstname='Parker', page='NextSong', level='paid', song='Dance Flow'),\n",
       " Row(ts=1539164688000, userId='61', firstname='Parker', page='NextSong', level='paid', song='The Cigar Song'),\n",
       " Row(ts=1539164905000, userId='61', firstname='Parker', page='NextSong', level='paid', song='Hate_ Myth_ Muscle_ Etiquette'),\n",
       " Row(ts=1539164906000, userId='61', firstname='Parker', page='Thumbs Up', level='paid', song='0'),\n",
       " Row(ts=1539165068000, userId='61', firstname='Parker', page='NextSong', level='paid', song='TÃ\\x83Â© Para Tres'),\n",
       " Row(ts=1539165213000, userId='61', firstname='Parker', page='NextSong', level='paid', song='Vos Dieux Ont Les Mains Sales'),\n",
       " Row(ts=1539165316000, userId='61', firstname='Parker', page='Add to Playlist', level='paid', song='0'),\n",
       " Row(ts=1539165446000, userId='61', firstname='Parker', page='NextSong', level='paid', song='My Innocence'),\n",
       " Row(ts=1539165704000, userId='61', firstname='Parker', page='NextSong', level='paid', song='See Dem Coming'),\n",
       " Row(ts=1539165705000, userId='61', firstname='Parker', page='Thumbs Up', level='paid', song='0'),\n",
       " Row(ts=1539165933000, userId='61', firstname='Parker', page='NextSong', level='paid', song=\"Ain't Talkin' 'Bout Love (Remastered Live Version)\"),\n",
       " Row(ts=1539166216000, userId='61', firstname='Parker', page='NextSong', level='paid', song='Chapel Of Ghouls (Live)'),\n",
       " Row(ts=1539166442000, userId='61', firstname='Parker', page='NextSong', level='paid', song='Otherside (Album Version)'),\n",
       " Row(ts=1539166443000, userId='61', firstname='Parker', page='Thumbs Up', level='paid', song='0'),\n",
       " Row(ts=1539166697000, userId='61', firstname='Parker', page='NextSong', level='paid', song='Nostalgia'),\n",
       " Row(ts=1539166698000, userId='61', firstname='Parker', page='Logout', level='paid', song='0'),\n",
       " Row(ts=1539167962000, userId='61', firstname='Parker', page='Home', level='paid', song='0'),\n",
       " Row(ts=1539168195000, userId='61', firstname='Parker', page='NextSong', level='paid', song='Balance (Album)'),\n",
       " Row(ts=1539168421000, userId='61', firstname='Parker', page='NextSong', level='paid', song='Castle-Time'),\n",
       " Row(ts=1539168659000, userId='61', firstname='Parker', page='NextSong', level='paid', song='SeÃ\\x83Â±orita'),\n",
       " Row(ts=1539168953000, userId='61', firstname='Parker', page='NextSong', level='paid', song='Revelry'),\n",
       " Row(ts=1539169154000, userId='61', firstname='Parker', page='NextSong', level='paid', song='Paint The Town Red'),\n",
       " Row(ts=1539169404000, userId='61', firstname='Parker', page='NextSong', level='paid', song='Feeling This'),\n",
       " Row(ts=1539169577000, userId='61', firstname='Parker', page='NextSong', level='paid', song='Esisti Tu'),\n",
       " Row(ts=1539169578000, userId='61', firstname='Parker', page='Add Friend', level='paid', song='0'),\n",
       " Row(ts=1539169579000, userId='61', firstname='Parker', page='Add Friend', level='paid', song='0'),\n",
       " Row(ts=1539169778000, userId='61', firstname='Parker', page='NextSong', level='paid', song='Lola Stars and Stripes (Album Version)'),\n",
       " Row(ts=1539170007000, userId='61', firstname='Parker', page='NextSong', level='paid', song=\"Don't Believe A Word\"),\n",
       " Row(ts=1539170144000, userId='61', firstname='Parker', page='NextSong', level='paid', song='Daisies Of The Galaxy'),\n",
       " Row(ts=1539170352000, userId='61', firstname='Parker', page='NextSong', level='paid', song='Harmonic Generator'),\n",
       " Row(ts=1539170535000, userId='61', firstname='Parker', page='NextSong', level='paid', song=\"You're The One\"),\n",
       " Row(ts=1539170891000, userId='61', firstname='Parker', page='Downgrade', level='paid', song='0'),\n",
       " Row(ts=1539170892000, userId='61', firstname='Parker', page='Logout', level='paid', song='0'),\n",
       " Row(ts=1539171001000, userId='61', firstname='Parker', page='Home', level='paid', song='0'),\n",
       " Row(ts=1539171401000, userId='61', firstname='Parker', page='NextSong', level='paid', song='Horn Concerto No. 4 in E flat K495: II. Romance (Andante cantabile)'),\n",
       " Row(ts=1539171678000, userId='61', firstname='Parker', page='NextSong', level='paid', song='Gravity'),\n",
       " Row(ts=1539171679000, userId='61', firstname='Parker', page='Add Friend', level='paid', song='0'),\n",
       " Row(ts=1539171680000, userId='61', firstname='Parker', page='Add Friend', level='paid', song='0'),\n",
       " Row(ts=1539171923000, userId='61', firstname='Parker', page='NextSong', level='paid', song='No Hay Dolor'),\n",
       " Row(ts=1539172214000, userId='61', firstname='Parker', page='NextSong', level='paid', song='Creuza'),\n",
       " Row(ts=1539172391000, userId='61', firstname='Parker', page='NextSong', level='paid', song='NÃ\\x83Â£o Sei Viver Sem Ter VocÃ\\x83Âª'),\n",
       " Row(ts=1539172617000, userId='61', firstname='Parker', page='NextSong', level='paid', song='Dog Days Are Over (Radio Edit)'),\n",
       " Row(ts=1539172836000, userId='61', firstname='Parker', page='NextSong', level='paid', song='I Will Follow You into the Dark (Album Version)'),\n",
       " Row(ts=1539173025000, userId='61', firstname='Parker', page='NextSong', level='paid', song='Pipebomb On Lansdowne'),\n",
       " Row(ts=1539173134000, userId='61', firstname='Parker', page='Home', level='paid', song='0'),\n",
       " Row(ts=1539173145000, userId='61', firstname='Parker', page='NextSong', level='paid', song='Doing It All For My Baby l (LP Version)'),\n",
       " Row(ts=1539173405000, userId='61', firstname='Parker', page='NextSong', level='paid', song='Jamaica Roots II(Agora E Sempre)'),\n",
       " Row(ts=1539173615000, userId='61', firstname='Parker', page='NextSong', level='paid', song='You Make Me Wanna...'),\n",
       " Row(ts=1539173934000, userId='61', firstname='Parker', page='NextSong', level='paid', song=\"Crockett's Theme\"),\n",
       " Row(ts=1539174138000, userId='61', firstname='Parker', page='NextSong', level='paid', song='Hot Dog In A Hallway'),\n",
       " Row(ts=1539174309000, userId='61', firstname='Parker', page='NextSong', level='paid', song='Revelry'),\n",
       " Row(ts=1539174310000, userId='61', firstname='Parker', page='Thumbs Up', level='paid', song='0'),\n",
       " Row(ts=1539174510000, userId='61', firstname='Parker', page='NextSong', level='paid', song='Born Slippy'),\n",
       " Row(ts=1539175210000, userId='61', firstname='Parker', page='NextSong', level='paid', song='After The Gold Rush (Album Version)'),\n",
       " Row(ts=1539175764000, userId='61', firstname='Parker', page='Add to Playlist', level='paid', song='0'),\n",
       " Row(ts=1539175993000, userId='61', firstname='Parker', page='NextSong', level='paid', song='Pursuit Of Happiness (nightmare)'),\n",
       " Row(ts=1539176288000, userId='61', firstname='Parker', page='NextSong', level='paid', song='Chickamauga'),\n",
       " Row(ts=1539176510000, userId='61', firstname='Parker', page='NextSong', level='paid', song='Beaver Creek Mansion'),\n",
       " Row(ts=1539176742000, userId='61', firstname='Parker', page='NextSong', level='paid', song='Sehr kosmisch'),\n",
       " Row(ts=1539177397000, userId='61', firstname='Parker', page='NextSong', level='paid', song='Flume'),\n",
       " Row(ts=1539177615000, userId='61', firstname='Parker', page='NextSong', level='paid', song='Teargas'),\n",
       " Row(ts=1539177616000, userId='61', firstname='Parker', page='Add Friend', level='paid', song='0'),\n",
       " Row(ts=1539177818000, userId='61', firstname='Parker', page='NextSong', level='paid', song='Schmooziphisus The Great'),\n",
       " Row(ts=1539177819000, userId='61', firstname='Parker', page='Thumbs Down', level='paid', song='0'),\n",
       " Row(ts=1539177961000, userId='61', firstname='Parker', page='NextSong', level='paid', song='Revelry'),\n",
       " Row(ts=1539178162000, userId='61', firstname='Parker', page='NextSong', level='paid', song=\"Frisch und g'sund\"),\n",
       " Row(ts=1539178244000, userId='61', firstname='Parker', page='Help', level='paid', song='0'),\n",
       " Row(ts=1539178254000, userId='61', firstname='Parker', page='Home', level='paid', song='0'),\n",
       " Row(ts=1539178331000, userId='61', firstname='Parker', page='NextSong', level='paid', song='Always'),\n",
       " Row(ts=1539178582000, userId='61', firstname='Parker', page='NextSong', level='paid', song='Fingers'),\n",
       " Row(ts=1539178813000, userId='61', firstname='Parker', page='NextSong', level='paid', song='Sheila (Explicit)'),\n",
       " Row(ts=1539178814000, userId='61', firstname='Parker', page='Logout', level='paid', song='0'),\n",
       " Row(ts=1539178971000, userId='61', firstname='Parker', page='Home', level='paid', song='0'),\n",
       " Row(ts=1539179072000, userId='61', firstname='Parker', page='NextSong', level='paid', song='When I Argue I See Shapes'),\n",
       " Row(ts=1539179336000, userId='61', firstname='Parker', page='NextSong', level='paid', song='Demasiado Bueno'),\n",
       " Row(ts=1539179645000, userId='61', firstname='Parker', page='NextSong', level='paid', song='Ã\\x83Â\\x96ll Birtan'),\n",
       " Row(ts=1539179756000, userId='61', firstname='Parker', page='NextSong', level='paid', song='Not Fair (Clean Radio Edit)'),\n",
       " Row(ts=1539179957000, userId='61', firstname='Parker', page='NextSong', level='paid', song='In The End (Album Version)'),\n",
       " Row(ts=1539180037000, userId='61', firstname='Parker', page='Add to Playlist', level='paid', song='0'),\n",
       " Row(ts=1539180173000, userId='61', firstname='Parker', page='NextSong', level='paid', song=\"When I Get Home You're So Dead (New Version) (Album)\"),\n",
       " Row(ts=1539180366000, userId='61', firstname='Parker', page='NextSong', level='paid', song='My Private Nation'),\n",
       " Row(ts=1539180568000, userId='61', firstname='Parker', page='NextSong', level='paid', song='Human After All'),\n",
       " Row(ts=1539180847000, userId='61', firstname='Parker', page='Home', level='paid', song='0'),\n",
       " Row(ts=1539182019000, userId='61', firstname='Parker', page='NextSong', level='paid', song='Black Door'),\n",
       " Row(ts=1539182165000, userId='61', firstname='Parker', page='Settings', level='paid', song='0'),\n",
       " Row(ts=1539182229000, userId='61', firstname='Parker', page='NextSong', level='paid', song='The Daydream'),\n",
       " Row(ts=1539182230000, userId='61', firstname='Parker', page='Thumbs Up', level='paid', song='0'),\n",
       " Row(ts=1539182480000, userId='61', firstname='Parker', page='NextSong', level='paid', song='Girls On Film'),\n",
       " Row(ts=1539182689000, userId='61', firstname='Parker', page='NextSong', level='paid', song='Stockholm Syndrome'),\n",
       " Row(ts=1539182985000, userId='61', firstname='Parker', page='NextSong', level='paid', song='Admit It'),\n",
       " Row(ts=1539183206000, userId='61', firstname='Parker', page='NextSong', level='paid', song='Es liegt nur an Dir'),\n",
       " Row(ts=1539183396000, userId='61', firstname='Parker', page='NextSong', level='paid', song='Billie Jean'),\n",
       " Row(ts=1539183677000, userId='61', firstname='Parker', page='NextSong', level='paid', song='Get Up_ Stand Up Dub'),\n",
       " Row(ts=1539183890000, userId='61', firstname='Parker', page='NextSong', level='paid', song='Hey_ Soul Sister'),\n",
       " Row(ts=1539183891000, userId='61', firstname='Parker', page='Thumbs Up', level='paid', song='0'),\n",
       " Row(ts=1539184392000, userId='61', firstname='Parker', page='Add to Playlist', level='paid', song='0'),\n",
       " Row(ts=1539184570000, userId='61', firstname='Parker', page='NextSong', level='paid', song='Acapulco 1922'),\n",
       " Row(ts=1539184733000, userId='61', firstname='Parker', page='NextSong', level='paid', song='Revelry'),\n",
       " Row(ts=1539184934000, userId='61', firstname='Parker', page='NextSong', level='paid', song='I Thought It Was You'),\n",
       " Row(ts=1539185244000, userId='61', firstname='Parker', page='NextSong', level='paid', song='Untitled'),\n",
       " Row(ts=1539185410000, userId='61', firstname='Parker', page='NextSong', level='paid', song='Untitled (Domestic Album Version)'),\n",
       " Row(ts=1539185647000, userId='61', firstname='Parker', page='NextSong', level='paid', song='Undo'),\n",
       " Row(ts=1539185995000, userId='61', firstname='Parker', page='NextSong', level='paid', song='When You Were Young'),\n",
       " Row(ts=1539186215000, userId='61', firstname='Parker', page='NextSong', level='paid', song='Stars and Boulevards'),\n",
       " Row(ts=1539186475000, userId='61', firstname='Parker', page='NextSong', level='paid', song='Despre tine'),\n",
       " Row(ts=1539186476000, userId='61', firstname='Parker', page='Thumbs Up', level='paid', song='0'),\n",
       " Row(ts=1539186562000, userId='61', firstname='Parker', page='Add to Playlist', level='paid', song='0'),\n",
       " Row(ts=1539186701000, userId='61', firstname='Parker', page='NextSong', level='paid', song='How You Remind Me'),\n",
       " Row(ts=1539186925000, userId='61', firstname='Parker', page='NextSong', level='paid', song='Lovers & Fools'),\n",
       " Row(ts=1539187079000, userId='61', firstname='Parker', page='NextSong', level='paid', song='Footloose And Fancy Free'),\n",
       " Row(ts=1539187080000, userId='61', firstname='Parker', page='Thumbs Up', level='paid', song='0'),\n",
       " Row(ts=1539187251000, userId='61', firstname='Parker', page='NextSong', level='paid', song='Psycho Killer (Acoustic)'),\n",
       " Row(ts=1539187252000, userId='61', firstname='Parker', page='Thumbs Up', level='paid', song='0'),\n",
       " Row(ts=1539187509000, userId='61', firstname='Parker', page='NextSong', level='paid', song='Good Morning Little School Girl'),\n",
       " Row(ts=1539187763000, userId='61', firstname='Parker', page='NextSong', level='paid', song='Bad Day (Album Version)'),\n",
       " Row(ts=1539187996000, userId='61', firstname='Parker', page='NextSong', level='paid', song='All I Know'),\n",
       " Row(ts=1539188289000, userId='61', firstname='Parker', page='NextSong', level='paid', song='Hochmah (Interlude)'),\n",
       " Row(ts=1539188421000, userId='61', firstname='Parker', page='NextSong', level='paid', song='Sunday Morning'),\n",
       " Row(ts=1539188665000, userId='61', firstname='Parker', page='NextSong', level='paid', song='I Gotta Feeling'),\n",
       " Row(ts=1539188954000, userId='61', firstname='Parker', page='NextSong', level='paid', song='Tomorrow Police'),\n",
       " Row(ts=1539189219000, userId='61', firstname='Parker', page='NextSong', level='paid', song='Come On In My Kitchen'),\n",
       " Row(ts=1539189381000, userId='61', firstname='Parker', page='NextSong', level='paid', song='Break Stuff'),\n",
       " Row(ts=1539189547000, userId='61', firstname='Parker', page='NextSong', level='paid', song='Time To Pretend'),\n",
       " Row(ts=1539189811000, userId='61', firstname='Parker', page='NextSong', level='paid', song='La NiÃ\\x83Â±a'),\n",
       " Row(ts=1539190087000, userId='61', firstname='Parker', page='NextSong', level='paid', song='Crawl'),\n",
       " Row(ts=1539190321000, userId='61', firstname='Parker', page='NextSong', level='paid', song='Daydream'),\n",
       " Row(ts=1539190702000, userId='61', firstname='Parker', page='NextSong', level='paid', song='Hummer'),\n",
       " Row(ts=1539190878000, userId='61', firstname='Parker', page='NextSong', level='paid', song='In Time'),\n",
       " Row(ts=1539191042000, userId='61', firstname='Parker', page='NextSong', level='paid', song='DonÃ\\x82Â´t Believe The Hype'),\n",
       " Row(ts=1539191372000, userId='61', firstname='Parker', page='NextSong', level='paid', song='Revelry'),\n",
       " Row(ts=1539191573000, userId='61', firstname='Parker', page='NextSong', level='paid', song=\"Bentley's Gonna Sort You Out\"),\n",
       " Row(ts=1539191878000, userId='61', firstname='Parker', page='NextSong', level='paid', song='Stronger'),\n",
       " Row(ts=1539191879000, userId='61', firstname='Parker', page='Thumbs Up', level='paid', song='0'),\n",
       " Row(ts=1539192189000, userId='61', firstname='Parker', page='NextSong', level='paid', song='Puppets'),\n",
       " Row(ts=1539192410000, userId='61', firstname='Parker', page='NextSong', level='paid', song='Rock N Roll'),\n",
       " Row(ts=1539192671000, userId='61', firstname='Parker', page='NextSong', level='paid', song='Creep (Explicit)'),\n",
       " Row(ts=1539192906000, userId='61', firstname='Parker', page='NextSong', level='paid', song='Suzy 2003 (Live)'),\n",
       " Row(ts=1539193190000, userId='61', firstname='Parker', page='NextSong', level='paid', song='SinceritÃ\\x83Â© Et Jalousie'),\n",
       " Row(ts=1539193385000, userId='61', firstname='Parker', page='NextSong', level='paid', song=\"Why Can't This Be Love (Remastered Version)\"),\n",
       " Row(ts=1539193613000, userId='61', firstname='Parker', page='NextSong', level='paid', song='Empire State Express'),\n",
       " Row(ts=1539193834000, userId='61', firstname='Parker', page='NextSong', level='paid', song='Riot Van'),\n",
       " Row(ts=1539193968000, userId='61', firstname='Parker', page='NextSong', level='paid', song='Too Many'),\n",
       " Row(ts=1539194148000, userId='61', firstname='Parker', page='NextSong', level='paid', song='Digital Monkey'),\n",
       " Row(ts=1539194371000, userId='61', firstname='Parker', page='NextSong', level='paid', song=\"If It Couldn't Be Done\"),\n",
       " Row(ts=1539194504000, userId='61', firstname='Parker', page='NextSong', level='paid', song='Have A Nice Day'),\n",
       " Row(ts=1539194720000, userId='61', firstname='Parker', page='NextSong', level='paid', song='Bossy (Edited) (Feat. Too $hort)'),\n",
       " Row(ts=1539194992000, userId='61', firstname='Parker', page='NextSong', level='paid', song='Street Knowledge'),\n",
       " Row(ts=1539195402000, userId='61', firstname='Parker', page='NextSong', level='paid', song='Home'),\n",
       " Row(ts=1539195595000, userId='61', firstname='Parker', page='NextSong', level='paid', song='1517'),\n",
       " Row(ts=1539195812000, userId='61', firstname='Parker', page='NextSong', level='paid', song='Acapulco 1922'),\n",
       " Row(ts=1539195975000, userId='61', firstname='Parker', page='NextSong', level='paid', song='Marry Me'),\n",
       " Row(ts=1539196180000, userId='61', firstname='Parker', page='NextSong', level='paid', song=\"Do That There (featuring Dude 'N Nem)\"),\n",
       " Row(ts=1539196410000, userId='61', firstname='Parker', page='NextSong', level='paid', song=\"You're The One\"),\n",
       " Row(ts=1539196649000, userId='61', firstname='Parker', page='NextSong', level='paid', song='Creil City'),\n",
       " Row(ts=1539196914000, userId='61', firstname='Parker', page='NextSong', level='paid', song='Hello'),\n",
       " Row(ts=1539197170000, userId='61', firstname='Parker', page='NextSong', level='paid', song='Good Enough (Very Best Of Whitecross Album Version)'),\n",
       " Row(ts=1539197408000, userId='61', firstname='Parker', page='NextSong', level='paid', song='Rock Star'),\n",
       " Row(ts=1539197667000, userId='61', firstname='Parker', page='NextSong', level='paid', song='TÃ\\x83Âºl sok a kirÃ\\x83Â¡ly'),\n",
       " Row(ts=1539197798000, userId='61', firstname='Parker', page='NextSong', level='paid', song='Just Dance'),\n",
       " Row(ts=1539198036000, userId='61', firstname='Parker', page='NextSong', level='paid', song='What Have I Done Wrong'),\n",
       " Row(ts=1539198519000, userId='61', firstname='Parker', page='NextSong', level='paid', song='Savior'),\n",
       " Row(ts=1539198761000, userId='61', firstname='Parker', page='NextSong', level='paid', song=\"I Don't Wanna Wait (Album Version)\"),\n",
       " Row(ts=1539198762000, userId='61', firstname='Parker', page='Thumbs Up', level='paid', song='0'),\n",
       " Row(ts=1539198940000, userId='61', firstname='Parker', page='NextSong', level='paid', song='The Middle'),\n",
       " Row(ts=1539199106000, userId='61', firstname='Parker', page='NextSong', level='paid', song='Halloween II'),\n",
       " Row(ts=1539199239000, userId='61', firstname='Parker', page='NextSong', level='paid', song='Almost Grown'),\n",
       " Row(ts=1539199378000, userId='61', firstname='Parker', page='NextSong', level='paid', song='Orestes'),\n",
       " Row(ts=1539199666000, userId='61', firstname='Parker', page='NextSong', level='paid', song='Somebody To Love'),\n",
       " Row(ts=1539199886000, userId='61', firstname='Parker', page='NextSong', level='paid', song='Paper Planes'),\n",
       " Row(ts=1539200092000, userId='61', firstname='Parker', page='NextSong', level='paid', song='Cyclone (feat.Mikeal & T-Pain)'),\n",
       " Row(ts=1539200219000, userId='61', firstname='Parker', page='NextSong', level='paid', song='Imagina'),\n",
       " Row(ts=1539200338000, userId='61', firstname='Parker', page='NextSong', level='paid', song='I Need You Now'),\n",
       " Row(ts=1539200721000, userId='61', firstname='Parker', page='Downgrade', level='paid', song='0'),\n",
       " Row(ts=1539201619000, userId='61', firstname='Parker', page='NextSong', level='paid', song='Destination Love'),\n",
       " Row(ts=1539201755000, userId='61', firstname='Parker', page='NextSong', level='paid', song='Apologize'),\n",
       " Row(ts=1539201963000, userId='61', firstname='Parker', page='NextSong', level='paid', song=\"It's My Life\"),\n",
       " Row(ts=1539202187000, userId='61', firstname='Parker', page='NextSong', level='paid', song='Missing You'),\n",
       " Row(ts=1539202456000, userId='61', firstname='Parker', page='NextSong', level='paid', song='Corrido de Boxeo'),\n",
       " Row(ts=1539202457000, userId='61', firstname='Parker', page='Logout', level='paid', song='0'),\n",
       " Row(ts=1539202740000, userId='61', firstname='Parker', page='Home', level='paid', song='0'),\n",
       " Row(ts=1539203220000, userId='61', firstname='Parker', page='NextSong', level='paid', song='Sunrise'),\n",
       " Row(ts=1539203466000, userId='61', firstname='Parker', page='NextSong', level='paid', song='We Both Go Down together'),\n",
       " Row(ts=1539203650000, userId='61', firstname='Parker', page='NextSong', level='paid', song='New Divide (Album Version)'),\n",
       " Row(ts=1539203918000, userId='61', firstname='Parker', page='NextSong', level='paid', song='Brothers'),\n",
       " Row(ts=1539204344000, userId='61', firstname='Parker', page='NextSong', level='paid', song='Hope'),\n",
       " Row(ts=1539204601000, userId='61', firstname='Parker', page='NextSong', level='paid', song='El Capitalismo ForÃ\\x83Â¡neo'),\n",
       " Row(ts=1539204973000, userId='61', firstname='Parker', page='NextSong', level='paid', song='Senza Una Donna (Without A Woman)'),\n",
       " Row(ts=1539205239000, userId='61', firstname='Parker', page='NextSong', level='paid', song='Here I Dreamt I Was an Architect'),\n",
       " Row(ts=1539205507000, userId='61', firstname='Parker', page='NextSong', level='paid', song='Our Life Is Not A Movie Or Maybe'),\n",
       " Row(ts=1539205771000, userId='61', firstname='Parker', page='NextSong', level='paid', song='Fear And Loathing In Mahwah_ NJ'),\n",
       " Row(ts=1539206126000, userId='61', firstname='Parker', page='NextSong', level='paid', song='The Voiceless'),\n",
       " Row(ts=1539206511000, userId='61', firstname='Parker', page='NextSong', level='paid', song=\"Ain't No Rest For The Wicked (Original Version)\"),\n",
       " Row(ts=1539206686000, userId='61', firstname='Parker', page='NextSong', level='paid', song='White Flag'),\n",
       " Row(ts=1539206926000, userId='61', firstname='Parker', page='NextSong', level='paid', song='Use Somebody'),\n",
       " Row(ts=1539207157000, userId='61', firstname='Parker', page='NextSong', level='paid', song='Time To Pretend'),\n",
       " Row(ts=1539207158000, userId='61', firstname='Parker', page='Thumbs Up', level='paid', song='0'),\n",
       " Row(ts=1539207421000, userId='61', firstname='Parker', page='NextSong', level='paid', song='Gold Guns Girls'),\n",
       " Row(ts=1539207666000, userId='61', firstname='Parker', page='NextSong', level='paid', song='Rescuing Penny'),\n",
       " Row(ts=1539207855000, userId='61', firstname='Parker', page='NextSong', level='paid', song='The Only (Album Version)'),\n",
       " Row(ts=1539208026000, userId='61', firstname='Parker', page='NextSong', level='paid', song='ATWA'),\n",
       " Row(ts=1539208202000, userId='61', firstname='Parker', page='NextSong', level='paid', song='Touchy! (Album Version)'),\n",
       " Row(ts=1539208479000, userId='61', firstname='Parker', page='NextSong', level='paid', song='A Beggar On A Beach Of Gold'),\n",
       " Row(ts=1539208754000, userId='61', firstname='Parker', page='NextSong', level='paid', song='All Men Are Liars'),\n",
       " Row(ts=1539208957000, userId='61', firstname='Parker', page='NextSong', level='paid', song='Ability To Create A War'),\n",
       " Row(ts=1539209045000, userId='61', firstname='Parker', page='NextSong', level='paid', song='The Mary Martin Show'),\n",
       " Row(ts=1539209244000, userId='61', firstname='Parker', page='NextSong', level='paid', song='Addicted'),\n",
       " Row(ts=1539209480000, userId='61', firstname='Parker', page='NextSong', level='paid', song='When You Need My Love'),\n",
       " Row(ts=1539209702000, userId='61', firstname='Parker', page='NextSong', level='paid', song='Half The Perfect World'),\n",
       " Row(ts=1539209961000, userId='61', firstname='Parker', page='NextSong', level='paid', song=\"Let's Try Again\"),\n",
       " Row(ts=1539210368000, userId='61', firstname='Parker', page='NextSong', level='paid', song='Dos amores'),\n",
       " Row(ts=1539210535000, userId='61', firstname='Parker', page='NextSong', level='paid', song='Chasing Cars'),\n",
       " Row(ts=1539210809000, userId='61', firstname='Parker', page='NextSong', level='paid', song='The Bones Of An Idol'),\n",
       " Row(ts=1539210980000, userId='61', firstname='Parker', page='NextSong', level='paid', song='Fix You'),\n",
       " Row(ts=1539210981000, userId='61', firstname='Parker', page='Thumbs Up', level='paid', song='0'),\n",
       " Row(ts=1539211274000, userId='61', firstname='Parker', page='NextSong', level='paid', song='The Funeral (Album Version)'),\n",
       " Row(ts=1539211595000, userId='61', firstname='Parker', page='NextSong', level='paid', song='Say No More'),\n",
       " Row(ts=1539211596000, userId='61', firstname='Parker', page='Logout', level='paid', song='0'),\n",
       " Row(ts=1539212795000, userId='61', firstname='Parker', page='Home', level='paid', song='0'),\n",
       " Row(ts=1539212905000, userId='61', firstname='Parker', page='NextSong', level='paid', song='Oceanside'),\n",
       " Row(ts=1539213121000, userId='61', firstname='Parker', page='NextSong', level='paid', song='Take Me Home_ Country Roads'),\n",
       " Row(ts=1539213331000, userId='61', firstname='Parker', page='NextSong', level='paid', song='Buddy Holly'),\n",
       " Row(ts=1539213490000, userId='61', firstname='Parker', page='NextSong', level='paid', song='I.O.U. Me'),\n",
       " Row(ts=1539213771000, userId='61', firstname='Parker', page='NextSong', level='paid', song='Angie'),\n",
       " Row(ts=1539214041000, userId='61', firstname='Parker', page='NextSong', level='paid', song='Bleed It Out [Live At Milton Keynes]'),\n",
       " Row(ts=1539214535000, userId='61', firstname='Parker', page='NextSong', level='paid', song='Get A Life'),\n",
       " Row(ts=1539214759000, userId='61', firstname='Parker', page='NextSong', level='paid', song=\"Everything's Right\"),\n",
       " Row(ts=1539214925000, userId='61', firstname='Parker', page='NextSong', level='paid', song='Pretty Girl'),\n",
       " Row(ts=1539215202000, userId='61', firstname='Parker', page='NextSong', level='paid', song='Taklamakan Desert'),\n",
       " Row(ts=1539215611000, userId='61', firstname='Parker', page='Add to Playlist', level='paid', song='0'),\n",
       " Row(ts=1539215719000, userId='61', firstname='Parker', page='NextSong', level='paid', song='Touchy! (Album Version)'),\n",
       " Row(ts=1539215720000, userId='61', firstname='Parker', page='Thumbs Up', level='paid', song='0'),\n",
       " Row(ts=1539215996000, userId='61', firstname='Parker', page='NextSong', level='paid', song='Now That We Found Love'),\n",
       " Row(ts=1539216253000, userId='61', firstname='Parker', page='NextSong', level='paid', song='The Glory'),\n",
       " Row(ts=1539216465000, userId='61', firstname='Parker', page='NextSong', level='paid', song='Voices Carry'),\n",
       " Row(ts=1539216725000, userId='61', firstname='Parker', page='NextSong', level='paid', song='Se Acabo Remix featuring Method Man'),\n",
       " Row(ts=1539216937000, userId='61', firstname='Parker', page='NextSong', level='paid', song='Don\\x19t Look Back Into The Sun'),\n",
       " Row(ts=1539217115000, userId='61', firstname='Parker', page='NextSong', level='paid', song='Time Honoured Tradition'),\n",
       " Row(ts=1539217280000, userId='61', firstname='Parker', page='NextSong', level='paid', song='Almost Lover (Album Version)'),\n",
       " Row(ts=1539217547000, userId='61', firstname='Parker', page='NextSong', level='paid', song='Ã\\x82Â¿Por Que No Te Haces Para Alla?.. Al Mas Alla'),\n",
       " Row(ts=1539217834000, userId='61', firstname='Parker', page='NextSong', level='paid', song='Un Violinista En Tu Tejado'),\n",
       " Row(ts=1539217835000, userId='61', firstname='Parker', page='Thumbs Down', level='paid', song='0'),\n",
       " Row(ts=1539218055000, userId='61', firstname='Parker', page='NextSong', level='paid', song='Die Tonight'),\n",
       " Row(ts=1539218230000, userId='61', firstname='Parker', page='NextSong', level='paid', song='Knife'),\n",
       " Row(ts=1539218544000, userId='61', firstname='Parker', page='NextSong', level='paid', song='Nothing from Nothing'),\n",
       " Row(ts=1539218697000, userId='61', firstname='Parker', page='NextSong', level='paid', song='Forest Floor 2'),\n",
       " Row(ts=1539219254000, userId='61', firstname='Parker', page='Home', level='paid', song='0'),\n",
       " Row(ts=1539219520000, userId='61', firstname='Parker', page='NextSong', level='paid', song='Take You On A Cruise'),\n",
       " Row(ts=1539219521000, userId='61', firstname='Parker', page='Thumbs Up', level='paid', song='0'),\n",
       " Row(ts=1539219814000, userId='61', firstname='Parker', page='NextSong', level='paid', song='Make This Go On Forever'),\n",
       " Row(ts=1539220161000, userId='61', firstname='Parker', page='NextSong', level='paid', song='Someone Else Calling You Baby'),\n",
       " Row(ts=1539220388000, userId='61', firstname='Parker', page='NextSong', level='paid', song='A Piece Of My Life'),\n",
       " Row(ts=1539220463000, userId='61', firstname='Parker', page='Home', level='paid', song='0'),\n",
       " Row(ts=1539220581000, userId='61', firstname='Parker', page='NextSong', level='paid', song='ShimbalaiÃ\\x83Âª'),\n",
       " Row(ts=1539220582000, userId='61', firstname='Parker', page='Thumbs Up', level='paid', song='0'),\n",
       " Row(ts=1539220776000, userId='61', firstname='Parker', page='NextSong', level='paid', song='Pleasure And Pain'),\n",
       " Row(ts=1539221009000, userId='61', firstname='Parker', page='NextSong', level='paid', song='Talk Show Host'),\n",
       " Row(ts=1539221264000, userId='61', firstname='Parker', page='NextSong', level='paid', song='Strange Desire'),\n",
       " Row(ts=1539221524000, userId='61', firstname='Parker', page='NextSong', level='paid', song='Never Say Never'),\n",
       " Row(ts=1539221976000, userId='61', firstname='Parker', page='NextSong', level='paid', song='Dear God (Sincerely M.O.F.)'),\n",
       " Row(ts=1539222283000, userId='61', firstname='Parker', page='NextSong', level='paid', song='Heaven (Featuring Trina Broussard) (Album Version)'),\n",
       " Row(ts=1539222705000, userId='61', firstname='Parker', page='Add to Playlist', level='paid', song='0'),\n",
       " Row(ts=1539222748000, userId='61', firstname='Parker', page='NextSong', level='paid', song='Southern Weather'),\n",
       " Row(ts=1539222956000, userId='61', firstname='Parker', page='NextSong', level='paid', song='Hey_ Soul Sister'),\n",
       " Row(ts=1539223172000, userId='61', firstname='Parker', page='NextSong', level='paid', song='Drop It Low'),\n",
       " Row(ts=1539223362000, userId='61', firstname='Parker', page='NextSong', level='paid', song='Life In Technicolor ii'),\n",
       " Row(ts=1539223606000, userId='61', firstname='Parker', page='NextSong', level='paid', song='Gigolo Aunt'),\n",
       " Row(ts=1539223953000, userId='61', firstname='Parker', page='NextSong', level='paid', song='Call It Off (Album Version)'),\n",
       " Row(ts=1539224094000, userId='61', firstname='Parker', page='NextSong', level='paid', song='Wish You Were Here'),\n",
       " Row(ts=1539224306000, userId='61', firstname='Parker', page='NextSong', level='paid', song='Around the Clock'),\n",
       " Row(ts=1539224545000, userId='61', firstname='Parker', page='NextSong', level='paid', song='The Girl You Lost (Sander van Doorn Edit)'),\n",
       " Row(ts=1539224725000, userId='61', firstname='Parker', page='NextSong', level='paid', song='Eenie Meenie'),\n",
       " Row(ts=1539224926000, userId='61', firstname='Parker', page='NextSong', level='paid', song='Feel So Numb'),\n",
       " Row(ts=1539225159000, userId='61', firstname='Parker', page='NextSong', level='paid', song='Charming Dxm'),\n",
       " Row(ts=1539225223000, userId='61', firstname='Parker', page='NextSong', level='paid', song='The Handshake'),\n",
       " Row(ts=1539225402000, userId='61', firstname='Parker', page='Downgrade', level='paid', song='0'),\n",
       " Row(ts=1539225442000, userId='61', firstname='Parker', page='NextSong', level='paid', song='Use Somebody'),\n",
       " Row(ts=1539225673000, userId='61', firstname='Parker', page='NextSong', level='paid', song='A Perfect Day To Drop The Bomb'),\n",
       " Row(ts=1539226016000, userId='61', firstname='Parker', page='NextSong', level='paid', song='In Space'),\n",
       " Row(ts=1539226226000, userId='61', firstname='Parker', page='NextSong', level='paid', song='Scar The Earth'),\n",
       " Row(ts=1539226406000, userId='61', firstname='Parker', page='NextSong', level='paid', song='Decades Of Despair'),\n",
       " Row(ts=1539226568000, userId='61', firstname='Parker', page='Add to Playlist', level='paid', song='0'),\n",
       " Row(ts=1539226588000, userId='61', firstname='Parker', page='NextSong', level='paid', song='Above The Clouds (Edited)'),\n",
       " Row(ts=1539226813000, userId='61', firstname='Parker', page='NextSong', level='paid', song='Early Mourning (Bonus Track)'),\n",
       " Row(ts=1539227047000, userId='61', firstname='Parker', page='NextSong', level='paid', song=\"California Dreamin'\"),\n",
       " Row(ts=1539227204000, userId='61', firstname='Parker', page='NextSong', level='paid', song='Sent For You Yesterday'),\n",
       " Row(ts=1539227443000, userId='61', firstname='Parker', page='NextSong', level='paid', song='True Dreams Of Wichita'),\n",
       " Row(ts=1539227743000, userId='61', firstname='Parker', page='NextSong', level='paid', song='My Own Worst Enemy'),\n",
       " Row(ts=1539227744000, userId='61', firstname='Parker', page='Thumbs Up', level='paid', song='0'),\n",
       " Row(ts=1539227912000, userId='61', firstname='Parker', page='NextSong', level='paid', song='Combat'),\n",
       " Row(ts=1539228095000, userId='61', firstname='Parker', page='Home', level='paid', song='0'),\n",
       " Row(ts=1539228493000, userId='61', firstname='Parker', page='NextSong', level='paid', song='Stronger'),\n",
       " Row(ts=1539228804000, userId='61', firstname='Parker', page='NextSong', level='paid', song='Situation'),\n",
       " Row(ts=1539229111000, userId='61', firstname='Parker', page='NextSong', level='paid', song='The Tide Raises Every Ship'),\n",
       " Row(ts=1539229157000, userId='61', firstname='Parker', page='NextSong', level='paid', song='Undo'),\n",
       " Row(ts=1539229505000, userId='61', firstname='Parker', page='NextSong', level='paid', song='Eh eh eh'),\n",
       " Row(ts=1539229697000, userId='61', firstname='Parker', page='NextSong', level='paid', song='Use Somebody'),\n",
       " Row(ts=1539229928000, userId='61', firstname='Parker', page='NextSong', level='paid', song=\"I'll Be Your Man\"),\n",
       " Row(ts=1539230067000, userId='61', firstname='Parker', page='NextSong', level='paid', song='Fall Line'),\n",
       " Row(ts=1539230162000, userId='61', firstname='Parker', page='NextSong', level='paid', song='One Way Out'),\n",
       " Row(ts=1539230329000, userId='61', firstname='Parker', page='NextSong', level='paid', song='Gestern_Morgen'),\n",
       " Row(ts=1539230685000, userId='61', firstname='Parker', page='NextSong', level='paid', song='True Love Ways'),\n",
       " Row(ts=1539230854000, userId='61', firstname='Parker', page='NextSong', level='paid', song=\"We're Looking For A Lot Of Love\"),\n",
       " Row(ts=1539231137000, userId='61', firstname='Parker', page='NextSong', level='paid', song='Heart Heart Heartbreak'),\n",
       " Row(ts=1539231341000, userId='61', firstname='Parker', page='NextSong', level='paid', song='In Between (LP Version)'),\n",
       " Row(ts=1539231444000, userId='61', firstname='Parker', page='Help', level='paid', song='0'),\n",
       " Row(ts=1539231584000, userId='61', firstname='Parker', page='NextSong', level='paid', song=\"Ain't It Just Like You\"),\n",
       " Row(ts=1539231823000, userId='61', firstname='Parker', page='NextSong', level='paid', song='Somebody To Love'),\n",
       " Row(ts=1539232043000, userId='61', firstname='Parker', page='NextSong', level='paid', song='Help Is Coming'),\n",
       " Row(ts=1539232277000, userId='61', firstname='Parker', page='NextSong', level='paid', song='Jambalaya'),\n",
       " Row(ts=1539232498000, userId='61', firstname='Parker', page='NextSong', level='paid', song='Destroyer (Amended Version)'),\n",
       " Row(ts=1539232664000, userId='61', firstname='Parker', page='NextSong', level='paid', song='Hallelujah'),\n",
       " Row(ts=1539233131000, userId='61', firstname='Parker', page='NextSong', level='paid', song='Okay'),\n",
       " Row(ts=1539233414000, userId='61', firstname='Parker', page='NextSong', level='paid', song='Shampain (album version)'),\n",
       " Row(ts=1539233605000, userId='61', firstname='Parker', page='NextSong', level='paid', song='The Want Ad'),\n",
       " Row(ts=1539233606000, userId='61', firstname='Parker', page='Thumbs Up', level='paid', song='0'),\n",
       " Row(ts=1539233769000, userId='61', firstname='Parker', page='NextSong', level='paid', song='Ooh Wee (featuring Ghostface Killah_ Nate Dogg_ Trife & Saigon) (Amended Version)'),\n",
       " Row(ts=1539233978000, userId='61', firstname='Parker', page='NextSong', level='paid', song='Thriller'),\n",
       " Row(ts=1539233980000, userId='61', firstname='Parker', page='Add to Playlist', level='paid', song='0'),\n",
       " Row(ts=1539234292000, userId='61', firstname='Parker', page='NextSong', level='paid', song='Fire It Up'),\n",
       " Row(ts=1539234566000, userId='61', firstname='Parker', page='NextSong', level='paid', song='Catch You Baby (Steve Pitron & Max Sanna Radio Edit)'),\n",
       " Row(ts=1539234747000, userId='61', firstname='Parker', page='NextSong', level='paid', song='Pigeon Song'),\n",
       " Row(ts=1539234879000, userId='61', firstname='Parker', page='NextSong', level='paid', song='Mockingbird'),\n",
       " Row(ts=1539235129000, userId='61', firstname='Parker', page='NextSong', level='paid', song='Lady (Radio Edit)'),\n",
       " Row(ts=1539235372000, userId='61', firstname='Parker', page='NextSong', level='paid', song='Waterloo'),\n",
       " Row(ts=1539235536000, userId='61', firstname='Parker', page='NextSong', level='paid', song='Material World Paranoia'),\n",
       " Row(ts=1539235836000, userId='61', firstname='Parker', page='NextSong', level='paid', song='This Grudge (Album Version)'),\n",
       " Row(ts=1539236143000, userId='61', firstname='Parker', page='NextSong', level='paid', song='Ice Box'),\n",
       " Row(ts=1539236400000, userId='61', firstname='Parker', page='NextSong', level='paid', song='Yin Yang'),\n",
       " Row(ts=1539236592000, userId='61', firstname='Parker', page='NextSong', level='paid', song='The Black Pint'),\n",
       " Row(ts=1539236739000, userId='61', firstname='Parker', page='NextSong', level='paid', song='Good Morning Little School Girl'),\n",
       " Row(ts=1539236993000, userId='61', firstname='Parker', page='NextSong', level='paid', song='Let My Love Open The Door'),\n",
       " Row(ts=1539237139000, userId='61', firstname='Parker', page='NextSong', level='paid', song='Sayonara-Nostalgia'),\n",
       " Row(ts=1539237394000, userId='61', firstname='Parker', page='NextSong', level='paid', song='World Today (Album Version)'),\n",
       " Row(ts=1539237744000, userId='61', firstname='Parker', page='NextSong', level='paid', song='Love Scene (Ooh Baby) (Clean Version)'),\n",
       " Row(ts=1539238000000, userId='61', firstname='Parker', page='NextSong', level='paid', song='How Can I Keep From Singing?'),\n",
       " Row(ts=1539238264000, userId='61', firstname='Parker', page='NextSong', level='paid', song='Drop The World'),\n",
       " Row(ts=1539238493000, userId='61', firstname='Parker', page='NextSong', level='paid', song='Black Balloon'),\n",
       " Row(ts=1539238494000, userId='61', firstname='Parker', page='Thumbs Down', level='paid', song='0'),\n",
       " Row(ts=1539239777000, userId='61', firstname='Parker', page='Error', level='paid', song='0'),\n",
       " Row(ts=1539242607000, userId='61', firstname='Parker', page='NextSong', level='paid', song='200 More Miles'),\n",
       " Row(ts=1539242936000, userId='61', firstname='Parker', page='NextSong', level='paid', song='Neon Knights'),\n",
       " Row(ts=1539243280000, userId='61', firstname='Parker', page='NextSong', level='paid', song='Ni TÃ\\x83Âº Ni Nadie (VersiÃ\\x83Â³n Demo)'),\n",
       " Row(ts=1539243460000, userId='61', firstname='Parker', page='NextSong', level='paid', song='If We Ever Meet Again'),\n",
       " Row(ts=1539243698000, userId='61', firstname='Parker', page='NextSong', level='paid', song='All Night Long'),\n",
       " Row(ts=1539244048000, userId='61', firstname='Parker', page='NextSong', level='paid', song=\"I Killed Sally's Lover\"),\n",
       " Row(ts=1539244187000, userId='61', firstname='Parker', page='Downgrade', level='paid', song='0'),\n",
       " Row(ts=1539244188000, userId='61', firstname='Parker', page='Submit Downgrade', level='paid', song='0'),\n",
       " Row(ts=1539244611000, userId='61', firstname='Parker', page='Home', level='free', song='0'),\n",
       " Row(ts=1539244655000, userId='61', firstname='Parker', page='NextSong', level='free', song='Kashmir'),\n",
       " Row(ts=1539244656000, userId='61', firstname='Parker', page='Thumbs Up', level='free', song='0'),\n",
       " Row(ts=1539244946000, userId='61', firstname='Parker', page='NextSong', level='free', song='I Give You To His Heart'),\n",
       " Row(ts=1539245213000, userId='61', firstname='Parker', page='NextSong', level='free', song='Up the Downstair'),\n",
       " Row(ts=1539245827000, userId='61', firstname='Parker', page='NextSong', level='free', song='Cry Me A River'),\n",
       " Row(ts=1539246115000, userId='61', firstname='Parker', page='NextSong', level='free', song='Dizzy'),\n",
       " Row(ts=1539246339000, userId='61', firstname='Parker', page='NextSong', level='free', song='Whoa'),\n",
       " Row(ts=1539246494000, userId='61', firstname='Parker', page='NextSong', level='free', song='A caballo'),\n",
       " Row(ts=1539246561000, userId='61', firstname='Parker', page='Help', level='free', song='0'),\n",
       " Row(ts=1539246823000, userId='61', firstname='Parker', page='NextSong', level='free', song='L:O.V.E and you & I'),\n",
       " Row(ts=1539246824000, userId='61', firstname='Parker', page='Logout', level='free', song='0'),\n",
       " Row(ts=1539247693000, userId='61', firstname='Parker', page='Home', level='free', song='0'),\n",
       " Row(ts=1539267402000, userId='61', firstname='Parker', page='Home', level='free', song='0'),\n",
       " Row(ts=1539267931000, userId='61', firstname='Parker', page='NextSong', level='free', song='Migration'),\n",
       " Row(ts=1539268237000, userId='61', firstname='Parker', page='NextSong', level='free', song='Trouble'),\n",
       " Row(ts=1539268571000, userId='61', firstname='Parker', page='NextSong', level='free', song='Eazy-Duz-It'),\n",
       " Row(ts=1539268829000, userId='61', firstname='Parker', page='NextSong', level='free', song='Heaven'),\n",
       " Row(ts=1539269204000, userId='61', firstname='Parker', page='Upgrade', level='free', song='0'),\n",
       " Row(ts=1539269456000, userId='61', firstname='Parker', page='NextSong', level='free', song=\"Mr. Highway's Thinking About The End\"),\n",
       " Row(ts=1539269711000, userId='61', firstname='Parker', page='NextSong', level='free', song='Mil Demonios'),\n",
       " Row(ts=1539269970000, userId='61', firstname='Parker', page='NextSong', level='free', song='From Left To Right'),\n",
       " Row(ts=1539270300000, userId='61', firstname='Parker', page='NextSong', level='free', song='Your Shameful Heaven'),\n",
       " Row(ts=1539270656000, userId='61', firstname='Parker', page='NextSong', level='free', song='Silvia'),\n",
       " Row(ts=1539271134000, userId='61', firstname='Parker', page='NextSong', level='free', song='Gudbuy T\\x19Jane'),\n",
       " Row(ts=1539271391000, userId='61', firstname='Parker', page='NextSong', level='free', song='O-o-h Child'),\n",
       " Row(ts=1539271587000, userId='61', firstname='Parker', page='NextSong', level='free', song='Postmortem'),\n",
       " Row(ts=1539271831000, userId='61', firstname='Parker', page='NextSong', level='free', song='Hotel California'),\n",
       " Row(ts=1539272203000, userId='61', firstname='Parker', page='NextSong', level='free', song='Sunshine (Love Like That)'),\n",
       " Row(ts=1539272443000, userId='61', firstname='Parker', page='NextSong', level='free', song='I Can\\x19t Wait'),\n",
       " Row(ts=1539272662000, userId='61', firstname='Parker', page='NextSong', level='free', song='Swimming In The Flood'),\n",
       " Row(ts=1539272677000, userId='61', firstname='Parker', page='Roll Advert', level='free', song='0'),\n",
       " Row(ts=1539272959000, userId='61', firstname='Parker', page='NextSong', level='free', song='I Like That (Stop)'),\n",
       " Row(ts=1539273298000, userId='61', firstname='Parker', page='Roll Advert', level='free', song='0'),\n",
       " Row(ts=1539273452000, userId='61', firstname='Parker', page='NextSong', level='free', song='This Is Not A Test'),\n",
       " Row(ts=1539273664000, userId='61', firstname='Parker', page='NextSong', level='free', song='Young Folks'),\n",
       " Row(ts=1539273942000, userId='61', firstname='Parker', page='NextSong', level='free', song='Day & Night'),\n",
       " Row(ts=1539274566000, userId='61', firstname='Parker', page='Add to Playlist', level='free', song='0'),\n",
       " Row(ts=1539274927000, userId='61', firstname='Parker', page='NextSong', level='free', song='Alejandro'),\n",
       " Row(ts=1539274931000, userId='61', firstname='Parker', page='Home', level='free', song='0'),\n",
       " Row(ts=1539275201000, userId='61', firstname='Parker', page='NextSong', level='free', song='Paper Planes'),\n",
       " Row(ts=1539275301000, userId='61', firstname='Parker', page='Roll Advert', level='free', song='0'),\n",
       " Row(ts=1539275407000, userId='61', firstname='Parker', page='NextSong', level='free', song='Ella Me Levanto'),\n",
       " Row(ts=1539275616000, userId='61', firstname='Parker', page='NextSong', level='free', song='Every Little Thing She Does Is Magic'),\n",
       " Row(ts=1539275875000, userId='61', firstname='Parker', page='NextSong', level='free', song='#40'),\n",
       " Row(ts=1539275984000, userId='61', firstname='Parker', page='NextSong', level='free', song='Unspoken'),\n",
       " Row(ts=1539276281000, userId='61', firstname='Parker', page='NextSong', level='free', song='American Idiot [feat. Green Day & The Cast Of American Idiot] (Album Version)'),\n",
       " Row(ts=1539276466000, userId='61', firstname='Parker', page='NextSong', level='free', song='Your Loving Arms'),\n",
       " Row(ts=1539276999000, userId='61', firstname='Parker', page='NextSong', level='free', song='Heaven For The Weather'),\n",
       " Row(ts=1539277206000, userId='61', firstname='Parker', page='NextSong', level='free', song='Bubble Toes'),\n",
       " Row(ts=1539278110000, userId='61', firstname='Parker', page='Roll Advert', level='free', song='0'),\n",
       " Row(ts=1539278478000, userId='61', firstname='Parker', page='NextSong', level='free', song='Death By Chocolate'),\n",
       " Row(ts=1539278780000, userId='61', firstname='Parker', page='NextSong', level='free', song='You Give Love A Bad Name'),\n",
       " Row(ts=1539279002000, userId='61', firstname='Parker', page='NextSong', level='free', song='Map Of The Problematique'),\n",
       " Row(ts=1539279260000, userId='61', firstname='Parker', page='NextSong', level='free', song=\"Sorry Don't Matter\"),\n",
       " Row(ts=1539279469000, userId='61', firstname='Parker', page='NextSong', level='free', song='Sistinas'),\n",
       " Row(ts=1539279729000, userId='61', firstname='Parker', page='NextSong', level='free', song='Izzo/In The End (Explicit Version)'),\n",
       " Row(ts=1539279893000, userId='61', firstname='Parker', page='NextSong', level='free', song='Touch Me (Album Version)'),\n",
       " Row(ts=1539280240000, userId='61', firstname='Parker', page='Roll Advert', level='free', song='0'),\n",
       " Row(ts=1539280700000, userId='61', firstname='Parker', page='NextSong', level='free', song='Show You How'),\n",
       " Row(ts=1539280866000, userId='61', firstname='Parker', page='NextSong', level='free', song='Breakeven'),\n",
       " Row(ts=1539281126000, userId='61', firstname='Parker', page='NextSong', level='free', song='Me & Mr Jones'),\n",
       " Row(ts=1539281277000, userId='61', firstname='Parker', page='NextSong', level='free', song='Highschool Stalker'),\n",
       " Row(ts=1539281444000, userId='61', firstname='Parker', page='NextSong', level='free', song=\"Hips Don't Lie (featuring Wyclef Jean)\"),\n",
       " Row(ts=1539281445000, userId='61', firstname='Parker', page='Thumbs Up', level='free', song='0'),\n",
       " Row(ts=1539281661000, userId='61', firstname='Parker', page='NextSong', level='free', song='Tranquilize'),\n",
       " Row(ts=1539281886000, userId='61', firstname='Parker', page='NextSong', level='free', song='Yellow'),\n",
       " Row(ts=1539282442000, userId='61', firstname='Parker', page='Home', level='free', song='0'),\n",
       " Row(ts=1539282574000, userId='61', firstname='Parker', page='NextSong', level='free', song=\"Don't Forget About Us\"),\n",
       " Row(ts=1539282808000, userId='61', firstname='Parker', page='NextSong', level='free', song='Suffer/Lid_ Min KjÃ\\x83Â¦re'),\n",
       " Row(ts=1539283039000, userId='61', firstname='Parker', page='NextSong', level='free', song='Incomplete'),\n",
       " Row(ts=1539283280000, userId='61', firstname='Parker', page='NextSong', level='free', song='Wild Child'),\n",
       " Row(ts=1539283281000, userId='61', firstname='Parker', page='Thumbs Up', level='free', song='0'),\n",
       " Row(ts=1539283507000, userId='61', firstname='Parker', page='NextSong', level='free', song='The Dream Of The Dolphin'),\n",
       " Row(ts=1539283851000, userId='61', firstname='Parker', page='Roll Advert', level='free', song='0'),\n",
       " Row(ts=1539285321000, userId='61', firstname='Parker', page='NextSong', level='free', song='No es lo mismo'),\n",
       " Row(ts=1539285684000, userId='61', firstname='Parker', page='NextSong', level='free', song='Paradise & Dreams'),\n",
       " ...]"
      ]
     },
     "execution_count": 55,
     "metadata": {},
     "output_type": "execute_result"
    }
   ],
   "source": [
    "#We will view one user (userid=61, Parker) to see what their experience using the 'Submit Downgrade' page\n",
    "user_log.select(['ts',\"userId\", \"firstname\", \"page\",\n",
    "                 \"level\", \"song\"]).where(user_log.userId == \"61\").orderBy(\"ts\").collect()"
   ]
  },
  {
   "cell_type": "code",
   "execution_count": 56,
   "metadata": {},
   "outputs": [
    {
     "data": {
      "text/plain": [
       "52"
      ]
     },
     "execution_count": 56,
     "metadata": {},
     "output_type": "execute_result"
    }
   ],
   "source": [
    "#Find total users that hit the 'cancelled' confirmation page\n",
    "user_log.select(interest_columns).where(user_log.page == 'Cancellation Confirmation').count()"
   ]
  },
  {
   "cell_type": "code",
   "execution_count": 57,
   "metadata": {},
   "outputs": [
    {
     "name": "stdout",
     "output_type": "stream",
     "text": [
      "+-------------+------+---------+--------------------+----+\n",
      "|           ts|userId|firstname|                page|song|\n",
      "+-------------+------+---------+--------------------+----+\n",
      "|1541166424000|   106|   Sophia|Cancellation Conf...|   0|\n",
      "|1541120964000|200011|  Charles|Cancellation Conf...|   0|\n",
      "|1539629720000|200001|    Reece|Cancellation Conf...|   0|\n",
      "|1541340091000|   103|    Piper|Cancellation Conf...|   0|\n",
      "|1539375441000|   105|Alexander|Cancellation Conf...|   0|\n",
      "|1542181031000|    29|    Kaleb|Cancellation Conf...|   0|\n",
      "|1538695038000|100024| Jonathon|Cancellation Conf...|   0|\n",
      "|1539465584000|    17|    Kayla|Cancellation Conf...|   0|\n",
      "|1540062847000|100017|    James|Cancellation Conf...|   0|\n",
      "|1543009344000|300001| Antonina|Cancellation Conf...|   0|\n",
      "|1539761972000|    51|    Ethan|Cancellation Conf...|   0|\n",
      "|1539475237000|100023|   Sawyer|Cancellation Conf...|   0|\n",
      "|1542356278000|200016|Charlotte|Cancellation Conf...|   0|\n",
      "|1541153274000|200018|    Saulo|Cancellation Conf...|   0|\n",
      "|1540050556000|    87|Christian|Cancellation Conf...|   0|\n",
      "|1540299152000|100025|   London|Cancellation Conf...|   0|\n",
      "|1542472842000|200020|   Keegan|Cancellation Conf...|   0|\n",
      "|1539736161000|   129|    Davis|Cancellation Conf...|   0|\n",
      "|1539033046000|    32|    Diego|Cancellation Conf...|   0|\n",
      "|1540353577000|200024|   Isaiah|Cancellation Conf...|   0|\n",
      "+-------------+------+---------+--------------------+----+\n",
      "only showing top 20 rows\n",
      "\n"
     ]
    }
   ],
   "source": [
    "#Lets look at some of these users records that hit the 'cancellation confirmation' page\n",
    "user_log.select(interest_columns).where(user_log.page == 'Cancellation Confirmation').show()"
   ]
  },
  {
   "cell_type": "code",
   "execution_count": 58,
   "metadata": {
    "scrolled": true
   },
   "outputs": [
    {
     "data": {
      "text/plain": [
       "[Row(ts=1538657235000, userId='122', firstname='Molly', page='Home', level='free', song='0'),\n",
       " Row(ts=1538657236000, userId='122', firstname='Molly', page='Logout', level='free', song='0'),\n",
       " Row(ts=1539173538000, userId='122', firstname='Molly', page='Home', level='free', song='0'),\n",
       " Row(ts=1539173664000, userId='122', firstname='Molly', page='NextSong', level='free', song='Old School Rules (Album Version)'),\n",
       " Row(ts=1539173824000, userId='122', firstname='Molly', page='NextSong', level='free', song='Kiss With A Fist'),\n",
       " Row(ts=1539173955000, userId='122', firstname='Molly', page='NextSong', level='free', song='Serve Chilled'),\n",
       " Row(ts=1539174264000, userId='122', firstname='Molly', page='NextSong', level='free', song='Mona Lisa (When The World Comes Down)'),\n",
       " Row(ts=1539174458000, userId='122', firstname='Molly', page='NextSong', level='free', song='The Memory Remains'),\n",
       " Row(ts=1539174569000, userId='122', firstname='Molly', page='Roll Advert', level='free', song='0'),\n",
       " Row(ts=1539886900000, userId='122', firstname='Molly', page='Home', level='free', song='0'),\n",
       " Row(ts=1539886903000, userId='122', firstname='Molly', page='NextSong', level='free', song='Doraville'),\n",
       " Row(ts=1539887120000, userId='122', firstname='Molly', page='NextSong', level='free', song='Alejandro'),\n",
       " Row(ts=1539887394000, userId='122', firstname='Molly', page='NextSong', level='free', song='Live And Let Die'),\n",
       " Row(ts=1539887578000, userId='122', firstname='Molly', page='NextSong', level='free', song='Girls Just Want To Have Fun'),\n",
       " Row(ts=1539887683000, userId='122', firstname='Molly', page='Roll Advert', level='free', song='0'),\n",
       " Row(ts=1539887806000, userId='122', firstname='Molly', page='NextSong', level='free', song='Sea Of Love'),\n",
       " Row(ts=1539887948000, userId='122', firstname='Molly', page='NextSong', level='free', song='Wild Weekend'),\n",
       " Row(ts=1539888010000, userId='122', firstname='Molly', page='Home', level='free', song='0'),\n",
       " Row(ts=1540055184000, userId='122', firstname='Molly', page='NextSong', level='free', song='Back Against The Wall'),\n",
       " Row(ts=1540055184000, userId='122', firstname='Molly', page='Home', level='free', song='0'),\n",
       " Row(ts=1540055412000, userId='122', firstname='Molly', page='NextSong', level='free', song='Belle de Jour'),\n",
       " Row(ts=1540055632000, userId='122', firstname='Molly', page='NextSong', level='free', song='Time To Get Up'),\n",
       " Row(ts=1540055690000, userId='122', firstname='Molly', page='Upgrade', level='free', song='0'),\n",
       " Row(ts=1540055771000, userId='122', firstname='Molly', page='Upgrade', level='free', song='0'),\n",
       " Row(ts=1540055772000, userId='122', firstname='Molly', page='Submit Upgrade', level='free', song='0'),\n",
       " Row(ts=1540055776000, userId='122', firstname='Molly', page='Home', level='paid', song='0'),\n",
       " Row(ts=1540055777000, userId='122', firstname='Molly', page='Add Friend', level='paid', song='0'),\n",
       " Row(ts=1540055859000, userId='122', firstname='Molly', page='NextSong', level='paid', song='MarÃ\\x83Â\\xada Caracoles (Mozambique)'),\n",
       " Row(ts=1540056147000, userId='122', firstname='Molly', page='NextSong', level='paid', song=\"Why Don't You Smile Now?\"),\n",
       " Row(ts=1540056491000, userId='122', firstname='Molly', page='NextSong', level='paid', song='Pojo Pojo'),\n",
       " Row(ts=1540056794000, userId='122', firstname='Molly', page='NextSong', level='paid', song='Restless'),\n",
       " Row(ts=1540056965000, userId='122', firstname='Molly', page='NextSong', level='paid', song='Tive Sim'),\n",
       " Row(ts=1540056966000, userId='122', firstname='Molly', page='Thumbs Up', level='paid', song='0'),\n",
       " Row(ts=1540057092000, userId='122', firstname='Molly', page='NextSong', level='paid', song='Geography'),\n",
       " Row(ts=1540057285000, userId='122', firstname='Molly', page='NextSong', level='paid', song='Through The Wire'),\n",
       " Row(ts=1540057563000, userId='122', firstname='Molly', page='NextSong', level='paid', song='Boombox'),\n",
       " Row(ts=1540057755000, userId='122', firstname='Molly', page='NextSong', level='paid', song='Kiss Me Thru The Phone'),\n",
       " Row(ts=1540057949000, userId='122', firstname='Molly', page='NextSong', level='paid', song='Never Trust'),\n",
       " Row(ts=1540058302000, userId='122', firstname='Molly', page='NextSong', level='paid', song='I Love You Always Forever ( LP Version )'),\n",
       " Row(ts=1540058542000, userId='122', firstname='Molly', page='NextSong', level='paid', song='Pocket Porn (1990)'),\n",
       " Row(ts=1540058766000, userId='122', firstname='Molly', page='NextSong', level='paid', song='Sad Lisa'),\n",
       " Row(ts=1540058991000, userId='122', firstname='Molly', page='NextSong', level='paid', song='Triste CanciÃ\\x83Â³n De Amor'),\n",
       " Row(ts=1540059298000, userId='122', firstname='Molly', page='NextSong', level='paid', song='Take The Devil (LP Version)'),\n",
       " Row(ts=1540059299000, userId='122', firstname='Molly', page='Thumbs Down', level='paid', song='0'),\n",
       " Row(ts=1540059539000, userId='122', firstname='Molly', page='NextSong', level='paid', song='Dashboard'),\n",
       " Row(ts=1540059785000, userId='122', firstname='Molly', page='NextSong', level='paid', song='Found Home'),\n",
       " Row(ts=1540059929000, userId='122', firstname='Molly', page='NextSong', level='paid', song='Daytona Demon'),\n",
       " Row(ts=1540059930000, userId='122', firstname='Molly', page='Thumbs Up', level='paid', song='0'),\n",
       " Row(ts=1540060168000, userId='122', firstname='Molly', page='NextSong', level='paid', song='Running'),\n",
       " Row(ts=1540060409000, userId='122', firstname='Molly', page='NextSong', level='paid', song='Le~aj od suza'),\n",
       " Row(ts=1540060680000, userId='122', firstname='Molly', page='NextSong', level='paid', song='Just as I Am'),\n",
       " Row(ts=1540060929000, userId='122', firstname='Molly', page='NextSong', level='paid', song='Chamber Music'),\n",
       " Row(ts=1540061191000, userId='122', firstname='Molly', page='NextSong', level='paid', song=\"She's Everything\"),\n",
       " Row(ts=1540061457000, userId='122', firstname='Molly', page='NextSong', level='paid', song=\"Someday We'll Know\"),\n",
       " Row(ts=1540061676000, userId='122', firstname='Molly', page='NextSong', level='paid', song='My First Kiss (Feat. Ke$ha) [Album Version]'),\n",
       " Row(ts=1540061868000, userId='122', firstname='Molly', page='NextSong', level='paid', song=\"I?'m A Steady Rollin? Man\"),\n",
       " Row(ts=1540061869000, userId='122', firstname='Molly', page='Thumbs Up', level='paid', song='0'),\n",
       " Row(ts=1540061987000, userId='122', firstname='Molly', page='Add to Playlist', level='paid', song='0'),\n",
       " Row(ts=1540062022000, userId='122', firstname='Molly', page='NextSong', level='paid', song='Introducing Tobacco To Civilization (LP Version)'),\n",
       " Row(ts=1540062049000, userId='122', firstname='Molly', page='Settings', level='paid', song='0'),\n",
       " Row(ts=1540062050000, userId='122', firstname='Molly', page='Cancel', level='paid', song='0'),\n",
       " Row(ts=1540062068000, userId='122', firstname='Molly', page='Cancellation Confirmation', level='paid', song='0')]"
      ]
     },
     "execution_count": 58,
     "metadata": {},
     "output_type": "execute_result"
    }
   ],
   "source": [
    "#We will view one user (userid=122, Molly) to see what their experience using the 'Cancellation Confirmation' page\n",
    "user_log.select(['ts',\"userId\", \"firstname\", \"page\",\n",
    "                 \"level\", \"song\"]).where(user_log.userId == \"122\").orderBy(\"ts\").collect()"
   ]
  },
  {
   "cell_type": "code",
   "execution_count": null,
   "metadata": {},
   "outputs": [],
   "source": []
  },
  {
   "cell_type": "markdown",
   "metadata": {},
   "source": [
    "We can see a total of 115 (52+63) user events that either submitted to downgrade or cancel their service. Additionally, we see 2055 user events that visited the downgrade page. These could be curious page visits, errors, or people actually thinking of downgrading their service. In either case, unless we do some deeper analysis on what happens next in all these user cases (ie. did they actually go thru with the downgrade from paid to free) we would only be speculating. In this case, since this advance deeper analysis is out of scope for this project we will leave that for another time.  Let's see if we can make some functions to view the 115 events easier."
   ]
  },
  {
   "cell_type": "code",
   "execution_count": 59,
   "metadata": {},
   "outputs": [],
   "source": [
    "flag_downgrade_event = udf(lambda x: 1 if x == \"Submit Downgrade\" else 0, IntegerType())"
   ]
  },
  {
   "cell_type": "code",
   "execution_count": 60,
   "metadata": {},
   "outputs": [],
   "source": [
    "flag_cancellation_event = udf(lambda x: 1 if x == \"Cancellation Confirmation\" else 0, IntegerType())"
   ]
  },
  {
   "cell_type": "code",
   "execution_count": 61,
   "metadata": {},
   "outputs": [],
   "source": [
    "add_churn_flags = udf(lambda x,y : x+y, IntegerType())"
   ]
  },
  {
   "cell_type": "markdown",
   "metadata": {},
   "source": [
    "Now we will use these functions to create new columns of ‘churn’. We will make two such columns to categorize two different situations a user can move into. These are as follows:\n",
    "\n",
    "- One is 'submit downgrading' their service from paid->free which we will call 'churn_down'\n",
    "- One for 'cancelling' their service from paid or free to cancelled which we will call 'churn_off'\n",
    "- And another just called 'churn' which will be our combination of the two above and will see if it makes a good label"
   ]
  },
  {
   "cell_type": "code",
   "execution_count": 62,
   "metadata": {},
   "outputs": [],
   "source": [
    "user_log = user_log.withColumn(\"churn_down\", flag_downgrade_event(\"page\"))"
   ]
  },
  {
   "cell_type": "code",
   "execution_count": 63,
   "metadata": {},
   "outputs": [],
   "source": [
    "user_log = user_log.withColumn(\"churn_off\", flag_cancellation_event(\"page\"))"
   ]
  },
  {
   "cell_type": "code",
   "execution_count": 64,
   "metadata": {},
   "outputs": [],
   "source": [
    "user_log = user_log.withColumn(\"churn\", add_churn_flags(\"churn_down\", \"churn_off\"))"
   ]
  },
  {
   "cell_type": "code",
   "execution_count": 65,
   "metadata": {},
   "outputs": [
    {
     "data": {
      "text/plain": [
       "115"
      ]
     },
     "execution_count": 65,
     "metadata": {},
     "output_type": "execute_result"
    }
   ],
   "source": [
    "user_log.where(user_log.churn >= \"1\").count()"
   ]
  },
  {
   "cell_type": "markdown",
   "metadata": {},
   "source": [
    "Note that the 115 events of 'churn' are not all indivdual users. To get that number we need to filter for distinct userids and ultimately do the same for the userids as a whole to get a percentage of 'churn' that is represented in our data."
   ]
  },
  {
   "cell_type": "code",
   "execution_count": 66,
   "metadata": {},
   "outputs": [
    {
     "data": {
      "text/plain": [
       "92"
      ]
     },
     "execution_count": 66,
     "metadata": {},
     "output_type": "execute_result"
    }
   ],
   "source": [
    "#Total unique number of users that 'churned'\n",
    "user_log.select(\"userId\").where(user_log.churn == \"1\").distinct().count()"
   ]
  },
  {
   "cell_type": "code",
   "execution_count": 67,
   "metadata": {},
   "outputs": [
    {
     "data": {
      "text/plain": [
       "225"
      ]
     },
     "execution_count": 67,
     "metadata": {},
     "output_type": "execute_result"
    }
   ],
   "source": [
    "#Total unique number of users\n",
    "user_log.select(\"userId\").distinct().count()"
   ]
  },
  {
   "cell_type": "markdown",
   "metadata": {},
   "source": [
    "We find there are 92 users meet our definition of 'churn', by that we mean a unique userid that either actioned a 'downgrade' or canceled' their subscription. As for the rate I am not sure of this calculation but we can see Sparkify has a HIGH churn rate of ~41% (92 churn users/225 total users). We can understand why Sparkify wants to conduct this analysis."
   ]
  },
  {
   "cell_type": "code",
   "execution_count": 68,
   "metadata": {},
   "outputs": [],
   "source": [
    "churn_userids = user_log.filter(user_log.churn==\"1\").select(\"userId\").dropDuplicates()\n",
    "#churn_users_list = [(i['userId']) for i in churn_userids.collect()]\n",
    "user_log = user_log.withColumn(\"churn\", user_log.userId.isin([(i['userId']) for i in churn_userids.collect()]))"
   ]
  },
  {
   "cell_type": "code",
   "execution_count": 69,
   "metadata": {},
   "outputs": [
    {
     "data": {
      "text/plain": [
       "140415"
      ]
     },
     "execution_count": 69,
     "metadata": {},
     "output_type": "execute_result"
    }
   ],
   "source": [
    "user_log.where(user_log.churn == True).count()"
   ]
  },
  {
   "cell_type": "code",
   "execution_count": 70,
   "metadata": {},
   "outputs": [
    {
     "data": {
      "text/plain": [
       "137739"
      ]
     },
     "execution_count": 70,
     "metadata": {},
     "output_type": "execute_result"
    }
   ],
   "source": [
    "user_log.where(user_log.churn == False).count()"
   ]
  },
  {
   "cell_type": "code",
   "execution_count": 71,
   "metadata": {},
   "outputs": [
    {
     "data": {
      "text/plain": [
       "278154"
      ]
     },
     "execution_count": 71,
     "metadata": {},
     "output_type": "execute_result"
    }
   ],
   "source": [
    "user_log.count()"
   ]
  },
  {
   "cell_type": "markdown",
   "metadata": {},
   "source": [
    "As we can see above we have quite an even labeled dataset with 50.4% of the labels indicating 'churn' (or 1). Note, we will have to think how to handle this when we come to the encoding of this column. Reason is, if we were to blindly run an Indexer (ie. StringIndexer) on this column we might not get '1' to mean churn. This is because StringIndexer maps a string column of labels to an ML column of label indices. The indices are in the set of 0 to numLabels, ordered by label frequencies. The most frequent label gets index 0. So in our case above, churn (which is True or '1') we would get the label of '0' for these columns and to us that would confuse some that the label means 'not-churned'. Which wouldn't be the case, so we need to keep this in mine when we get to our conclusions and make our interpretations."
   ]
  },
  {
   "cell_type": "code",
   "execution_count": 72,
   "metadata": {},
   "outputs": [
    {
     "name": "stdout",
     "output_type": "stream",
     "text": [
      "root\n",
      " |-- artist: string (nullable = false)\n",
      " |-- auth: string (nullable = false)\n",
      " |-- firstName: string (nullable = false)\n",
      " |-- gender: string (nullable = false)\n",
      " |-- itemInSession: long (nullable = true)\n",
      " |-- lastName: string (nullable = false)\n",
      " |-- length: double (nullable = false)\n",
      " |-- level: string (nullable = false)\n",
      " |-- location: string (nullable = false)\n",
      " |-- method: string (nullable = false)\n",
      " |-- page: string (nullable = false)\n",
      " |-- registration: long (nullable = true)\n",
      " |-- sessionId: long (nullable = true)\n",
      " |-- song: string (nullable = false)\n",
      " |-- status: long (nullable = true)\n",
      " |-- ts: long (nullable = true)\n",
      " |-- userAgent: string (nullable = false)\n",
      " |-- userId: string (nullable = false)\n",
      " |-- hour: string (nullable = true)\n",
      " |-- churn_down: integer (nullable = true)\n",
      " |-- churn_off: integer (nullable = true)\n",
      " |-- churn: boolean (nullable = false)\n",
      "\n"
     ]
    }
   ],
   "source": [
    "#Confirm we see our new flagged columns at the end\n",
    "user_log.printSchema()"
   ]
  },
  {
   "cell_type": "markdown",
   "metadata": {},
   "source": [
    "### Explore Data\n",
    "Now we wil perform some exploratory data analysis to observe the behavior for users who stayed vs users who churned. We will start by exploring aggregates on these two groups of users, observing how much of a specific action they experienced per a certain time unit or number of songs played."
   ]
  },
  {
   "cell_type": "markdown",
   "metadata": {},
   "source": [
    "Let's create a window for the range and partition of 'userid's and order it by descending time"
   ]
  },
  {
   "cell_type": "code",
   "execution_count": 73,
   "metadata": {},
   "outputs": [],
   "source": [
    "windowval = Window.partitionBy(\"userId\").orderBy(desc(\"ts\")).rangeBetween(Window.unboundedPreceding, 0)"
   ]
  },
  {
   "cell_type": "markdown",
   "metadata": {},
   "source": [
    "Lets apply this windowing to records before a downgrade and after and store those values in a new columns called 'phase_down' and 'phase_off'."
   ]
  },
  {
   "cell_type": "code",
   "execution_count": 74,
   "metadata": {},
   "outputs": [],
   "source": [
    "user_log = user_log.withColumn(\"phase_down\", Fsum(\"churn_down\").over(windowval))"
   ]
  },
  {
   "cell_type": "markdown",
   "metadata": {},
   "source": [
    "We will create another column for tracking the 'phase_off' for the grouping of records before and after user cancels their service."
   ]
  },
  {
   "cell_type": "code",
   "execution_count": 75,
   "metadata": {},
   "outputs": [],
   "source": [
    "user_log = user_log.withColumn(\"phase_off\", Fsum(\"churn_off\").over(windowval))"
   ]
  },
  {
   "cell_type": "code",
   "execution_count": null,
   "metadata": {},
   "outputs": [],
   "source": []
  },
  {
   "cell_type": "code",
   "execution_count": 76,
   "metadata": {
    "scrolled": true
   },
   "outputs": [
    {
     "data": {
      "text/plain": [
       "[Row(userId='61', firstname='Parker', ts=1538445366000, page='Home', level='free', churn_down=0, churn=True),\n",
       " Row(userId='61', firstname='Parker', ts=1538446343000, page='NextSong', level='free', churn_down=0, churn=True),\n",
       " Row(userId='61', firstname='Parker', ts=1538446593000, page='NextSong', level='free', churn_down=0, churn=True),\n",
       " Row(userId='61', firstname='Parker', ts=1538446766000, page='NextSong', level='free', churn_down=0, churn=True),\n",
       " Row(userId='61', firstname='Parker', ts=1538447229000, page='NextSong', level='free', churn_down=0, churn=True),\n",
       " Row(userId='61', firstname='Parker', ts=1538447549000, page='NextSong', level='free', churn_down=0, churn=True),\n",
       " Row(userId='61', firstname='Parker', ts=1538447555000, page='Roll Advert', level='free', churn_down=0, churn=True),\n",
       " Row(userId='61', firstname='Parker', ts=1538447903000, page='NextSong', level='free', churn_down=0, churn=True),\n",
       " Row(userId='61', firstname='Parker', ts=1538447904000, page='Thumbs Up', level='free', churn_down=0, churn=True),\n",
       " Row(userId='61', firstname='Parker', ts=1538448231000, page='NextSong', level='free', churn_down=0, churn=True),\n",
       " Row(userId='61', firstname='Parker', ts=1538448364000, page='NextSong', level='free', churn_down=0, churn=True),\n",
       " Row(userId='61', firstname='Parker', ts=1538448538000, page='NextSong', level='free', churn_down=0, churn=True),\n",
       " Row(userId='61', firstname='Parker', ts=1538448918000, page='NextSong', level='free', churn_down=0, churn=True),\n",
       " Row(userId='61', firstname='Parker', ts=1538449008000, page='Home', level='free', churn_down=0, churn=True),\n",
       " Row(userId='61', firstname='Parker', ts=1538449415000, page='NextSong', level='free', churn_down=0, churn=True),\n",
       " Row(userId='61', firstname='Parker', ts=1538449416000, page='Thumbs Up', level='free', churn_down=0, churn=True),\n",
       " Row(userId='61', firstname='Parker', ts=1538449774000, page='NextSong', level='free', churn_down=0, churn=True),\n",
       " Row(userId='61', firstname='Parker', ts=1538450313000, page='Roll Advert', level='free', churn_down=0, churn=True),\n",
       " Row(userId='61', firstname='Parker', ts=1538450994000, page='NextSong', level='free', churn_down=0, churn=True),\n",
       " Row(userId='61', firstname='Parker', ts=1538451247000, page='NextSong', level='free', churn_down=0, churn=True),\n",
       " Row(userId='61', firstname='Parker', ts=1538451516000, page='NextSong', level='free', churn_down=0, churn=True),\n",
       " Row(userId='61', firstname='Parker', ts=1538451736000, page='NextSong', level='free', churn_down=0, churn=True),\n",
       " Row(userId='61', firstname='Parker', ts=1538451993000, page='NextSong', level='free', churn_down=0, churn=True),\n",
       " Row(userId='61', firstname='Parker', ts=1538452134000, page='NextSong', level='free', churn_down=0, churn=True),\n",
       " Row(userId='61', firstname='Parker', ts=1538452135000, page='Add Friend', level='free', churn_down=0, churn=True),\n",
       " Row(userId='61', firstname='Parker', ts=1538452136000, page='Add Friend', level='free', churn_down=0, churn=True),\n",
       " Row(userId='61', firstname='Parker', ts=1538452137000, page='Add Friend', level='free', churn_down=0, churn=True),\n",
       " Row(userId='61', firstname='Parker', ts=1538452358000, page='NextSong', level='free', churn_down=0, churn=True),\n",
       " Row(userId='61', firstname='Parker', ts=1538452590000, page='NextSong', level='free', churn_down=0, churn=True),\n",
       " Row(userId='61', firstname='Parker', ts=1538452694000, page='NextSong', level='free', churn_down=0, churn=True),\n",
       " Row(userId='61', firstname='Parker', ts=1538453042000, page='NextSong', level='free', churn_down=0, churn=True),\n",
       " Row(userId='61', firstname='Parker', ts=1538453402000, page='NextSong', level='free', churn_down=0, churn=True),\n",
       " Row(userId='61', firstname='Parker', ts=1538453678000, page='NextSong', level='free', churn_down=0, churn=True),\n",
       " Row(userId='61', firstname='Parker', ts=1538453908000, page='NextSong', level='free', churn_down=0, churn=True),\n",
       " Row(userId='61', firstname='Parker', ts=1538454269000, page='NextSong', level='free', churn_down=0, churn=True),\n",
       " Row(userId='61', firstname='Parker', ts=1538454621000, page='NextSong', level='free', churn_down=0, churn=True),\n",
       " Row(userId='61', firstname='Parker', ts=1538454871000, page='Roll Advert', level='free', churn_down=0, churn=True),\n",
       " Row(userId='61', firstname='Parker', ts=1538455107000, page='NextSong', level='free', churn_down=0, churn=True),\n",
       " Row(userId='61', firstname='Parker', ts=1538455396000, page='NextSong', level='free', churn_down=0, churn=True),\n",
       " Row(userId='61', firstname='Parker', ts=1538455632000, page='NextSong', level='free', churn_down=0, churn=True),\n",
       " Row(userId='61', firstname='Parker', ts=1538456074000, page='NextSong', level='free', churn_down=0, churn=True),\n",
       " Row(userId='61', firstname='Parker', ts=1538456313000, page='NextSong', level='free', churn_down=0, churn=True),\n",
       " Row(userId='61', firstname='Parker', ts=1538456550000, page='NextSong', level='free', churn_down=0, churn=True),\n",
       " Row(userId='61', firstname='Parker', ts=1538456756000, page='NextSong', level='free', churn_down=0, churn=True),\n",
       " Row(userId='61', firstname='Parker', ts=1538456999000, page='NextSong', level='free', churn_down=0, churn=True),\n",
       " Row(userId='61', firstname='Parker', ts=1538457200000, page='NextSong', level='free', churn_down=0, churn=True),\n",
       " Row(userId='61', firstname='Parker', ts=1538457439000, page='NextSong', level='free', churn_down=0, churn=True),\n",
       " Row(userId='61', firstname='Parker', ts=1538457732000, page='NextSong', level='free', churn_down=0, churn=True),\n",
       " Row(userId='61', firstname='Parker', ts=1538457946000, page='NextSong', level='free', churn_down=0, churn=True),\n",
       " Row(userId='61', firstname='Parker', ts=1538458220000, page='NextSong', level='free', churn_down=0, churn=True),\n",
       " Row(userId='61', firstname='Parker', ts=1538458527000, page='NextSong', level='free', churn_down=0, churn=True),\n",
       " Row(userId='61', firstname='Parker', ts=1538458767000, page='NextSong', level='free', churn_down=0, churn=True),\n",
       " Row(userId='61', firstname='Parker', ts=1538458973000, page='NextSong', level='free', churn_down=0, churn=True),\n",
       " Row(userId='61', firstname='Parker', ts=1538459189000, page='NextSong', level='free', churn_down=0, churn=True),\n",
       " Row(userId='61', firstname='Parker', ts=1538459463000, page='NextSong', level='free', churn_down=0, churn=True),\n",
       " Row(userId='61', firstname='Parker', ts=1538459620000, page='Home', level='free', churn_down=0, churn=True),\n",
       " Row(userId='61', firstname='Parker', ts=1538459710000, page='NextSong', level='free', churn_down=0, churn=True),\n",
       " Row(userId='61', firstname='Parker', ts=1538459932000, page='NextSong', level='free', churn_down=0, churn=True),\n",
       " Row(userId='61', firstname='Parker', ts=1538460178000, page='NextSong', level='free', churn_down=0, churn=True),\n",
       " Row(userId='61', firstname='Parker', ts=1538460379000, page='NextSong', level='free', churn_down=0, churn=True),\n",
       " Row(userId='61', firstname='Parker', ts=1538460615000, page='NextSong', level='free', churn_down=0, churn=True),\n",
       " Row(userId='61', firstname='Parker', ts=1538460757000, page='NextSong', level='free', churn_down=0, churn=True),\n",
       " Row(userId='61', firstname='Parker', ts=1538460989000, page='NextSong', level='free', churn_down=0, churn=True),\n",
       " Row(userId='61', firstname='Parker', ts=1538461161000, page='NextSong', level='free', churn_down=0, churn=True),\n",
       " Row(userId='61', firstname='Parker', ts=1538461487000, page='NextSong', level='free', churn_down=0, churn=True),\n",
       " Row(userId='61', firstname='Parker', ts=1538461617000, page='NextSong', level='free', churn_down=0, churn=True),\n",
       " Row(userId='61', firstname='Parker', ts=1538461860000, page='NextSong', level='free', churn_down=0, churn=True),\n",
       " Row(userId='61', firstname='Parker', ts=1538462146000, page='NextSong', level='free', churn_down=0, churn=True),\n",
       " Row(userId='61', firstname='Parker', ts=1538462199000, page='Add to Playlist', level='free', churn_down=0, churn=True),\n",
       " Row(userId='61', firstname='Parker', ts=1538462233000, page='NextSong', level='free', churn_down=0, churn=True),\n",
       " Row(userId='61', firstname='Parker', ts=1538462457000, page='NextSong', level='free', churn_down=0, churn=True),\n",
       " Row(userId='61', firstname='Parker', ts=1538462752000, page='NextSong', level='free', churn_down=0, churn=True),\n",
       " Row(userId='61', firstname='Parker', ts=1538464400000, page='Add to Playlist', level='free', churn_down=0, churn=True),\n",
       " Row(userId='61', firstname='Parker', ts=1538464405000, page='NextSong', level='free', churn_down=0, churn=True),\n",
       " Row(userId='61', firstname='Parker', ts=1538464482000, page='Add to Playlist', level='free', churn_down=0, churn=True),\n",
       " Row(userId='61', firstname='Parker', ts=1538464746000, page='NextSong', level='free', churn_down=0, churn=True),\n",
       " Row(userId='61', firstname='Parker', ts=1538464935000, page='NextSong', level='free', churn_down=0, churn=True),\n",
       " Row(userId='61', firstname='Parker', ts=1538465113000, page='NextSong', level='free', churn_down=0, churn=True),\n",
       " Row(userId='61', firstname='Parker', ts=1538465318000, page='NextSong', level='free', churn_down=0, churn=True),\n",
       " Row(userId='61', firstname='Parker', ts=1538465594000, page='NextSong', level='free', churn_down=0, churn=True),\n",
       " Row(userId='61', firstname='Parker', ts=1538466058000, page='NextSong', level='free', churn_down=0, churn=True),\n",
       " Row(userId='61', firstname='Parker', ts=1538466314000, page='NextSong', level='free', churn_down=0, churn=True),\n",
       " Row(userId='61', firstname='Parker', ts=1538466565000, page='NextSong', level='free', churn_down=0, churn=True),\n",
       " Row(userId='61', firstname='Parker', ts=1538467935000, page='Home', level='free', churn_down=0, churn=True),\n",
       " Row(userId='61', firstname='Parker', ts=1538469121000, page='NextSong', level='free', churn_down=0, churn=True),\n",
       " Row(userId='61', firstname='Parker', ts=1538469309000, page='NextSong', level='free', churn_down=0, churn=True),\n",
       " Row(userId='61', firstname='Parker', ts=1538469464000, page='NextSong', level='free', churn_down=0, churn=True),\n",
       " Row(userId='61', firstname='Parker', ts=1538469747000, page='NextSong', level='free', churn_down=0, churn=True),\n",
       " Row(userId='61', firstname='Parker', ts=1538470046000, page='NextSong', level='free', churn_down=0, churn=True),\n",
       " Row(userId='61', firstname='Parker', ts=1538470319000, page='NextSong', level='free', churn_down=0, churn=True),\n",
       " Row(userId='61', firstname='Parker', ts=1538470550000, page='NextSong', level='free', churn_down=0, churn=True),\n",
       " Row(userId='61', firstname='Parker', ts=1538471016000, page='NextSong', level='free', churn_down=0, churn=True),\n",
       " Row(userId='61', firstname='Parker', ts=1538471161000, page='NextSong', level='free', churn_down=0, churn=True),\n",
       " Row(userId='61', firstname='Parker', ts=1538471413000, page='NextSong', level='free', churn_down=0, churn=True),\n",
       " Row(userId='61', firstname='Parker', ts=1538471804000, page='NextSong', level='free', churn_down=0, churn=True),\n",
       " Row(userId='61', firstname='Parker', ts=1538472044000, page='NextSong', level='free', churn_down=0, churn=True),\n",
       " Row(userId='61', firstname='Parker', ts=1538472362000, page='NextSong', level='free', churn_down=0, churn=True),\n",
       " Row(userId='61', firstname='Parker', ts=1538472674000, page='NextSong', level='free', churn_down=0, churn=True),\n",
       " Row(userId='61', firstname='Parker', ts=1538473027000, page='Settings', level='free', churn_down=0, churn=True),\n",
       " Row(userId='61', firstname='Parker', ts=1538473107000, page='Settings', level='free', churn_down=0, churn=True),\n",
       " Row(userId='61', firstname='Parker', ts=1538473912000, page='NextSong', level='free', churn_down=0, churn=True),\n",
       " Row(userId='61', firstname='Parker', ts=1538474101000, page='NextSong', level='free', churn_down=0, churn=True),\n",
       " Row(userId='61', firstname='Parker', ts=1538474370000, page='NextSong', level='free', churn_down=0, churn=True),\n",
       " Row(userId='61', firstname='Parker', ts=1538474552000, page='NextSong', level='free', churn_down=0, churn=True),\n",
       " Row(userId='61', firstname='Parker', ts=1538474732000, page='Add to Playlist', level='free', churn_down=0, churn=True),\n",
       " Row(userId='61', firstname='Parker', ts=1538474774000, page='Help', level='free', churn_down=0, churn=True),\n",
       " Row(userId='61', firstname='Parker', ts=1538474935000, page='NextSong', level='free', churn_down=0, churn=True),\n",
       " Row(userId='61', firstname='Parker', ts=1538475148000, page='NextSong', level='free', churn_down=0, churn=True),\n",
       " Row(userId='61', firstname='Parker', ts=1538475623000, page='NextSong', level='free', churn_down=0, churn=True),\n",
       " Row(userId='61', firstname='Parker', ts=1538475832000, page='NextSong', level='free', churn_down=0, churn=True),\n",
       " Row(userId='61', firstname='Parker', ts=1538475911000, page='Roll Advert', level='free', churn_down=0, churn=True),\n",
       " Row(userId='61', firstname='Parker', ts=1538475985000, page='NextSong', level='free', churn_down=0, churn=True),\n",
       " Row(userId='61', firstname='Parker', ts=1538476092000, page='Roll Advert', level='free', churn_down=0, churn=True),\n",
       " Row(userId='61', firstname='Parker', ts=1538476265000, page='NextSong', level='free', churn_down=0, churn=True),\n",
       " Row(userId='61', firstname='Parker', ts=1538476492000, page='NextSong', level='free', churn_down=0, churn=True),\n",
       " Row(userId='61', firstname='Parker', ts=1538476696000, page='NextSong', level='free', churn_down=0, churn=True),\n",
       " Row(userId='61', firstname='Parker', ts=1538476957000, page='NextSong', level='free', churn_down=0, churn=True),\n",
       " Row(userId='61', firstname='Parker', ts=1538477272000, page='NextSong', level='free', churn_down=0, churn=True),\n",
       " Row(userId='61', firstname='Parker', ts=1538477458000, page='NextSong', level='free', churn_down=0, churn=True),\n",
       " Row(userId='61', firstname='Parker', ts=1538477459000, page='Logout', level='free', churn_down=0, churn=True),\n",
       " Row(userId='61', firstname='Parker', ts=1538478104000, page='Home', level='free', churn_down=0, churn=True),\n",
       " Row(userId='61', firstname='Parker', ts=1538478111000, page='NextSong', level='free', churn_down=0, churn=True),\n",
       " Row(userId='61', firstname='Parker', ts=1538478520000, page='NextSong', level='free', churn_down=0, churn=True),\n",
       " Row(userId='61', firstname='Parker', ts=1538478723000, page='NextSong', level='free', churn_down=0, churn=True),\n",
       " Row(userId='61', firstname='Parker', ts=1538478991000, page='NextSong', level='free', churn_down=0, churn=True),\n",
       " Row(userId='61', firstname='Parker', ts=1538479316000, page='NextSong', level='free', churn_down=0, churn=True),\n",
       " Row(userId='61', firstname='Parker', ts=1538479602000, page='NextSong', level='free', churn_down=0, churn=True),\n",
       " Row(userId='61', firstname='Parker', ts=1538479740000, page='Add to Playlist', level='free', churn_down=0, churn=True),\n",
       " Row(userId='61', firstname='Parker', ts=1538479959000, page='NextSong', level='free', churn_down=0, churn=True),\n",
       " Row(userId='61', firstname='Parker', ts=1538480047000, page='Home', level='free', churn_down=0, churn=True),\n",
       " Row(userId='61', firstname='Parker', ts=1538480129000, page='NextSong', level='free', churn_down=0, churn=True),\n",
       " Row(userId='61', firstname='Parker', ts=1538480371000, page='NextSong', level='free', churn_down=0, churn=True),\n",
       " Row(userId='61', firstname='Parker', ts=1538480722000, page='NextSong', level='free', churn_down=0, churn=True),\n",
       " Row(userId='61', firstname='Parker', ts=1538480723000, page='Thumbs Up', level='free', churn_down=0, churn=True),\n",
       " Row(userId='61', firstname='Parker', ts=1538481149000, page='NextSong', level='free', churn_down=0, churn=True),\n",
       " Row(userId='61', firstname='Parker', ts=1538481174000, page='Roll Advert', level='free', churn_down=0, churn=True),\n",
       " Row(userId='61', firstname='Parker', ts=1538481475000, page='NextSong', level='free', churn_down=0, churn=True),\n",
       " Row(userId='61', firstname='Parker', ts=1538481770000, page='NextSong', level='free', churn_down=0, churn=True),\n",
       " Row(userId='61', firstname='Parker', ts=1538482001000, page='Upgrade', level='free', churn_down=0, churn=True),\n",
       " Row(userId='61', firstname='Parker', ts=1538482685000, page='NextSong', level='free', churn_down=0, churn=True),\n",
       " Row(userId='61', firstname='Parker', ts=1538482918000, page='NextSong', level='free', churn_down=0, churn=True),\n",
       " Row(userId='61', firstname='Parker', ts=1538483135000, page='NextSong', level='free', churn_down=0, churn=True),\n",
       " Row(userId='61', firstname='Parker', ts=1538483276000, page='NextSong', level='free', churn_down=0, churn=True),\n",
       " Row(userId='61', firstname='Parker', ts=1538483640000, page='NextSong', level='free', churn_down=0, churn=True),\n",
       " Row(userId='61', firstname='Parker', ts=1538483941000, page='NextSong', level='free', churn_down=0, churn=True),\n",
       " Row(userId='61', firstname='Parker', ts=1538484152000, page='NextSong', level='free', churn_down=0, churn=True),\n",
       " Row(userId='61', firstname='Parker', ts=1538484530000, page='NextSong', level='free', churn_down=0, churn=True),\n",
       " Row(userId='61', firstname='Parker', ts=1538484531000, page='Thumbs Up', level='free', churn_down=0, churn=True),\n",
       " Row(userId='61', firstname='Parker', ts=1538484629000, page='NextSong', level='free', churn_down=0, churn=True),\n",
       " Row(userId='61', firstname='Parker', ts=1538484837000, page='NextSong', level='free', churn_down=0, churn=True),\n",
       " Row(userId='61', firstname='Parker', ts=1538485047000, page='NextSong', level='free', churn_down=0, churn=True),\n",
       " Row(userId='61', firstname='Parker', ts=1538485252000, page='NextSong', level='free', churn_down=0, churn=True),\n",
       " Row(userId='61', firstname='Parker', ts=1538485534000, page='NextSong', level='free', churn_down=0, churn=True),\n",
       " Row(userId='61', firstname='Parker', ts=1538485787000, page='NextSong', level='free', churn_down=0, churn=True),\n",
       " Row(userId='61', firstname='Parker', ts=1538485983000, page='NextSong', level='free', churn_down=0, churn=True),\n",
       " Row(userId='61', firstname='Parker', ts=1538486401000, page='Settings', level='free', churn_down=0, churn=True),\n",
       " Row(userId='61', firstname='Parker', ts=1538486464000, page='Home', level='free', churn_down=0, churn=True),\n",
       " Row(userId='61', firstname='Parker', ts=1538487450000, page='NextSong', level='free', churn_down=0, churn=True),\n",
       " Row(userId='61', firstname='Parker', ts=1538487977000, page='Upgrade', level='free', churn_down=0, churn=True),\n",
       " Row(userId='61', firstname='Parker', ts=1538488160000, page='NextSong', level='free', churn_down=0, churn=True),\n",
       " Row(userId='61', firstname='Parker', ts=1538488371000, page='NextSong', level='free', churn_down=0, churn=True),\n",
       " Row(userId='61', firstname='Parker', ts=1538488372000, page='Logout', level='free', churn_down=0, churn=True),\n",
       " Row(userId='61', firstname='Parker', ts=1538523428000, page='Home', level='free', churn_down=0, churn=True),\n",
       " Row(userId='61', firstname='Parker', ts=1538523763000, page='NextSong', level='free', churn_down=0, churn=True),\n",
       " Row(userId='61', firstname='Parker', ts=1538523979000, page='NextSong', level='free', churn_down=0, churn=True),\n",
       " Row(userId='61', firstname='Parker', ts=1538524201000, page='NextSong', level='free', churn_down=0, churn=True),\n",
       " Row(userId='61', firstname='Parker', ts=1538524880000, page='Roll Advert', level='free', churn_down=0, churn=True),\n",
       " Row(userId='61', firstname='Parker', ts=1538525004000, page='NextSong', level='free', churn_down=0, churn=True),\n",
       " Row(userId='61', firstname='Parker', ts=1538525220000, page='NextSong', level='free', churn_down=0, churn=True),\n",
       " Row(userId='61', firstname='Parker', ts=1538525490000, page='NextSong', level='free', churn_down=0, churn=True),\n",
       " Row(userId='61', firstname='Parker', ts=1538525673000, page='NextSong', level='free', churn_down=0, churn=True),\n",
       " Row(userId='61', firstname='Parker', ts=1538526046000, page='NextSong', level='free', churn_down=0, churn=True),\n",
       " Row(userId='61', firstname='Parker', ts=1538526286000, page='NextSong', level='free', churn_down=0, churn=True),\n",
       " Row(userId='61', firstname='Parker', ts=1538526535000, page='NextSong', level='free', churn_down=0, churn=True),\n",
       " Row(userId='61', firstname='Parker', ts=1538526749000, page='NextSong', level='free', churn_down=0, churn=True),\n",
       " Row(userId='61', firstname='Parker', ts=1538526991000, page='NextSong', level='free', churn_down=0, churn=True),\n",
       " Row(userId='61', firstname='Parker', ts=1538527200000, page='Home', level='free', churn_down=0, churn=True),\n",
       " Row(userId='61', firstname='Parker', ts=1538527201000, page='Add Friend', level='free', churn_down=0, churn=True),\n",
       " Row(userId='61', firstname='Parker', ts=1538527227000, page='NextSong', level='free', churn_down=0, churn=True),\n",
       " Row(userId='61', firstname='Parker', ts=1538527228000, page='Logout', level='free', churn_down=0, churn=True),\n",
       " Row(userId='61', firstname='Parker', ts=1538527546000, page='Home', level='free', churn_down=0, churn=True),\n",
       " Row(userId='61', firstname='Parker', ts=1538527546000, page='NextSong', level='free', churn_down=0, churn=True),\n",
       " Row(userId='61', firstname='Parker', ts=1538527747000, page='NextSong', level='free', churn_down=0, churn=True),\n",
       " Row(userId='61', firstname='Parker', ts=1538528139000, page='NextSong', level='free', churn_down=0, churn=True),\n",
       " Row(userId='61', firstname='Parker', ts=1538528259000, page='Add to Playlist', level='free', churn_down=0, churn=True),\n",
       " Row(userId='61', firstname='Parker', ts=1538528443000, page='NextSong', level='free', churn_down=0, churn=True),\n",
       " Row(userId='61', firstname='Parker', ts=1538528684000, page='NextSong', level='free', churn_down=0, churn=True),\n",
       " Row(userId='61', firstname='Parker', ts=1538528685000, page='Logout', level='free', churn_down=0, churn=True),\n",
       " Row(userId='61', firstname='Parker', ts=1538584671000, page='Home', level='free', churn_down=0, churn=True),\n",
       " Row(userId='61', firstname='Parker', ts=1538584838000, page='NextSong', level='free', churn_down=0, churn=True),\n",
       " Row(userId='61', firstname='Parker', ts=1538585069000, page='NextSong', level='free', churn_down=0, churn=True),\n",
       " Row(userId='61', firstname='Parker', ts=1538585274000, page='NextSong', level='free', churn_down=0, churn=True),\n",
       " Row(userId='61', firstname='Parker', ts=1538585617000, page='NextSong', level='free', churn_down=0, churn=True),\n",
       " Row(userId='61', firstname='Parker', ts=1538585887000, page='NextSong', level='free', churn_down=0, churn=True),\n",
       " Row(userId='61', firstname='Parker', ts=1538586181000, page='NextSong', level='free', churn_down=0, churn=True),\n",
       " Row(userId='61', firstname='Parker', ts=1538596576000, page='NextSong', level='free', churn_down=0, churn=True),\n",
       " Row(userId='61', firstname='Parker', ts=1538596843000, page='NextSong', level='free', churn_down=0, churn=True),\n",
       " Row(userId='61', firstname='Parker', ts=1538597103000, page='NextSong', level='free', churn_down=0, churn=True),\n",
       " Row(userId='61', firstname='Parker', ts=1538597405000, page='NextSong', level='free', churn_down=0, churn=True),\n",
       " Row(userId='61', firstname='Parker', ts=1538597543000, page='NextSong', level='free', churn_down=0, churn=True),\n",
       " Row(userId='61', firstname='Parker', ts=1538597544000, page='Logout', level='free', churn_down=0, churn=True),\n",
       " Row(userId='61', firstname='Parker', ts=1538599076000, page='Home', level='free', churn_down=0, churn=True),\n",
       " Row(userId='61', firstname='Parker', ts=1538599119000, page='NextSong', level='free', churn_down=0, churn=True),\n",
       " Row(userId='61', firstname='Parker', ts=1538599155000, page='NextSong', level='free', churn_down=0, churn=True),\n",
       " Row(userId='61', firstname='Parker', ts=1538599232000, page='Roll Advert', level='free', churn_down=0, churn=True),\n",
       " Row(userId='61', firstname='Parker', ts=1538599356000, page='NextSong', level='free', churn_down=0, churn=True),\n",
       " Row(userId='61', firstname='Parker', ts=1538599638000, page='NextSong', level='free', churn_down=0, churn=True),\n",
       " Row(userId='61', firstname='Parker', ts=1538599915000, page='NextSong', level='free', churn_down=0, churn=True),\n",
       " Row(userId='61', firstname='Parker', ts=1538600193000, page='NextSong', level='free', churn_down=0, churn=True),\n",
       " Row(userId='61', firstname='Parker', ts=1538600194000, page='Thumbs Up', level='free', churn_down=0, churn=True),\n",
       " Row(userId='61', firstname='Parker', ts=1538600422000, page='NextSong', level='free', churn_down=0, churn=True),\n",
       " Row(userId='61', firstname='Parker', ts=1538600423000, page='Thumbs Up', level='free', churn_down=0, churn=True),\n",
       " Row(userId='61', firstname='Parker', ts=1538600651000, page='NextSong', level='free', churn_down=0, churn=True),\n",
       " Row(userId='61', firstname='Parker', ts=1538601069000, page='NextSong', level='free', churn_down=0, churn=True),\n",
       " Row(userId='61', firstname='Parker', ts=1538601140000, page='NextSong', level='free', churn_down=0, churn=True),\n",
       " Row(userId='61', firstname='Parker', ts=1538601403000, page='NextSong', level='free', churn_down=0, churn=True),\n",
       " Row(userId='61', firstname='Parker', ts=1538601404000, page='Thumbs Up', level='free', churn_down=0, churn=True),\n",
       " Row(userId='61', firstname='Parker', ts=1538602093000, page='NextSong', level='free', churn_down=0, churn=True),\n",
       " Row(userId='61', firstname='Parker', ts=1538602243000, page='Add to Playlist', level='free', churn_down=0, churn=True),\n",
       " Row(userId='61', firstname='Parker', ts=1538602310000, page='NextSong', level='free', churn_down=0, churn=True),\n",
       " Row(userId='61', firstname='Parker', ts=1538602708000, page='NextSong', level='free', churn_down=0, churn=True),\n",
       " Row(userId='61', firstname='Parker', ts=1538603166000, page='NextSong', level='free', churn_down=0, churn=True),\n",
       " Row(userId='61', firstname='Parker', ts=1538603437000, page='NextSong', level='free', churn_down=0, churn=True),\n",
       " Row(userId='61', firstname='Parker', ts=1538603835000, page='NextSong', level='free', churn_down=0, churn=True),\n",
       " Row(userId='61', firstname='Parker', ts=1538604036000, page='NextSong', level='free', churn_down=0, churn=True),\n",
       " Row(userId='61', firstname='Parker', ts=1538781433000, page='NextSong', level='free', churn_down=0, churn=True),\n",
       " Row(userId='61', firstname='Parker', ts=1538781434000, page='Thumbs Up', level='free', churn_down=0, churn=True),\n",
       " Row(userId='61', firstname='Parker', ts=1538781685000, page='NextSong', level='free', churn_down=0, churn=True),\n",
       " Row(userId='61', firstname='Parker', ts=1538781969000, page='NextSong', level='free', churn_down=0, churn=True),\n",
       " Row(userId='61', firstname='Parker', ts=1538782238000, page='NextSong', level='free', churn_down=0, churn=True),\n",
       " Row(userId='61', firstname='Parker', ts=1538782504000, page='NextSong', level='free', churn_down=0, churn=True),\n",
       " Row(userId='61', firstname='Parker', ts=1538782753000, page='NextSong', level='free', churn_down=0, churn=True),\n",
       " Row(userId='61', firstname='Parker', ts=1538782754000, page='Thumbs Down', level='free', churn_down=0, churn=True),\n",
       " Row(userId='61', firstname='Parker', ts=1538782817000, page='NextSong', level='free', churn_down=0, churn=True),\n",
       " Row(userId='61', firstname='Parker', ts=1538782818000, page='Thumbs Up', level='free', churn_down=0, churn=True),\n",
       " Row(userId='61', firstname='Parker', ts=1538783006000, page='NextSong', level='free', churn_down=0, churn=True),\n",
       " Row(userId='61', firstname='Parker', ts=1538783159000, page='NextSong', level='free', churn_down=0, churn=True),\n",
       " Row(userId='61', firstname='Parker', ts=1538783449000, page='NextSong', level='free', churn_down=0, churn=True),\n",
       " Row(userId='61', firstname='Parker', ts=1538783681000, page='NextSong', level='free', churn_down=0, churn=True),\n",
       " Row(userId='61', firstname='Parker', ts=1538783886000, page='NextSong', level='free', churn_down=0, churn=True),\n",
       " Row(userId='61', firstname='Parker', ts=1538783968000, page='NextSong', level='free', churn_down=0, churn=True),\n",
       " Row(userId='61', firstname='Parker', ts=1538784145000, page='NextSong', level='free', churn_down=0, churn=True),\n",
       " Row(userId='61', firstname='Parker', ts=1538784264000, page='Roll Advert', level='free', churn_down=0, churn=True),\n",
       " Row(userId='61', firstname='Parker', ts=1538784370000, page='NextSong', level='free', churn_down=0, churn=True),\n",
       " Row(userId='61', firstname='Parker', ts=1538784664000, page='NextSong', level='free', churn_down=0, churn=True),\n",
       " Row(userId='61', firstname='Parker', ts=1538784836000, page='NextSong', level='free', churn_down=0, churn=True),\n",
       " Row(userId='61', firstname='Parker', ts=1538785029000, page='NextSong', level='free', churn_down=0, churn=True),\n",
       " Row(userId='61', firstname='Parker', ts=1538785274000, page='NextSong', level='free', churn_down=0, churn=True),\n",
       " Row(userId='61', firstname='Parker', ts=1538785593000, page='NextSong', level='free', churn_down=0, churn=True),\n",
       " Row(userId='61', firstname='Parker', ts=1538785720000, page='NextSong', level='free', churn_down=0, churn=True),\n",
       " Row(userId='61', firstname='Parker', ts=1538785912000, page='NextSong', level='free', churn_down=0, churn=True),\n",
       " Row(userId='61', firstname='Parker', ts=1538786139000, page='NextSong', level='free', churn_down=0, churn=True),\n",
       " Row(userId='61', firstname='Parker', ts=1538786140000, page='Thumbs Up', level='free', churn_down=0, churn=True),\n",
       " Row(userId='61', firstname='Parker', ts=1538786497000, page='NextSong', level='free', churn_down=0, churn=True),\n",
       " Row(userId='61', firstname='Parker', ts=1538787013000, page='NextSong', level='free', churn_down=0, churn=True),\n",
       " Row(userId='61', firstname='Parker', ts=1538787163000, page='NextSong', level='free', churn_down=0, churn=True),\n",
       " Row(userId='61', firstname='Parker', ts=1538787432000, page='NextSong', level='free', churn_down=0, churn=True),\n",
       " Row(userId='61', firstname='Parker', ts=1538787744000, page='NextSong', level='free', churn_down=0, churn=True),\n",
       " Row(userId='61', firstname='Parker', ts=1538788046000, page='NextSong', level='free', churn_down=0, churn=True),\n",
       " Row(userId='61', firstname='Parker', ts=1538788306000, page='NextSong', level='free', churn_down=0, churn=True),\n",
       " Row(userId='61', firstname='Parker', ts=1538788468000, page='NextSong', level='free', churn_down=0, churn=True),\n",
       " Row(userId='61', firstname='Parker', ts=1538788469000, page='Thumbs Up', level='free', churn_down=0, churn=True),\n",
       " Row(userId='61', firstname='Parker', ts=1538788802000, page='NextSong', level='free', churn_down=0, churn=True),\n",
       " Row(userId='61', firstname='Parker', ts=1538789004000, page='NextSong', level='free', churn_down=0, churn=True),\n",
       " Row(userId='61', firstname='Parker', ts=1538789220000, page='NextSong', level='free', churn_down=0, churn=True),\n",
       " Row(userId='61', firstname='Parker', ts=1538789397000, page='NextSong', level='free', churn_down=0, churn=True),\n",
       " Row(userId='61', firstname='Parker', ts=1538789678000, page='NextSong', level='free', churn_down=0, churn=True),\n",
       " Row(userId='61', firstname='Parker', ts=1538790010000, page='NextSong', level='free', churn_down=0, churn=True),\n",
       " Row(userId='61', firstname='Parker', ts=1538790365000, page='NextSong', level='free', churn_down=0, churn=True),\n",
       " Row(userId='61', firstname='Parker', ts=1538790567000, page='NextSong', level='free', churn_down=0, churn=True),\n",
       " Row(userId='61', firstname='Parker', ts=1538790697000, page='Home', level='free', churn_down=0, churn=True),\n",
       " Row(userId='61', firstname='Parker', ts=1538790761000, page='NextSong', level='free', churn_down=0, churn=True),\n",
       " Row(userId='61', firstname='Parker', ts=1538790958000, page='NextSong', level='free', churn_down=0, churn=True),\n",
       " Row(userId='61', firstname='Parker', ts=1538791162000, page='NextSong', level='free', churn_down=0, churn=True),\n",
       " Row(userId='61', firstname='Parker', ts=1538791405000, page='NextSong', level='free', churn_down=0, churn=True),\n",
       " Row(userId='61', firstname='Parker', ts=1538791616000, page='NextSong', level='free', churn_down=0, churn=True),\n",
       " Row(userId='61', firstname='Parker', ts=1538791839000, page='NextSong', level='free', churn_down=0, churn=True),\n",
       " Row(userId='61', firstname='Parker', ts=1538792336000, page='NextSong', level='free', churn_down=0, churn=True),\n",
       " Row(userId='61', firstname='Parker', ts=1538792551000, page='NextSong', level='free', churn_down=0, churn=True),\n",
       " Row(userId='61', firstname='Parker', ts=1538792740000, page='NextSong', level='free', churn_down=0, churn=True),\n",
       " Row(userId='61', firstname='Parker', ts=1538792954000, page='NextSong', level='free', churn_down=0, churn=True),\n",
       " Row(userId='61', firstname='Parker', ts=1538792955000, page='Thumbs Up', level='free', churn_down=0, churn=True),\n",
       " Row(userId='61', firstname='Parker', ts=1538793193000, page='NextSong', level='free', churn_down=0, churn=True),\n",
       " Row(userId='61', firstname='Parker', ts=1538793584000, page='NextSong', level='free', churn_down=0, churn=True),\n",
       " Row(userId='61', firstname='Parker', ts=1538793756000, page='NextSong', level='free', churn_down=0, churn=True),\n",
       " Row(userId='61', firstname='Parker', ts=1538794200000, page='NextSong', level='free', churn_down=0, churn=True),\n",
       " Row(userId='61', firstname='Parker', ts=1538794410000, page='NextSong', level='free', churn_down=0, churn=True),\n",
       " Row(userId='61', firstname='Parker', ts=1538794619000, page='NextSong', level='free', churn_down=0, churn=True),\n",
       " Row(userId='61', firstname='Parker', ts=1538794990000, page='NextSong', level='free', churn_down=0, churn=True),\n",
       " Row(userId='61', firstname='Parker', ts=1538795291000, page='NextSong', level='free', churn_down=0, churn=True),\n",
       " Row(userId='61', firstname='Parker', ts=1538795581000, page='NextSong', level='free', churn_down=0, churn=True),\n",
       " Row(userId='61', firstname='Parker', ts=1538795928000, page='NextSong', level='free', churn_down=0, churn=True),\n",
       " Row(userId='61', firstname='Parker', ts=1538796050000, page='NextSong', level='free', churn_down=0, churn=True),\n",
       " Row(userId='61', firstname='Parker', ts=1538796159000, page='Roll Advert', level='free', churn_down=0, churn=True),\n",
       " Row(userId='61', firstname='Parker', ts=1538796343000, page='NextSong', level='free', churn_down=0, churn=True),\n",
       " Row(userId='61', firstname='Parker', ts=1538796613000, page='NextSong', level='free', churn_down=0, churn=True),\n",
       " Row(userId='61', firstname='Parker', ts=1538796828000, page='NextSong', level='free', churn_down=0, churn=True),\n",
       " Row(userId='61', firstname='Parker', ts=1538796829000, page='Thumbs Down', level='free', churn_down=0, churn=True),\n",
       " Row(userId='61', firstname='Parker', ts=1538797065000, page='NextSong', level='free', churn_down=0, churn=True),\n",
       " Row(userId='61', firstname='Parker', ts=1539096212000, page='NextSong', level='free', churn_down=0, churn=True),\n",
       " Row(userId='61', firstname='Parker', ts=1539096472000, page='Roll Advert', level='free', churn_down=0, churn=True),\n",
       " Row(userId='61', firstname='Parker', ts=1539096875000, page='NextSong', level='free', churn_down=0, churn=True),\n",
       " Row(userId='61', firstname='Parker', ts=1539097181000, page='NextSong', level='free', churn_down=0, churn=True),\n",
       " Row(userId='61', firstname='Parker', ts=1539097357000, page='NextSong', level='free', churn_down=0, churn=True),\n",
       " Row(userId='61', firstname='Parker', ts=1539097558000, page='NextSong', level='free', churn_down=0, churn=True),\n",
       " Row(userId='61', firstname='Parker', ts=1539097559000, page='Thumbs Up', level='free', churn_down=0, churn=True),\n",
       " Row(userId='61', firstname='Parker', ts=1539097848000, page='NextSong', level='free', churn_down=0, churn=True),\n",
       " Row(userId='61', firstname='Parker', ts=1539098103000, page='NextSong', level='free', churn_down=0, churn=True),\n",
       " Row(userId='61', firstname='Parker', ts=1539098323000, page='NextSong', level='free', churn_down=0, churn=True),\n",
       " Row(userId='61', firstname='Parker', ts=1539098560000, page='NextSong', level='free', churn_down=0, churn=True),\n",
       " Row(userId='61', firstname='Parker', ts=1539098761000, page='NextSong', level='free', churn_down=0, churn=True),\n",
       " Row(userId='61', firstname='Parker', ts=1539099013000, page='NextSong', level='free', churn_down=0, churn=True),\n",
       " Row(userId='61', firstname='Parker', ts=1539099334000, page='NextSong', level='free', churn_down=0, churn=True),\n",
       " Row(userId='61', firstname='Parker', ts=1539099566000, page='NextSong', level='free', churn_down=0, churn=True),\n",
       " Row(userId='61', firstname='Parker', ts=1539099861000, page='NextSong', level='free', churn_down=0, churn=True),\n",
       " Row(userId='61', firstname='Parker', ts=1539100137000, page='NextSong', level='free', churn_down=0, churn=True),\n",
       " Row(userId='61', firstname='Parker', ts=1539100138000, page='Thumbs Up', level='free', churn_down=0, churn=True),\n",
       " Row(userId='61', firstname='Parker', ts=1539100314000, page='NextSong', level='free', churn_down=0, churn=True),\n",
       " Row(userId='61', firstname='Parker', ts=1539101437000, page='Roll Advert', level='free', churn_down=0, churn=True),\n",
       " Row(userId='61', firstname='Parker', ts=1539101713000, page='NextSong', level='free', churn_down=0, churn=True),\n",
       " Row(userId='61', firstname='Parker', ts=1539101899000, page='NextSong', level='free', churn_down=0, churn=True),\n",
       " Row(userId='61', firstname='Parker', ts=1539102246000, page='NextSong', level='free', churn_down=0, churn=True),\n",
       " Row(userId='61', firstname='Parker', ts=1539102423000, page='NextSong', level='free', churn_down=0, churn=True),\n",
       " Row(userId='61', firstname='Parker', ts=1539102627000, page='Add to Playlist', level='free', churn_down=0, churn=True),\n",
       " Row(userId='61', firstname='Parker', ts=1539102653000, page='NextSong', level='free', churn_down=0, churn=True),\n",
       " Row(userId='61', firstname='Parker', ts=1539102734000, page='NextSong', level='free', churn_down=0, churn=True),\n",
       " Row(userId='61', firstname='Parker', ts=1539102756000, page='Roll Advert', level='free', churn_down=0, churn=True),\n",
       " Row(userId='61', firstname='Parker', ts=1539103215000, page='NextSong', level='free', churn_down=0, churn=True),\n",
       " Row(userId='61', firstname='Parker', ts=1539103458000, page='NextSong', level='free', churn_down=0, churn=True),\n",
       " Row(userId='61', firstname='Parker', ts=1539103672000, page='NextSong', level='free', churn_down=0, churn=True),\n",
       " Row(userId='61', firstname='Parker', ts=1539103673000, page='Thumbs Down', level='free', churn_down=0, churn=True),\n",
       " Row(userId='61', firstname='Parker', ts=1539103959000, page='NextSong', level='free', churn_down=0, churn=True),\n",
       " Row(userId='61', firstname='Parker', ts=1539104336000, page='Roll Advert', level='free', churn_down=0, churn=True),\n",
       " Row(userId='61', firstname='Parker', ts=1539105548000, page='NextSong', level='free', churn_down=0, churn=True),\n",
       " Row(userId='61', firstname='Parker', ts=1539106125000, page='NextSong', level='free', churn_down=0, churn=True),\n",
       " Row(userId='61', firstname='Parker', ts=1539106126000, page='Thumbs Up', level='free', churn_down=0, churn=True),\n",
       " Row(userId='61', firstname='Parker', ts=1539106408000, page='NextSong', level='free', churn_down=0, churn=True),\n",
       " Row(userId='61', firstname='Parker', ts=1539106607000, page='NextSong', level='free', churn_down=0, churn=True),\n",
       " Row(userId='61', firstname='Parker', ts=1539106805000, page='NextSong', level='free', churn_down=0, churn=True),\n",
       " Row(userId='61', firstname='Parker', ts=1539107036000, page='NextSong', level='free', churn_down=0, churn=True),\n",
       " Row(userId='61', firstname='Parker', ts=1539107207000, page='NextSong', level='free', churn_down=0, churn=True),\n",
       " Row(userId='61', firstname='Parker', ts=1539107208000, page='Thumbs Up', level='free', churn_down=0, churn=True),\n",
       " Row(userId='61', firstname='Parker', ts=1539107444000, page='NextSong', level='free', churn_down=0, churn=True),\n",
       " Row(userId='61', firstname='Parker', ts=1539107938000, page='NextSong', level='free', churn_down=0, churn=True),\n",
       " Row(userId='61', firstname='Parker', ts=1539108171000, page='NextSong', level='free', churn_down=0, churn=True),\n",
       " Row(userId='61', firstname='Parker', ts=1539108452000, page='NextSong', level='free', churn_down=0, churn=True),\n",
       " Row(userId='61', firstname='Parker', ts=1539108612000, page='NextSong', level='free', churn_down=0, churn=True),\n",
       " Row(userId='61', firstname='Parker', ts=1539108854000, page='NextSong', level='free', churn_down=0, churn=True),\n",
       " Row(userId='61', firstname='Parker', ts=1539109048000, page='Roll Advert', level='free', churn_down=0, churn=True),\n",
       " Row(userId='61', firstname='Parker', ts=1539109148000, page='NextSong', level='free', churn_down=0, churn=True),\n",
       " Row(userId='61', firstname='Parker', ts=1539109248000, page='NextSong', level='free', churn_down=0, churn=True),\n",
       " Row(userId='61', firstname='Parker', ts=1539109435000, page='NextSong', level='free', churn_down=0, churn=True),\n",
       " Row(userId='61', firstname='Parker', ts=1539109451000, page='Add to Playlist', level='free', churn_down=0, churn=True),\n",
       " Row(userId='61', firstname='Parker', ts=1539109641000, page='NextSong', level='free', churn_down=0, churn=True),\n",
       " Row(userId='61', firstname='Parker', ts=1539109642000, page='Thumbs Up', level='free', churn_down=0, churn=True),\n",
       " Row(userId='61', firstname='Parker', ts=1539110107000, page='NextSong', level='free', churn_down=0, churn=True),\n",
       " Row(userId='61', firstname='Parker', ts=1539110192000, page='Roll Advert', level='free', churn_down=0, churn=True),\n",
       " Row(userId='61', firstname='Parker', ts=1539110339000, page='NextSong', level='free', churn_down=0, churn=True),\n",
       " Row(userId='61', firstname='Parker', ts=1539110340000, page='Thumbs Up', level='free', churn_down=0, churn=True),\n",
       " Row(userId='61', firstname='Parker', ts=1539110550000, page='NextSong', level='free', churn_down=0, churn=True),\n",
       " Row(userId='61', firstname='Parker', ts=1539110781000, page='NextSong', level='free', churn_down=0, churn=True),\n",
       " Row(userId='61', firstname='Parker', ts=1539111003000, page='NextSong', level='free', churn_down=0, churn=True),\n",
       " Row(userId='61', firstname='Parker', ts=1539111244000, page='NextSong', level='free', churn_down=0, churn=True),\n",
       " Row(userId='61', firstname='Parker', ts=1539111471000, page='NextSong', level='free', churn_down=0, churn=True),\n",
       " Row(userId='61', firstname='Parker', ts=1539111697000, page='NextSong', level='free', churn_down=0, churn=True),\n",
       " Row(userId='61', firstname='Parker', ts=1539111961000, page='NextSong', level='free', churn_down=0, churn=True),\n",
       " Row(userId='61', firstname='Parker', ts=1539112155000, page='NextSong', level='free', churn_down=0, churn=True),\n",
       " Row(userId='61', firstname='Parker', ts=1539112291000, page='Roll Advert', level='free', churn_down=0, churn=True),\n",
       " Row(userId='61', firstname='Parker', ts=1539112490000, page='NextSong', level='free', churn_down=0, churn=True),\n",
       " Row(userId='61', firstname='Parker', ts=1539112779000, page='NextSong', level='free', churn_down=0, churn=True),\n",
       " Row(userId='61', firstname='Parker', ts=1539112850000, page='Home', level='free', churn_down=0, churn=True),\n",
       " Row(userId='61', firstname='Parker', ts=1539112931000, page='NextSong', level='free', churn_down=0, churn=True),\n",
       " Row(userId='61', firstname='Parker', ts=1539113242000, page='NextSong', level='free', churn_down=0, churn=True),\n",
       " Row(userId='61', firstname='Parker', ts=1539113525000, page='NextSong', level='free', churn_down=0, churn=True),\n",
       " Row(userId='61', firstname='Parker', ts=1539113605000, page='Roll Advert', level='free', churn_down=0, churn=True),\n",
       " Row(userId='61', firstname='Parker', ts=1539113759000, page='NextSong', level='free', churn_down=0, churn=True),\n",
       " Row(userId='61', firstname='Parker', ts=1539113921000, page='NextSong', level='free', churn_down=0, churn=True),\n",
       " Row(userId='61', firstname='Parker', ts=1539114683000, page='Roll Advert', level='free', churn_down=0, churn=True),\n",
       " Row(userId='61', firstname='Parker', ts=1539114990000, page='NextSong', level='free', churn_down=0, churn=True),\n",
       " Row(userId='61', firstname='Parker', ts=1539115151000, page='NextSong', level='free', churn_down=0, churn=True),\n",
       " Row(userId='61', firstname='Parker', ts=1539115426000, page='NextSong', level='free', churn_down=0, churn=True),\n",
       " Row(userId='61', firstname='Parker', ts=1539115585000, page='NextSong', level='free', churn_down=0, churn=True),\n",
       " Row(userId='61', firstname='Parker', ts=1539115802000, page='NextSong', level='free', churn_down=0, churn=True),\n",
       " Row(userId='61', firstname='Parker', ts=1539116068000, page='NextSong', level='free', churn_down=0, churn=True),\n",
       " Row(userId='61', firstname='Parker', ts=1539116236000, page='NextSong', level='free', churn_down=0, churn=True),\n",
       " Row(userId='61', firstname='Parker', ts=1539116462000, page='NextSong', level='free', churn_down=0, churn=True),\n",
       " Row(userId='61', firstname='Parker', ts=1539116919000, page='NextSong', level='free', churn_down=0, churn=True),\n",
       " Row(userId='61', firstname='Parker', ts=1539117347000, page='NextSong', level='free', churn_down=0, churn=True),\n",
       " Row(userId='61', firstname='Parker', ts=1539117565000, page='Roll Advert', level='free', churn_down=0, churn=True),\n",
       " Row(userId='61', firstname='Parker', ts=1539117567000, page='NextSong', level='free', churn_down=0, churn=True),\n",
       " Row(userId='61', firstname='Parker', ts=1539117841000, page='NextSong', level='free', churn_down=0, churn=True),\n",
       " Row(userId='61', firstname='Parker', ts=1539118069000, page='NextSong', level='free', churn_down=0, churn=True),\n",
       " Row(userId='61', firstname='Parker', ts=1539118277000, page='NextSong', level='free', churn_down=0, churn=True),\n",
       " Row(userId='61', firstname='Parker', ts=1539118428000, page='NextSong', level='free', churn_down=0, churn=True),\n",
       " Row(userId='61', firstname='Parker', ts=1539118479000, page='Roll Advert', level='free', churn_down=0, churn=True),\n",
       " Row(userId='61', firstname='Parker', ts=1539118687000, page='NextSong', level='free', churn_down=0, churn=True),\n",
       " Row(userId='61', firstname='Parker', ts=1539120403000, page='Home', level='free', churn_down=0, churn=True),\n",
       " Row(userId='61', firstname='Parker', ts=1539120779000, page='NextSong', level='free', churn_down=0, churn=True),\n",
       " Row(userId='61', firstname='Parker', ts=1539121022000, page='NextSong', level='free', churn_down=0, churn=True),\n",
       " Row(userId='61', firstname='Parker', ts=1539121291000, page='NextSong', level='free', churn_down=0, churn=True),\n",
       " Row(userId='61', firstname='Parker', ts=1539121544000, page='NextSong', level='free', churn_down=0, churn=True),\n",
       " Row(userId='61', firstname='Parker', ts=1539122026000, page='NextSong', level='free', churn_down=0, churn=True),\n",
       " Row(userId='61', firstname='Parker', ts=1539122482000, page='NextSong', level='free', churn_down=0, churn=True),\n",
       " Row(userId='61', firstname='Parker', ts=1539122604000, page='Home', level='free', churn_down=0, churn=True),\n",
       " Row(userId='61', firstname='Parker', ts=1539122605000, page='Add Friend', level='free', churn_down=0, churn=True),\n",
       " Row(userId='61', firstname='Parker', ts=1539122705000, page='NextSong', level='free', churn_down=0, churn=True),\n",
       " Row(userId='61', firstname='Parker', ts=1539122946000, page='NextSong', level='free', churn_down=0, churn=True),\n",
       " Row(userId='61', firstname='Parker', ts=1539122947000, page='Thumbs Up', level='free', churn_down=0, churn=True),\n",
       " Row(userId='61', firstname='Parker', ts=1539123238000, page='NextSong', level='free', churn_down=0, churn=True),\n",
       " Row(userId='61', firstname='Parker', ts=1539124177000, page='Upgrade', level='free', churn_down=0, churn=True),\n",
       " Row(userId='61', firstname='Parker', ts=1539124178000, page='Submit Upgrade', level='free', churn_down=0, churn=True),\n",
       " Row(userId='61', firstname='Parker', ts=1539124354000, page='Home', level='paid', churn_down=0, churn=True),\n",
       " Row(userId='61', firstname='Parker', ts=1539124923000, page='NextSong', level='paid', churn_down=0, churn=True),\n",
       " Row(userId='61', firstname='Parker', ts=1539125316000, page='NextSong', level='paid', churn_down=0, churn=True),\n",
       " Row(userId='61', firstname='Parker', ts=1539125538000, page='NextSong', level='paid', churn_down=0, churn=True),\n",
       " Row(userId='61', firstname='Parker', ts=1539125758000, page='NextSong', level='paid', churn_down=0, churn=True),\n",
       " Row(userId='61', firstname='Parker', ts=1539125953000, page='NextSong', level='paid', churn_down=0, churn=True),\n",
       " Row(userId='61', firstname='Parker', ts=1539126264000, page='NextSong', level='paid', churn_down=0, churn=True),\n",
       " Row(userId='61', firstname='Parker', ts=1539126359000, page='NextSong', level='paid', churn_down=0, churn=True),\n",
       " Row(userId='61', firstname='Parker', ts=1539126360000, page='Add Friend', level='paid', churn_down=0, churn=True),\n",
       " Row(userId='61', firstname='Parker', ts=1539126527000, page='NextSong', level='paid', churn_down=0, churn=True),\n",
       " Row(userId='61', firstname='Parker', ts=1539126671000, page='NextSong', level='paid', churn_down=0, churn=True),\n",
       " Row(userId='61', firstname='Parker', ts=1539126672000, page='Thumbs Up', level='paid', churn_down=0, churn=True),\n",
       " Row(userId='61', firstname='Parker', ts=1539126896000, page='NextSong', level='paid', churn_down=0, churn=True),\n",
       " Row(userId='61', firstname='Parker', ts=1539127227000, page='NextSong', level='paid', churn_down=0, churn=True),\n",
       " Row(userId='61', firstname='Parker', ts=1539127468000, page='NextSong', level='paid', churn_down=0, churn=True),\n",
       " Row(userId='61', firstname='Parker', ts=1539127663000, page='NextSong', level='paid', churn_down=0, churn=True),\n",
       " Row(userId='61', firstname='Parker', ts=1539127861000, page='NextSong', level='paid', churn_down=0, churn=True),\n",
       " Row(userId='61', firstname='Parker', ts=1539128072000, page='NextSong', level='paid', churn_down=0, churn=True),\n",
       " Row(userId='61', firstname='Parker', ts=1539128292000, page='NextSong', level='paid', churn_down=0, churn=True),\n",
       " Row(userId='61', firstname='Parker', ts=1539128743000, page='NextSong', level='paid', churn_down=0, churn=True),\n",
       " Row(userId='61', firstname='Parker', ts=1539128981000, page='NextSong', level='paid', churn_down=0, churn=True),\n",
       " Row(userId='61', firstname='Parker', ts=1539129170000, page='NextSong', level='paid', churn_down=0, churn=True),\n",
       " Row(userId='61', firstname='Parker', ts=1539129603000, page='NextSong', level='paid', churn_down=0, churn=True),\n",
       " Row(userId='61', firstname='Parker', ts=1539129873000, page='NextSong', level='paid', churn_down=0, churn=True),\n",
       " Row(userId='61', firstname='Parker', ts=1539130416000, page='NextSong', level='paid', churn_down=0, churn=True),\n",
       " Row(userId='61', firstname='Parker', ts=1539130417000, page='Thumbs Up', level='paid', churn_down=0, churn=True),\n",
       " Row(userId='61', firstname='Parker', ts=1539130570000, page='Add to Playlist', level='paid', churn_down=0, churn=True),\n",
       " Row(userId='61', firstname='Parker', ts=1539130824000, page='NextSong', level='paid', churn_down=0, churn=True),\n",
       " Row(userId='61', firstname='Parker', ts=1539131054000, page='NextSong', level='paid', churn_down=0, churn=True),\n",
       " Row(userId='61', firstname='Parker', ts=1539131323000, page='NextSong', level='paid', churn_down=0, churn=True),\n",
       " Row(userId='61', firstname='Parker', ts=1539131324000, page='Thumbs Up', level='paid', churn_down=0, churn=True),\n",
       " Row(userId='61', firstname='Parker', ts=1539131765000, page='NextSong', level='paid', churn_down=0, churn=True),\n",
       " Row(userId='61', firstname='Parker', ts=1539132054000, page='NextSong', level='paid', churn_down=0, churn=True),\n",
       " Row(userId='61', firstname='Parker', ts=1539132236000, page='NextSong', level='paid', churn_down=0, churn=True),\n",
       " Row(userId='61', firstname='Parker', ts=1539132492000, page='NextSong', level='paid', churn_down=0, churn=True),\n",
       " Row(userId='61', firstname='Parker', ts=1539132851000, page='NextSong', level='paid', churn_down=0, churn=True),\n",
       " Row(userId='61', firstname='Parker', ts=1539132988000, page='NextSong', level='paid', churn_down=0, churn=True),\n",
       " Row(userId='61', firstname='Parker', ts=1539133147000, page='NextSong', level='paid', churn_down=0, churn=True),\n",
       " Row(userId='61', firstname='Parker', ts=1539133266000, page='Home', level='paid', churn_down=0, churn=True),\n",
       " Row(userId='61', firstname='Parker', ts=1539133267000, page='Add Friend', level='paid', churn_down=0, churn=True),\n",
       " Row(userId='61', firstname='Parker', ts=1539133335000, page='NextSong', level='paid', churn_down=0, churn=True),\n",
       " Row(userId='61', firstname='Parker', ts=1539133559000, page='NextSong', level='paid', churn_down=0, churn=True),\n",
       " Row(userId='61', firstname='Parker', ts=1539133935000, page='NextSong', level='paid', churn_down=0, churn=True),\n",
       " Row(userId='61', firstname='Parker', ts=1539134203000, page='NextSong', level='paid', churn_down=0, churn=True),\n",
       " Row(userId='61', firstname='Parker', ts=1539134430000, page='NextSong', level='paid', churn_down=0, churn=True),\n",
       " Row(userId='61', firstname='Parker', ts=1539134885000, page='NextSong', level='paid', churn_down=0, churn=True),\n",
       " Row(userId='61', firstname='Parker', ts=1539135268000, page='NextSong', level='paid', churn_down=0, churn=True),\n",
       " Row(userId='61', firstname='Parker', ts=1539135597000, page='NextSong', level='paid', churn_down=0, churn=True),\n",
       " Row(userId='61', firstname='Parker', ts=1539135826000, page='NextSong', level='paid', churn_down=0, churn=True),\n",
       " Row(userId='61', firstname='Parker', ts=1539136200000, page='NextSong', level='paid', churn_down=0, churn=True),\n",
       " Row(userId='61', firstname='Parker', ts=1539136496000, page='NextSong', level='paid', churn_down=0, churn=True),\n",
       " Row(userId='61', firstname='Parker', ts=1539136685000, page='NextSong', level='paid', churn_down=0, churn=True),\n",
       " Row(userId='61', firstname='Parker', ts=1539136899000, page='Roll Advert', level='paid', churn_down=0, churn=True),\n",
       " Row(userId='61', firstname='Parker', ts=1539137152000, page='NextSong', level='paid', churn_down=0, churn=True),\n",
       " Row(userId='61', firstname='Parker', ts=1539137385000, page='NextSong', level='paid', churn_down=0, churn=True),\n",
       " Row(userId='61', firstname='Parker', ts=1539137603000, page='NextSong', level='paid', churn_down=0, churn=True),\n",
       " Row(userId='61', firstname='Parker', ts=1539137897000, page='NextSong', level='paid', churn_down=0, churn=True),\n",
       " Row(userId='61', firstname='Parker', ts=1539138160000, page='NextSong', level='paid', churn_down=0, churn=True),\n",
       " Row(userId='61', firstname='Parker', ts=1539138382000, page='NextSong', level='paid', churn_down=0, churn=True),\n",
       " Row(userId='61', firstname='Parker', ts=1539138592000, page='NextSong', level='paid', churn_down=0, churn=True),\n",
       " Row(userId='61', firstname='Parker', ts=1539138892000, page='NextSong', level='paid', churn_down=0, churn=True),\n",
       " Row(userId='61', firstname='Parker', ts=1539139112000, page='NextSong', level='paid', churn_down=0, churn=True),\n",
       " Row(userId='61', firstname='Parker', ts=1539139254000, page='NextSong', level='paid', churn_down=0, churn=True),\n",
       " Row(userId='61', firstname='Parker', ts=1539139473000, page='NextSong', level='paid', churn_down=0, churn=True),\n",
       " Row(userId='61', firstname='Parker', ts=1539139610000, page='NextSong', level='paid', churn_down=0, churn=True),\n",
       " Row(userId='61', firstname='Parker', ts=1539139908000, page='NextSong', level='paid', churn_down=0, churn=True),\n",
       " Row(userId='61', firstname='Parker', ts=1539140226000, page='NextSong', level='paid', churn_down=0, churn=True),\n",
       " Row(userId='61', firstname='Parker', ts=1539140440000, page='NextSong', level='paid', churn_down=0, churn=True),\n",
       " Row(userId='61', firstname='Parker', ts=1539140647000, page='NextSong', level='paid', churn_down=0, churn=True),\n",
       " Row(userId='61', firstname='Parker', ts=1539140907000, page='NextSong', level='paid', churn_down=0, churn=True),\n",
       " Row(userId='61', firstname='Parker', ts=1539141110000, page='NextSong', level='paid', churn_down=0, churn=True),\n",
       " Row(userId='61', firstname='Parker', ts=1539141340000, page='NextSong', level='paid', churn_down=0, churn=True),\n",
       " Row(userId='61', firstname='Parker', ts=1539141515000, page='NextSong', level='paid', churn_down=0, churn=True),\n",
       " Row(userId='61', firstname='Parker', ts=1539141746000, page='NextSong', level='paid', churn_down=0, churn=True),\n",
       " Row(userId='61', firstname='Parker', ts=1539141928000, page='NextSong', level='paid', churn_down=0, churn=True),\n",
       " Row(userId='61', firstname='Parker', ts=1539141929000, page='Thumbs Up', level='paid', churn_down=0, churn=True),\n",
       " Row(userId='61', firstname='Parker', ts=1539142227000, page='NextSong', level='paid', churn_down=0, churn=True),\n",
       " Row(userId='61', firstname='Parker', ts=1539142462000, page='NextSong', level='paid', churn_down=0, churn=True),\n",
       " Row(userId='61', firstname='Parker', ts=1539142714000, page='NextSong', level='paid', churn_down=0, churn=True),\n",
       " Row(userId='61', firstname='Parker', ts=1539142940000, page='NextSong', level='paid', churn_down=0, churn=True),\n",
       " Row(userId='61', firstname='Parker', ts=1539143194000, page='NextSong', level='paid', churn_down=0, churn=True),\n",
       " Row(userId='61', firstname='Parker', ts=1539143195000, page='Thumbs Up', level='paid', churn_down=0, churn=True),\n",
       " Row(userId='61', firstname='Parker', ts=1539143432000, page='NextSong', level='paid', churn_down=0, churn=True),\n",
       " Row(userId='61', firstname='Parker', ts=1539143652000, page='NextSong', level='paid', churn_down=0, churn=True),\n",
       " Row(userId='61', firstname='Parker', ts=1539143653000, page='Logout', level='paid', churn_down=0, churn=True),\n",
       " Row(userId='61', firstname='Parker', ts=1539144180000, page='Home', level='paid', churn_down=0, churn=True),\n",
       " Row(userId='61', firstname='Parker', ts=1539144419000, page='NextSong', level='paid', churn_down=0, churn=True),\n",
       " Row(userId='61', firstname='Parker', ts=1539144712000, page='NextSong', level='paid', churn_down=0, churn=True),\n",
       " Row(userId='61', firstname='Parker', ts=1539144891000, page='NextSong', level='paid', churn_down=0, churn=True),\n",
       " Row(userId='61', firstname='Parker', ts=1539145141000, page='NextSong', level='paid', churn_down=0, churn=True),\n",
       " Row(userId='61', firstname='Parker', ts=1539145427000, page='NextSong', level='paid', churn_down=0, churn=True),\n",
       " Row(userId='61', firstname='Parker', ts=1539145601000, page='NextSong', level='paid', churn_down=0, churn=True),\n",
       " Row(userId='61', firstname='Parker', ts=1539145613000, page='Add to Playlist', level='paid', churn_down=0, churn=True),\n",
       " Row(userId='61', firstname='Parker', ts=1539145945000, page='NextSong', level='paid', churn_down=0, churn=True),\n",
       " Row(userId='61', firstname='Parker', ts=1539146192000, page='NextSong', level='paid', churn_down=0, churn=True),\n",
       " Row(userId='61', firstname='Parker', ts=1539146400000, page='NextSong', level='paid', churn_down=0, churn=True),\n",
       " Row(userId='61', firstname='Parker', ts=1539146706000, page='NextSong', level='paid', churn_down=0, churn=True),\n",
       " Row(userId='61', firstname='Parker', ts=1539146902000, page='NextSong', level='paid', churn_down=0, churn=True),\n",
       " Row(userId='61', firstname='Parker', ts=1539147169000, page='NextSong', level='paid', churn_down=0, churn=True),\n",
       " Row(userId='61', firstname='Parker', ts=1539147465000, page='NextSong', level='paid', churn_down=0, churn=True),\n",
       " Row(userId='61', firstname='Parker', ts=1539147927000, page='NextSong', level='paid', churn_down=0, churn=True),\n",
       " Row(userId='61', firstname='Parker', ts=1539148112000, page='NextSong', level='paid', churn_down=0, churn=True),\n",
       " Row(userId='61', firstname='Parker', ts=1539148337000, page='NextSong', level='paid', churn_down=0, churn=True),\n",
       " Row(userId='61', firstname='Parker', ts=1539148552000, page='NextSong', level='paid', churn_down=0, churn=True),\n",
       " Row(userId='61', firstname='Parker', ts=1539148687000, page='NextSong', level='paid', churn_down=0, churn=True),\n",
       " Row(userId='61', firstname='Parker', ts=1539148947000, page='NextSong', level='paid', churn_down=0, churn=True),\n",
       " Row(userId='61', firstname='Parker', ts=1539149225000, page='NextSong', level='paid', churn_down=0, churn=True),\n",
       " Row(userId='61', firstname='Parker', ts=1539149502000, page='NextSong', level='paid', churn_down=0, churn=True),\n",
       " Row(userId='61', firstname='Parker', ts=1539149706000, page='NextSong', level='paid', churn_down=0, churn=True),\n",
       " Row(userId='61', firstname='Parker', ts=1539150040000, page='NextSong', level='paid', churn_down=0, churn=True),\n",
       " Row(userId='61', firstname='Parker', ts=1539150421000, page='NextSong', level='paid', churn_down=0, churn=True),\n",
       " Row(userId='61', firstname='Parker', ts=1539150679000, page='NextSong', level='paid', churn_down=0, churn=True),\n",
       " Row(userId='61', firstname='Parker', ts=1539150979000, page='NextSong', level='paid', churn_down=0, churn=True),\n",
       " Row(userId='61', firstname='Parker', ts=1539151185000, page='NextSong', level='paid', churn_down=0, churn=True),\n",
       " Row(userId='61', firstname='Parker', ts=1539151461000, page='NextSong', level='paid', churn_down=0, churn=True),\n",
       " Row(userId='61', firstname='Parker', ts=1539151649000, page='NextSong', level='paid', churn_down=0, churn=True),\n",
       " Row(userId='61', firstname='Parker', ts=1539151876000, page='NextSong', level='paid', churn_down=0, churn=True),\n",
       " Row(userId='61', firstname='Parker', ts=1539151895000, page='Add to Playlist', level='paid', churn_down=0, churn=True),\n",
       " Row(userId='61', firstname='Parker', ts=1539152229000, page='NextSong', level='paid', churn_down=0, churn=True),\n",
       " Row(userId='61', firstname='Parker', ts=1539153389000, page='Home', level='paid', churn_down=0, churn=True),\n",
       " Row(userId='61', firstname='Parker', ts=1539154118000, page='NextSong', level='paid', churn_down=0, churn=True),\n",
       " Row(userId='61', firstname='Parker', ts=1539154400000, page='NextSong', level='paid', churn_down=0, churn=True),\n",
       " Row(userId='61', firstname='Parker', ts=1539154652000, page='NextSong', level='paid', churn_down=0, churn=True),\n",
       " Row(userId='61', firstname='Parker', ts=1539154848000, page='NextSong', level='paid', churn_down=0, churn=True),\n",
       " Row(userId='61', firstname='Parker', ts=1539155118000, page='NextSong', level='paid', churn_down=0, churn=True),\n",
       " Row(userId='61', firstname='Parker', ts=1539155361000, page='NextSong', level='paid', churn_down=0, churn=True),\n",
       " Row(userId='61', firstname='Parker', ts=1539155666000, page='NextSong', level='paid', churn_down=0, churn=True),\n",
       " Row(userId='61', firstname='Parker', ts=1539155835000, page='NextSong', level='paid', churn_down=0, churn=True),\n",
       " Row(userId='61', firstname='Parker', ts=1539156048000, page='NextSong', level='paid', churn_down=0, churn=True),\n",
       " Row(userId='61', firstname='Parker', ts=1539156306000, page='NextSong', level='paid', churn_down=0, churn=True),\n",
       " Row(userId='61', firstname='Parker', ts=1539156547000, page='NextSong', level='paid', churn_down=0, churn=True),\n",
       " Row(userId='61', firstname='Parker', ts=1539156734000, page='NextSong', level='paid', churn_down=0, churn=True),\n",
       " Row(userId='61', firstname='Parker', ts=1539157130000, page='NextSong', level='paid', churn_down=0, churn=True),\n",
       " Row(userId='61', firstname='Parker', ts=1539157409000, page='NextSong', level='paid', churn_down=0, churn=True),\n",
       " Row(userId='61', firstname='Parker', ts=1539157647000, page='NextSong', level='paid', churn_down=0, churn=True),\n",
       " Row(userId='61', firstname='Parker', ts=1539157758000, page='NextSong', level='paid', churn_down=0, churn=True),\n",
       " Row(userId='61', firstname='Parker', ts=1539157970000, page='NextSong', level='paid', churn_down=0, churn=True),\n",
       " Row(userId='61', firstname='Parker', ts=1539158185000, page='NextSong', level='paid', churn_down=0, churn=True),\n",
       " Row(userId='61', firstname='Parker', ts=1539158370000, page='NextSong', level='paid', churn_down=0, churn=True),\n",
       " Row(userId='61', firstname='Parker', ts=1539158447000, page='NextSong', level='paid', churn_down=0, churn=True),\n",
       " Row(userId='61', firstname='Parker', ts=1539158751000, page='NextSong', level='paid', churn_down=0, churn=True),\n",
       " Row(userId='61', firstname='Parker', ts=1539158950000, page='NextSong', level='paid', churn_down=0, churn=True),\n",
       " Row(userId='61', firstname='Parker', ts=1539159234000, page='NextSong', level='paid', churn_down=0, churn=True),\n",
       " Row(userId='61', firstname='Parker', ts=1539159465000, page='NextSong', level='paid', churn_down=0, churn=True),\n",
       " Row(userId='61', firstname='Parker', ts=1539159711000, page='NextSong', level='paid', churn_down=0, churn=True),\n",
       " Row(userId='61', firstname='Parker', ts=1539159712000, page='Add Friend', level='paid', churn_down=0, churn=True),\n",
       " Row(userId='61', firstname='Parker', ts=1539159713000, page='Add Friend', level='paid', churn_down=0, churn=True),\n",
       " Row(userId='61', firstname='Parker', ts=1539160017000, page='NextSong', level='paid', churn_down=0, churn=True),\n",
       " Row(userId='61', firstname='Parker', ts=1539160434000, page='NextSong', level='paid', churn_down=0, churn=True),\n",
       " Row(userId='61', firstname='Parker', ts=1539160722000, page='NextSong', level='paid', churn_down=0, churn=True),\n",
       " Row(userId='61', firstname='Parker', ts=1539160942000, page='NextSong', level='paid', churn_down=0, churn=True),\n",
       " Row(userId='61', firstname='Parker', ts=1539161226000, page='NextSong', level='paid', churn_down=0, churn=True),\n",
       " Row(userId='61', firstname='Parker', ts=1539161385000, page='NextSong', level='paid', churn_down=0, churn=True),\n",
       " Row(userId='61', firstname='Parker', ts=1539161532000, page='Downgrade', level='paid', churn_down=0, churn=True),\n",
       " Row(userId='61', firstname='Parker', ts=1539161586000, page='NextSong', level='paid', churn_down=0, churn=True),\n",
       " Row(userId='61', firstname='Parker', ts=1539161812000, page='NextSong', level='paid', churn_down=0, churn=True),\n",
       " Row(userId='61', firstname='Parker', ts=1539162029000, page='NextSong', level='paid', churn_down=0, churn=True),\n",
       " Row(userId='61', firstname='Parker', ts=1539162297000, page='NextSong', level='paid', churn_down=0, churn=True),\n",
       " Row(userId='61', firstname='Parker', ts=1539162563000, page='NextSong', level='paid', churn_down=0, churn=True),\n",
       " Row(userId='61', firstname='Parker', ts=1539162858000, page='NextSong', level='paid', churn_down=0, churn=True),\n",
       " Row(userId='61', firstname='Parker', ts=1539163071000, page='NextSong', level='paid', churn_down=0, churn=True),\n",
       " Row(userId='61', firstname='Parker', ts=1539163318000, page='NextSong', level='paid', churn_down=0, churn=True),\n",
       " Row(userId='61', firstname='Parker', ts=1539163574000, page='NextSong', level='paid', churn_down=0, churn=True),\n",
       " Row(userId='61', firstname='Parker', ts=1539163600000, page='Home', level='paid', churn_down=0, churn=True),\n",
       " Row(userId='61', firstname='Parker', ts=1539163894000, page='NextSong', level='paid', churn_down=0, churn=True),\n",
       " Row(userId='61', firstname='Parker', ts=1539164231000, page='NextSong', level='paid', churn_down=0, churn=True),\n",
       " Row(userId='61', firstname='Parker', ts=1539164688000, page='NextSong', level='paid', churn_down=0, churn=True),\n",
       " Row(userId='61', firstname='Parker', ts=1539164905000, page='NextSong', level='paid', churn_down=0, churn=True),\n",
       " Row(userId='61', firstname='Parker', ts=1539164906000, page='Thumbs Up', level='paid', churn_down=0, churn=True),\n",
       " Row(userId='61', firstname='Parker', ts=1539165068000, page='NextSong', level='paid', churn_down=0, churn=True),\n",
       " Row(userId='61', firstname='Parker', ts=1539165213000, page='NextSong', level='paid', churn_down=0, churn=True),\n",
       " Row(userId='61', firstname='Parker', ts=1539165316000, page='Add to Playlist', level='paid', churn_down=0, churn=True),\n",
       " Row(userId='61', firstname='Parker', ts=1539165446000, page='NextSong', level='paid', churn_down=0, churn=True),\n",
       " Row(userId='61', firstname='Parker', ts=1539165704000, page='NextSong', level='paid', churn_down=0, churn=True),\n",
       " Row(userId='61', firstname='Parker', ts=1539165705000, page='Thumbs Up', level='paid', churn_down=0, churn=True),\n",
       " Row(userId='61', firstname='Parker', ts=1539165933000, page='NextSong', level='paid', churn_down=0, churn=True),\n",
       " Row(userId='61', firstname='Parker', ts=1539166216000, page='NextSong', level='paid', churn_down=0, churn=True),\n",
       " Row(userId='61', firstname='Parker', ts=1539166442000, page='NextSong', level='paid', churn_down=0, churn=True),\n",
       " Row(userId='61', firstname='Parker', ts=1539166443000, page='Thumbs Up', level='paid', churn_down=0, churn=True),\n",
       " Row(userId='61', firstname='Parker', ts=1539166697000, page='NextSong', level='paid', churn_down=0, churn=True),\n",
       " Row(userId='61', firstname='Parker', ts=1539166698000, page='Logout', level='paid', churn_down=0, churn=True),\n",
       " Row(userId='61', firstname='Parker', ts=1539167962000, page='Home', level='paid', churn_down=0, churn=True),\n",
       " Row(userId='61', firstname='Parker', ts=1539168195000, page='NextSong', level='paid', churn_down=0, churn=True),\n",
       " Row(userId='61', firstname='Parker', ts=1539168421000, page='NextSong', level='paid', churn_down=0, churn=True),\n",
       " Row(userId='61', firstname='Parker', ts=1539168659000, page='NextSong', level='paid', churn_down=0, churn=True),\n",
       " Row(userId='61', firstname='Parker', ts=1539168953000, page='NextSong', level='paid', churn_down=0, churn=True),\n",
       " Row(userId='61', firstname='Parker', ts=1539169154000, page='NextSong', level='paid', churn_down=0, churn=True),\n",
       " Row(userId='61', firstname='Parker', ts=1539169404000, page='NextSong', level='paid', churn_down=0, churn=True),\n",
       " Row(userId='61', firstname='Parker', ts=1539169577000, page='NextSong', level='paid', churn_down=0, churn=True),\n",
       " Row(userId='61', firstname='Parker', ts=1539169578000, page='Add Friend', level='paid', churn_down=0, churn=True),\n",
       " Row(userId='61', firstname='Parker', ts=1539169579000, page='Add Friend', level='paid', churn_down=0, churn=True),\n",
       " Row(userId='61', firstname='Parker', ts=1539169778000, page='NextSong', level='paid', churn_down=0, churn=True),\n",
       " Row(userId='61', firstname='Parker', ts=1539170007000, page='NextSong', level='paid', churn_down=0, churn=True),\n",
       " Row(userId='61', firstname='Parker', ts=1539170144000, page='NextSong', level='paid', churn_down=0, churn=True),\n",
       " Row(userId='61', firstname='Parker', ts=1539170352000, page='NextSong', level='paid', churn_down=0, churn=True),\n",
       " Row(userId='61', firstname='Parker', ts=1539170535000, page='NextSong', level='paid', churn_down=0, churn=True),\n",
       " Row(userId='61', firstname='Parker', ts=1539170891000, page='Downgrade', level='paid', churn_down=0, churn=True),\n",
       " Row(userId='61', firstname='Parker', ts=1539170892000, page='Logout', level='paid', churn_down=0, churn=True),\n",
       " Row(userId='61', firstname='Parker', ts=1539171001000, page='Home', level='paid', churn_down=0, churn=True),\n",
       " Row(userId='61', firstname='Parker', ts=1539171401000, page='NextSong', level='paid', churn_down=0, churn=True),\n",
       " Row(userId='61', firstname='Parker', ts=1539171678000, page='NextSong', level='paid', churn_down=0, churn=True),\n",
       " Row(userId='61', firstname='Parker', ts=1539171679000, page='Add Friend', level='paid', churn_down=0, churn=True),\n",
       " Row(userId='61', firstname='Parker', ts=1539171680000, page='Add Friend', level='paid', churn_down=0, churn=True),\n",
       " Row(userId='61', firstname='Parker', ts=1539171923000, page='NextSong', level='paid', churn_down=0, churn=True),\n",
       " Row(userId='61', firstname='Parker', ts=1539172214000, page='NextSong', level='paid', churn_down=0, churn=True),\n",
       " Row(userId='61', firstname='Parker', ts=1539172391000, page='NextSong', level='paid', churn_down=0, churn=True),\n",
       " Row(userId='61', firstname='Parker', ts=1539172617000, page='NextSong', level='paid', churn_down=0, churn=True),\n",
       " Row(userId='61', firstname='Parker', ts=1539172836000, page='NextSong', level='paid', churn_down=0, churn=True),\n",
       " Row(userId='61', firstname='Parker', ts=1539173025000, page='NextSong', level='paid', churn_down=0, churn=True),\n",
       " Row(userId='61', firstname='Parker', ts=1539173134000, page='Home', level='paid', churn_down=0, churn=True),\n",
       " Row(userId='61', firstname='Parker', ts=1539173145000, page='NextSong', level='paid', churn_down=0, churn=True),\n",
       " Row(userId='61', firstname='Parker', ts=1539173405000, page='NextSong', level='paid', churn_down=0, churn=True),\n",
       " Row(userId='61', firstname='Parker', ts=1539173615000, page='NextSong', level='paid', churn_down=0, churn=True),\n",
       " Row(userId='61', firstname='Parker', ts=1539173934000, page='NextSong', level='paid', churn_down=0, churn=True),\n",
       " Row(userId='61', firstname='Parker', ts=1539174138000, page='NextSong', level='paid', churn_down=0, churn=True),\n",
       " Row(userId='61', firstname='Parker', ts=1539174309000, page='NextSong', level='paid', churn_down=0, churn=True),\n",
       " Row(userId='61', firstname='Parker', ts=1539174310000, page='Thumbs Up', level='paid', churn_down=0, churn=True),\n",
       " Row(userId='61', firstname='Parker', ts=1539174510000, page='NextSong', level='paid', churn_down=0, churn=True),\n",
       " Row(userId='61', firstname='Parker', ts=1539175210000, page='NextSong', level='paid', churn_down=0, churn=True),\n",
       " Row(userId='61', firstname='Parker', ts=1539175764000, page='Add to Playlist', level='paid', churn_down=0, churn=True),\n",
       " Row(userId='61', firstname='Parker', ts=1539175993000, page='NextSong', level='paid', churn_down=0, churn=True),\n",
       " Row(userId='61', firstname='Parker', ts=1539176288000, page='NextSong', level='paid', churn_down=0, churn=True),\n",
       " Row(userId='61', firstname='Parker', ts=1539176510000, page='NextSong', level='paid', churn_down=0, churn=True),\n",
       " Row(userId='61', firstname='Parker', ts=1539176742000, page='NextSong', level='paid', churn_down=0, churn=True),\n",
       " Row(userId='61', firstname='Parker', ts=1539177397000, page='NextSong', level='paid', churn_down=0, churn=True),\n",
       " Row(userId='61', firstname='Parker', ts=1539177615000, page='NextSong', level='paid', churn_down=0, churn=True),\n",
       " Row(userId='61', firstname='Parker', ts=1539177616000, page='Add Friend', level='paid', churn_down=0, churn=True),\n",
       " Row(userId='61', firstname='Parker', ts=1539177818000, page='NextSong', level='paid', churn_down=0, churn=True),\n",
       " Row(userId='61', firstname='Parker', ts=1539177819000, page='Thumbs Down', level='paid', churn_down=0, churn=True),\n",
       " Row(userId='61', firstname='Parker', ts=1539177961000, page='NextSong', level='paid', churn_down=0, churn=True),\n",
       " Row(userId='61', firstname='Parker', ts=1539178162000, page='NextSong', level='paid', churn_down=0, churn=True),\n",
       " Row(userId='61', firstname='Parker', ts=1539178244000, page='Help', level='paid', churn_down=0, churn=True),\n",
       " Row(userId='61', firstname='Parker', ts=1539178254000, page='Home', level='paid', churn_down=0, churn=True),\n",
       " Row(userId='61', firstname='Parker', ts=1539178331000, page='NextSong', level='paid', churn_down=0, churn=True),\n",
       " Row(userId='61', firstname='Parker', ts=1539178582000, page='NextSong', level='paid', churn_down=0, churn=True),\n",
       " Row(userId='61', firstname='Parker', ts=1539178813000, page='NextSong', level='paid', churn_down=0, churn=True),\n",
       " Row(userId='61', firstname='Parker', ts=1539178814000, page='Logout', level='paid', churn_down=0, churn=True),\n",
       " Row(userId='61', firstname='Parker', ts=1539178971000, page='Home', level='paid', churn_down=0, churn=True),\n",
       " Row(userId='61', firstname='Parker', ts=1539179072000, page='NextSong', level='paid', churn_down=0, churn=True),\n",
       " Row(userId='61', firstname='Parker', ts=1539179336000, page='NextSong', level='paid', churn_down=0, churn=True),\n",
       " Row(userId='61', firstname='Parker', ts=1539179645000, page='NextSong', level='paid', churn_down=0, churn=True),\n",
       " Row(userId='61', firstname='Parker', ts=1539179756000, page='NextSong', level='paid', churn_down=0, churn=True),\n",
       " Row(userId='61', firstname='Parker', ts=1539179957000, page='NextSong', level='paid', churn_down=0, churn=True),\n",
       " Row(userId='61', firstname='Parker', ts=1539180037000, page='Add to Playlist', level='paid', churn_down=0, churn=True),\n",
       " Row(userId='61', firstname='Parker', ts=1539180173000, page='NextSong', level='paid', churn_down=0, churn=True),\n",
       " Row(userId='61', firstname='Parker', ts=1539180366000, page='NextSong', level='paid', churn_down=0, churn=True),\n",
       " Row(userId='61', firstname='Parker', ts=1539180568000, page='NextSong', level='paid', churn_down=0, churn=True),\n",
       " Row(userId='61', firstname='Parker', ts=1539180847000, page='Home', level='paid', churn_down=0, churn=True),\n",
       " Row(userId='61', firstname='Parker', ts=1539182019000, page='NextSong', level='paid', churn_down=0, churn=True),\n",
       " Row(userId='61', firstname='Parker', ts=1539182165000, page='Settings', level='paid', churn_down=0, churn=True),\n",
       " Row(userId='61', firstname='Parker', ts=1539182229000, page='NextSong', level='paid', churn_down=0, churn=True),\n",
       " Row(userId='61', firstname='Parker', ts=1539182230000, page='Thumbs Up', level='paid', churn_down=0, churn=True),\n",
       " Row(userId='61', firstname='Parker', ts=1539182480000, page='NextSong', level='paid', churn_down=0, churn=True),\n",
       " Row(userId='61', firstname='Parker', ts=1539182689000, page='NextSong', level='paid', churn_down=0, churn=True),\n",
       " Row(userId='61', firstname='Parker', ts=1539182985000, page='NextSong', level='paid', churn_down=0, churn=True),\n",
       " Row(userId='61', firstname='Parker', ts=1539183206000, page='NextSong', level='paid', churn_down=0, churn=True),\n",
       " Row(userId='61', firstname='Parker', ts=1539183396000, page='NextSong', level='paid', churn_down=0, churn=True),\n",
       " Row(userId='61', firstname='Parker', ts=1539183677000, page='NextSong', level='paid', churn_down=0, churn=True),\n",
       " Row(userId='61', firstname='Parker', ts=1539183890000, page='NextSong', level='paid', churn_down=0, churn=True),\n",
       " Row(userId='61', firstname='Parker', ts=1539183891000, page='Thumbs Up', level='paid', churn_down=0, churn=True),\n",
       " Row(userId='61', firstname='Parker', ts=1539184392000, page='Add to Playlist', level='paid', churn_down=0, churn=True),\n",
       " Row(userId='61', firstname='Parker', ts=1539184570000, page='NextSong', level='paid', churn_down=0, churn=True),\n",
       " Row(userId='61', firstname='Parker', ts=1539184733000, page='NextSong', level='paid', churn_down=0, churn=True),\n",
       " Row(userId='61', firstname='Parker', ts=1539184934000, page='NextSong', level='paid', churn_down=0, churn=True),\n",
       " Row(userId='61', firstname='Parker', ts=1539185244000, page='NextSong', level='paid', churn_down=0, churn=True),\n",
       " Row(userId='61', firstname='Parker', ts=1539185410000, page='NextSong', level='paid', churn_down=0, churn=True),\n",
       " Row(userId='61', firstname='Parker', ts=1539185647000, page='NextSong', level='paid', churn_down=0, churn=True),\n",
       " Row(userId='61', firstname='Parker', ts=1539185995000, page='NextSong', level='paid', churn_down=0, churn=True),\n",
       " Row(userId='61', firstname='Parker', ts=1539186215000, page='NextSong', level='paid', churn_down=0, churn=True),\n",
       " Row(userId='61', firstname='Parker', ts=1539186475000, page='NextSong', level='paid', churn_down=0, churn=True),\n",
       " Row(userId='61', firstname='Parker', ts=1539186476000, page='Thumbs Up', level='paid', churn_down=0, churn=True),\n",
       " Row(userId='61', firstname='Parker', ts=1539186562000, page='Add to Playlist', level='paid', churn_down=0, churn=True),\n",
       " Row(userId='61', firstname='Parker', ts=1539186701000, page='NextSong', level='paid', churn_down=0, churn=True),\n",
       " Row(userId='61', firstname='Parker', ts=1539186925000, page='NextSong', level='paid', churn_down=0, churn=True),\n",
       " Row(userId='61', firstname='Parker', ts=1539187079000, page='NextSong', level='paid', churn_down=0, churn=True),\n",
       " Row(userId='61', firstname='Parker', ts=1539187080000, page='Thumbs Up', level='paid', churn_down=0, churn=True),\n",
       " Row(userId='61', firstname='Parker', ts=1539187251000, page='NextSong', level='paid', churn_down=0, churn=True),\n",
       " Row(userId='61', firstname='Parker', ts=1539187252000, page='Thumbs Up', level='paid', churn_down=0, churn=True),\n",
       " Row(userId='61', firstname='Parker', ts=1539187509000, page='NextSong', level='paid', churn_down=0, churn=True),\n",
       " Row(userId='61', firstname='Parker', ts=1539187763000, page='NextSong', level='paid', churn_down=0, churn=True),\n",
       " Row(userId='61', firstname='Parker', ts=1539187996000, page='NextSong', level='paid', churn_down=0, churn=True),\n",
       " Row(userId='61', firstname='Parker', ts=1539188289000, page='NextSong', level='paid', churn_down=0, churn=True),\n",
       " Row(userId='61', firstname='Parker', ts=1539188421000, page='NextSong', level='paid', churn_down=0, churn=True),\n",
       " Row(userId='61', firstname='Parker', ts=1539188665000, page='NextSong', level='paid', churn_down=0, churn=True),\n",
       " Row(userId='61', firstname='Parker', ts=1539188954000, page='NextSong', level='paid', churn_down=0, churn=True),\n",
       " Row(userId='61', firstname='Parker', ts=1539189219000, page='NextSong', level='paid', churn_down=0, churn=True),\n",
       " Row(userId='61', firstname='Parker', ts=1539189381000, page='NextSong', level='paid', churn_down=0, churn=True),\n",
       " Row(userId='61', firstname='Parker', ts=1539189547000, page='NextSong', level='paid', churn_down=0, churn=True),\n",
       " Row(userId='61', firstname='Parker', ts=1539189811000, page='NextSong', level='paid', churn_down=0, churn=True),\n",
       " Row(userId='61', firstname='Parker', ts=1539190087000, page='NextSong', level='paid', churn_down=0, churn=True),\n",
       " Row(userId='61', firstname='Parker', ts=1539190321000, page='NextSong', level='paid', churn_down=0, churn=True),\n",
       " Row(userId='61', firstname='Parker', ts=1539190702000, page='NextSong', level='paid', churn_down=0, churn=True),\n",
       " Row(userId='61', firstname='Parker', ts=1539190878000, page='NextSong', level='paid', churn_down=0, churn=True),\n",
       " Row(userId='61', firstname='Parker', ts=1539191042000, page='NextSong', level='paid', churn_down=0, churn=True),\n",
       " Row(userId='61', firstname='Parker', ts=1539191372000, page='NextSong', level='paid', churn_down=0, churn=True),\n",
       " Row(userId='61', firstname='Parker', ts=1539191573000, page='NextSong', level='paid', churn_down=0, churn=True),\n",
       " Row(userId='61', firstname='Parker', ts=1539191878000, page='NextSong', level='paid', churn_down=0, churn=True),\n",
       " Row(userId='61', firstname='Parker', ts=1539191879000, page='Thumbs Up', level='paid', churn_down=0, churn=True),\n",
       " Row(userId='61', firstname='Parker', ts=1539192189000, page='NextSong', level='paid', churn_down=0, churn=True),\n",
       " Row(userId='61', firstname='Parker', ts=1539192410000, page='NextSong', level='paid', churn_down=0, churn=True),\n",
       " Row(userId='61', firstname='Parker', ts=1539192671000, page='NextSong', level='paid', churn_down=0, churn=True),\n",
       " Row(userId='61', firstname='Parker', ts=1539192906000, page='NextSong', level='paid', churn_down=0, churn=True),\n",
       " Row(userId='61', firstname='Parker', ts=1539193190000, page='NextSong', level='paid', churn_down=0, churn=True),\n",
       " Row(userId='61', firstname='Parker', ts=1539193385000, page='NextSong', level='paid', churn_down=0, churn=True),\n",
       " Row(userId='61', firstname='Parker', ts=1539193613000, page='NextSong', level='paid', churn_down=0, churn=True),\n",
       " Row(userId='61', firstname='Parker', ts=1539193834000, page='NextSong', level='paid', churn_down=0, churn=True),\n",
       " Row(userId='61', firstname='Parker', ts=1539193968000, page='NextSong', level='paid', churn_down=0, churn=True),\n",
       " Row(userId='61', firstname='Parker', ts=1539194148000, page='NextSong', level='paid', churn_down=0, churn=True),\n",
       " Row(userId='61', firstname='Parker', ts=1539194371000, page='NextSong', level='paid', churn_down=0, churn=True),\n",
       " Row(userId='61', firstname='Parker', ts=1539194504000, page='NextSong', level='paid', churn_down=0, churn=True),\n",
       " Row(userId='61', firstname='Parker', ts=1539194720000, page='NextSong', level='paid', churn_down=0, churn=True),\n",
       " Row(userId='61', firstname='Parker', ts=1539194992000, page='NextSong', level='paid', churn_down=0, churn=True),\n",
       " Row(userId='61', firstname='Parker', ts=1539195402000, page='NextSong', level='paid', churn_down=0, churn=True),\n",
       " Row(userId='61', firstname='Parker', ts=1539195595000, page='NextSong', level='paid', churn_down=0, churn=True),\n",
       " Row(userId='61', firstname='Parker', ts=1539195812000, page='NextSong', level='paid', churn_down=0, churn=True),\n",
       " Row(userId='61', firstname='Parker', ts=1539195975000, page='NextSong', level='paid', churn_down=0, churn=True),\n",
       " Row(userId='61', firstname='Parker', ts=1539196180000, page='NextSong', level='paid', churn_down=0, churn=True),\n",
       " Row(userId='61', firstname='Parker', ts=1539196410000, page='NextSong', level='paid', churn_down=0, churn=True),\n",
       " Row(userId='61', firstname='Parker', ts=1539196649000, page='NextSong', level='paid', churn_down=0, churn=True),\n",
       " Row(userId='61', firstname='Parker', ts=1539196914000, page='NextSong', level='paid', churn_down=0, churn=True),\n",
       " Row(userId='61', firstname='Parker', ts=1539197170000, page='NextSong', level='paid', churn_down=0, churn=True),\n",
       " Row(userId='61', firstname='Parker', ts=1539197408000, page='NextSong', level='paid', churn_down=0, churn=True),\n",
       " Row(userId='61', firstname='Parker', ts=1539197667000, page='NextSong', level='paid', churn_down=0, churn=True),\n",
       " Row(userId='61', firstname='Parker', ts=1539197798000, page='NextSong', level='paid', churn_down=0, churn=True),\n",
       " Row(userId='61', firstname='Parker', ts=1539198036000, page='NextSong', level='paid', churn_down=0, churn=True),\n",
       " Row(userId='61', firstname='Parker', ts=1539198519000, page='NextSong', level='paid', churn_down=0, churn=True),\n",
       " Row(userId='61', firstname='Parker', ts=1539198761000, page='NextSong', level='paid', churn_down=0, churn=True),\n",
       " Row(userId='61', firstname='Parker', ts=1539198762000, page='Thumbs Up', level='paid', churn_down=0, churn=True),\n",
       " Row(userId='61', firstname='Parker', ts=1539198940000, page='NextSong', level='paid', churn_down=0, churn=True),\n",
       " Row(userId='61', firstname='Parker', ts=1539199106000, page='NextSong', level='paid', churn_down=0, churn=True),\n",
       " Row(userId='61', firstname='Parker', ts=1539199239000, page='NextSong', level='paid', churn_down=0, churn=True),\n",
       " Row(userId='61', firstname='Parker', ts=1539199378000, page='NextSong', level='paid', churn_down=0, churn=True),\n",
       " Row(userId='61', firstname='Parker', ts=1539199666000, page='NextSong', level='paid', churn_down=0, churn=True),\n",
       " Row(userId='61', firstname='Parker', ts=1539199886000, page='NextSong', level='paid', churn_down=0, churn=True),\n",
       " Row(userId='61', firstname='Parker', ts=1539200092000, page='NextSong', level='paid', churn_down=0, churn=True),\n",
       " Row(userId='61', firstname='Parker', ts=1539200219000, page='NextSong', level='paid', churn_down=0, churn=True),\n",
       " Row(userId='61', firstname='Parker', ts=1539200338000, page='NextSong', level='paid', churn_down=0, churn=True),\n",
       " Row(userId='61', firstname='Parker', ts=1539200721000, page='Downgrade', level='paid', churn_down=0, churn=True),\n",
       " Row(userId='61', firstname='Parker', ts=1539201619000, page='NextSong', level='paid', churn_down=0, churn=True),\n",
       " Row(userId='61', firstname='Parker', ts=1539201755000, page='NextSong', level='paid', churn_down=0, churn=True),\n",
       " Row(userId='61', firstname='Parker', ts=1539201963000, page='NextSong', level='paid', churn_down=0, churn=True),\n",
       " Row(userId='61', firstname='Parker', ts=1539202187000, page='NextSong', level='paid', churn_down=0, churn=True),\n",
       " Row(userId='61', firstname='Parker', ts=1539202456000, page='NextSong', level='paid', churn_down=0, churn=True),\n",
       " Row(userId='61', firstname='Parker', ts=1539202457000, page='Logout', level='paid', churn_down=0, churn=True),\n",
       " Row(userId='61', firstname='Parker', ts=1539202740000, page='Home', level='paid', churn_down=0, churn=True),\n",
       " Row(userId='61', firstname='Parker', ts=1539203220000, page='NextSong', level='paid', churn_down=0, churn=True),\n",
       " Row(userId='61', firstname='Parker', ts=1539203466000, page='NextSong', level='paid', churn_down=0, churn=True),\n",
       " Row(userId='61', firstname='Parker', ts=1539203650000, page='NextSong', level='paid', churn_down=0, churn=True),\n",
       " Row(userId='61', firstname='Parker', ts=1539203918000, page='NextSong', level='paid', churn_down=0, churn=True),\n",
       " Row(userId='61', firstname='Parker', ts=1539204344000, page='NextSong', level='paid', churn_down=0, churn=True),\n",
       " Row(userId='61', firstname='Parker', ts=1539204601000, page='NextSong', level='paid', churn_down=0, churn=True),\n",
       " Row(userId='61', firstname='Parker', ts=1539204973000, page='NextSong', level='paid', churn_down=0, churn=True),\n",
       " Row(userId='61', firstname='Parker', ts=1539205239000, page='NextSong', level='paid', churn_down=0, churn=True),\n",
       " Row(userId='61', firstname='Parker', ts=1539205507000, page='NextSong', level='paid', churn_down=0, churn=True),\n",
       " Row(userId='61', firstname='Parker', ts=1539205771000, page='NextSong', level='paid', churn_down=0, churn=True),\n",
       " Row(userId='61', firstname='Parker', ts=1539206126000, page='NextSong', level='paid', churn_down=0, churn=True),\n",
       " Row(userId='61', firstname='Parker', ts=1539206511000, page='NextSong', level='paid', churn_down=0, churn=True),\n",
       " Row(userId='61', firstname='Parker', ts=1539206686000, page='NextSong', level='paid', churn_down=0, churn=True),\n",
       " Row(userId='61', firstname='Parker', ts=1539206926000, page='NextSong', level='paid', churn_down=0, churn=True),\n",
       " Row(userId='61', firstname='Parker', ts=1539207157000, page='NextSong', level='paid', churn_down=0, churn=True),\n",
       " Row(userId='61', firstname='Parker', ts=1539207158000, page='Thumbs Up', level='paid', churn_down=0, churn=True),\n",
       " Row(userId='61', firstname='Parker', ts=1539207421000, page='NextSong', level='paid', churn_down=0, churn=True),\n",
       " Row(userId='61', firstname='Parker', ts=1539207666000, page='NextSong', level='paid', churn_down=0, churn=True),\n",
       " Row(userId='61', firstname='Parker', ts=1539207855000, page='NextSong', level='paid', churn_down=0, churn=True),\n",
       " Row(userId='61', firstname='Parker', ts=1539208026000, page='NextSong', level='paid', churn_down=0, churn=True),\n",
       " Row(userId='61', firstname='Parker', ts=1539208202000, page='NextSong', level='paid', churn_down=0, churn=True),\n",
       " Row(userId='61', firstname='Parker', ts=1539208479000, page='NextSong', level='paid', churn_down=0, churn=True),\n",
       " Row(userId='61', firstname='Parker', ts=1539208754000, page='NextSong', level='paid', churn_down=0, churn=True),\n",
       " Row(userId='61', firstname='Parker', ts=1539208957000, page='NextSong', level='paid', churn_down=0, churn=True),\n",
       " Row(userId='61', firstname='Parker', ts=1539209045000, page='NextSong', level='paid', churn_down=0, churn=True),\n",
       " Row(userId='61', firstname='Parker', ts=1539209244000, page='NextSong', level='paid', churn_down=0, churn=True),\n",
       " Row(userId='61', firstname='Parker', ts=1539209480000, page='NextSong', level='paid', churn_down=0, churn=True),\n",
       " Row(userId='61', firstname='Parker', ts=1539209702000, page='NextSong', level='paid', churn_down=0, churn=True),\n",
       " Row(userId='61', firstname='Parker', ts=1539209961000, page='NextSong', level='paid', churn_down=0, churn=True),\n",
       " Row(userId='61', firstname='Parker', ts=1539210368000, page='NextSong', level='paid', churn_down=0, churn=True),\n",
       " Row(userId='61', firstname='Parker', ts=1539210535000, page='NextSong', level='paid', churn_down=0, churn=True),\n",
       " Row(userId='61', firstname='Parker', ts=1539210809000, page='NextSong', level='paid', churn_down=0, churn=True),\n",
       " Row(userId='61', firstname='Parker', ts=1539210980000, page='NextSong', level='paid', churn_down=0, churn=True),\n",
       " Row(userId='61', firstname='Parker', ts=1539210981000, page='Thumbs Up', level='paid', churn_down=0, churn=True),\n",
       " Row(userId='61', firstname='Parker', ts=1539211274000, page='NextSong', level='paid', churn_down=0, churn=True),\n",
       " Row(userId='61', firstname='Parker', ts=1539211595000, page='NextSong', level='paid', churn_down=0, churn=True),\n",
       " Row(userId='61', firstname='Parker', ts=1539211596000, page='Logout', level='paid', churn_down=0, churn=True),\n",
       " Row(userId='61', firstname='Parker', ts=1539212795000, page='Home', level='paid', churn_down=0, churn=True),\n",
       " Row(userId='61', firstname='Parker', ts=1539212905000, page='NextSong', level='paid', churn_down=0, churn=True),\n",
       " Row(userId='61', firstname='Parker', ts=1539213121000, page='NextSong', level='paid', churn_down=0, churn=True),\n",
       " Row(userId='61', firstname='Parker', ts=1539213331000, page='NextSong', level='paid', churn_down=0, churn=True),\n",
       " Row(userId='61', firstname='Parker', ts=1539213490000, page='NextSong', level='paid', churn_down=0, churn=True),\n",
       " Row(userId='61', firstname='Parker', ts=1539213771000, page='NextSong', level='paid', churn_down=0, churn=True),\n",
       " Row(userId='61', firstname='Parker', ts=1539214041000, page='NextSong', level='paid', churn_down=0, churn=True),\n",
       " Row(userId='61', firstname='Parker', ts=1539214535000, page='NextSong', level='paid', churn_down=0, churn=True),\n",
       " Row(userId='61', firstname='Parker', ts=1539214759000, page='NextSong', level='paid', churn_down=0, churn=True),\n",
       " Row(userId='61', firstname='Parker', ts=1539214925000, page='NextSong', level='paid', churn_down=0, churn=True),\n",
       " Row(userId='61', firstname='Parker', ts=1539215202000, page='NextSong', level='paid', churn_down=0, churn=True),\n",
       " Row(userId='61', firstname='Parker', ts=1539215611000, page='Add to Playlist', level='paid', churn_down=0, churn=True),\n",
       " Row(userId='61', firstname='Parker', ts=1539215719000, page='NextSong', level='paid', churn_down=0, churn=True),\n",
       " Row(userId='61', firstname='Parker', ts=1539215720000, page='Thumbs Up', level='paid', churn_down=0, churn=True),\n",
       " Row(userId='61', firstname='Parker', ts=1539215996000, page='NextSong', level='paid', churn_down=0, churn=True),\n",
       " Row(userId='61', firstname='Parker', ts=1539216253000, page='NextSong', level='paid', churn_down=0, churn=True),\n",
       " Row(userId='61', firstname='Parker', ts=1539216465000, page='NextSong', level='paid', churn_down=0, churn=True),\n",
       " Row(userId='61', firstname='Parker', ts=1539216725000, page='NextSong', level='paid', churn_down=0, churn=True),\n",
       " Row(userId='61', firstname='Parker', ts=1539216937000, page='NextSong', level='paid', churn_down=0, churn=True),\n",
       " Row(userId='61', firstname='Parker', ts=1539217115000, page='NextSong', level='paid', churn_down=0, churn=True),\n",
       " Row(userId='61', firstname='Parker', ts=1539217280000, page='NextSong', level='paid', churn_down=0, churn=True),\n",
       " Row(userId='61', firstname='Parker', ts=1539217547000, page='NextSong', level='paid', churn_down=0, churn=True),\n",
       " Row(userId='61', firstname='Parker', ts=1539217834000, page='NextSong', level='paid', churn_down=0, churn=True),\n",
       " Row(userId='61', firstname='Parker', ts=1539217835000, page='Thumbs Down', level='paid', churn_down=0, churn=True),\n",
       " Row(userId='61', firstname='Parker', ts=1539218055000, page='NextSong', level='paid', churn_down=0, churn=True),\n",
       " Row(userId='61', firstname='Parker', ts=1539218230000, page='NextSong', level='paid', churn_down=0, churn=True),\n",
       " Row(userId='61', firstname='Parker', ts=1539218544000, page='NextSong', level='paid', churn_down=0, churn=True),\n",
       " Row(userId='61', firstname='Parker', ts=1539218697000, page='NextSong', level='paid', churn_down=0, churn=True),\n",
       " Row(userId='61', firstname='Parker', ts=1539219254000, page='Home', level='paid', churn_down=0, churn=True),\n",
       " Row(userId='61', firstname='Parker', ts=1539219520000, page='NextSong', level='paid', churn_down=0, churn=True),\n",
       " Row(userId='61', firstname='Parker', ts=1539219521000, page='Thumbs Up', level='paid', churn_down=0, churn=True),\n",
       " Row(userId='61', firstname='Parker', ts=1539219814000, page='NextSong', level='paid', churn_down=0, churn=True),\n",
       " Row(userId='61', firstname='Parker', ts=1539220161000, page='NextSong', level='paid', churn_down=0, churn=True),\n",
       " Row(userId='61', firstname='Parker', ts=1539220388000, page='NextSong', level='paid', churn_down=0, churn=True),\n",
       " Row(userId='61', firstname='Parker', ts=1539220463000, page='Home', level='paid', churn_down=0, churn=True),\n",
       " Row(userId='61', firstname='Parker', ts=1539220581000, page='NextSong', level='paid', churn_down=0, churn=True),\n",
       " Row(userId='61', firstname='Parker', ts=1539220582000, page='Thumbs Up', level='paid', churn_down=0, churn=True),\n",
       " Row(userId='61', firstname='Parker', ts=1539220776000, page='NextSong', level='paid', churn_down=0, churn=True),\n",
       " Row(userId='61', firstname='Parker', ts=1539221009000, page='NextSong', level='paid', churn_down=0, churn=True),\n",
       " Row(userId='61', firstname='Parker', ts=1539221264000, page='NextSong', level='paid', churn_down=0, churn=True),\n",
       " Row(userId='61', firstname='Parker', ts=1539221524000, page='NextSong', level='paid', churn_down=0, churn=True),\n",
       " Row(userId='61', firstname='Parker', ts=1539221976000, page='NextSong', level='paid', churn_down=0, churn=True),\n",
       " Row(userId='61', firstname='Parker', ts=1539222283000, page='NextSong', level='paid', churn_down=0, churn=True),\n",
       " Row(userId='61', firstname='Parker', ts=1539222705000, page='Add to Playlist', level='paid', churn_down=0, churn=True),\n",
       " Row(userId='61', firstname='Parker', ts=1539222748000, page='NextSong', level='paid', churn_down=0, churn=True),\n",
       " Row(userId='61', firstname='Parker', ts=1539222956000, page='NextSong', level='paid', churn_down=0, churn=True),\n",
       " Row(userId='61', firstname='Parker', ts=1539223172000, page='NextSong', level='paid', churn_down=0, churn=True),\n",
       " Row(userId='61', firstname='Parker', ts=1539223362000, page='NextSong', level='paid', churn_down=0, churn=True),\n",
       " Row(userId='61', firstname='Parker', ts=1539223606000, page='NextSong', level='paid', churn_down=0, churn=True),\n",
       " Row(userId='61', firstname='Parker', ts=1539223953000, page='NextSong', level='paid', churn_down=0, churn=True),\n",
       " Row(userId='61', firstname='Parker', ts=1539224094000, page='NextSong', level='paid', churn_down=0, churn=True),\n",
       " Row(userId='61', firstname='Parker', ts=1539224306000, page='NextSong', level='paid', churn_down=0, churn=True),\n",
       " Row(userId='61', firstname='Parker', ts=1539224545000, page='NextSong', level='paid', churn_down=0, churn=True),\n",
       " Row(userId='61', firstname='Parker', ts=1539224725000, page='NextSong', level='paid', churn_down=0, churn=True),\n",
       " Row(userId='61', firstname='Parker', ts=1539224926000, page='NextSong', level='paid', churn_down=0, churn=True),\n",
       " Row(userId='61', firstname='Parker', ts=1539225159000, page='NextSong', level='paid', churn_down=0, churn=True),\n",
       " Row(userId='61', firstname='Parker', ts=1539225223000, page='NextSong', level='paid', churn_down=0, churn=True),\n",
       " Row(userId='61', firstname='Parker', ts=1539225402000, page='Downgrade', level='paid', churn_down=0, churn=True),\n",
       " Row(userId='61', firstname='Parker', ts=1539225442000, page='NextSong', level='paid', churn_down=0, churn=True),\n",
       " Row(userId='61', firstname='Parker', ts=1539225673000, page='NextSong', level='paid', churn_down=0, churn=True),\n",
       " Row(userId='61', firstname='Parker', ts=1539226016000, page='NextSong', level='paid', churn_down=0, churn=True),\n",
       " Row(userId='61', firstname='Parker', ts=1539226226000, page='NextSong', level='paid', churn_down=0, churn=True),\n",
       " Row(userId='61', firstname='Parker', ts=1539226406000, page='NextSong', level='paid', churn_down=0, churn=True),\n",
       " Row(userId='61', firstname='Parker', ts=1539226568000, page='Add to Playlist', level='paid', churn_down=0, churn=True),\n",
       " Row(userId='61', firstname='Parker', ts=1539226588000, page='NextSong', level='paid', churn_down=0, churn=True),\n",
       " Row(userId='61', firstname='Parker', ts=1539226813000, page='NextSong', level='paid', churn_down=0, churn=True),\n",
       " Row(userId='61', firstname='Parker', ts=1539227047000, page='NextSong', level='paid', churn_down=0, churn=True),\n",
       " Row(userId='61', firstname='Parker', ts=1539227204000, page='NextSong', level='paid', churn_down=0, churn=True),\n",
       " Row(userId='61', firstname='Parker', ts=1539227443000, page='NextSong', level='paid', churn_down=0, churn=True),\n",
       " Row(userId='61', firstname='Parker', ts=1539227743000, page='NextSong', level='paid', churn_down=0, churn=True),\n",
       " Row(userId='61', firstname='Parker', ts=1539227744000, page='Thumbs Up', level='paid', churn_down=0, churn=True),\n",
       " Row(userId='61', firstname='Parker', ts=1539227912000, page='NextSong', level='paid', churn_down=0, churn=True),\n",
       " Row(userId='61', firstname='Parker', ts=1539228095000, page='Home', level='paid', churn_down=0, churn=True),\n",
       " Row(userId='61', firstname='Parker', ts=1539228493000, page='NextSong', level='paid', churn_down=0, churn=True),\n",
       " Row(userId='61', firstname='Parker', ts=1539228804000, page='NextSong', level='paid', churn_down=0, churn=True),\n",
       " Row(userId='61', firstname='Parker', ts=1539229111000, page='NextSong', level='paid', churn_down=0, churn=True),\n",
       " Row(userId='61', firstname='Parker', ts=1539229157000, page='NextSong', level='paid', churn_down=0, churn=True),\n",
       " Row(userId='61', firstname='Parker', ts=1539229505000, page='NextSong', level='paid', churn_down=0, churn=True),\n",
       " Row(userId='61', firstname='Parker', ts=1539229697000, page='NextSong', level='paid', churn_down=0, churn=True),\n",
       " Row(userId='61', firstname='Parker', ts=1539229928000, page='NextSong', level='paid', churn_down=0, churn=True),\n",
       " Row(userId='61', firstname='Parker', ts=1539230067000, page='NextSong', level='paid', churn_down=0, churn=True),\n",
       " Row(userId='61', firstname='Parker', ts=1539230162000, page='NextSong', level='paid', churn_down=0, churn=True),\n",
       " Row(userId='61', firstname='Parker', ts=1539230329000, page='NextSong', level='paid', churn_down=0, churn=True),\n",
       " Row(userId='61', firstname='Parker', ts=1539230685000, page='NextSong', level='paid', churn_down=0, churn=True),\n",
       " Row(userId='61', firstname='Parker', ts=1539230854000, page='NextSong', level='paid', churn_down=0, churn=True),\n",
       " Row(userId='61', firstname='Parker', ts=1539231137000, page='NextSong', level='paid', churn_down=0, churn=True),\n",
       " Row(userId='61', firstname='Parker', ts=1539231341000, page='NextSong', level='paid', churn_down=0, churn=True),\n",
       " Row(userId='61', firstname='Parker', ts=1539231444000, page='Help', level='paid', churn_down=0, churn=True),\n",
       " Row(userId='61', firstname='Parker', ts=1539231584000, page='NextSong', level='paid', churn_down=0, churn=True),\n",
       " Row(userId='61', firstname='Parker', ts=1539231823000, page='NextSong', level='paid', churn_down=0, churn=True),\n",
       " Row(userId='61', firstname='Parker', ts=1539232043000, page='NextSong', level='paid', churn_down=0, churn=True),\n",
       " Row(userId='61', firstname='Parker', ts=1539232277000, page='NextSong', level='paid', churn_down=0, churn=True),\n",
       " Row(userId='61', firstname='Parker', ts=1539232498000, page='NextSong', level='paid', churn_down=0, churn=True),\n",
       " Row(userId='61', firstname='Parker', ts=1539232664000, page='NextSong', level='paid', churn_down=0, churn=True),\n",
       " Row(userId='61', firstname='Parker', ts=1539233131000, page='NextSong', level='paid', churn_down=0, churn=True),\n",
       " Row(userId='61', firstname='Parker', ts=1539233414000, page='NextSong', level='paid', churn_down=0, churn=True),\n",
       " Row(userId='61', firstname='Parker', ts=1539233605000, page='NextSong', level='paid', churn_down=0, churn=True),\n",
       " Row(userId='61', firstname='Parker', ts=1539233606000, page='Thumbs Up', level='paid', churn_down=0, churn=True),\n",
       " Row(userId='61', firstname='Parker', ts=1539233769000, page='NextSong', level='paid', churn_down=0, churn=True),\n",
       " Row(userId='61', firstname='Parker', ts=1539233978000, page='NextSong', level='paid', churn_down=0, churn=True),\n",
       " Row(userId='61', firstname='Parker', ts=1539233980000, page='Add to Playlist', level='paid', churn_down=0, churn=True),\n",
       " Row(userId='61', firstname='Parker', ts=1539234292000, page='NextSong', level='paid', churn_down=0, churn=True),\n",
       " Row(userId='61', firstname='Parker', ts=1539234566000, page='NextSong', level='paid', churn_down=0, churn=True),\n",
       " Row(userId='61', firstname='Parker', ts=1539234747000, page='NextSong', level='paid', churn_down=0, churn=True),\n",
       " Row(userId='61', firstname='Parker', ts=1539234879000, page='NextSong', level='paid', churn_down=0, churn=True),\n",
       " Row(userId='61', firstname='Parker', ts=1539235129000, page='NextSong', level='paid', churn_down=0, churn=True),\n",
       " Row(userId='61', firstname='Parker', ts=1539235372000, page='NextSong', level='paid', churn_down=0, churn=True),\n",
       " Row(userId='61', firstname='Parker', ts=1539235536000, page='NextSong', level='paid', churn_down=0, churn=True),\n",
       " Row(userId='61', firstname='Parker', ts=1539235836000, page='NextSong', level='paid', churn_down=0, churn=True),\n",
       " Row(userId='61', firstname='Parker', ts=1539236143000, page='NextSong', level='paid', churn_down=0, churn=True),\n",
       " Row(userId='61', firstname='Parker', ts=1539236400000, page='NextSong', level='paid', churn_down=0, churn=True),\n",
       " Row(userId='61', firstname='Parker', ts=1539236592000, page='NextSong', level='paid', churn_down=0, churn=True),\n",
       " Row(userId='61', firstname='Parker', ts=1539236739000, page='NextSong', level='paid', churn_down=0, churn=True),\n",
       " Row(userId='61', firstname='Parker', ts=1539236993000, page='NextSong', level='paid', churn_down=0, churn=True),\n",
       " Row(userId='61', firstname='Parker', ts=1539237139000, page='NextSong', level='paid', churn_down=0, churn=True),\n",
       " Row(userId='61', firstname='Parker', ts=1539237394000, page='NextSong', level='paid', churn_down=0, churn=True),\n",
       " Row(userId='61', firstname='Parker', ts=1539237744000, page='NextSong', level='paid', churn_down=0, churn=True),\n",
       " Row(userId='61', firstname='Parker', ts=1539238000000, page='NextSong', level='paid', churn_down=0, churn=True),\n",
       " Row(userId='61', firstname='Parker', ts=1539238264000, page='NextSong', level='paid', churn_down=0, churn=True),\n",
       " Row(userId='61', firstname='Parker', ts=1539238493000, page='NextSong', level='paid', churn_down=0, churn=True),\n",
       " Row(userId='61', firstname='Parker', ts=1539238494000, page='Thumbs Down', level='paid', churn_down=0, churn=True),\n",
       " Row(userId='61', firstname='Parker', ts=1539239777000, page='Error', level='paid', churn_down=0, churn=True),\n",
       " Row(userId='61', firstname='Parker', ts=1539242607000, page='NextSong', level='paid', churn_down=0, churn=True),\n",
       " Row(userId='61', firstname='Parker', ts=1539242936000, page='NextSong', level='paid', churn_down=0, churn=True),\n",
       " Row(userId='61', firstname='Parker', ts=1539243280000, page='NextSong', level='paid', churn_down=0, churn=True),\n",
       " Row(userId='61', firstname='Parker', ts=1539243460000, page='NextSong', level='paid', churn_down=0, churn=True),\n",
       " Row(userId='61', firstname='Parker', ts=1539243698000, page='NextSong', level='paid', churn_down=0, churn=True),\n",
       " Row(userId='61', firstname='Parker', ts=1539244048000, page='NextSong', level='paid', churn_down=0, churn=True),\n",
       " Row(userId='61', firstname='Parker', ts=1539244187000, page='Downgrade', level='paid', churn_down=0, churn=True),\n",
       " Row(userId='61', firstname='Parker', ts=1539244188000, page='Submit Downgrade', level='paid', churn_down=1, churn=True),\n",
       " Row(userId='61', firstname='Parker', ts=1539244611000, page='Home', level='free', churn_down=0, churn=True),\n",
       " Row(userId='61', firstname='Parker', ts=1539244655000, page='NextSong', level='free', churn_down=0, churn=True),\n",
       " Row(userId='61', firstname='Parker', ts=1539244656000, page='Thumbs Up', level='free', churn_down=0, churn=True),\n",
       " Row(userId='61', firstname='Parker', ts=1539244946000, page='NextSong', level='free', churn_down=0, churn=True),\n",
       " Row(userId='61', firstname='Parker', ts=1539245213000, page='NextSong', level='free', churn_down=0, churn=True),\n",
       " Row(userId='61', firstname='Parker', ts=1539245827000, page='NextSong', level='free', churn_down=0, churn=True),\n",
       " Row(userId='61', firstname='Parker', ts=1539246115000, page='NextSong', level='free', churn_down=0, churn=True),\n",
       " Row(userId='61', firstname='Parker', ts=1539246339000, page='NextSong', level='free', churn_down=0, churn=True),\n",
       " Row(userId='61', firstname='Parker', ts=1539246494000, page='NextSong', level='free', churn_down=0, churn=True),\n",
       " Row(userId='61', firstname='Parker', ts=1539246561000, page='Help', level='free', churn_down=0, churn=True),\n",
       " Row(userId='61', firstname='Parker', ts=1539246823000, page='NextSong', level='free', churn_down=0, churn=True),\n",
       " Row(userId='61', firstname='Parker', ts=1539246824000, page='Logout', level='free', churn_down=0, churn=True),\n",
       " Row(userId='61', firstname='Parker', ts=1539247693000, page='Home', level='free', churn_down=0, churn=True),\n",
       " Row(userId='61', firstname='Parker', ts=1539267402000, page='Home', level='free', churn_down=0, churn=True),\n",
       " Row(userId='61', firstname='Parker', ts=1539267931000, page='NextSong', level='free', churn_down=0, churn=True),\n",
       " Row(userId='61', firstname='Parker', ts=1539268237000, page='NextSong', level='free', churn_down=0, churn=True),\n",
       " Row(userId='61', firstname='Parker', ts=1539268571000, page='NextSong', level='free', churn_down=0, churn=True),\n",
       " Row(userId='61', firstname='Parker', ts=1539268829000, page='NextSong', level='free', churn_down=0, churn=True),\n",
       " Row(userId='61', firstname='Parker', ts=1539269204000, page='Upgrade', level='free', churn_down=0, churn=True),\n",
       " Row(userId='61', firstname='Parker', ts=1539269456000, page='NextSong', level='free', churn_down=0, churn=True),\n",
       " Row(userId='61', firstname='Parker', ts=1539269711000, page='NextSong', level='free', churn_down=0, churn=True),\n",
       " Row(userId='61', firstname='Parker', ts=1539269970000, page='NextSong', level='free', churn_down=0, churn=True),\n",
       " Row(userId='61', firstname='Parker', ts=1539270300000, page='NextSong', level='free', churn_down=0, churn=True),\n",
       " Row(userId='61', firstname='Parker', ts=1539270656000, page='NextSong', level='free', churn_down=0, churn=True),\n",
       " Row(userId='61', firstname='Parker', ts=1539271134000, page='NextSong', level='free', churn_down=0, churn=True),\n",
       " Row(userId='61', firstname='Parker', ts=1539271391000, page='NextSong', level='free', churn_down=0, churn=True),\n",
       " Row(userId='61', firstname='Parker', ts=1539271587000, page='NextSong', level='free', churn_down=0, churn=True),\n",
       " Row(userId='61', firstname='Parker', ts=1539271831000, page='NextSong', level='free', churn_down=0, churn=True),\n",
       " Row(userId='61', firstname='Parker', ts=1539272203000, page='NextSong', level='free', churn_down=0, churn=True),\n",
       " Row(userId='61', firstname='Parker', ts=1539272443000, page='NextSong', level='free', churn_down=0, churn=True),\n",
       " Row(userId='61', firstname='Parker', ts=1539272662000, page='NextSong', level='free', churn_down=0, churn=True),\n",
       " Row(userId='61', firstname='Parker', ts=1539272677000, page='Roll Advert', level='free', churn_down=0, churn=True),\n",
       " Row(userId='61', firstname='Parker', ts=1539272959000, page='NextSong', level='free', churn_down=0, churn=True),\n",
       " Row(userId='61', firstname='Parker', ts=1539273298000, page='Roll Advert', level='free', churn_down=0, churn=True),\n",
       " Row(userId='61', firstname='Parker', ts=1539273452000, page='NextSong', level='free', churn_down=0, churn=True),\n",
       " Row(userId='61', firstname='Parker', ts=1539273664000, page='NextSong', level='free', churn_down=0, churn=True),\n",
       " Row(userId='61', firstname='Parker', ts=1539273942000, page='NextSong', level='free', churn_down=0, churn=True),\n",
       " Row(userId='61', firstname='Parker', ts=1539274566000, page='Add to Playlist', level='free', churn_down=0, churn=True),\n",
       " Row(userId='61', firstname='Parker', ts=1539274927000, page='NextSong', level='free', churn_down=0, churn=True),\n",
       " Row(userId='61', firstname='Parker', ts=1539274931000, page='Home', level='free', churn_down=0, churn=True),\n",
       " Row(userId='61', firstname='Parker', ts=1539275201000, page='NextSong', level='free', churn_down=0, churn=True),\n",
       " Row(userId='61', firstname='Parker', ts=1539275301000, page='Roll Advert', level='free', churn_down=0, churn=True),\n",
       " Row(userId='61', firstname='Parker', ts=1539275407000, page='NextSong', level='free', churn_down=0, churn=True),\n",
       " Row(userId='61', firstname='Parker', ts=1539275616000, page='NextSong', level='free', churn_down=0, churn=True),\n",
       " Row(userId='61', firstname='Parker', ts=1539275875000, page='NextSong', level='free', churn_down=0, churn=True),\n",
       " Row(userId='61', firstname='Parker', ts=1539275984000, page='NextSong', level='free', churn_down=0, churn=True),\n",
       " Row(userId='61', firstname='Parker', ts=1539276281000, page='NextSong', level='free', churn_down=0, churn=True),\n",
       " Row(userId='61', firstname='Parker', ts=1539276466000, page='NextSong', level='free', churn_down=0, churn=True),\n",
       " Row(userId='61', firstname='Parker', ts=1539276999000, page='NextSong', level='free', churn_down=0, churn=True),\n",
       " Row(userId='61', firstname='Parker', ts=1539277206000, page='NextSong', level='free', churn_down=0, churn=True),\n",
       " Row(userId='61', firstname='Parker', ts=1539278110000, page='Roll Advert', level='free', churn_down=0, churn=True),\n",
       " Row(userId='61', firstname='Parker', ts=1539278478000, page='NextSong', level='free', churn_down=0, churn=True),\n",
       " Row(userId='61', firstname='Parker', ts=1539278780000, page='NextSong', level='free', churn_down=0, churn=True),\n",
       " Row(userId='61', firstname='Parker', ts=1539279002000, page='NextSong', level='free', churn_down=0, churn=True),\n",
       " Row(userId='61', firstname='Parker', ts=1539279260000, page='NextSong', level='free', churn_down=0, churn=True),\n",
       " Row(userId='61', firstname='Parker', ts=1539279469000, page='NextSong', level='free', churn_down=0, churn=True),\n",
       " Row(userId='61', firstname='Parker', ts=1539279729000, page='NextSong', level='free', churn_down=0, churn=True),\n",
       " Row(userId='61', firstname='Parker', ts=1539279893000, page='NextSong', level='free', churn_down=0, churn=True),\n",
       " Row(userId='61', firstname='Parker', ts=1539280240000, page='Roll Advert', level='free', churn_down=0, churn=True),\n",
       " Row(userId='61', firstname='Parker', ts=1539280700000, page='NextSong', level='free', churn_down=0, churn=True),\n",
       " Row(userId='61', firstname='Parker', ts=1539280866000, page='NextSong', level='free', churn_down=0, churn=True),\n",
       " Row(userId='61', firstname='Parker', ts=1539281126000, page='NextSong', level='free', churn_down=0, churn=True),\n",
       " Row(userId='61', firstname='Parker', ts=1539281277000, page='NextSong', level='free', churn_down=0, churn=True),\n",
       " Row(userId='61', firstname='Parker', ts=1539281444000, page='NextSong', level='free', churn_down=0, churn=True),\n",
       " Row(userId='61', firstname='Parker', ts=1539281445000, page='Thumbs Up', level='free', churn_down=0, churn=True),\n",
       " Row(userId='61', firstname='Parker', ts=1539281661000, page='NextSong', level='free', churn_down=0, churn=True),\n",
       " Row(userId='61', firstname='Parker', ts=1539281886000, page='NextSong', level='free', churn_down=0, churn=True),\n",
       " Row(userId='61', firstname='Parker', ts=1539282442000, page='Home', level='free', churn_down=0, churn=True),\n",
       " Row(userId='61', firstname='Parker', ts=1539282574000, page='NextSong', level='free', churn_down=0, churn=True),\n",
       " Row(userId='61', firstname='Parker', ts=1539282808000, page='NextSong', level='free', churn_down=0, churn=True),\n",
       " Row(userId='61', firstname='Parker', ts=1539283039000, page='NextSong', level='free', churn_down=0, churn=True),\n",
       " Row(userId='61', firstname='Parker', ts=1539283280000, page='NextSong', level='free', churn_down=0, churn=True),\n",
       " Row(userId='61', firstname='Parker', ts=1539283281000, page='Thumbs Up', level='free', churn_down=0, churn=True),\n",
       " Row(userId='61', firstname='Parker', ts=1539283507000, page='NextSong', level='free', churn_down=0, churn=True),\n",
       " Row(userId='61', firstname='Parker', ts=1539283851000, page='Roll Advert', level='free', churn_down=0, churn=True),\n",
       " Row(userId='61', firstname='Parker', ts=1539285321000, page='NextSong', level='free', churn_down=0, churn=True),\n",
       " Row(userId='61', firstname='Parker', ts=1539285684000, page='NextSong', level='free', churn_down=0, churn=True),\n",
       " ...]"
      ]
     },
     "execution_count": 76,
     "metadata": {},
     "output_type": "execute_result"
    }
   ],
   "source": [
    "#We will view one user (userid=61, Parker) to see the phase 'Submit Downgrade' column changed in action\n",
    "user_log.select([\"userId\", \"firstname\", \"ts\", \"page\", \"level\", 'churn_down',\"churn\"]).where(user_log.userId == \"61\").sort(\"ts\").collect()"
   ]
  },
  {
   "cell_type": "code",
   "execution_count": 77,
   "metadata": {},
   "outputs": [
    {
     "data": {
      "text/plain": [
       "[Row(userId='61', page='Submit Downgrade', level='paid', churn_down=1, churn=True),\n",
       " Row(userId='61', page='Submit Downgrade', level='paid', churn_down=1, churn=True)]"
      ]
     },
     "execution_count": 77,
     "metadata": {},
     "output_type": "execute_result"
    }
   ],
   "source": [
    "user_log.select([\"userId\", \"page\", \"level\", 'churn_down',\"churn\"]).where(user_log.userId == \"61\").where(user_log.churn_down == \"1\").sort(\"ts\").collect()"
   ]
  },
  {
   "cell_type": "markdown",
   "metadata": {},
   "source": [
    "I have pulled out the relevant lines where the user 'churned' from paid to free user subscription. \n",
    "\n",
    "- Row(userId='61', page='Submit Downgrade', level='paid', churn_down=1, churn=True),\n",
    "- Row(userId='61', page='Submit Downgrade', level='paid', churn_down=1, churn=True)\n",
    "\n",
    "Note how the 'churn_down' is relative to only the one line when page is equal to 'submit downgrade' and indicates this user (in this case '61, Parker') has the label of churning. This column 'churn' is more related to the period of records as a whole for this user that happened before and after the downgrading or canclled events. For this reason I will include 'churn_down' this column in the features set and use 'churn' as the label for the machine learning part."
   ]
  },
  {
   "cell_type": "code",
   "execution_count": 78,
   "metadata": {
    "scrolled": true
   },
   "outputs": [
    {
     "data": {
      "text/plain": [
       "[Row(userId='122', firstname='Molly', ts=1538657235000, page='Home', level='free', churn_off=0, churn=True),\n",
       " Row(userId='122', firstname='Molly', ts=1538657236000, page='Logout', level='free', churn_off=0, churn=True),\n",
       " Row(userId='122', firstname='Molly', ts=1539173538000, page='Home', level='free', churn_off=0, churn=True),\n",
       " Row(userId='122', firstname='Molly', ts=1539173664000, page='NextSong', level='free', churn_off=0, churn=True),\n",
       " Row(userId='122', firstname='Molly', ts=1539173824000, page='NextSong', level='free', churn_off=0, churn=True),\n",
       " Row(userId='122', firstname='Molly', ts=1539173955000, page='NextSong', level='free', churn_off=0, churn=True),\n",
       " Row(userId='122', firstname='Molly', ts=1539174264000, page='NextSong', level='free', churn_off=0, churn=True),\n",
       " Row(userId='122', firstname='Molly', ts=1539174458000, page='NextSong', level='free', churn_off=0, churn=True),\n",
       " Row(userId='122', firstname='Molly', ts=1539174569000, page='Roll Advert', level='free', churn_off=0, churn=True),\n",
       " Row(userId='122', firstname='Molly', ts=1539886900000, page='Home', level='free', churn_off=0, churn=True),\n",
       " Row(userId='122', firstname='Molly', ts=1539886903000, page='NextSong', level='free', churn_off=0, churn=True),\n",
       " Row(userId='122', firstname='Molly', ts=1539887120000, page='NextSong', level='free', churn_off=0, churn=True),\n",
       " Row(userId='122', firstname='Molly', ts=1539887394000, page='NextSong', level='free', churn_off=0, churn=True),\n",
       " Row(userId='122', firstname='Molly', ts=1539887578000, page='NextSong', level='free', churn_off=0, churn=True),\n",
       " Row(userId='122', firstname='Molly', ts=1539887683000, page='Roll Advert', level='free', churn_off=0, churn=True),\n",
       " Row(userId='122', firstname='Molly', ts=1539887806000, page='NextSong', level='free', churn_off=0, churn=True),\n",
       " Row(userId='122', firstname='Molly', ts=1539887948000, page='NextSong', level='free', churn_off=0, churn=True),\n",
       " Row(userId='122', firstname='Molly', ts=1539888010000, page='Home', level='free', churn_off=0, churn=True),\n",
       " Row(userId='122', firstname='Molly', ts=1540055184000, page='NextSong', level='free', churn_off=0, churn=True),\n",
       " Row(userId='122', firstname='Molly', ts=1540055184000, page='Home', level='free', churn_off=0, churn=True),\n",
       " Row(userId='122', firstname='Molly', ts=1540055412000, page='NextSong', level='free', churn_off=0, churn=True),\n",
       " Row(userId='122', firstname='Molly', ts=1540055632000, page='NextSong', level='free', churn_off=0, churn=True),\n",
       " Row(userId='122', firstname='Molly', ts=1540055690000, page='Upgrade', level='free', churn_off=0, churn=True),\n",
       " Row(userId='122', firstname='Molly', ts=1540055771000, page='Upgrade', level='free', churn_off=0, churn=True),\n",
       " Row(userId='122', firstname='Molly', ts=1540055772000, page='Submit Upgrade', level='free', churn_off=0, churn=True),\n",
       " Row(userId='122', firstname='Molly', ts=1540055776000, page='Home', level='paid', churn_off=0, churn=True),\n",
       " Row(userId='122', firstname='Molly', ts=1540055777000, page='Add Friend', level='paid', churn_off=0, churn=True),\n",
       " Row(userId='122', firstname='Molly', ts=1540055859000, page='NextSong', level='paid', churn_off=0, churn=True),\n",
       " Row(userId='122', firstname='Molly', ts=1540056147000, page='NextSong', level='paid', churn_off=0, churn=True),\n",
       " Row(userId='122', firstname='Molly', ts=1540056491000, page='NextSong', level='paid', churn_off=0, churn=True),\n",
       " Row(userId='122', firstname='Molly', ts=1540056794000, page='NextSong', level='paid', churn_off=0, churn=True),\n",
       " Row(userId='122', firstname='Molly', ts=1540056965000, page='NextSong', level='paid', churn_off=0, churn=True),\n",
       " Row(userId='122', firstname='Molly', ts=1540056966000, page='Thumbs Up', level='paid', churn_off=0, churn=True),\n",
       " Row(userId='122', firstname='Molly', ts=1540057092000, page='NextSong', level='paid', churn_off=0, churn=True),\n",
       " Row(userId='122', firstname='Molly', ts=1540057285000, page='NextSong', level='paid', churn_off=0, churn=True),\n",
       " Row(userId='122', firstname='Molly', ts=1540057563000, page='NextSong', level='paid', churn_off=0, churn=True),\n",
       " Row(userId='122', firstname='Molly', ts=1540057755000, page='NextSong', level='paid', churn_off=0, churn=True),\n",
       " Row(userId='122', firstname='Molly', ts=1540057949000, page='NextSong', level='paid', churn_off=0, churn=True),\n",
       " Row(userId='122', firstname='Molly', ts=1540058302000, page='NextSong', level='paid', churn_off=0, churn=True),\n",
       " Row(userId='122', firstname='Molly', ts=1540058542000, page='NextSong', level='paid', churn_off=0, churn=True),\n",
       " Row(userId='122', firstname='Molly', ts=1540058766000, page='NextSong', level='paid', churn_off=0, churn=True),\n",
       " Row(userId='122', firstname='Molly', ts=1540058991000, page='NextSong', level='paid', churn_off=0, churn=True),\n",
       " Row(userId='122', firstname='Molly', ts=1540059298000, page='NextSong', level='paid', churn_off=0, churn=True),\n",
       " Row(userId='122', firstname='Molly', ts=1540059299000, page='Thumbs Down', level='paid', churn_off=0, churn=True),\n",
       " Row(userId='122', firstname='Molly', ts=1540059539000, page='NextSong', level='paid', churn_off=0, churn=True),\n",
       " Row(userId='122', firstname='Molly', ts=1540059785000, page='NextSong', level='paid', churn_off=0, churn=True),\n",
       " Row(userId='122', firstname='Molly', ts=1540059929000, page='NextSong', level='paid', churn_off=0, churn=True),\n",
       " Row(userId='122', firstname='Molly', ts=1540059930000, page='Thumbs Up', level='paid', churn_off=0, churn=True),\n",
       " Row(userId='122', firstname='Molly', ts=1540060168000, page='NextSong', level='paid', churn_off=0, churn=True),\n",
       " Row(userId='122', firstname='Molly', ts=1540060409000, page='NextSong', level='paid', churn_off=0, churn=True),\n",
       " Row(userId='122', firstname='Molly', ts=1540060680000, page='NextSong', level='paid', churn_off=0, churn=True),\n",
       " Row(userId='122', firstname='Molly', ts=1540060929000, page='NextSong', level='paid', churn_off=0, churn=True),\n",
       " Row(userId='122', firstname='Molly', ts=1540061191000, page='NextSong', level='paid', churn_off=0, churn=True),\n",
       " Row(userId='122', firstname='Molly', ts=1540061457000, page='NextSong', level='paid', churn_off=0, churn=True),\n",
       " Row(userId='122', firstname='Molly', ts=1540061676000, page='NextSong', level='paid', churn_off=0, churn=True),\n",
       " Row(userId='122', firstname='Molly', ts=1540061868000, page='NextSong', level='paid', churn_off=0, churn=True),\n",
       " Row(userId='122', firstname='Molly', ts=1540061869000, page='Thumbs Up', level='paid', churn_off=0, churn=True),\n",
       " Row(userId='122', firstname='Molly', ts=1540061987000, page='Add to Playlist', level='paid', churn_off=0, churn=True),\n",
       " Row(userId='122', firstname='Molly', ts=1540062022000, page='NextSong', level='paid', churn_off=0, churn=True),\n",
       " Row(userId='122', firstname='Molly', ts=1540062049000, page='Settings', level='paid', churn_off=0, churn=True),\n",
       " Row(userId='122', firstname='Molly', ts=1540062050000, page='Cancel', level='paid', churn_off=0, churn=True),\n",
       " Row(userId='122', firstname='Molly', ts=1540062068000, page='Cancellation Confirmation', level='paid', churn_off=1, churn=True)]"
      ]
     },
     "execution_count": 78,
     "metadata": {},
     "output_type": "execute_result"
    }
   ],
   "source": [
    "#We will view one user (userid=122, Molly) to see the phase 'Confirm Cancelation' column changed in action\n",
    "user_log.select([\"userId\", \"firstname\", \"ts\", \"page\", \"level\", \"churn_off\", \"churn\"]).where(user_log.userId == \"122\").sort(\"ts\").collect()"
   ]
  },
  {
   "cell_type": "markdown",
   "metadata": {},
   "source": [
    "I also pulled out the relevant lines regarding the phase change for this user when they canceled their subscription. However I did it for a different illustration then the case of 'phase_down above:\n",
    "\n",
    "- Row(userId='122', firstname='Molly', ts=1540062022000, page='NextSong', level='paid', churn_off=0, churn=True),\n",
    "- Row(userId='122', firstname='Molly', ts=1540062049000, page='Settings', level='paid', churn_off=0, churn=True),\n",
    "- Row(userId='122', firstname='Molly', ts=1540062050000, page='Cancel', level='paid', churn_off=0, churn=True),\n",
    "- **Row(userId='122', firstname='Molly', ts=1540062068000, page='Cancellation Confirmation', level='paid', churn_off=1, churn=True)**\n",
    "\n",
    "I mainly wanted to show that the phase 'change' for cancelations usually comes at the end of the users activity. Which makes sense since they are technically not using the service any longer. I felt this as necessary to show as it really doesn't allow for an opportunity for an 'after' phase for the learning model to see a pattern and therefore it would only learning before activity patterns which would be different then the case of downgrading. I assume for this analysis we are looking for patterns in user behaviour  'downgrading' and 'cancelation' before and after these events so which is why I have conbined them into one feature and work with that as the label to define 'churn'. If we wanted to separate specific behaviour on how to identify patterns in only 'downgraded' vs. 'cancelled' users then we would need to separate our churn label into two our more labels (like 'churn_downgrade', 'churn_cancel'...etc.). I will leave that for a more advance analysis if required later on."
   ]
  },
  {
   "cell_type": "code",
   "execution_count": 79,
   "metadata": {},
   "outputs": [
    {
     "name": "stdout",
     "output_type": "stream",
     "text": [
      "root\n",
      " |-- artist: string (nullable = false)\n",
      " |-- auth: string (nullable = false)\n",
      " |-- firstName: string (nullable = false)\n",
      " |-- gender: string (nullable = false)\n",
      " |-- itemInSession: long (nullable = true)\n",
      " |-- lastName: string (nullable = false)\n",
      " |-- length: double (nullable = false)\n",
      " |-- level: string (nullable = false)\n",
      " |-- location: string (nullable = false)\n",
      " |-- method: string (nullable = false)\n",
      " |-- page: string (nullable = false)\n",
      " |-- registration: long (nullable = true)\n",
      " |-- sessionId: long (nullable = true)\n",
      " |-- song: string (nullable = false)\n",
      " |-- status: long (nullable = true)\n",
      " |-- ts: long (nullable = true)\n",
      " |-- userAgent: string (nullable = false)\n",
      " |-- userId: string (nullable = false)\n",
      " |-- hour: string (nullable = true)\n",
      " |-- churn_down: integer (nullable = true)\n",
      " |-- churn_off: integer (nullable = true)\n",
      " |-- churn: boolean (nullable = false)\n",
      " |-- phase_down: long (nullable = true)\n",
      " |-- phase_off: long (nullable = true)\n",
      "\n"
     ]
    }
   ],
   "source": [
    "#Confirm we see our new flagged columns at the end\n",
    "user_log.printSchema()"
   ]
  },
  {
   "cell_type": "markdown",
   "metadata": {},
   "source": [
    "You can see from above I explored to see if adding two additional columns ('phase_down' & 'phase_off') to represent the division period in the time line for events before some downgrading (or cancelation) page event and after. It seemed these extra columns might play a role if we wanted to explore further on learning before and after pattens on these churned events. I will keep them in the dataset if further analysis is needed later in the project or for a deeper dive requested by Sparkify. For now I will not include them in any 'labels' for our model."
   ]
  },
  {
   "cell_type": "markdown",
   "metadata": {},
   "source": [
    "So in the end we have the new columns ('churn_down' & 'churn_off' which might not be the best names) to track the individual user selection which will never be one the same row as there will always be different timestamp for every individual event or page session. We then combined the events into one column ('churn') to track the overall sentiment of service disatisfaction, either downgrading service from paid to free or canceling subscription all together. We then went back and added a 'churn flag' for every userid record. So 'churn' now represents a flag that 'this userid churned' and it attached to every record of that particular userid. While 'churn_down' and 'churn_off' are still pegged to only that specific timestamp record. \n",
    "\n",
    "Note, I can use either of the 'churn_down' or 'churn_off' columns in the features for machine learning as the model even thou we have this information technically from the 'page' feature. However, I would like to include this along side the 'page' in the feature to provide the extra 'weighted' indicator feature that would clearly point to the fact this page (ie. submit downgrade or confirm cancelation) should be more important then the rest.\n",
    "\n",
    "With these definitions, I will make 'churn' the label since we need to indicate the userid as a whole and not just one event in time, since it is the user that we are trying to make a prediction model for and not when a user will churn. As mentioned before, will not be using either of the 'phase_down' or 'phase_off' as it will require a difference model to analyze."
   ]
  },
  {
   "cell_type": "markdown",
   "metadata": {},
   "source": [
    "# Feature Engineering\n",
    "\n",
    "Now that we are somewhat familiar with the data, we will now work on build out the features that seem promising to train our model on. Let's first look at some of the distinct values for some of the columns to get a better understanding what we need to encode."
   ]
  },
  {
   "cell_type": "code",
   "execution_count": 80,
   "metadata": {},
   "outputs": [
    {
     "name": "stdout",
     "output_type": "stream",
     "text": [
      "+---------+\n",
      "|     auth|\n",
      "+---------+\n",
      "|Cancelled|\n",
      "|Logged In|\n",
      "+---------+\n",
      "\n"
     ]
    }
   ],
   "source": [
    "user_log.select(\"auth\").dropDuplicates().sort(\"auth\").show(5)"
   ]
  },
  {
   "cell_type": "code",
   "execution_count": 81,
   "metadata": {},
   "outputs": [
    {
     "name": "stdout",
     "output_type": "stream",
     "text": [
      "+-----+\n",
      "|level|\n",
      "+-----+\n",
      "| free|\n",
      "| paid|\n",
      "+-----+\n",
      "\n"
     ]
    }
   ],
   "source": [
    "user_log.select(\"level\").dropDuplicates().sort(\"level\").show(5)"
   ]
  },
  {
   "cell_type": "code",
   "execution_count": 82,
   "metadata": {},
   "outputs": [
    {
     "name": "stdout",
     "output_type": "stream",
     "text": [
      "+------+\n",
      "|method|\n",
      "+------+\n",
      "|   GET|\n",
      "|   PUT|\n",
      "+------+\n",
      "\n"
     ]
    }
   ],
   "source": [
    "user_log.select(\"method\").dropDuplicates().sort(\"method\").show(5)"
   ]
  },
  {
   "cell_type": "code",
   "execution_count": 83,
   "metadata": {},
   "outputs": [
    {
     "name": "stdout",
     "output_type": "stream",
     "text": [
      "+------+\n",
      "|status|\n",
      "+------+\n",
      "|   200|\n",
      "|   307|\n",
      "|   404|\n",
      "+------+\n",
      "\n"
     ]
    }
   ],
   "source": [
    "user_log.select(\"status\").dropDuplicates().sort(\"status\").show(5)"
   ]
  },
  {
   "cell_type": "code",
   "execution_count": 84,
   "metadata": {},
   "outputs": [
    {
     "data": {
      "text/plain": [
       "225"
      ]
     },
     "execution_count": 84,
     "metadata": {},
     "output_type": "execute_result"
    }
   ],
   "source": [
    "user_log.select(\"registration\").dropDuplicates().count()"
   ]
  },
  {
   "cell_type": "code",
   "execution_count": 85,
   "metadata": {},
   "outputs": [
    {
     "data": {
      "text/plain": [
       "225"
      ]
     },
     "execution_count": 85,
     "metadata": {},
     "output_type": "execute_result"
    }
   ],
   "source": [
    "user_log.select(\"userId\").dropDuplicates().count()"
   ]
  },
  {
   "cell_type": "code",
   "execution_count": 86,
   "metadata": {},
   "outputs": [
    {
     "data": {
      "text/plain": [
       "2312"
      ]
     },
     "execution_count": 86,
     "metadata": {},
     "output_type": "execute_result"
    }
   ],
   "source": [
    "user_log.select(\"sessionId\").dropDuplicates().count()"
   ]
  },
  {
   "cell_type": "code",
   "execution_count": 87,
   "metadata": {},
   "outputs": [
    {
     "name": "stdout",
     "output_type": "stream",
     "text": [
      "+---------+\n",
      "|sessionId|\n",
      "+---------+\n",
      "|        1|\n",
      "|        2|\n",
      "|        3|\n",
      "|        4|\n",
      "|        5|\n",
      "|        6|\n",
      "|        7|\n",
      "|        8|\n",
      "|        9|\n",
      "|       10|\n",
      "+---------+\n",
      "only showing top 10 rows\n",
      "\n"
     ]
    }
   ],
   "source": [
    "user_log.select(\"sessionId\").dropDuplicates().sort(\"sessionId\").show(10)"
   ]
  },
  {
   "cell_type": "code",
   "execution_count": 88,
   "metadata": {},
   "outputs": [
    {
     "data": {
      "text/plain": [
       "56"
      ]
     },
     "execution_count": 88,
     "metadata": {},
     "output_type": "execute_result"
    }
   ],
   "source": [
    "user_log.select(\"userAgent\").dropDuplicates().count()"
   ]
  },
  {
   "cell_type": "code",
   "execution_count": 89,
   "metadata": {},
   "outputs": [
    {
     "data": {
      "text/plain": [
       "1311"
      ]
     },
     "execution_count": 89,
     "metadata": {},
     "output_type": "execute_result"
    }
   ],
   "source": [
    "user_log.select(\"itemInSession\").dropDuplicates().count()"
   ]
  },
  {
   "cell_type": "code",
   "execution_count": 90,
   "metadata": {},
   "outputs": [
    {
     "name": "stdout",
     "output_type": "stream",
     "text": [
      "+-------------+\n",
      "|itemInSession|\n",
      "+-------------+\n",
      "|            0|\n",
      "|            1|\n",
      "|            2|\n",
      "|            3|\n",
      "|            4|\n",
      "|            5|\n",
      "|            6|\n",
      "|            7|\n",
      "|            8|\n",
      "|            9|\n",
      "+-------------+\n",
      "only showing top 10 rows\n",
      "\n"
     ]
    }
   ],
   "source": [
    "user_log.select(\"itemInSession\").dropDuplicates().sort(\"itemInSession\").show(10)"
   ]
  },
  {
   "cell_type": "markdown",
   "metadata": {},
   "source": [
    "Since we have a situation where we want to predict what state a user account will be either 'will churn' or will not churn' this leans towards developing a Classification problem. We need to review our dataset and select the columns we would like to use to make this prediction."
   ]
  },
  {
   "cell_type": "code",
   "execution_count": 91,
   "metadata": {
    "scrolled": false
   },
   "outputs": [
    {
     "name": "stdout",
     "output_type": "stream",
     "text": [
      "root\n",
      " |-- artist: string (nullable = false)\n",
      " |-- auth: string (nullable = false)\n",
      " |-- firstName: string (nullable = false)\n",
      " |-- gender: string (nullable = false)\n",
      " |-- itemInSession: long (nullable = true)\n",
      " |-- lastName: string (nullable = false)\n",
      " |-- length: double (nullable = false)\n",
      " |-- level: string (nullable = false)\n",
      " |-- location: string (nullable = false)\n",
      " |-- method: string (nullable = false)\n",
      " |-- page: string (nullable = false)\n",
      " |-- registration: long (nullable = true)\n",
      " |-- sessionId: long (nullable = true)\n",
      " |-- song: string (nullable = false)\n",
      " |-- status: long (nullable = true)\n",
      " |-- ts: long (nullable = true)\n",
      " |-- userAgent: string (nullable = false)\n",
      " |-- userId: string (nullable = false)\n",
      " |-- hour: string (nullable = true)\n",
      " |-- churn_down: integer (nullable = true)\n",
      " |-- churn_off: integer (nullable = true)\n",
      " |-- churn: boolean (nullable = false)\n",
      " |-- phase_down: long (nullable = true)\n",
      " |-- phase_off: long (nullable = true)\n",
      "\n"
     ]
    }
   ],
   "source": [
    "user_log.printSchema()"
   ]
  },
  {
   "cell_type": "markdown",
   "metadata": {},
   "source": [
    "From the columns above we will select the ones that will be part of our feature set and then convert them into the necessary vector space we need for machine learning by encoding the columns where applicable. We start with extracting the necessary features from the smaller subset of data, but first we need to do a quick analysis of each column we currently have see why (or why not) we would include it in our learning model feature/label extraction process."
   ]
  },
  {
   "cell_type": "markdown",
   "metadata": {},
   "source": [
    "- artist: string (nullable = true)  - not selected, artist played shouldn't by an indication of churn\n",
    "- auth: string (nullable = true)   - selected!\n",
    "- firstName: string (nullable = true) - not selected, user name shouldn't play any reason for a user to churn\n",
    "- gender: string (nullable = true)   - selected!\n",
    "- itemInSession: long (nullable = true)- not selected, with 1311 different types this might be too many encodings for our ML model\n",
    "- lastName: string (nullable = true)  - not selected, last name shouldn't play any reason for a user to churn\n",
    "- length: double (nullable = true)   - selected!\n",
    "- level: string (nullable = true)   - selected!\n",
    "- location: string (nullable = true)   - selected!\n",
    "- method: string (nullable = true)   - selected!\n",
    "- page: string (nullable = true)   - selected!\n",
    "- registration: long (nullable = true) - not selected, as this is same data as 'userId'\n",
    "- sessionId: long (nullable = true) - not selected, with 2312 different types this might be too many encodings for our ML model\n",
    "- song: string (nullable = true)  - not selected, song played shouldn't by an indication of churn\n",
    "- status: long (nullable = true)   - selected!\n",
    "- ts: long (nullable = true)   - not selected, since this is a unique timestamp and therefore can't learn any pattern from this\n",
    "- userAgent: string (nullable = true)   - selected!\n",
    "- userId: string (nullable = true)   - selected!\n",
    "- hour: string (nullable = true)   - selected as hour feature extracted from timestamp can have patterns!\n",
    "- churn_down: integer (nullable = true) - selected, to give more weight to 'pages'\n",
    "- churn_off: integer (nullable = true)  - selected, to give more weight to 'pages'\n",
    "- churn: integer (nullable = true)     - selected, this will be our label\n",
    "- phase_down: long (nullable = true)   - not selected, this could be used later for deeper modeling to find patterns when users only 'downgrade' their service\n",
    "- phase_off: long (nullable = true) - not selected, this could be used later for deeper modeling to find patterns when users only 'cancel' their service\n"
   ]
  },
  {
   "cell_type": "markdown",
   "metadata": {},
   "source": [
    "So out of the 24 columns above we seem to find 14 columns (13 features + 1 label) to be part our machine learning model."
   ]
  },
  {
   "cell_type": "code",
   "execution_count": 92,
   "metadata": {},
   "outputs": [],
   "source": [
    "#Gather the ones that are selected from above\n",
    "input_data = user_log.select([\"userId\", \"auth\", \"gender\", \"location\", \"length\", \"userAgent\",\"page\", \n",
    "                              \"level\", \"method\", \"status\", 'hour', 'churn_down', 'churn_off', 'churn'])"
   ]
  },
  {
   "cell_type": "code",
   "execution_count": 93,
   "metadata": {},
   "outputs": [
    {
     "data": {
      "text/plain": [
       "Column<b'CAST(churn AS STRING)'>"
      ]
     },
     "execution_count": 93,
     "metadata": {},
     "output_type": "execute_result"
    }
   ],
   "source": [
    "input_data.churn.cast('string')"
   ]
  },
  {
   "cell_type": "code",
   "execution_count": 94,
   "metadata": {},
   "outputs": [
    {
     "name": "stdout",
     "output_type": "stream",
     "text": [
      "root\n",
      " |-- userId: string (nullable = false)\n",
      " |-- auth: string (nullable = false)\n",
      " |-- gender: string (nullable = false)\n",
      " |-- location: string (nullable = false)\n",
      " |-- length: double (nullable = false)\n",
      " |-- userAgent: string (nullable = false)\n",
      " |-- page: string (nullable = false)\n",
      " |-- level: string (nullable = false)\n",
      " |-- method: string (nullable = false)\n",
      " |-- status: long (nullable = true)\n",
      " |-- hour: string (nullable = true)\n",
      " |-- churn_down: integer (nullable = true)\n",
      " |-- churn_off: integer (nullable = true)\n",
      " |-- churn: boolean (nullable = false)\n",
      "\n"
     ]
    }
   ],
   "source": [
    "input_data.printSchema()"
   ]
  },
  {
   "cell_type": "code",
   "execution_count": 95,
   "metadata": {},
   "outputs": [],
   "source": [
    "input_data = input_data.withColumn(\"churn\", input_data[\"churn\"].cast(StringType()))"
   ]
  },
  {
   "cell_type": "code",
   "execution_count": 96,
   "metadata": {},
   "outputs": [
    {
     "name": "stdout",
     "output_type": "stream",
     "text": [
      "root\n",
      " |-- userId: string (nullable = false)\n",
      " |-- auth: string (nullable = false)\n",
      " |-- gender: string (nullable = false)\n",
      " |-- location: string (nullable = false)\n",
      " |-- length: double (nullable = false)\n",
      " |-- userAgent: string (nullable = false)\n",
      " |-- page: string (nullable = false)\n",
      " |-- level: string (nullable = false)\n",
      " |-- method: string (nullable = false)\n",
      " |-- status: long (nullable = true)\n",
      " |-- hour: string (nullable = true)\n",
      " |-- churn_down: integer (nullable = true)\n",
      " |-- churn_off: integer (nullable = true)\n",
      " |-- churn: string (nullable = false)\n",
      "\n"
     ]
    }
   ],
   "source": [
    "input_data.printSchema()"
   ]
  },
  {
   "cell_type": "code",
   "execution_count": 97,
   "metadata": {},
   "outputs": [
    {
     "name": "stdout",
     "output_type": "stream",
     "text": [
      "+------+---------+------+--------------------+---------+--------------------+---------------+-----+------+------+----+----------+---------+-----+\n",
      "|userId|     auth|gender|            location|   length|           userAgent|           page|level|method|status|hour|churn_down|churn_off|churn|\n",
      "+------+---------+------+--------------------+---------+--------------------+---------------+-----+------+------+----+----------+---------+-----+\n",
      "|    25|Logged In|     F|Tampa-St. Petersb...| 90.56608|\"Mozilla/5.0 (Mac...|       NextSong| paid|   PUT|   200|   9|         0|        0| true|\n",
      "|    59|Logged In|     M|         Boulder, CO|      0.0|Mozilla/5.0 (Wind...|    Roll Advert| free|   GET|   200|  14|         0|        0| true|\n",
      "|    59|Logged In|     M|         Boulder, CO|      0.0|Mozilla/5.0 (Wind...|           Home| free|   GET|   200|  14|         0|        0| true|\n",
      "|    51|Logged In|     M|Lexington-Fayette...|210.36363|\"Mozilla/5.0 (Win...|       NextSong| paid|   PUT|   200|  14|         0|        0| true|\n",
      "|    54|Logged In|     F|Spokane-Spokane V...|      0.0|Mozilla/5.0 (Wind...|Add to Playlist| paid|   PUT|   200|  15|         0|        0| true|\n",
      "|    81|Logged In|     M|Philadelphia-Camd...|266.34404|\"Mozilla/5.0 (Mac...|       NextSong| paid|   PUT|   200|  17|         0|        0| true|\n",
      "|    53|Logged In|     M|         Jackson, MS|  198.922|\"Mozilla/5.0 (Mac...|       NextSong| free|   PUT|   200|  19|         0|        0| true|\n",
      "|    92|Logged In|     F|Boston-Cambridge-...|223.50322|\"Mozilla/5.0 (iPa...|       NextSong| free|   PUT|   200|  23|         0|        0| true|\n",
      "|    29|Logged In|     M|Los Angeles-Long ...|280.76363|\"Mozilla/5.0 (Mac...|       NextSong| free|   PUT|   200|   1|         0|        0| true|\n",
      "|    87|Logged In|     M|       Quincy, IL-MO|174.65424|\"Mozilla/5.0 (Win...|       NextSong| free|   PUT|   200|   6|         0|        0| true|\n",
      "|    85|Logged In|     M|Los Angeles-Long ...|214.83057|\"Mozilla/5.0 (Mac...|       NextSong| free|   PUT|   200|  19|         0|        0| true|\n",
      "|   121|Logged In|     M|Oxnard-Thousand O...|209.52771|Mozilla/5.0 (X11;...|       NextSong| free|   PUT|   200|  22|         0|        0| true|\n",
      "|    96|Logged In|     F|Atlantic City-Ham...|207.49016|\"Mozilla/5.0 (Mac...|       NextSong| paid|   PUT|   200|  23|         0|        0| true|\n",
      "|   140|Logged In|     F|Louisville/Jeffer...|215.92771|\"Mozilla/5.0 (Win...|       NextSong| free|   PUT|   200|  23|         0|        0| true|\n",
      "|   101|Logged In|     M|Denver-Aurora-Lak...|202.57914|Mozilla/5.0 (Wind...|       NextSong| paid|   PUT|   200|   2|         0|        0| true|\n",
      "|    73|Logged In|     F|Albany-Schenectad...| 182.9873|Mozilla/5.0 (Wind...|       NextSong| free|   PUT|   200|   5|         0|        0| true|\n",
      "|   101|Logged In|     M|Denver-Aurora-Lak...|178.02404|Mozilla/5.0 (Wind...|       NextSong| paid|   PUT|   200|   5|         0|        0| true|\n",
      "|    18|Logged In|     M|  Kansas City, MO-KS|      0.0|\"Mozilla/5.0 (Mac...|Add to Playlist| paid|   PUT|   200|   8|         0|        0| true|\n",
      "|   101|Logged In|     M|Denver-Aurora-Lak...|284.05506|Mozilla/5.0 (Wind...|       NextSong| paid|   PUT|   200|   9|         0|        0| true|\n",
      "|   105|Logged In|     M|Indianapolis-Carm...|204.45995|Mozilla/5.0 (Wind...|       NextSong| paid|   PUT|   200|  11|         0|        0| true|\n",
      "+------+---------+------+--------------------+---------+--------------------+---------------+-----+------+------+----+----------+---------+-----+\n",
      "only showing top 20 rows\n",
      "\n"
     ]
    }
   ],
   "source": [
    "input_data.filter(input_data.churn == 'true').show()"
   ]
  },
  {
   "cell_type": "markdown",
   "metadata": {},
   "source": [
    "# Modeling"
   ]
  },
  {
   "cell_type": "markdown",
   "metadata": {},
   "source": [
    "So now that we have confirmed features and labels (for now) our next step is to convert the Categoricals into indices and encode them. Then conbine all that with our numeric columns into a Vector so the machine learning model can understand. "
   ]
  },
  {
   "cell_type": "code",
   "execution_count": 98,
   "metadata": {},
   "outputs": [],
   "source": [
    "#List of categorical and numeric columns that will still need to be represented in our vector space\n",
    "categoricalCols = ['userId', 'auth', 'gender', 'location', 'userAgent', 'page', \n",
    "                   'level', 'method', 'status', 'hour', 'churn_down', 'churn_off']\n",
    "numericCols = ['length']\n",
    "stages = []"
   ]
  },
  {
   "cell_type": "code",
   "execution_count": 99,
   "metadata": {},
   "outputs": [],
   "source": [
    "for categoricalCol in categoricalCols:\n",
    "    stringIndexer = StringIndexer(inputCol = categoricalCol, outputCol = categoricalCol + '_idx')\n",
    "    encoder = OneHotEncoderEstimator(inputCols=[stringIndexer.getOutputCol()], outputCols=[categoricalCol + \"classVec\"])\n",
    "    stages += [stringIndexer, encoder]\n",
    "    \n",
    "label_idx = StringIndexer(inputCol = 'churn', outputCol = 'label')\n",
    "stages += [label_idx]\n",
    "\n",
    "assemblerInputs = [c + \"classVec\" for c in categoricalCols] + numericCols\n",
    "assembler = VectorAssembler(inputCols=assemblerInputs, outputCol=\"features\").setHandleInvalid(\"skip\")\n",
    "stages += [assembler]"
   ]
  },
  {
   "cell_type": "markdown",
   "metadata": {},
   "source": [
    "What we did above was we indexes each categorical column using the StringIndexer, then converts the indexed categories into one-hot encoded variables. The resulting output has the binary vectors appended to the end of each row. We then use the StringIndexer again to encode our labels to label indices. Next, we use the VectorAssembler to combine all the feature columns into a single vector column."
   ]
  },
  {
   "cell_type": "markdown",
   "metadata": {},
   "source": [
    "Now that all the parts are gathered in 'stages' we will now create a pipeline to convert the features of string type to numeric and feed in a list of columms to convert and transform from the 'input_data' dataframe. The result is the orginal dataset with additional column of vector type (called 'features') of our features in numerical which is a combination of our encoded features and of course our 'label' which is just our original 'phase_down' but now as double type."
   ]
  },
  {
   "cell_type": "code",
   "execution_count": null,
   "metadata": {},
   "outputs": [],
   "source": [
    "from pyspark.ml import Pipeline\n",
    "\n",
    "cols = input_data.columns\n",
    "\n",
    "pipeline = Pipeline(stages = stages)\n",
    "pipelineModel = pipeline.fit(input_data)\n",
    "piped_data = pipelineModel.transform(input_data)\n",
    "selectedCols = ['label', 'features'] + cols\n",
    "piped_data = piped_data.select(selectedCols)"
   ]
  },
  {
   "cell_type": "code",
   "execution_count": null,
   "metadata": {
    "scrolled": false
   },
   "outputs": [],
   "source": [
    "piped_data.printSchema()"
   ]
  },
  {
   "cell_type": "markdown",
   "metadata": {},
   "source": [
    "Now, recall we had monitor the the value what was given during the passing of label column thru StringIndexer. We can see that the label is equal to ONE (1.0) when our churn label is actually 'false'. We need to reverse this."
   ]
  },
  {
   "cell_type": "code",
   "execution_count": null,
   "metadata": {
    "scrolled": false
   },
   "outputs": [],
   "source": [
    "piped_data.filter(piped_data.churn == 'false').select('features', 'churn', 'label').show()#dropDuplicates().count()\n",
    "#piped_data.show()#dropDuplicates().count()"
   ]
  },
  {
   "cell_type": "code",
   "execution_count": null,
   "metadata": {},
   "outputs": [],
   "source": [
    "#Create a UDF to reverse the label value and change the datatype to 'double'\n",
    "change_churn_val = udf(lambda x: 0.0 if x == 1.0 else 1.0, DoubleType())\n",
    "piped_data = piped_data.withColumn(\"label\", change_churn_val(\"label\"))"
   ]
  },
  {
   "cell_type": "code",
   "execution_count": null,
   "metadata": {},
   "outputs": [],
   "source": [
    "piped_data.filter(piped_data.churn == 'false').select('features', 'churn', 'label').dropDuplicates().show()"
   ]
  },
  {
   "cell_type": "code",
   "execution_count": null,
   "metadata": {},
   "outputs": [],
   "source": []
  },
  {
   "cell_type": "code",
   "execution_count": null,
   "metadata": {},
   "outputs": [],
   "source": [
    "piped_data.head(1)"
   ]
  },
  {
   "cell_type": "markdown",
   "metadata": {},
   "source": [
    "As we can see in the 'features' column we have SparseVector that is combination of the input_data columns:\n",
    "\n",
    "- features=SparseVector(442, {154: 1.0, 224: 1.0, 225: 1.0, 301: 1.0, 353: 1.0, 400: 1.0, 413: 1.0, 415: 1.0, 419: 1.0, 439: 1.0, 440: 1.0}"
   ]
  },
  {
   "cell_type": "code",
   "execution_count": null,
   "metadata": {},
   "outputs": [],
   "source": [
    "#Create a dataset with only the features and the label of churn\n",
    "piped_data = piped_data.select('features', 'label')\n",
    "piped_data.printSchema()"
   ]
  },
  {
   "cell_type": "markdown",
   "metadata": {},
   "source": [
    "Split the full dataset into train, test, and validation sets. Test out several of the machine learning methods you learned. Evaluate the accuracy of the various models, tuning parameters as necessary. Determine your winning model based on test accuracy and report results on the validation set. Since the churned users are a fairly small subset, I suggest using F1 score as the metric to optimize."
   ]
  },
  {
   "cell_type": "code",
   "execution_count": null,
   "metadata": {},
   "outputs": [],
   "source": [
    "#Split into training and testing datasets\n",
    "train, test = piped_data.randomSplit([0.8, 0.2], seed=42)"
   ]
  },
  {
   "cell_type": "code",
   "execution_count": null,
   "metadata": {},
   "outputs": [],
   "source": [
    "#Split training into train and validation datasets\n",
    "train, validation = train.randomSplit([0.8, 0.2], seed=42)"
   ]
  },
  {
   "cell_type": "code",
   "execution_count": null,
   "metadata": {},
   "outputs": [],
   "source": [
    "print(\"Train Dataset Count: \" + str(train.count()))\n",
    "print(\"Test Dataset Count: \" + str(test.count()))\n",
    "print(\"Validation Dataset Count: \" + str(validation.count()))"
   ]
  },
  {
   "cell_type": "markdown",
   "metadata": {},
   "source": [
    "Now that we have our dataset split up we will now define a model for training. As mentioned before, since we are trying to make a binary conclusion on our users outcome we will create a classification model, more specifically we can start with a Logistic Regression model and work from there. First we need import our model if we didn't do so at the top and declare our 'features' and 'label' columns in the model."
   ]
  },
  {
   "cell_type": "markdown",
   "metadata": {},
   "source": [
    "### Logistic Regression Model"
   ]
  },
  {
   "cell_type": "code",
   "execution_count": null,
   "metadata": {},
   "outputs": [],
   "source": [
    "lr = LogisticRegression(featuresCol = 'features', labelCol = 'label', \n",
    "                        maxIter=10, regParam=0.3, elasticNetParam=0.8)\n",
    "lrModel = lr.fit(train)"
   ]
  },
  {
   "cell_type": "code",
   "execution_count": null,
   "metadata": {},
   "outputs": [],
   "source": [
    "lrModel_results = lrModel.transform(test)"
   ]
  },
  {
   "cell_type": "code",
   "execution_count": null,
   "metadata": {},
   "outputs": [],
   "source": [
    "#lrModel_results.filter\n",
    "tp = lrModel_results.filter(\"label = 1 and prediction = 1\").count()\n",
    "tn = lrModel_results.filter(\"label = 0 and prediction = 0\").count()\n",
    "fp = lrModel_results.filter(\"label = 0 and prediction = 1\").count()\n",
    "fn = lrModel_results.filter(\"label = 1 and prediction = 0\").count()\n",
    "\n",
    "accuracy = (1.0*tp + tn) / (tp+tn+fp+fn)\n",
    "precision = 1.0*tp / (tp + fp)\n",
    "recall = 1.0*tp / (tp + fn)\n",
    "\n",
    "try: \n",
    "    f1 = 2.0 * (precision * recall) / (precision + recall) \n",
    "except ZeroDivisionError:\n",
    "    f1 = 0\n",
    "\n",
    "print('Accuracy: ', accuracy)\n",
    "print('Precision: ', precision)\n",
    "print('Recall: ', recall)\n",
    "print('F1-Score: ', f1)"
   ]
  },
  {
   "cell_type": "code",
   "execution_count": null,
   "metadata": {},
   "outputs": [],
   "source": [
    "# Obtain the objective per iteration\n",
    "trainingSummary = lrModel.summary\n",
    "objectiveHistory = trainingSummary.objectiveHistory\n",
    "print(\"objectiveHistory:\")\n",
    "for objective in objectiveHistory:\n",
    "    print(objective)"
   ]
  },
  {
   "cell_type": "markdown",
   "metadata": {},
   "source": [
    "We can obtain the coefficients by using LogisticRegressionModel’s attributes."
   ]
  },
  {
   "cell_type": "code",
   "execution_count": null,
   "metadata": {},
   "outputs": [],
   "source": [
    "lrModel.coefficientMatrix"
   ]
  },
  {
   "cell_type": "code",
   "execution_count": null,
   "metadata": {},
   "outputs": [],
   "source": [
    "lrModel.interceptVector"
   ]
  },
  {
   "cell_type": "code",
   "execution_count": null,
   "metadata": {},
   "outputs": [],
   "source": [
    "trainingSummary.accuracy"
   ]
  },
  {
   "cell_type": "code",
   "execution_count": null,
   "metadata": {},
   "outputs": [],
   "source": [
    "predictions = lrModel.transform(test)\n",
    "predictions.show(10)"
   ]
  },
  {
   "cell_type": "code",
   "execution_count": null,
   "metadata": {},
   "outputs": [],
   "source": [
    "from pyspark.ml.evaluation import BinaryClassificationEvaluator\n",
    "\n",
    "evaluator = BinaryClassificationEvaluator(labelCol=\"label\")\n",
    "print('Test Area Under ROC', evaluator.evaluate(predictions))"
   ]
  },
  {
   "cell_type": "code",
   "execution_count": null,
   "metadata": {},
   "outputs": [],
   "source": []
  },
  {
   "cell_type": "markdown",
   "metadata": {},
   "source": [
    "### Decision Tree Model"
   ]
  },
  {
   "cell_type": "code",
   "execution_count": null,
   "metadata": {},
   "outputs": [],
   "source": [
    "from pyspark.mllib.regression import LabeledPoint\n",
    "\n",
    "train_rdd = LabeledPoint(train[-1], train[-2])"
   ]
  },
  {
   "cell_type": "code",
   "execution_count": null,
   "metadata": {},
   "outputs": [],
   "source": [
    "\n",
    "model = DecisionTree.trainClassifier(train_rdd, numClasses=2, maxDepth=2, \n",
    "                                     categoricalFeaturesInfo={1:2, 2:2}, \n",
    "                                     impurity='gini', maxBins=32)"
   ]
  },
  {
   "cell_type": "code",
   "execution_count": null,
   "metadata": {},
   "outputs": [],
   "source": [
    "model.toDebugString()"
   ]
  },
  {
   "cell_type": "code",
   "execution_count": null,
   "metadata": {},
   "outputs": [],
   "source": []
  },
  {
   "cell_type": "markdown",
   "metadata": {},
   "source": [
    "beta = lrModel.coefficientMatrix\n",
    "plt.plot(beta)\n",
    "plt.ylabel('Beta Coefficients')\n",
    "plt.show()"
   ]
  },
  {
   "cell_type": "markdown",
   "metadata": {},
   "source": [
    "lrModel.summary.roc"
   ]
  },
  {
   "cell_type": "markdown",
   "metadata": {},
   "source": [
    "fMeasure = trainingSummary.\n",
    "maxFMeasure = fMeasure.groupBy().max('F-Measure').select('max(F-Measure)').head()\n",
    "bestThreshold = fMeasure.where(fMeasure['F-Measure'] == maxFMeasure['max(F-Measure)']) \\\n",
    "    .select('threshold').head()['threshold']\n",
    "lr.setThreshold(bestThreshold)"
   ]
  },
  {
   "cell_type": "markdown",
   "metadata": {},
   "source": [
    "trainingSummary = lrModel.summary\n",
    "roc = trainingSummary.roc.toPandas()\n",
    "plt.plot(roc['FPR'],roc['TPR'])\n",
    "plt.ylabel('False Positive Rate')\n",
    "plt.xlabel('True Positive Rate')\n",
    "plt.title('ROC Curve')\n",
    "plt.show()\n",
    "print('Training set areaUnderROC: ' + str(trainingSummary.areaUnderROC))"
   ]
  },
  {
   "cell_type": "code",
   "execution_count": null,
   "metadata": {},
   "outputs": [],
   "source": []
  },
  {
   "cell_type": "markdown",
   "metadata": {},
   "source": [
    "MLlib classifiers and regressors require data sets in a format of rows of type LabeledPoint, which separates row labels and feature lists, and names them accordingly. The custom labelData() function shown below performs the row parsing. We'll pass it the prepared data set (final_data) and split it further into training and testing sets. A decision tree classifier model is then generated using the training data, using a maxDepth of 2, to build a \"shallow\" tree. The tree depth can be regarded as an indicator of model complexity.\n"
   ]
  },
  {
   "cell_type": "code",
   "execution_count": null,
   "metadata": {},
   "outputs": [],
   "source": [
    "from pyspark.mllib.regression import LabeledPoint\n",
    "from pyspark.mllib.tree import DecisionTree"
   ]
  },
  {
   "cell_type": "markdown",
   "metadata": {},
   "source": [
    "Now we split the final dataset into train and testing data in a 80/20 ratio split"
   ]
  },
  {
   "cell_type": "markdown",
   "metadata": {},
   "source": [
    "#def labelData(data):\n",
    "    # label: row[end], features: row[0:end-1]\n",
    "#return data.map(lambda row: LabeledPoint(row[-1], row[:-1]))\n",
    "\n",
    "model = DecisionTree.trainClassifier(train, numClasses=2, maxDepth=2,\n",
    "                                     categoricalFeaturesInfo={1:2, 2:2},\n",
    "                                     impurity='gini', maxBins=32)\n",
    "\n",
    "model.toDebugString()"
   ]
  },
  {
   "cell_type": "markdown",
   "metadata": {},
   "source": [
    "model = model.fit(train)"
   ]
  },
  {
   "cell_type": "markdown",
   "metadata": {},
   "source": [
    "summary = model.summary"
   ]
  },
  {
   "cell_type": "markdown",
   "metadata": {
    "scrolled": true
   },
   "source": [
    "summary.predictions.describe().show()"
   ]
  },
  {
   "cell_type": "markdown",
   "metadata": {},
   "source": [
    "So now that we have a summary, let's pass in the test data to make predictions. To do this we first need to import the BinaryClassifier evaluator to help us"
   ]
  },
  {
   "cell_type": "code",
   "execution_count": null,
   "metadata": {},
   "outputs": [],
   "source": [
    "from pyspark.ml.evaluation import BinaryClassificationEvaluator"
   ]
  },
  {
   "cell_type": "markdown",
   "metadata": {},
   "source": [
    "predictions = model.evaluate(test)"
   ]
  },
  {
   "cell_type": "markdown",
   "metadata": {},
   "source": [
    "predictions.predictions.show()"
   ]
  },
  {
   "cell_type": "markdown",
   "metadata": {},
   "source": [
    "evaluator = BinaryClassificationEvaluator(rawPredictionCol='prediction', labelCol = 'churn')"
   ]
  },
  {
   "cell_type": "markdown",
   "metadata": {},
   "source": [
    "evaluator.evaluate(predictions.predictions)"
   ]
  },
  {
   "cell_type": "markdown",
   "metadata": {},
   "source": [
    "Ensure that your script is scalable, using the best practices"
   ]
  },
  {
   "cell_type": "code",
   "execution_count": null,
   "metadata": {},
   "outputs": [],
   "source": []
  },
  {
   "cell_type": "markdown",
   "metadata": {},
   "source": [
    "Accuracy: 0.5027366677469303\n",
    "Precision: 0.5027366677469303\n",
    "Recall:  1.0\n",
    "F1-Score: 0.669094830168334"
   ]
  },
  {
   "cell_type": "code",
   "execution_count": null,
   "metadata": {},
   "outputs": [],
   "source": []
  },
  {
   "cell_type": "markdown",
   "metadata": {},
   "source": [
    "# Conclusions\n",
    "Seemed like my Logistic Regression model was producing only an accuracy of 50% while I got a an F1-score of 0.67. I was suggested that the model is always predicting the same class (positive). I attempted to adjust the setThreshold() method. This will allowed me to change the probability threshold that is used to make each classification. I played with the threshold value so that it would be statistically more probable that the negative class will be predicted but this didn’t seem to change any on my accuracy and F1 score."
   ]
  },
  {
   "cell_type": "code",
   "execution_count": null,
   "metadata": {},
   "outputs": [],
   "source": []
  },
  {
   "cell_type": "markdown",
   "metadata": {},
   "source": [
    "# Cloud Deployment\n",
    "Later in another blog I will use the full dataset with all the steps above. We will then transfer over this work to the larger dataset when we work on your Spark cluster.\n",
    "\n"
   ]
  },
  {
   "cell_type": "markdown",
   "metadata": {},
   "source": [
    "# Blog\n",
    "You can read a blog form of this analysis in the article here: https://medium.com/p/f3e1ece47b2e/"
   ]
  },
  {
   "cell_type": "code",
   "execution_count": null,
   "metadata": {},
   "outputs": [],
   "source": []
  },
  {
   "cell_type": "markdown",
   "metadata": {},
   "source": [
    "# Resources\n",
    "\n",
    "- Spark Pipelines - https://towardsdatascience.com/feature-encoding-with-spark-2-3-0-part-1-9ede45562740\n",
    "- Classificaiton problem - https://towardsdatascience.com/machine-learning-with-pyspark-and-mllib-solving-a-binary-classification-problem-96396065d2aa\n",
    "\n",
    "- VectorIndex - https://spark.apache.org/docs/latest/ml-features.html#stringindexer"
   ]
  },
  {
   "cell_type": "code",
   "execution_count": null,
   "metadata": {},
   "outputs": [],
   "source": []
  }
 ],
 "metadata": {
  "kernelspec": {
   "display_name": "Python 3",
   "language": "python",
   "name": "python3"
  },
  "language_info": {
   "codemirror_mode": {
    "name": "ipython",
    "version": 3
   },
   "file_extension": ".py",
   "mimetype": "text/x-python",
   "name": "python",
   "nbconvert_exporter": "python",
   "pygments_lexer": "ipython3",
   "version": "3.7.4"
  }
 },
 "nbformat": 4,
 "nbformat_minor": 2
}
